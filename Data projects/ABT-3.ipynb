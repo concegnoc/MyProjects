{
 "cells": [
  {
   "cell_type": "code",
   "execution_count": 2,
   "id": "8b19624f",
   "metadata": {},
   "outputs": [],
   "source": [
    "import pandas as pd\n",
    "import numpy as np\n",
    "from scipy.stats import shapiro, levene, mannwhitneyu, f_oneway, ttest_ind, ttest_rel\n",
    "import matplotlib.pyplot as plt\n",
    "import seaborn as sns\n",
    "from time import time\n",
    "from statsmodels.stats.power import TTestIndPower\n",
    "\n",
    "from bootstrapped import bootstrap as bs\n",
    "from bootstrapped import compare_functions as bs_compare\n",
    "from bootstrapped import stats_functions as bs_stats\n",
    "\n",
    "# Не используем файл hw_abt_2_bybucket.csv, так как используем bootstrap\n",
    "df = pd.read_csv('hw_abt_2_byuser.csv', sep='\\t')"
   ]
  },
  {
   "cell_type": "code",
   "execution_count": 3,
   "id": "35eeb9ac",
   "metadata": {},
   "outputs": [
    {
     "data": {
      "text/html": [
       "<div>\n",
       "<style scoped>\n",
       "    .dataframe tbody tr th:only-of-type {\n",
       "        vertical-align: middle;\n",
       "    }\n",
       "\n",
       "    .dataframe tbody tr th {\n",
       "        vertical-align: top;\n",
       "    }\n",
       "\n",
       "    .dataframe thead th {\n",
       "        text-align: right;\n",
       "    }\n",
       "</style>\n",
       "<table border=\"1\" class=\"dataframe\">\n",
       "  <thead>\n",
       "    <tr style=\"text-align: right;\">\n",
       "      <th></th>\n",
       "      <th>group_id</th>\n",
       "      <th>metric_value</th>\n",
       "      <th>users</th>\n",
       "      <th>visits</th>\n",
       "      <th>churn_users</th>\n",
       "      <th>churn_visits</th>\n",
       "      <th>group</th>\n",
       "    </tr>\n",
       "  </thead>\n",
       "  <tbody>\n",
       "    <tr>\n",
       "      <th>0</th>\n",
       "      <td>8</td>\n",
       "      <td>6630.000</td>\n",
       "      <td>0</td>\n",
       "      <td>0</td>\n",
       "      <td>0</td>\n",
       "      <td>8</td>\n",
       "      <td>A</td>\n",
       "    </tr>\n",
       "    <tr>\n",
       "      <th>1</th>\n",
       "      <td>13</td>\n",
       "      <td>6933.976</td>\n",
       "      <td>0</td>\n",
       "      <td>0</td>\n",
       "      <td>1</td>\n",
       "      <td>6</td>\n",
       "      <td>B</td>\n",
       "    </tr>\n",
       "    <tr>\n",
       "      <th>2</th>\n",
       "      <td>10</td>\n",
       "      <td>8261.976</td>\n",
       "      <td>1</td>\n",
       "      <td>10</td>\n",
       "      <td>1</td>\n",
       "      <td>8</td>\n",
       "      <td>B</td>\n",
       "    </tr>\n",
       "    <tr>\n",
       "      <th>3</th>\n",
       "      <td>4</td>\n",
       "      <td>5522.000</td>\n",
       "      <td>1</td>\n",
       "      <td>9</td>\n",
       "      <td>1</td>\n",
       "      <td>7</td>\n",
       "      <td>A</td>\n",
       "    </tr>\n",
       "    <tr>\n",
       "      <th>4</th>\n",
       "      <td>16</td>\n",
       "      <td>5075.976</td>\n",
       "      <td>1</td>\n",
       "      <td>6</td>\n",
       "      <td>0</td>\n",
       "      <td>8</td>\n",
       "      <td>B</td>\n",
       "    </tr>\n",
       "    <tr>\n",
       "      <th>...</th>\n",
       "      <td>...</td>\n",
       "      <td>...</td>\n",
       "      <td>...</td>\n",
       "      <td>...</td>\n",
       "      <td>...</td>\n",
       "      <td>...</td>\n",
       "      <td>...</td>\n",
       "    </tr>\n",
       "    <tr>\n",
       "      <th>4995</th>\n",
       "      <td>6</td>\n",
       "      <td>3666.000</td>\n",
       "      <td>1</td>\n",
       "      <td>4</td>\n",
       "      <td>1</td>\n",
       "      <td>5</td>\n",
       "      <td>A</td>\n",
       "    </tr>\n",
       "    <tr>\n",
       "      <th>4996</th>\n",
       "      <td>12</td>\n",
       "      <td>6464.976</td>\n",
       "      <td>0</td>\n",
       "      <td>0</td>\n",
       "      <td>1</td>\n",
       "      <td>8</td>\n",
       "      <td>B</td>\n",
       "    </tr>\n",
       "    <tr>\n",
       "      <th>4997</th>\n",
       "      <td>1</td>\n",
       "      <td>4335.000</td>\n",
       "      <td>0</td>\n",
       "      <td>0</td>\n",
       "      <td>0</td>\n",
       "      <td>8</td>\n",
       "      <td>A</td>\n",
       "    </tr>\n",
       "    <tr>\n",
       "      <th>4998</th>\n",
       "      <td>13</td>\n",
       "      <td>6307.976</td>\n",
       "      <td>0</td>\n",
       "      <td>0</td>\n",
       "      <td>1</td>\n",
       "      <td>8</td>\n",
       "      <td>B</td>\n",
       "    </tr>\n",
       "    <tr>\n",
       "      <th>4999</th>\n",
       "      <td>2</td>\n",
       "      <td>5051.000</td>\n",
       "      <td>0</td>\n",
       "      <td>0</td>\n",
       "      <td>1</td>\n",
       "      <td>8</td>\n",
       "      <td>A</td>\n",
       "    </tr>\n",
       "  </tbody>\n",
       "</table>\n",
       "<p>5000 rows × 7 columns</p>\n",
       "</div>"
      ],
      "text/plain": [
       "      group_id  metric_value  users  visits  churn_users  churn_visits group\n",
       "0            8      6630.000      0       0            0             8     A\n",
       "1           13      6933.976      0       0            1             6     B\n",
       "2           10      8261.976      1      10            1             8     B\n",
       "3            4      5522.000      1       9            1             7     A\n",
       "4           16      5075.976      1       6            0             8     B\n",
       "...        ...           ...    ...     ...          ...           ...   ...\n",
       "4995         6      3666.000      1       4            1             5     A\n",
       "4996        12      6464.976      0       0            1             8     B\n",
       "4997         1      4335.000      0       0            0             8     A\n",
       "4998        13      6307.976      0       0            1             8     B\n",
       "4999         2      5051.000      0       0            1             8     A\n",
       "\n",
       "[5000 rows x 7 columns]"
      ]
     },
     "execution_count": 3,
     "metadata": {},
     "output_type": "execute_result"
    }
   ],
   "source": [
    "# Удаляем колонку 'Unnamed: 0', так как она полностью повторяет индексы\n",
    "df.drop(columns = 'Unnamed: 0', inplace = True)\n",
    "df"
   ]
  },
  {
   "cell_type": "code",
   "execution_count": 18,
   "id": "6cbf694f",
   "metadata": {},
   "outputs": [],
   "source": [
    "# Определяем функции, которые будем использовать\n",
    "\n",
    "# Для всех метрик будем использовать критерий Шапиро-Уилка, так как он обладает большей мощностью\n",
    "def shapiro_test(series):\n",
    "    st_A = shapiro(series)\n",
    "    print('Distribution of values is {}normal\\n'.format( {True:'not ', False:''}[st_A[1] < alpha]))\n",
    "\n",
    "def leven_test(series_1, series_2):\n",
    "    st_var = levene(series_1, series_2)\n",
    "    print('Variances of distributions is {}equal\\n'.format({True:'not ', False:''}[st_var[1] < alpha]))\n",
    "\n",
    "def histograms(series_1, series_2, b=10):\n",
    "    series_1.hist(alpha=0.4, weights=[1/len(series_1)]*len(series_1), bins=b, color='red')\n",
    "    series_2.hist(alpha=0.4, weights=[1/len(series_2)]*len(series_2), bins=b, color='green')\n",
    "    plt.axvline(series_1.mean(), color='red', alpha=1, linestyle='dashed')\n",
    "    plt.axvline(series_2.mean(), color='green', alpha=1, linestyle='dashed')\n",
    "    \n",
    "# Функция для построения графиков, после оценки статзначимости, для наглядности\n",
    "def graphs_after_test(series_1, series_2, b=10):\n",
    "    series = pd.Series(bs.bootstrap_ab(series_1.values, \n",
    "                                            series_2.values, \n",
    "                                            bs_stats.mean, bs_compare.percent_change, \n",
    "                                            num_iterations=1000, alpha=0.05, \n",
    "                                            iteration_batch_size=100, scale_test_by=1,\n",
    "                                            return_distribution=True))\n",
    "    \n",
    "    series.hist(alpha=0.4, weights=[1/len(series)]*len(series), bins=b)\n",
    "    plt.axvline(series.mean(), alpha=1, linestyle='dashed')\n",
    "    plt.show()\n",
    "    \n",
    "    series.plot.box()\n",
    "    plt.show()"
   ]
  },
  {
   "cell_type": "code",
   "execution_count": 5,
   "id": "7d8f870c",
   "metadata": {},
   "outputs": [],
   "source": [
    "# Определяем альфу\n",
    "alpha = 0.05\n",
    "\n",
    "# Определим необходимые серии для metric_value\n",
    "series_metric_value_A = df[df.group == 'A'].metric_value\n",
    "series_metric_value_B = df[df.group == 'B'].metric_value\n",
    "\n",
    "# Определим необходимые серии для users\n",
    "series_users_A = df[df.group == 'A'].users\n",
    "series_users_B = df[df.group == 'B'].users\n",
    "\n",
    "# Определим необходимые серии для visits\n",
    "series_visits_A = df[df.group == 'A'].visits\n",
    "series_visits_B = df[df.group == 'B'].visits\n",
    "\n",
    "# Определим необходимые серии для churn_users\n",
    "series_churn_users_A = df[df.group == 'A'].churn_users\n",
    "series_churn_users_B = df[df.group == 'B'].churn_users\n",
    "\n",
    "# Определим необходимые серии для churn_visits\n",
    "series_churn_visits_A = df[df.group == 'A'].churn_visits\n",
    "series_churn_visits_B = df[df.group == 'B'].churn_visits"
   ]
  },
  {
   "cell_type": "markdown",
   "id": "31fc1531",
   "metadata": {},
   "source": [
    "### Рассмотрим метрику metric_value"
   ]
  },
  {
   "cell_type": "code",
   "execution_count": 5,
   "id": "deac0862",
   "metadata": {},
   "outputs": [
    {
     "name": "stdout",
     "output_type": "stream",
     "text": [
      "Distribution of values is not normal\n",
      "\n"
     ]
    }
   ],
   "source": [
    "# Проверяем распределения на нормальность для группы А\n",
    "shapiro_test(series_metric_value_A)"
   ]
  },
  {
   "cell_type": "code",
   "execution_count": 6,
   "id": "d787e60a",
   "metadata": {},
   "outputs": [
    {
     "name": "stdout",
     "output_type": "stream",
     "text": [
      "Distribution of values is not normal\n",
      "\n"
     ]
    }
   ],
   "source": [
    "# Проверяем распределения на нормальность для группы B\n",
    "shapiro_test(series_metric_value_B)"
   ]
  },
  {
   "cell_type": "code",
   "execution_count": 7,
   "id": "aa5fa9dc",
   "metadata": {},
   "outputs": [
    {
     "name": "stdout",
     "output_type": "stream",
     "text": [
      "Variances of distributions is equal\n",
      "\n"
     ]
    }
   ],
   "source": [
    "# Проводим оценку равенства дисперсий с помощью критерия Левена, так как выборки групп A и B не соответствуют \n",
    "# нормальному закону, а критерий Левена менее чувствителен к отклонению от нормального распределния\n",
    "leven_test(series_metric_value_A, series_metric_value_B)"
   ]
  },
  {
   "cell_type": "code",
   "execution_count": 32,
   "id": "ddcd5eac",
   "metadata": {},
   "outputs": [
    {
     "data": {
      "image/png": "[encoded data removed]",
      "text/plain": [
       "<Figure size 432x288 with 1 Axes>"
      ]
     },
     "metadata": {
      "needs_background": "light"
     },
     "output_type": "display_data"
    }
   ],
   "source": [
    "# Построим гистограмму до бутстрапирования\n",
    "# Группа А - красный\n",
    "# Группа В - зеленый\n",
    "# Пунктирные линии - средние\n",
    "\n",
    "histograms(series_metric_value_A, series_metric_value_B, 50)"
   ]
  },
  {
   "cell_type": "code",
   "execution_count": 6,
   "id": "7ec64ba1",
   "metadata": {},
   "outputs": [
    {
     "data": {
      "text/plain": [
       "-6.714434133461797    (-8.137416804039606, -5.244268148583785)"
      ]
     },
     "execution_count": 6,
     "metadata": {},
     "output_type": "execute_result"
    }
   ],
   "source": [
    "# Оценим статистическую значимость с помощью метода bootstrap_ab\n",
    "\n",
    "bs_ab_estims = bs.bootstrap_ab(series_metric_value_A.values, \n",
    "                               series_metric_value_B.values, \n",
    "                               bs_stats.mean, bs_compare.percent_change, \n",
    "                               num_iterations=1000, alpha=0.05, \n",
    "                               iteration_batch_size=100, scale_test_by=1)\n",
    "\n",
    "bs_ab_estims"
   ]
  },
  {
   "cell_type": "code",
   "execution_count": null,
   "id": "2841489b",
   "metadata": {},
   "outputs": [],
   "source": [
    "# Результатом bootstrap_ab является доверительный интервал, который не содержит 0, следовательно, изменение значительно.\n",
    "# Нововведение вызвало положительный эффект на метрику metric_value."
   ]
  },
  {
   "cell_type": "code",
   "execution_count": 20,
   "id": "b2728de8",
   "metadata": {},
   "outputs": [
    {
     "data": {
      "image/png": "[encoded data removed]",
      "text/plain": [
       "<Figure size 432x288 with 1 Axes>"
      ]
     },
     "metadata": {
      "needs_background": "light"
     },
     "output_type": "display_data"
    },
    {
     "data": {
      "image/png": "[encoded data removed]",
      "text/plain": [
       "<Figure size 432x288 with 1 Axes>"
      ]
     },
     "metadata": {
      "needs_background": "light"
     },
     "output_type": "display_data"
    }
   ],
   "source": [
    "# Для наглядности результата построим гистограмму и диаграмму размаха\n",
    "\n",
    "graphs_after_test(series_metric_value_A, series_metric_value_B, b=50)"
   ]
  },
  {
   "cell_type": "markdown",
   "id": "784e0f9c",
   "metadata": {},
   "source": [
    "### Рассмотрим метрику users"
   ]
  },
  {
   "cell_type": "code",
   "execution_count": 9,
   "id": "08ba2146",
   "metadata": {},
   "outputs": [
    {
     "name": "stdout",
     "output_type": "stream",
     "text": [
      "Distribution of values is not normal\n",
      "\n"
     ]
    }
   ],
   "source": [
    "# Проверяем распределения на нормальность для группы А\n",
    "shapiro_test(series_users_A)"
   ]
  },
  {
   "cell_type": "code",
   "execution_count": 10,
   "id": "5899cfad",
   "metadata": {},
   "outputs": [
    {
     "name": "stdout",
     "output_type": "stream",
     "text": [
      "Distribution of values is not normal\n",
      "\n"
     ]
    }
   ],
   "source": [
    "# Проверяем распределения на нормальность для группы B\n",
    "shapiro_test(series_users_B)"
   ]
  },
  {
   "cell_type": "code",
   "execution_count": 11,
   "id": "2e749f55",
   "metadata": {},
   "outputs": [
    {
     "name": "stdout",
     "output_type": "stream",
     "text": [
      "Variances of distributions is equal\n",
      "\n"
     ]
    }
   ],
   "source": [
    "# Проводим оценку равенства дисперсий с помощью критерия Левена, так как выборки групп A и B не соответствуют \n",
    "# нормальному закону, а критерий Левена менее чувствителен к отклонению от нормального распределния\n",
    "leven_test(series_users_A, series_users_B)"
   ]
  },
  {
   "cell_type": "code",
   "execution_count": 34,
   "id": "0aad654e",
   "metadata": {},
   "outputs": [
    {
     "data": {
      "image/png": "[encoded data removed]",
      "text/plain": [
       "<Figure size 432x288 with 1 Axes>"
      ]
     },
     "metadata": {
      "needs_background": "light"
     },
     "output_type": "display_data"
    }
   ],
   "source": [
    "# Построим гистограмму до бутстрапирования\n",
    "# Группа А - красный\n",
    "# Группа В - зеленый\n",
    "# Пунктирные линии - средние\n",
    "\n",
    "histograms(series_users_A, series_users_B, 5)"
   ]
  },
  {
   "cell_type": "code",
   "execution_count": 44,
   "id": "413fc002",
   "metadata": {},
   "outputs": [
    {
     "data": {
      "text/plain": [
       "-1.3581247926878777    (-7.130678058160539, 4.069038064616568)"
      ]
     },
     "execution_count": 44,
     "metadata": {},
     "output_type": "execute_result"
    }
   ],
   "source": [
    "# Оценим статистическую значимость с помощью метода bootstrap_ab\n",
    "\n",
    "bs_ab_estims = bs.bootstrap_ab(series_users_A.values, \n",
    "                               series_users_B.values, \n",
    "                               bs_stats.mean, bs_compare.percent_change, \n",
    "                               num_iterations=5000, alpha=0.05, \n",
    "                               iteration_batch_size=100, scale_test_by=1)\n",
    "\n",
    "bs_ab_estims"
   ]
  },
  {
   "cell_type": "code",
   "execution_count": null,
   "id": "145aaaba",
   "metadata": {},
   "outputs": [],
   "source": [
    "# Результатом bootstrap_ab является доверительный интервал, который содержит 0, следовательно, изменение не значительно.\n",
    "# Нововведение не вызвало никакого эффекта на метрику users."
   ]
  },
  {
   "cell_type": "code",
   "execution_count": 22,
   "id": "6d058df2",
   "metadata": {},
   "outputs": [
    {
     "data": {
      "image/png": "[encoded data removed]",
      "text/plain": [
       "<Figure size 432x288 with 1 Axes>"
      ]
     },
     "metadata": {
      "needs_background": "light"
     },
     "output_type": "display_data"
    },
    {
     "data": {
      "image/png": "[encoded data removed]",
      "text/plain": [
       "<Figure size 432x288 with 1 Axes>"
      ]
     },
     "metadata": {
      "needs_background": "light"
     },
     "output_type": "display_data"
    }
   ],
   "source": [
    "# Для наглядности результата построим гистограмму и диаграмму размаха\n",
    "\n",
    "graphs_after_test(series_users_A, series_users_B, b=50)"
   ]
  },
  {
   "cell_type": "markdown",
   "id": "b8c9f990",
   "metadata": {},
   "source": [
    "### Рассмотрим метрику visits"
   ]
  },
  {
   "cell_type": "code",
   "execution_count": 13,
   "id": "14a20a16",
   "metadata": {},
   "outputs": [
    {
     "name": "stdout",
     "output_type": "stream",
     "text": [
      "Distribution of values is not normal\n",
      "\n"
     ]
    }
   ],
   "source": [
    "# Проверяем распределения на нормальность для группы А\n",
    "shapiro_test(series_visits_A)"
   ]
  },
  {
   "cell_type": "code",
   "execution_count": 14,
   "id": "ee1d7098",
   "metadata": {},
   "outputs": [
    {
     "name": "stdout",
     "output_type": "stream",
     "text": [
      "Distribution of values is not normal\n",
      "\n"
     ]
    }
   ],
   "source": [
    "# Проверяем распределения на нормальность для группы B\n",
    "shapiro_test(series_visits_B)"
   ]
  },
  {
   "cell_type": "code",
   "execution_count": 15,
   "id": "455a1ed1",
   "metadata": {},
   "outputs": [
    {
     "name": "stdout",
     "output_type": "stream",
     "text": [
      "Variances of distributions is equal\n",
      "\n"
     ]
    }
   ],
   "source": [
    "# Проводим оценку равенства дисперсий с помощью критерия Левена, так как выборки групп A и B не соответствуют \n",
    "# нормальному закону, а критерий Левена менее чувствителен к отклонению от нормального распределния\n",
    "leven_test(series_visits_A, series_visits_B)"
   ]
  },
  {
   "cell_type": "code",
   "execution_count": 35,
   "id": "c3b2cbe1",
   "metadata": {},
   "outputs": [
    {
     "data": {
      "image/png": "[encoded data removed]",
      "text/plain": [
       "<Figure size 432x288 with 1 Axes>"
      ]
     },
     "metadata": {
      "needs_background": "light"
     },
     "output_type": "display_data"
    }
   ],
   "source": [
    "# Построим гистограмму до бутстрапирования\n",
    "# Группа А - красный\n",
    "# Группа В - зеленый\n",
    "# Пунктирные линии - средние\n",
    "\n",
    "histograms(series_visits_A, series_visits_B)"
   ]
  },
  {
   "cell_type": "code",
   "execution_count": 45,
   "id": "a8417f97",
   "metadata": {},
   "outputs": [
    {
     "data": {
      "text/plain": [
       "6.274004253176184    (-5.1385749299799315, 16.5563369170343)"
      ]
     },
     "execution_count": 45,
     "metadata": {},
     "output_type": "execute_result"
    }
   ],
   "source": [
    "# Оценим статистическую значимость с помощью метода bootstrap_ab\n",
    "\n",
    "bs_ab_estims = bs.bootstrap_ab(series_visits_A.values, \n",
    "                               series_visits_B.values, \n",
    "                               bs_stats.mean, bs_compare.percent_change, \n",
    "                               num_iterations=5000, alpha=0.05, \n",
    "                               iteration_batch_size=100, scale_test_by=1)\n",
    "\n",
    "bs_ab_estims"
   ]
  },
  {
   "cell_type": "code",
   "execution_count": null,
   "id": "cde06098",
   "metadata": {},
   "outputs": [],
   "source": [
    "# Результатом bootstrap_ab является доверительный интервал, который содержит 0, следовательно, изменение не значительно.\n",
    "# Нововведение не вызвало никакого эффекта на метрику visits."
   ]
  },
  {
   "cell_type": "code",
   "execution_count": 24,
   "id": "59a4d2d5",
   "metadata": {},
   "outputs": [
    {
     "data": {
      "image/png": "[encoded data removed]",
      "text/plain": [
       "<Figure size 432x288 with 1 Axes>"
      ]
     },
     "metadata": {
      "needs_background": "light"
     },
     "output_type": "display_data"
    },
    {
     "data": {
      "image/png": "[encoded data removed]",
      "text/plain": [
       "<Figure size 432x288 with 1 Axes>"
      ]
     },
     "metadata": {
      "needs_background": "light"
     },
     "output_type": "display_data"
    }
   ],
   "source": [
    "# Для наглядности результата построим гистограмму и диаграмму размаха\n",
    "\n",
    "graphs_after_test(series_visits_A, series_visits_B, b=50)"
   ]
  },
  {
   "cell_type": "markdown",
   "id": "2bd44267",
   "metadata": {},
   "source": [
    "### Рассмотрим метрику churn_users"
   ]
  },
  {
   "cell_type": "code",
   "execution_count": 17,
   "id": "5c2ed103",
   "metadata": {},
   "outputs": [
    {
     "name": "stdout",
     "output_type": "stream",
     "text": [
      "Distribution of values is not normal\n",
      "\n"
     ]
    }
   ],
   "source": [
    "# Проверяем распределения на нормальность для группы А\n",
    "shapiro_test(series_churn_users_A)"
   ]
  },
  {
   "cell_type": "code",
   "execution_count": 18,
   "id": "8a18d46c",
   "metadata": {},
   "outputs": [
    {
     "name": "stdout",
     "output_type": "stream",
     "text": [
      "Distribution of values is not normal\n",
      "\n"
     ]
    }
   ],
   "source": [
    "# Проверяем распределения на нормальность для группы B\n",
    "shapiro_test(series_churn_users_B)"
   ]
  },
  {
   "cell_type": "code",
   "execution_count": 19,
   "id": "4a8f5165",
   "metadata": {},
   "outputs": [
    {
     "name": "stdout",
     "output_type": "stream",
     "text": [
      "Variances of distributions is not equal\n",
      "\n"
     ]
    }
   ],
   "source": [
    "# Проводим оценку равенства дисперсий с помощью критерия Левена, так как выборки групп A и B не соответствуют \n",
    "# нормальному закону, а критерий Левена менее чувствителен к отклонению от нормального распределния\n",
    "leven_test(series_churn_users_A, series_churn_users_B)"
   ]
  },
  {
   "cell_type": "code",
   "execution_count": 37,
   "id": "a8562a5b",
   "metadata": {},
   "outputs": [
    {
     "data": {
      "image/png": "[encoded data removed]",
      "text/plain": [
       "<Figure size 432x288 with 1 Axes>"
      ]
     },
     "metadata": {
      "needs_background": "light"
     },
     "output_type": "display_data"
    }
   ],
   "source": [
    "# Построим гистограмму до бутстрапирования\n",
    "# Группа А - красный\n",
    "# Группа В - зеленый\n",
    "# Пунктирные линии - средние\n",
    "\n",
    "histograms(series_churn_users_A, series_churn_users_B, 5)"
   ]
  },
  {
   "cell_type": "code",
   "execution_count": 46,
   "id": "32fb9e4d",
   "metadata": {},
   "outputs": [
    {
     "data": {
      "text/plain": [
       "-35.96108476641168    (-38.98433634151178, -33.19490846918986)"
      ]
     },
     "execution_count": 46,
     "metadata": {},
     "output_type": "execute_result"
    }
   ],
   "source": [
    "# Оценим статистическую значимость с помощью метода bootstrap_ab\n",
    "\n",
    "bs_ab_estims = bs.bootstrap_ab(series_churn_users_A.values, \n",
    "                               series_churn_users_B.values, \n",
    "                               bs_stats.mean, bs_compare.percent_change, \n",
    "                               num_iterations=5000, alpha=0.05, \n",
    "                               iteration_batch_size=100, scale_test_by=1)\n",
    "\n",
    "bs_ab_estims"
   ]
  },
  {
   "cell_type": "code",
   "execution_count": null,
   "id": "93ca73a4",
   "metadata": {},
   "outputs": [],
   "source": [
    "# Результатом bootstrap_ab является доверительный интервал, который не содержит 0, следовательно, изменение значительно.\n",
    "# Нововведение вызвало увеличение количества пользователей, отказавшихся сделать заказ."
   ]
  },
  {
   "cell_type": "code",
   "execution_count": 25,
   "id": "1ec9228b",
   "metadata": {},
   "outputs": [
    {
     "data": {
      "image/png": "[encoded data removed]",
      "text/plain": [
       "<Figure size 432x288 with 1 Axes>"
      ]
     },
     "metadata": {
      "needs_background": "light"
     },
     "output_type": "display_data"
    },
    {
     "data": {
      "image/png": "[encoded data removed]",
      "text/plain": [
       "<Figure size 432x288 with 1 Axes>"
      ]
     },
     "metadata": {
      "needs_background": "light"
     },
     "output_type": "display_data"
    }
   ],
   "source": [
    "# Для наглядности результата построим гистограмму и диаграмму размаха\n",
    "\n",
    "graphs_after_test(series_churn_users_A, series_churn_users_B, b=50)"
   ]
  },
  {
   "cell_type": "markdown",
   "id": "d033d4e0",
   "metadata": {},
   "source": [
    "### Рассмотрим  метрику churn_visits"
   ]
  },
  {
   "cell_type": "code",
   "execution_count": 21,
   "id": "8cd98116",
   "metadata": {},
   "outputs": [
    {
     "name": "stdout",
     "output_type": "stream",
     "text": [
      "Distribution of values is not normal\n",
      "\n"
     ]
    }
   ],
   "source": [
    "# Проверяем распределения на нормальность для группы А\n",
    "shapiro_test(series_churn_visits_A)"
   ]
  },
  {
   "cell_type": "code",
   "execution_count": 22,
   "id": "d6fa2022",
   "metadata": {},
   "outputs": [
    {
     "name": "stdout",
     "output_type": "stream",
     "text": [
      "Distribution of values is not normal\n",
      "\n"
     ]
    }
   ],
   "source": [
    "# Проверяем распределения на нормальность для группы B\n",
    "shapiro_test(series_churn_visits_B)"
   ]
  },
  {
   "cell_type": "code",
   "execution_count": 23,
   "id": "9d72b117",
   "metadata": {
    "scrolled": true
   },
   "outputs": [
    {
     "name": "stdout",
     "output_type": "stream",
     "text": [
      "Variances of distributions is equal\n",
      "\n"
     ]
    }
   ],
   "source": [
    "# Проводим оценку равенства дисперсий с помощью критерия Левена, так как выборки групп A и B не соответствуют \n",
    "# нормальному закону, а критерий Левена менее чувствителен к отклонению от нормального распределния\n",
    "leven_test(series_churn_visits_A, series_churn_visits_B)"
   ]
  },
  {
   "cell_type": "code",
   "execution_count": 38,
   "id": "74effc9d",
   "metadata": {},
   "outputs": [
    {
     "data": {
      "image/png": "[encoded data removed]",
      "text/plain": [
       "<Figure size 432x288 with 1 Axes>"
      ]
     },
     "metadata": {
      "needs_background": "light"
     },
     "output_type": "display_data"
    }
   ],
   "source": [
    "# Построим гистограмму до бутстрапирования\n",
    "# Группа А - красный\n",
    "# Группа В - зеленый\n",
    "# Пунктирные линии - средние\n",
    "\n",
    "histograms(series_churn_visits_A, series_churn_visits_B)"
   ]
  },
  {
   "cell_type": "code",
   "execution_count": 47,
   "id": "726b05d4",
   "metadata": {},
   "outputs": [
    {
     "data": {
      "text/plain": [
       "-0.7301589201516756    (-2.245634301081687, 0.7806595524865241)"
      ]
     },
     "execution_count": 47,
     "metadata": {},
     "output_type": "execute_result"
    }
   ],
   "source": [
    "# Оценим статистическую значимость с помощью метода bootstrap_ab\n",
    "\n",
    "bs_ab_estims = bs.bootstrap_ab(series_churn_visits_A.values, \n",
    "                               series_churn_visits_B.values, \n",
    "                               bs_stats.mean, bs_compare.percent_change, \n",
    "                               num_iterations=5000, alpha=0.05, \n",
    "                               iteration_batch_size=100, scale_test_by=1)\n",
    "\n",
    "bs_ab_estims"
   ]
  },
  {
   "cell_type": "code",
   "execution_count": null,
   "id": "733e8b8c",
   "metadata": {},
   "outputs": [],
   "source": [
    "# Результатом bootstrap_ab является доверительный интервал, который содержит 0, следовательно, изменение не значительно.\n",
    "# Нововведение не вызвало никакого эффекта на метрику churn_visits."
   ]
  },
  {
   "cell_type": "code",
   "execution_count": 26,
   "id": "89d24f16",
   "metadata": {},
   "outputs": [
    {
     "data": {
      "image/png": "[encoded data removed]",
      "text/plain": [
       "<Figure size 432x288 with 1 Axes>"
      ]
     },
     "metadata": {
      "needs_background": "light"
     },
     "output_type": "display_data"
    },
    {
     "data": {
      "image/png": "[encoded data removed]",
      "text/plain": [
       "<Figure size 432x288 with 1 Axes>"
      ]
     },
     "metadata": {
      "needs_background": "light"
     },
     "output_type": "display_data"
    }
   ],
   "source": [
    "# Для наглядности результата построим гистограмму и диаграмму размаха\n",
    "\n",
    "graphs_after_test(series_churn_visits_A, series_churn_visits_B, b=50)"
   ]
  },
  {
   "cell_type": "markdown",
   "id": "b1dd4d6a",
   "metadata": {},
   "source": [
    "### Заключение"
   ]
  },
  {
   "cell_type": "markdown",
   "id": "129c9b6a",
   "metadata": {},
   "source": [
    "Изменения не повлияли на метрики users, visits и churn_visits. В рамках эксперимента metric_value в среднем увеличилось. Также в рамках эксперимента увеличилось количество пользователей, отказавшихся сделать заказ, что сказывается отрицательно для сайта."
   ]
  },
  {
   "cell_type": "code",
   "execution_count": null,
   "id": "b67e1b57",
   "metadata": {},
   "outputs": [],
   "source": []
  }
 ],
 "metadata": {
  "kernelspec": {
   "display_name": "Python 3",
   "language": "python",
   "name": "python3"
  },
  "language_info": {
   "codemirror_mode": {
    "name": "ipython",
    "version": 3
   },
   "file_extension": ".py",
   "mimetype": "text/x-python",
   "name": "python",
   "nbconvert_exporter": "python",
   "pygments_lexer": "ipython3",
   "version": "3.8.8"
  }
 },
 "nbformat": 4,
 "nbformat_minor": 5
}
