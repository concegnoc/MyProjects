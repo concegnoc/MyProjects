{
 "cells": [
  {
   "cell_type": "code",
   "execution_count": 34,
   "id": "ee737c65",
   "metadata": {},
   "outputs": [],
   "source": [
    "import pandas as pd\n",
    "import numpy as np\n",
    "import matplotlib.pyplot as plt\n",
    "import seaborn as sns\n",
    "from scipy.stats import levene\n",
    "\n",
    "from bootstrapped import bootstrap as bs\n",
    "from bootstrapped import compare_functions as bs_compare\n",
    "from bootstrapped import stats_functions as bs_stats\n",
    "\n",
    "cookie_data = pd.read_csv('cookie_cats.csv')"
   ]
  },
  {
   "cell_type": "code",
   "execution_count": 35,
   "id": "7fced922",
   "metadata": {
    "scrolled": true
   },
   "outputs": [
    {
     "data": {
      "text/html": [
       "<div>\n",
       "<style scoped>\n",
       "    .dataframe tbody tr th:only-of-type {\n",
       "        vertical-align: middle;\n",
       "    }\n",
       "\n",
       "    .dataframe tbody tr th {\n",
       "        vertical-align: top;\n",
       "    }\n",
       "\n",
       "    .dataframe thead th {\n",
       "        text-align: right;\n",
       "    }\n",
       "</style>\n",
       "<table border=\"1\" class=\"dataframe\">\n",
       "  <thead>\n",
       "    <tr style=\"text-align: right;\">\n",
       "      <th></th>\n",
       "      <th>userid</th>\n",
       "      <th>version</th>\n",
       "      <th>sum_gamerounds</th>\n",
       "      <th>retention_1</th>\n",
       "      <th>retention_7</th>\n",
       "    </tr>\n",
       "  </thead>\n",
       "  <tbody>\n",
       "    <tr>\n",
       "      <th>0</th>\n",
       "      <td>116</td>\n",
       "      <td>gate_30</td>\n",
       "      <td>3</td>\n",
       "      <td>False</td>\n",
       "      <td>False</td>\n",
       "    </tr>\n",
       "    <tr>\n",
       "      <th>1</th>\n",
       "      <td>337</td>\n",
       "      <td>gate_30</td>\n",
       "      <td>38</td>\n",
       "      <td>True</td>\n",
       "      <td>False</td>\n",
       "    </tr>\n",
       "    <tr>\n",
       "      <th>2</th>\n",
       "      <td>377</td>\n",
       "      <td>gate_40</td>\n",
       "      <td>165</td>\n",
       "      <td>True</td>\n",
       "      <td>False</td>\n",
       "    </tr>\n",
       "    <tr>\n",
       "      <th>3</th>\n",
       "      <td>483</td>\n",
       "      <td>gate_40</td>\n",
       "      <td>1</td>\n",
       "      <td>False</td>\n",
       "      <td>False</td>\n",
       "    </tr>\n",
       "    <tr>\n",
       "      <th>4</th>\n",
       "      <td>488</td>\n",
       "      <td>gate_40</td>\n",
       "      <td>179</td>\n",
       "      <td>True</td>\n",
       "      <td>True</td>\n",
       "    </tr>\n",
       "  </tbody>\n",
       "</table>\n",
       "</div>"
      ],
      "text/plain": [
       "   userid  version  sum_gamerounds  retention_1  retention_7\n",
       "0     116  gate_30               3        False        False\n",
       "1     337  gate_30              38         True        False\n",
       "2     377  gate_40             165         True        False\n",
       "3     483  gate_40               1        False        False\n",
       "4     488  gate_40             179         True         True"
      ]
     },
     "execution_count": 35,
     "metadata": {},
     "output_type": "execute_result"
    }
   ],
   "source": [
    "# Прверяем исходные данные\n",
    "cookie_data.head()"
   ]
  },
  {
   "cell_type": "markdown",
   "id": "4aa369d8",
   "metadata": {},
   "source": [
    "# Чистим датафрейм от ненужных пользователей"
   ]
  },
  {
   "cell_type": "code",
   "execution_count": 36,
   "id": "357d5e6b",
   "metadata": {},
   "outputs": [
    {
     "name": "stdout",
     "output_type": "stream",
     "text": [
      "All the users are unique\n"
     ]
    }
   ],
   "source": [
    "# Проверяем пользователей (userid) на уникальность, чтобы не было пересечений\n",
    "\n",
    "if cookie_data.userid.nunique() - len(cookie_data) == 0:\n",
    "    print('All the users are unique')"
   ]
  },
  {
   "cell_type": "code",
   "execution_count": 37,
   "id": "d377bd20",
   "metadata": {},
   "outputs": [
    {
     "name": "stdout",
     "output_type": "stream",
     "text": [
      "Number of players never played this game:  3994 \n",
      "The percentage of the total:  4.43\n"
     ]
    }
   ],
   "source": [
    "# Рассмотрим количество пользователей, ни разу не игравших в игру. Также найдем какой это процент от общего числа\n",
    "\n",
    "print('Number of players never played this game: ', cookie_data[cookie_data.sum_gamerounds == 0].userid.count(),\n",
    "      '\\nThe percentage of the total: ', round(cookie_data[cookie_data.sum_gamerounds == 0].userid.count()/len(cookie_data) * 100, 2))"
   ]
  },
  {
   "cell_type": "code",
   "execution_count": 38,
   "id": "cdc41e5c",
   "metadata": {},
   "outputs": [],
   "source": [
    "# При запуске игры, она предлагает сыграть сразу в первые 2 раунда, потом уже появляется возможность выйти в главный экран\n",
    "# или посмотреть карту, количество уровней и т.п.\n",
    "# Так как мы проверяем влияние эксперимента, который заключается в изменении gate_30 на gate_40 (ворота переместились с 30\n",
    "# на 40 уровень), следовательно, игрок должен сыграть, как минимум, 1-2 раунда. Уберем пользователей, не сыгравших ни разу.\n",
    "\n",
    "cookie_data.drop(np.where(cookie_data.sum_gamerounds == 0)[0], inplace=True)"
   ]
  },
  {
   "cell_type": "markdown",
   "id": "a7975314",
   "metadata": {},
   "source": [
    "# АБ тест"
   ]
  },
  {
   "cell_type": "code",
   "execution_count": 39,
   "id": "36cf9269",
   "metadata": {},
   "outputs": [
    {
     "data": {
      "text/html": [
       "<div>\n",
       "<style scoped>\n",
       "    .dataframe tbody tr th:only-of-type {\n",
       "        vertical-align: middle;\n",
       "    }\n",
       "\n",
       "    .dataframe tbody tr th {\n",
       "        vertical-align: top;\n",
       "    }\n",
       "\n",
       "    .dataframe thead th {\n",
       "        text-align: right;\n",
       "    }\n",
       "</style>\n",
       "<table border=\"1\" class=\"dataframe\">\n",
       "  <thead>\n",
       "    <tr style=\"text-align: right;\">\n",
       "      <th></th>\n",
       "      <th>userid</th>\n",
       "      <th>sum_gamerounds</th>\n",
       "      <th>retention_1</th>\n",
       "      <th>retention_7</th>\n",
       "    </tr>\n",
       "  </thead>\n",
       "  <tbody>\n",
       "    <tr>\n",
       "      <th>group_30</th>\n",
       "      <td>42763</td>\n",
       "      <td>2344795</td>\n",
       "      <td>0.467530</td>\n",
       "      <td>0.198443</td>\n",
       "    </tr>\n",
       "    <tr>\n",
       "      <th>group_40</th>\n",
       "      <td>43432</td>\n",
       "      <td>2333530</td>\n",
       "      <td>0.462171</td>\n",
       "      <td>0.190321</td>\n",
       "    </tr>\n",
       "  </tbody>\n",
       "</table>\n",
       "</div>"
      ],
      "text/plain": [
       "          userid  sum_gamerounds  retention_1  retention_7\n",
       "group_30   42763         2344795     0.467530     0.198443\n",
       "group_40   43432         2333530     0.462171     0.190321"
      ]
     },
     "execution_count": 39,
     "metadata": {},
     "output_type": "execute_result"
    }
   ],
   "source": [
    "# Делим данные на 2 группы для определения статзначимости изменений для разнызх метрик\n",
    "\n",
    "group_30 = cookie_data[cookie_data.version == 'gate_30'].reset_index(drop=True)\n",
    "group_40 = cookie_data[cookie_data.version == 'gate_40'].reset_index(drop=True)\n",
    "\n",
    "data = {'userid': [group_30.userid.count(), group_40.userid.count()], \n",
    "        'sum_gamerounds': [group_30.sum_gamerounds.sum(), group_40.sum_gamerounds.sum()], \n",
    "        'retention_1': [group_30.retention_1.mean(), group_40.retention_1.mean()], \n",
    "        'retention_7': [group_30.retention_7.mean(), group_40.retention_7.mean()]}\n",
    "df = pd.DataFrame(data, index=['group_30', 'group_40'])\n",
    "df\n",
    "\n",
    "# Как видно из таблицы, оценить изменение \"на глазок\" не получится, поэтому воспользуемся стат. критериями"
   ]
  },
  {
   "cell_type": "code",
   "execution_count": 40,
   "id": "151a3478",
   "metadata": {},
   "outputs": [],
   "source": [
    "# Блок с объявлением функций, которые будут использоваться дальше\n",
    "\n",
    "alpha = 0.05\n",
    "\n",
    "def histograms(series_1, series_2, b=10):\n",
    "    series_1.hist(alpha=0.4, weights=[1/len(series_1)]*len(series_1), bins=b, color='red')\n",
    "    series_2.hist(alpha=0.4, weights=[1/len(series_2)]*len(series_2), bins=b, color='green')\n",
    "    plt.axvline(series_1.mean(), color='red', alpha=1, linestyle='dashed')\n",
    "    plt.axvline(series_2.mean(), color='green', alpha=1, linestyle='dashed')\n",
    "    \n",
    "def leven_test(series_1, series_2):\n",
    "    st_var = levene(series_1, series_2)\n",
    "    print('Variances of distributions is {}equal\\n'.format({True:'not ', False:''}[st_var[1] < alpha]))"
   ]
  },
  {
   "cell_type": "markdown",
   "id": "e046e4a1",
   "metadata": {},
   "source": [
    "### Рассмотрим метрику sum_gamerounds"
   ]
  },
  {
   "cell_type": "code",
   "execution_count": 22,
   "id": "a5837db8",
   "metadata": {},
   "outputs": [
    {
     "data": {
      "image/png": "[encoded data removed]",
      "text/plain": [
       "<Figure size 432x288 with 1 Axes>"
      ]
     },
     "metadata": {
      "needs_background": "light"
     },
     "output_type": "display_data"
    }
   ],
   "source": [
    "# Визуализируем распределения в группах. Для более удобного восприятия рассмотрим пользователей, которые сыграли \n",
    "# менее 200 раундов, так как уже на этот момент будет понятен характер распределения.\n",
    "\n",
    "series_group_30 = group_30.drop(np.where(group_30.sum_gamerounds > 200)[0]).sum_gamerounds\n",
    "series_group_40 = group_40.drop(np.where(group_40.sum_gamerounds > 200)[0]).sum_gamerounds\n",
    "\n",
    "histograms(series_group_30, series_group_40, b=10)"
   ]
  },
  {
   "cell_type": "code",
   "execution_count": 23,
   "id": "0a9d866a",
   "metadata": {},
   "outputs": [
    {
     "name": "stdout",
     "output_type": "stream",
     "text": [
      "Variances of distributions is equal\n",
      "\n"
     ]
    }
   ],
   "source": [
    "# Проведем дисперсионный анализ\n",
    "\n",
    "leven_test(group_30.sum_gamerounds, group_40.sum_gamerounds)"
   ]
  },
  {
   "cell_type": "code",
   "execution_count": 24,
   "id": "6f00bcbd",
   "metadata": {},
   "outputs": [
    {
     "data": {
      "text/plain": [
       "2.256366632607224    (-3.639548266010233, 6.460119212287354)"
      ]
     },
     "execution_count": 24,
     "metadata": {},
     "output_type": "execute_result"
    }
   ],
   "source": [
    "# Для оценки статзначимости воспользуемся методом bootstrap_ab.\n",
    "\n",
    "bs_ab_estims = bs.bootstrap_ab(group_30.sum_gamerounds.values, \n",
    "                               group_40.sum_gamerounds.values, \n",
    "                               bs_stats.mean, bs_compare.percent_change, \n",
    "                               num_iterations=10000, alpha=0.05, \n",
    "                               iteration_batch_size=100, scale_test_by=1)\n",
    "\n",
    "bs_ab_estims"
   ]
  },
  {
   "cell_type": "code",
   "execution_count": 25,
   "id": "77e0b855",
   "metadata": {},
   "outputs": [
    {
     "name": "stdout",
     "output_type": "stream",
     "text": [
      "Diffs is not significant\n"
     ]
    }
   ],
   "source": [
    "# Как мы можем заметить, доверительный итервал, который является результатом bootstrap_ab, содержит 0, следовательно,\n",
    "# изменения не значительны.\n",
    "\n",
    "if bs_ab_estims.lower_bound < 0 and bs_ab_estims.upper_bound > 0:\n",
    "    print('Diffs is not significant')\n",
    "else: print('Diffs is significant')"
   ]
  },
  {
   "cell_type": "code",
   "execution_count": 26,
   "id": "9947191e",
   "metadata": {},
   "outputs": [],
   "source": [
    "# Значит, что изменения никак не повлияли на количество раундов, сыгранных игроками."
   ]
  },
  {
   "cell_type": "markdown",
   "id": "392eedeb",
   "metadata": {},
   "source": [
    "### Рассмотрим метрику retention_1"
   ]
  },
  {
   "cell_type": "code",
   "execution_count": 27,
   "id": "ca0f980d",
   "metadata": {},
   "outputs": [
    {
     "data": {
      "image/png": "[encoded data removed]",
      "text/plain": [
       "<Figure size 432x288 with 1 Axes>"
      ]
     },
     "metadata": {
      "needs_background": "light"
     },
     "output_type": "display_data"
    }
   ],
   "source": [
    "# Визуализируем распределения в группах\n",
    "\n",
    "series_group_30 = group_30.retention_1.apply(lambda x: 1 if x == True else 0)\n",
    "series_group_40 = group_40.retention_1.apply(lambda x: 1 if x == True else 0)\n",
    "\n",
    "histograms(series_group_30, series_group_40, b=2)"
   ]
  },
  {
   "cell_type": "code",
   "execution_count": 28,
   "id": "380fdfb1",
   "metadata": {},
   "outputs": [
    {
     "data": {
      "text/plain": [
       "1.3351571571965584    (-0.1536780299144156, 2.7958866915351392)"
      ]
     },
     "execution_count": 28,
     "metadata": {},
     "output_type": "execute_result"
    }
   ],
   "source": [
    "# Для оценки статзначимости воспользуемся методом bootstrap_ab.\n",
    "\n",
    "bs_ab_estims = bs.bootstrap_ab(group_30.retention_1.values, \n",
    "                               group_40.retention_1.values, \n",
    "                               bs_stats.mean, bs_compare.percent_change, \n",
    "                               num_iterations=10000, alpha=0.05, \n",
    "                               iteration_batch_size=100, scale_test_by=1)\n",
    "\n",
    "bs_ab_estims"
   ]
  },
  {
   "cell_type": "code",
   "execution_count": 29,
   "id": "c4f9e1ad",
   "metadata": {},
   "outputs": [
    {
     "name": "stdout",
     "output_type": "stream",
     "text": [
      "Diffs is not significant\n"
     ]
    }
   ],
   "source": [
    "# Как мы можем заметить, доверительный итервал, который является результатом bootstrap_ab, содержит 0, следовательно,\n",
    "# изменения не значительны. \n",
    "\n",
    "if bs_ab_estims.lower_bound < 0 and bs_ab_estims.upper_bound > 0:\n",
    "    print('Diffs is not significant')\n",
    "else: print('Diffs is significant')"
   ]
  },
  {
   "cell_type": "code",
   "execution_count": 30,
   "id": "e48fd16a",
   "metadata": {},
   "outputs": [],
   "source": [
    "# Значит, что изменения никак не повлияли на то, зашел ли игрок спустя 1 день в игру."
   ]
  },
  {
   "cell_type": "markdown",
   "id": "f8b75884",
   "metadata": {},
   "source": [
    "### Рассмотрим метрику retention_7"
   ]
  },
  {
   "cell_type": "code",
   "execution_count": 31,
   "id": "49ea80ab",
   "metadata": {},
   "outputs": [
    {
     "data": {
      "image/png": "[encoded data removed]",
      "text/plain": [
       "<Figure size 432x288 with 1 Axes>"
      ]
     },
     "metadata": {
      "needs_background": "light"
     },
     "output_type": "display_data"
    }
   ],
   "source": [
    "# Визуализируем распределения в группах\n",
    "\n",
    "series_group_30 = group_30.retention_7.apply(lambda x: 1 if x == True else 0)\n",
    "series_group_40 = group_40.retention_7.apply(lambda x: 1 if x == True else 0)\n",
    "\n",
    "histograms(series_group_30, series_group_40, b=2)"
   ]
  },
  {
   "cell_type": "code",
   "execution_count": 32,
   "id": "cb9ef8f9",
   "metadata": {},
   "outputs": [
    {
     "data": {
      "text/plain": [
       "4.506206776910276    (1.6659375993586831, 7.295966076313835)"
      ]
     },
     "execution_count": 32,
     "metadata": {},
     "output_type": "execute_result"
    }
   ],
   "source": [
    "# Для оценки статзначимости воспользуемся методом bootstrap_ab.\n",
    "\n",
    "bs_ab_estims = bs.bootstrap_ab(group_30.retention_7.values, \n",
    "                               group_40.retention_7.values, \n",
    "                               bs_stats.mean, bs_compare.percent_change, \n",
    "                               num_iterations=10000, alpha=0.05, \n",
    "                               iteration_batch_size=100, scale_test_by=1)\n",
    "\n",
    "bs_ab_estims"
   ]
  },
  {
   "cell_type": "code",
   "execution_count": 33,
   "id": "927404b0",
   "metadata": {},
   "outputs": [
    {
     "name": "stdout",
     "output_type": "stream",
     "text": [
      "Diffs is significant\n"
     ]
    }
   ],
   "source": [
    "# Как мы можем заметить, доверительный итервал, который является результатом bootstrap_ab, не содержит 0, следовательно,\n",
    "# изменения значительны.\n",
    "\n",
    "if bs_ab_estims.lower_bound < 0 and bs_ab_estims.upper_bound > 0:\n",
    "    print('Diffs is not significant')\n",
    "else: print('Diffs is significant')"
   ]
  },
  {
   "cell_type": "code",
   "execution_count": 17,
   "id": "9a9061bb",
   "metadata": {},
   "outputs": [],
   "source": [
    "# Значит, что из-за изменений уменьшилось количество пользователей (по первому результату метода), которые вернулись\n",
    "# спустя 7 дней."
   ]
  },
  {
   "cell_type": "markdown",
   "id": "82b23ebf",
   "metadata": {},
   "source": [
    "Таким образом можно сказать, что изменения повлияли негативно на игру, так как 7-дневное удержание стало меньше. Поэтому, если мы хотим сохранить высокий уровень удержания как 1-дневный, мы не должны перемещать ворота с уровня 30 на уровень 40, так как такая метрика, как удержание игроков является одной из самых важных. Однако, чтоб сделать окончательный вывод, можно было бы рассмотреть и иные метрики, например, количество внутриигровых покупок, просмотр рекламы и т.п. Но в наших изначальных данных такие метрики не рассматривались. "
   ]
  }
 ],
 "metadata": {
  "kernelspec": {
   "display_name": "Python 3 (ipykernel)",
   "language": "python",
   "name": "python3"
  },
  "language_info": {
   "codemirror_mode": {
    "name": "ipython",
    "version": 3
   },
   "file_extension": ".py",
   "mimetype": "text/x-python",
   "name": "python",
   "nbconvert_exporter": "python",
   "pygments_lexer": "ipython3",
   "version": "3.9.7"
  }
 },
 "nbformat": 4,
 "nbformat_minor": 5
}
