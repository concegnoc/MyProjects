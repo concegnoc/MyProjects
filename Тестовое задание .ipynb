{
 "cells": [
  {
   "cell_type": "markdown",
   "id": "8a49b9d6",
   "metadata": {},
   "source": [
    "### Импортируем нужные библиотеки"
   ]
  },
  {
   "cell_type": "code",
   "execution_count": 120,
   "id": "71c67fb2",
   "metadata": {},
   "outputs": [],
   "source": [
    "import pandas as pd\n",
    "import numpy as np\n",
    "import json\n",
    "\n",
    "import plotly.express as px"
   ]
  },
  {
   "cell_type": "markdown",
   "id": "ba4b4c5c",
   "metadata": {},
   "source": [
    "### Загружаем данные и приводим их к приемлемомувиду"
   ]
  },
  {
   "cell_type": "code",
   "execution_count": 121,
   "id": "ab700d1b",
   "metadata": {},
   "outputs": [],
   "source": [
    "df = pd.read_csv('us events ad_revenue filtered 03.02-07.02.csv')"
   ]
  },
  {
   "cell_type": "code",
   "execution_count": 122,
   "id": "d47a93d0",
   "metadata": {},
   "outputs": [
    {
     "data": {
      "text/html": [
       "<div>\n",
       "<style scoped>\n",
       "    .dataframe tbody tr th:only-of-type {\n",
       "        vertical-align: middle;\n",
       "    }\n",
       "\n",
       "    .dataframe tbody tr th {\n",
       "        vertical-align: top;\n",
       "    }\n",
       "\n",
       "    .dataframe thead th {\n",
       "        text-align: right;\n",
       "    }\n",
       "</style>\n",
       "<table border=\"1\" class=\"dataframe\">\n",
       "  <thead>\n",
       "    <tr style=\"text-align: right;\">\n",
       "      <th></th>\n",
       "      <th>profile_id</th>\n",
       "      <th>os_version</th>\n",
       "      <th>device_manufacturer</th>\n",
       "      <th>device_model</th>\n",
       "      <th>device_type</th>\n",
       "      <th>device_locale</th>\n",
       "      <th>event_name</th>\n",
       "      <th>event_json</th>\n",
       "      <th>event_datetime</th>\n",
       "      <th>event_timestamp</th>\n",
       "      <th>event_receive_datetime</th>\n",
       "      <th>event_receive_timestamp</th>\n",
       "      <th>connection_type</th>\n",
       "      <th>operator_name</th>\n",
       "      <th>country_iso_code</th>\n",
       "      <th>city</th>\n",
       "    </tr>\n",
       "  </thead>\n",
       "  <tbody>\n",
       "    <tr>\n",
       "      <th>0</th>\n",
       "      <td>JLjpGzDHBQm</td>\n",
       "      <td>11</td>\n",
       "      <td>Samsung</td>\n",
       "      <td>Galaxy Tab S6</td>\n",
       "      <td>tablet</td>\n",
       "      <td>en_US</td>\n",
       "      <td>c_ad_revenue</td>\n",
       "      <td>{\"ad_type\":\"banner\",\"placement\":\"\",\"view_index...</td>\n",
       "      <td>2022-02-04 20:02:28</td>\n",
       "      <td>1643994148</td>\n",
       "      <td>2022-02-06 17:58:19</td>\n",
       "      <td>1644159499</td>\n",
       "      <td>wifi</td>\n",
       "      <td>NaN</td>\n",
       "      <td>US</td>\n",
       "      <td>Norwalk</td>\n",
       "    </tr>\n",
       "    <tr>\n",
       "      <th>1</th>\n",
       "      <td>JLjpGzDHBQm</td>\n",
       "      <td>11</td>\n",
       "      <td>Samsung</td>\n",
       "      <td>Galaxy Tab S6</td>\n",
       "      <td>tablet</td>\n",
       "      <td>en_US</td>\n",
       "      <td>c_ad_revenue</td>\n",
       "      <td>{\"ad_type\":\"banner\",\"placement\":\"\",\"view_index...</td>\n",
       "      <td>2022-02-04 20:02:45</td>\n",
       "      <td>1643994165</td>\n",
       "      <td>2022-02-06 17:58:19</td>\n",
       "      <td>1644159499</td>\n",
       "      <td>wifi</td>\n",
       "      <td>NaN</td>\n",
       "      <td>US</td>\n",
       "      <td>Norwalk</td>\n",
       "    </tr>\n",
       "    <tr>\n",
       "      <th>2</th>\n",
       "      <td>JLkVacrzHY6</td>\n",
       "      <td>11</td>\n",
       "      <td>Google</td>\n",
       "      <td>Pixel 2</td>\n",
       "      <td>phone</td>\n",
       "      <td>en_US</td>\n",
       "      <td>c_ad_revenue</td>\n",
       "      <td>{\"ad_type\":\"banner\",\"placement\":\"\",\"view_index...</td>\n",
       "      <td>2022-02-05 17:53:05</td>\n",
       "      <td>1644072785</td>\n",
       "      <td>2022-02-06 16:59:29</td>\n",
       "      <td>1644155969</td>\n",
       "      <td>wifi</td>\n",
       "      <td>Verizon</td>\n",
       "      <td>US</td>\n",
       "      <td>Charlotte</td>\n",
       "    </tr>\n",
       "    <tr>\n",
       "      <th>3</th>\n",
       "      <td>JMC6wG3cX0f</td>\n",
       "      <td>10</td>\n",
       "      <td>Samsung</td>\n",
       "      <td>Galaxy S9</td>\n",
       "      <td>phone</td>\n",
       "      <td>en_US</td>\n",
       "      <td>c_ad_revenue</td>\n",
       "      <td>{\"ad_type\":\"int\",\"placement\":\"next_level\",\"vie...</td>\n",
       "      <td>2022-02-06 17:09:01</td>\n",
       "      <td>1644156541</td>\n",
       "      <td>2022-02-06 17:09:24</td>\n",
       "      <td>1644156564</td>\n",
       "      <td>wifi</td>\n",
       "      <td>T-Mobile</td>\n",
       "      <td>US</td>\n",
       "      <td>Cocoa</td>\n",
       "    </tr>\n",
       "    <tr>\n",
       "      <th>4</th>\n",
       "      <td>JLzWWTJfi1b</td>\n",
       "      <td>10</td>\n",
       "      <td>Samsung</td>\n",
       "      <td>Galaxy S9</td>\n",
       "      <td>phone</td>\n",
       "      <td>en_US</td>\n",
       "      <td>c_ad_revenue</td>\n",
       "      <td>{\"ad_type\":\"banner\",\"placement\":\"\",\"view_index...</td>\n",
       "      <td>2022-02-06 17:15:38</td>\n",
       "      <td>1644156938</td>\n",
       "      <td>2022-02-06 17:16:16</td>\n",
       "      <td>1644156976</td>\n",
       "      <td>cell</td>\n",
       "      <td>Verizon</td>\n",
       "      <td>US</td>\n",
       "      <td>NaN</td>\n",
       "    </tr>\n",
       "  </tbody>\n",
       "</table>\n",
       "</div>"
      ],
      "text/plain": [
       "    profile_id os_version device_manufacturer   device_model device_type  \\\n",
       "0  JLjpGzDHBQm         11             Samsung  Galaxy Tab S6      tablet   \n",
       "1  JLjpGzDHBQm         11             Samsung  Galaxy Tab S6      tablet   \n",
       "2  JLkVacrzHY6         11              Google        Pixel 2       phone   \n",
       "3  JMC6wG3cX0f         10             Samsung      Galaxy S9       phone   \n",
       "4  JLzWWTJfi1b         10             Samsung      Galaxy S9       phone   \n",
       "\n",
       "  device_locale    event_name  \\\n",
       "0         en_US  c_ad_revenue   \n",
       "1         en_US  c_ad_revenue   \n",
       "2         en_US  c_ad_revenue   \n",
       "3         en_US  c_ad_revenue   \n",
       "4         en_US  c_ad_revenue   \n",
       "\n",
       "                                          event_json       event_datetime  \\\n",
       "0  {\"ad_type\":\"banner\",\"placement\":\"\",\"view_index...  2022-02-04 20:02:28   \n",
       "1  {\"ad_type\":\"banner\",\"placement\":\"\",\"view_index...  2022-02-04 20:02:45   \n",
       "2  {\"ad_type\":\"banner\",\"placement\":\"\",\"view_index...  2022-02-05 17:53:05   \n",
       "3  {\"ad_type\":\"int\",\"placement\":\"next_level\",\"vie...  2022-02-06 17:09:01   \n",
       "4  {\"ad_type\":\"banner\",\"placement\":\"\",\"view_index...  2022-02-06 17:15:38   \n",
       "\n",
       "   event_timestamp event_receive_datetime  event_receive_timestamp  \\\n",
       "0       1643994148    2022-02-06 17:58:19               1644159499   \n",
       "1       1643994165    2022-02-06 17:58:19               1644159499   \n",
       "2       1644072785    2022-02-06 16:59:29               1644155969   \n",
       "3       1644156541    2022-02-06 17:09:24               1644156564   \n",
       "4       1644156938    2022-02-06 17:16:16               1644156976   \n",
       "\n",
       "  connection_type operator_name country_iso_code       city  \n",
       "0            wifi           NaN               US    Norwalk  \n",
       "1            wifi           NaN               US    Norwalk  \n",
       "2            wifi       Verizon               US  Charlotte  \n",
       "3            wifi      T-Mobile               US      Cocoa  \n",
       "4            cell      Verizon                US        NaN  "
      ]
     },
     "execution_count": 122,
     "metadata": {},
     "output_type": "execute_result"
    }
   ],
   "source": [
    "df.head()"
   ]
  },
  {
   "cell_type": "code",
   "execution_count": 123,
   "id": "2d27988a",
   "metadata": {},
   "outputs": [],
   "source": [
    "data = [json.loads(df.event_json.iloc[i]) for i in range(len(df))]\n",
    "df2 = pd.DataFrame(data)"
   ]
  },
  {
   "cell_type": "code",
   "execution_count": 124,
   "id": "2ce92a1a",
   "metadata": {},
   "outputs": [
    {
     "data": {
      "text/html": [
       "<div>\n",
       "<style scoped>\n",
       "    .dataframe tbody tr th:only-of-type {\n",
       "        vertical-align: middle;\n",
       "    }\n",
       "\n",
       "    .dataframe tbody tr th {\n",
       "        vertical-align: top;\n",
       "    }\n",
       "\n",
       "    .dataframe thead th {\n",
       "        text-align: right;\n",
       "    }\n",
       "</style>\n",
       "<table border=\"1\" class=\"dataframe\">\n",
       "  <thead>\n",
       "    <tr style=\"text-align: right;\">\n",
       "      <th></th>\n",
       "      <th>ad_type</th>\n",
       "      <th>placement</th>\n",
       "      <th>view_index</th>\n",
       "      <th>session_view_index</th>\n",
       "      <th>cur_ticks</th>\n",
       "      <th>session_length</th>\n",
       "      <th>revenue</th>\n",
       "      <th>ads_ltv</th>\n",
       "      <th>ecpm_sma</th>\n",
       "      <th>normalized_ecpm_sma</th>\n",
       "      <th>value</th>\n",
       "      <th>currency</th>\n",
       "      <th>ad_country_code</th>\n",
       "      <th>network_name</th>\n",
       "      <th>ad_unit_id</th>\n",
       "      <th>ad_network_placement</th>\n",
       "      <th>creativeId</th>\n",
       "    </tr>\n",
       "  </thead>\n",
       "  <tbody>\n",
       "    <tr>\n",
       "      <th>0</th>\n",
       "      <td>banner</td>\n",
       "      <td></td>\n",
       "      <td>1</td>\n",
       "      <td>0</td>\n",
       "      <td>637795729492245130</td>\n",
       "      <td>705.88070</td>\n",
       "      <td>0.000510</td>\n",
       "      <td>0.487877</td>\n",
       "      <td>0.511508</td>\n",
       "      <td>0.511508</td>\n",
       "      <td>0.000510</td>\n",
       "      <td>USD</td>\n",
       "      <td>US</td>\n",
       "      <td>Google AdMob</td>\n",
       "      <td>64c6b1114ea8c1cc</td>\n",
       "      <td>ca-app-pub-7511632782617496/8825263691</td>\n",
       "      <td>CJ3XirfD5vUCFYPnKAUdG3MOYQ</td>\n",
       "    </tr>\n",
       "    <tr>\n",
       "      <th>1</th>\n",
       "      <td>banner</td>\n",
       "      <td></td>\n",
       "      <td>1</td>\n",
       "      <td>0</td>\n",
       "      <td>637795729659949790</td>\n",
       "      <td>722.65120</td>\n",
       "      <td>0.000510</td>\n",
       "      <td>0.488387</td>\n",
       "      <td>0.511389</td>\n",
       "      <td>0.511389</td>\n",
       "      <td>0.000510</td>\n",
       "      <td>USD</td>\n",
       "      <td>US</td>\n",
       "      <td>Google AdMob</td>\n",
       "      <td>64c6b1114ea8c1cc</td>\n",
       "      <td>ca-app-pub-7511632782617496/8825263691</td>\n",
       "      <td>CNa-lL_D5vUCFZrpKAUdU2QBDQ</td>\n",
       "    </tr>\n",
       "    <tr>\n",
       "      <th>2</th>\n",
       "      <td>banner</td>\n",
       "      <td></td>\n",
       "      <td>1</td>\n",
       "      <td>0</td>\n",
       "      <td>637796515863735930</td>\n",
       "      <td>431.81290</td>\n",
       "      <td>0.002386</td>\n",
       "      <td>0.678479</td>\n",
       "      <td>0.928597</td>\n",
       "      <td>0.928597</td>\n",
       "      <td>0.002386</td>\n",
       "      <td>USD</td>\n",
       "      <td>US</td>\n",
       "      <td>APPLOVIN_EXCHANGE</td>\n",
       "      <td>64c6b1114ea8c1cc</td>\n",
       "      <td>banner_regular</td>\n",
       "      <td>pandora-58</td>\n",
       "    </tr>\n",
       "    <tr>\n",
       "      <th>3</th>\n",
       "      <td>int</td>\n",
       "      <td>next_level</td>\n",
       "      <td>1</td>\n",
       "      <td>1</td>\n",
       "      <td>637797353426827330</td>\n",
       "      <td>125.94960</td>\n",
       "      <td>0.013894</td>\n",
       "      <td>0.013894</td>\n",
       "      <td>13.782633</td>\n",
       "      <td>13.893784</td>\n",
       "      <td>0.013894</td>\n",
       "      <td>USD</td>\n",
       "      <td>US</td>\n",
       "      <td>AppLovin</td>\n",
       "      <td>3ab7705b07ebb75f</td>\n",
       "      <td>inter_regular</td>\n",
       "      <td>13045364</td>\n",
       "    </tr>\n",
       "    <tr>\n",
       "      <th>4</th>\n",
       "      <td>banner</td>\n",
       "      <td></td>\n",
       "      <td>1</td>\n",
       "      <td>0</td>\n",
       "      <td>637797357392197840</td>\n",
       "      <td>12.71129</td>\n",
       "      <td>0.006828</td>\n",
       "      <td>0.060571</td>\n",
       "      <td>1.660282</td>\n",
       "      <td>1.660282</td>\n",
       "      <td>0.006828</td>\n",
       "      <td>USD</td>\n",
       "      <td>US</td>\n",
       "      <td>Google AdMob</td>\n",
       "      <td>64c6b1114ea8c1cc</td>\n",
       "      <td>ca-app-pub-7511632782617496/6197324251</td>\n",
       "      <td>CMTi5e-h6_UCFUdVwQodt9EIMw</td>\n",
       "    </tr>\n",
       "  </tbody>\n",
       "</table>\n",
       "</div>"
      ],
      "text/plain": [
       "  ad_type   placement  view_index  session_view_index           cur_ticks  \\\n",
       "0  banner                       1                   0  637795729492245130   \n",
       "1  banner                       1                   0  637795729659949790   \n",
       "2  banner                       1                   0  637796515863735930   \n",
       "3     int  next_level           1                   1  637797353426827330   \n",
       "4  banner                       1                   0  637797357392197840   \n",
       "\n",
       "   session_length   revenue   ads_ltv   ecpm_sma  normalized_ecpm_sma  \\\n",
       "0       705.88070  0.000510  0.487877   0.511508             0.511508   \n",
       "1       722.65120  0.000510  0.488387   0.511389             0.511389   \n",
       "2       431.81290  0.002386  0.678479   0.928597             0.928597   \n",
       "3       125.94960  0.013894  0.013894  13.782633            13.893784   \n",
       "4        12.71129  0.006828  0.060571   1.660282             1.660282   \n",
       "\n",
       "      value currency ad_country_code       network_name        ad_unit_id  \\\n",
       "0  0.000510      USD              US       Google AdMob  64c6b1114ea8c1cc   \n",
       "1  0.000510      USD              US       Google AdMob  64c6b1114ea8c1cc   \n",
       "2  0.002386      USD              US  APPLOVIN_EXCHANGE  64c6b1114ea8c1cc   \n",
       "3  0.013894      USD              US           AppLovin  3ab7705b07ebb75f   \n",
       "4  0.006828      USD              US       Google AdMob  64c6b1114ea8c1cc   \n",
       "\n",
       "                     ad_network_placement                  creativeId  \n",
       "0  ca-app-pub-7511632782617496/8825263691  CJ3XirfD5vUCFYPnKAUdG3MOYQ  \n",
       "1  ca-app-pub-7511632782617496/8825263691  CNa-lL_D5vUCFZrpKAUdU2QBDQ  \n",
       "2                          banner_regular                  pandora-58  \n",
       "3                           inter_regular                    13045364  \n",
       "4  ca-app-pub-7511632782617496/6197324251  CMTi5e-h6_UCFUdVwQodt9EIMw  "
      ]
     },
     "execution_count": 124,
     "metadata": {},
     "output_type": "execute_result"
    }
   ],
   "source": [
    "df2.head()"
   ]
  },
  {
   "cell_type": "code",
   "execution_count": 125,
   "id": "21b82218",
   "metadata": {
    "scrolled": true
   },
   "outputs": [
    {
     "data": {
      "text/html": [
       "<div>\n",
       "<style scoped>\n",
       "    .dataframe tbody tr th:only-of-type {\n",
       "        vertical-align: middle;\n",
       "    }\n",
       "\n",
       "    .dataframe tbody tr th {\n",
       "        vertical-align: top;\n",
       "    }\n",
       "\n",
       "    .dataframe thead th {\n",
       "        text-align: right;\n",
       "    }\n",
       "</style>\n",
       "<table border=\"1\" class=\"dataframe\">\n",
       "  <thead>\n",
       "    <tr style=\"text-align: right;\">\n",
       "      <th></th>\n",
       "      <th>profile_id</th>\n",
       "      <th>os_version</th>\n",
       "      <th>device_manufacturer</th>\n",
       "      <th>device_model</th>\n",
       "      <th>device_type</th>\n",
       "      <th>device_locale</th>\n",
       "      <th>event_name</th>\n",
       "      <th>event_json</th>\n",
       "      <th>event_datetime</th>\n",
       "      <th>event_timestamp</th>\n",
       "      <th>...</th>\n",
       "      <th>ads_ltv</th>\n",
       "      <th>ecpm_sma</th>\n",
       "      <th>normalized_ecpm_sma</th>\n",
       "      <th>value</th>\n",
       "      <th>currency</th>\n",
       "      <th>ad_country_code</th>\n",
       "      <th>network_name</th>\n",
       "      <th>ad_unit_id</th>\n",
       "      <th>ad_network_placement</th>\n",
       "      <th>creativeId</th>\n",
       "    </tr>\n",
       "  </thead>\n",
       "  <tbody>\n",
       "    <tr>\n",
       "      <th>0</th>\n",
       "      <td>JLjpGzDHBQm</td>\n",
       "      <td>11</td>\n",
       "      <td>Samsung</td>\n",
       "      <td>Galaxy Tab S6</td>\n",
       "      <td>tablet</td>\n",
       "      <td>en_US</td>\n",
       "      <td>c_ad_revenue</td>\n",
       "      <td>{\"ad_type\":\"banner\",\"placement\":\"\",\"view_index...</td>\n",
       "      <td>2022-02-04 20:02:28</td>\n",
       "      <td>1643994148</td>\n",
       "      <td>...</td>\n",
       "      <td>0.487877</td>\n",
       "      <td>0.511508</td>\n",
       "      <td>0.511508</td>\n",
       "      <td>0.000510</td>\n",
       "      <td>USD</td>\n",
       "      <td>US</td>\n",
       "      <td>Google AdMob</td>\n",
       "      <td>64c6b1114ea8c1cc</td>\n",
       "      <td>ca-app-pub-7511632782617496/8825263691</td>\n",
       "      <td>CJ3XirfD5vUCFYPnKAUdG3MOYQ</td>\n",
       "    </tr>\n",
       "    <tr>\n",
       "      <th>1</th>\n",
       "      <td>JLjpGzDHBQm</td>\n",
       "      <td>11</td>\n",
       "      <td>Samsung</td>\n",
       "      <td>Galaxy Tab S6</td>\n",
       "      <td>tablet</td>\n",
       "      <td>en_US</td>\n",
       "      <td>c_ad_revenue</td>\n",
       "      <td>{\"ad_type\":\"banner\",\"placement\":\"\",\"view_index...</td>\n",
       "      <td>2022-02-04 20:02:45</td>\n",
       "      <td>1643994165</td>\n",
       "      <td>...</td>\n",
       "      <td>0.488387</td>\n",
       "      <td>0.511389</td>\n",
       "      <td>0.511389</td>\n",
       "      <td>0.000510</td>\n",
       "      <td>USD</td>\n",
       "      <td>US</td>\n",
       "      <td>Google AdMob</td>\n",
       "      <td>64c6b1114ea8c1cc</td>\n",
       "      <td>ca-app-pub-7511632782617496/8825263691</td>\n",
       "      <td>CNa-lL_D5vUCFZrpKAUdU2QBDQ</td>\n",
       "    </tr>\n",
       "    <tr>\n",
       "      <th>2</th>\n",
       "      <td>JLkVacrzHY6</td>\n",
       "      <td>11</td>\n",
       "      <td>Google</td>\n",
       "      <td>Pixel 2</td>\n",
       "      <td>phone</td>\n",
       "      <td>en_US</td>\n",
       "      <td>c_ad_revenue</td>\n",
       "      <td>{\"ad_type\":\"banner\",\"placement\":\"\",\"view_index...</td>\n",
       "      <td>2022-02-05 17:53:05</td>\n",
       "      <td>1644072785</td>\n",
       "      <td>...</td>\n",
       "      <td>0.678479</td>\n",
       "      <td>0.928597</td>\n",
       "      <td>0.928597</td>\n",
       "      <td>0.002386</td>\n",
       "      <td>USD</td>\n",
       "      <td>US</td>\n",
       "      <td>APPLOVIN_EXCHANGE</td>\n",
       "      <td>64c6b1114ea8c1cc</td>\n",
       "      <td>banner_regular</td>\n",
       "      <td>pandora-58</td>\n",
       "    </tr>\n",
       "    <tr>\n",
       "      <th>3</th>\n",
       "      <td>JMC6wG3cX0f</td>\n",
       "      <td>10</td>\n",
       "      <td>Samsung</td>\n",
       "      <td>Galaxy S9</td>\n",
       "      <td>phone</td>\n",
       "      <td>en_US</td>\n",
       "      <td>c_ad_revenue</td>\n",
       "      <td>{\"ad_type\":\"int\",\"placement\":\"next_level\",\"vie...</td>\n",
       "      <td>2022-02-06 17:09:01</td>\n",
       "      <td>1644156541</td>\n",
       "      <td>...</td>\n",
       "      <td>0.013894</td>\n",
       "      <td>13.782633</td>\n",
       "      <td>13.893784</td>\n",
       "      <td>0.013894</td>\n",
       "      <td>USD</td>\n",
       "      <td>US</td>\n",
       "      <td>AppLovin</td>\n",
       "      <td>3ab7705b07ebb75f</td>\n",
       "      <td>inter_regular</td>\n",
       "      <td>13045364</td>\n",
       "    </tr>\n",
       "    <tr>\n",
       "      <th>4</th>\n",
       "      <td>JLzWWTJfi1b</td>\n",
       "      <td>10</td>\n",
       "      <td>Samsung</td>\n",
       "      <td>Galaxy S9</td>\n",
       "      <td>phone</td>\n",
       "      <td>en_US</td>\n",
       "      <td>c_ad_revenue</td>\n",
       "      <td>{\"ad_type\":\"banner\",\"placement\":\"\",\"view_index...</td>\n",
       "      <td>2022-02-06 17:15:38</td>\n",
       "      <td>1644156938</td>\n",
       "      <td>...</td>\n",
       "      <td>0.060571</td>\n",
       "      <td>1.660282</td>\n",
       "      <td>1.660282</td>\n",
       "      <td>0.006828</td>\n",
       "      <td>USD</td>\n",
       "      <td>US</td>\n",
       "      <td>Google AdMob</td>\n",
       "      <td>64c6b1114ea8c1cc</td>\n",
       "      <td>ca-app-pub-7511632782617496/6197324251</td>\n",
       "      <td>CMTi5e-h6_UCFUdVwQodt9EIMw</td>\n",
       "    </tr>\n",
       "  </tbody>\n",
       "</table>\n",
       "<p>5 rows × 33 columns</p>\n",
       "</div>"
      ],
      "text/plain": [
       "    profile_id os_version device_manufacturer   device_model device_type  \\\n",
       "0  JLjpGzDHBQm         11             Samsung  Galaxy Tab S6      tablet   \n",
       "1  JLjpGzDHBQm         11             Samsung  Galaxy Tab S6      tablet   \n",
       "2  JLkVacrzHY6         11              Google        Pixel 2       phone   \n",
       "3  JMC6wG3cX0f         10             Samsung      Galaxy S9       phone   \n",
       "4  JLzWWTJfi1b         10             Samsung      Galaxy S9       phone   \n",
       "\n",
       "  device_locale    event_name  \\\n",
       "0         en_US  c_ad_revenue   \n",
       "1         en_US  c_ad_revenue   \n",
       "2         en_US  c_ad_revenue   \n",
       "3         en_US  c_ad_revenue   \n",
       "4         en_US  c_ad_revenue   \n",
       "\n",
       "                                          event_json       event_datetime  \\\n",
       "0  {\"ad_type\":\"banner\",\"placement\":\"\",\"view_index...  2022-02-04 20:02:28   \n",
       "1  {\"ad_type\":\"banner\",\"placement\":\"\",\"view_index...  2022-02-04 20:02:45   \n",
       "2  {\"ad_type\":\"banner\",\"placement\":\"\",\"view_index...  2022-02-05 17:53:05   \n",
       "3  {\"ad_type\":\"int\",\"placement\":\"next_level\",\"vie...  2022-02-06 17:09:01   \n",
       "4  {\"ad_type\":\"banner\",\"placement\":\"\",\"view_index...  2022-02-06 17:15:38   \n",
       "\n",
       "   event_timestamp  ...   ads_ltv   ecpm_sma normalized_ecpm_sma     value  \\\n",
       "0       1643994148  ...  0.487877   0.511508            0.511508  0.000510   \n",
       "1       1643994165  ...  0.488387   0.511389            0.511389  0.000510   \n",
       "2       1644072785  ...  0.678479   0.928597            0.928597  0.002386   \n",
       "3       1644156541  ...  0.013894  13.782633           13.893784  0.013894   \n",
       "4       1644156938  ...  0.060571   1.660282            1.660282  0.006828   \n",
       "\n",
       "  currency ad_country_code       network_name        ad_unit_id  \\\n",
       "0      USD              US       Google AdMob  64c6b1114ea8c1cc   \n",
       "1      USD              US       Google AdMob  64c6b1114ea8c1cc   \n",
       "2      USD              US  APPLOVIN_EXCHANGE  64c6b1114ea8c1cc   \n",
       "3      USD              US           AppLovin  3ab7705b07ebb75f   \n",
       "4      USD              US       Google AdMob  64c6b1114ea8c1cc   \n",
       "\n",
       "                     ad_network_placement                  creativeId  \n",
       "0  ca-app-pub-7511632782617496/8825263691  CJ3XirfD5vUCFYPnKAUdG3MOYQ  \n",
       "1  ca-app-pub-7511632782617496/8825263691  CNa-lL_D5vUCFZrpKAUdU2QBDQ  \n",
       "2                          banner_regular                  pandora-58  \n",
       "3                           inter_regular                    13045364  \n",
       "4  ca-app-pub-7511632782617496/6197324251  CMTi5e-h6_UCFUdVwQodt9EIMw  \n",
       "\n",
       "[5 rows x 33 columns]"
      ]
     },
     "execution_count": 125,
     "metadata": {},
     "output_type": "execute_result"
    }
   ],
   "source": [
    "# Соединяем 2 таблицы для удобного выполнения заданий\n",
    "for col in df2.columns:\n",
    "    df[col] = df2[col]\n",
    "\n",
    "df.head()"
   ]
  },
  {
   "cell_type": "markdown",
   "id": "284afde6",
   "metadata": {},
   "source": [
    "### Задание 1.a\n",
    "Построить распределение средних eCPM-ов юзеров"
   ]
  },
  {
   "cell_type": "code",
   "execution_count": 126,
   "id": "6921d2f2",
   "metadata": {},
   "outputs": [
    {
     "data": {
      "application/vnd.plotly.v1+json": {
       "config": {
        "plotlyServerURL": "https://plot.ly"
       },
       "data": [
        {
         "alignmentgroup": "True",
         "bingroup": "x",
         "hovertemplate": "ecpm_sma=%{x}<br>count=%{y}<extra></extra>",
         "legendgroup": "",
         "marker": {
          "color": "#636efa",
          "pattern": {
           "shape": ""
          }
         },
         "name": "",
         "nbinsx": 200,
         "offsetgroup": "",
         "orientation": "v",
         "showlegend": false,
         "type": "histogram",
         "x": [
          5.379373403695914,
          2.435746777238268,
          1.557256072759629,
          2.361295589024112,
          0.3328915146680979,
          0.8793892865550923,
          2.899561855851149,
          1.6292709324022996,
          0.9968852322156503,
          0.7443642450345529,
          0.9446249664840051,
          1.3907327370591542,
          0.8942699602094331,
          1.472572691300335,
          2.6388713490423257,
          2.2865472609616497,
          38.52417900272319,
          17.305766623705,
          15.083101136343823,
          7.583975166082361,
          2.785831416354461,
          31.6496067047119,
          4.771089332444328,
          3.864641343393635,
          2.96338605880737,
          1.7740007138678011,
          3.2995512201672508,
          4.07493174459253,
          5.273406893014903,
          0.48692324757576,
          2.811936959853539,
          2.6819351497983566,
          1.1675703711807732,
          1.369689588035855,
          0.7154731975849904,
          2.5819806075548817,
          3.289375201822067,
          2.043788502003,
          19.91321274638174,
          0.33204114788036415,
          1.19441974163055,
          4.064433940375844,
          1.3860189494907216,
          2.544466968339271,
          0.126530364155769,
          4.6749416058897,
          3.0092401486387597,
          7.978674151003364,
          5.566457135732779,
          2.1521010241087732,
          2.1057864317979518,
          1.680129094557329,
          0.7781143180955897,
          1.2717757115110029,
          0.6350537538528445,
          0.9523818194866189,
          4.517404574405229,
          1.6355516849494567,
          0.34315169702928816,
          1.8524348214268687,
          2.883379909821918,
          0.4188582507954953,
          2.38616251945496,
          15.1616697311401,
          5.124307513237,
          9.393129688038293,
          1.7552759463296217,
          1.5032022309423698,
          2.0487344267150003,
          5.898026327292127,
          0.5816058706982894,
          0.9188745930427457,
          7.549048759370505,
          0.566171050071716,
          4.984540084997811,
          1.5988215622305872,
          6.213079690933228,
          0.8036387632152775,
          7.26013725517709,
          12.113079541921623,
          8.72742868587375,
          3.0143767896536233,
          3.9343889551875133,
          5.09699600367319,
          87.8397369384766,
          18.52908849062986,
          3.75000500679016,
          32.596716160867736,
          0.5835989973654795,
          0.7286504118226916,
          2.486286799233735,
          6.1946158769559725,
          1.4162904365974316,
          43.89027442534752,
          1.165991381156323,
          2.79259758417099,
          7.622392193371094,
          57.83650398254395,
          49.5438613891602,
          1.80729790398741,
          5.45117650667227,
          1.4061220749920498,
          1.2095408961056118,
          5.774694328743314,
          0.4275506201801944,
          8.991458192999877,
          1.2179632250239512,
          57.825023651123,
          8.045545232336528,
          3.695016527662472,
          1.2375428028013784,
          0.48551195859909047,
          2.870478911254242,
          0.522640563547611,
          7.8699808262254525,
          8.095055601813572,
          0.9504578342369772,
          2.38616251945496,
          0.6821719749440947,
          2.9591800527913223,
          9.043107193527792,
          10.877186533004519,
          12.137216150760645,
          2.6911344593221496,
          2.91194009136509,
          1.3315366716296595,
          2.097451027369348,
          2.8911613859236214,
          2.774182515590725,
          5.169620588125773,
          4.475153023546392,
          2.7979060469135155,
          3.99960387663408,
          6.6586584555881965,
          0.9518051588845917,
          5.8146327248326095,
          2.290628022410384,
          5.234454199227489,
          4.444360303878784,
          8.085046175198672,
          2.757279731412098,
          1.1631504159070478,
          2.033179664156503,
          4.152835287757823,
          1.07777492191849,
          5.395672410726536,
          3.0563991751452404,
          7.08905855881966,
          2.994577080011366,
          1.124442692236467,
          0.7486353456974031,
          19.0641174316406,
          1.8223659957156453,
          17.192167630997183,
          1.3897294244679512,
          0.8104585247735168,
          2.1381157679217204,
          0.5552693406740823,
          3.869013542338971,
          2.809282858669757,
          1.520294770472368,
          5.656757082154503,
          4.616232198668678,
          1.455957258997298,
          1.4931875285372596,
          0.7590354133881688,
          20.452345240375276,
          121.31658279895801,
          2.8430673831548434,
          0.9207806551072018,
          3.5876441154825063,
          7.891862797560082,
          0.38526121415753856,
          1.380210220894736,
          1.3290465661687734,
          4.750438629710821,
          2.005262531340124,
          0.6817694544037686,
          3.6338360313683333,
          3.173462943242932,
          1.4718909180339654,
          2.2150717914818285,
          2.1537507659510555,
          2.573921550287647,
          1.85278654098511,
          4.81788408756256,
          3.0674195965933646,
          0.949265962285127,
          50.8302230834961,
          0.43862353421978123,
          5.22040405591329,
          0.7398293491643978,
          8.645533373153288,
          2.5678920222365336,
          3.471135818145488,
          1.1027937875617118,
          1.911313116563031,
          59.6284790039063,
          0.9436885277164802,
          2.734419471930459,
          2.48052748002504,
          0.6806623745502326,
          6.381870852576362,
          6.229917255551533,
          1.5798557494685865,
          3.9031689888568284,
          0.949395388364792,
          3.65754222869873,
          6.103782286544042,
          4.731985594986416,
          0.8438840433368531,
          4.257903771529207,
          1.2276513651748258,
          3.1489463567733766,
          3.1294541733734533,
          9.672042819169853,
          0.6182275777962761,
          0.18752005845308312,
          0.8037164861957234,
          0.348224103450775,
          0.9758451272931794,
          0.450050244356572,
          0.8778656648945727,
          0.9013194881227552,
          3.010941194636487,
          44.1711044311523,
          6.867749127474704,
          2.823831340564147,
          8.283356702753476,
          2.2119685546918344,
          1.476188271285068,
          8.067592407763001,
          3.957625153282509,
          2.829778667452878,
          2.620188137018904,
          1.1660929014758459,
          1.8048746589232558,
          0.36969562625323515,
          0.7858149784598306,
          0.102502845227718,
          1.890834879634422,
          11.992916284238591,
          0.5987306702720081,
          5.180421042442322,
          2.39854383468628,
          4.390005069061861,
          1.5377077890809177,
          0.8502668062845866,
          3.3478871019263003,
          0.8736077534909152,
          4.446617217710267,
          0.9287118797118847,
          1.608866467402549,
          1.0390035133730293,
          1.632083741398905,
          6.2894857513143645,
          1.256005661847547,
          2.1244516843318486,
          1.3314967346931257,
          3.8733713150024407,
          1.2669910827980326,
          5.597042787642707,
          3.2036722501118966,
          1.4033102775043473,
          1.4148823118302998,
          2.0167131166959162,
          1.3430640821594118,
          1.192252634012183,
          0.4160890550810403,
          8.144236435560412,
          32.35463583469392,
          5.673235453389309,
          2.833622275658374,
          1.40345066661636,
          0.8566080140473364,
          1.5130269725275578,
          5.676905345916746,
          1.6586263431557293,
          2.5801482610302986,
          2.0653668399049177,
          1.0703170984619998,
          3.282986506658345,
          1.1886573570273196,
          0.7729233480713983,
          0.7422882317783731,
          1.1548022366289155,
          1.943989868176744,
          1.6828738110609165,
          5.517413341774133,
          0.35213787785985246,
          4.623069011150522,
          4.639295378598299,
          23.790042090416037,
          0.489991068840027,
          5.503151730118152,
          1.5136862220366798,
          2.38616251945496,
          0.6317069365377843,
          0.23661175866921735,
          2.4913284160917786,
          3.6374367312951525,
          3.0029041578575053,
          0.9796342790776966,
          3.0774856973826603,
          0.8641157928699008,
          0.581274402141571,
          2.985815629363057,
          0.326049453020096,
          0.4064969601142302,
          0.6379942444139918,
          0.16898149761701117,
          0.6232766232733078,
          0.3266458026265382,
          2.9259711233052315,
          1.0608176952917818,
          0.7731770809924775,
          0.5788900045787587,
          1.4162215289830322,
          1.6858315765857697,
          1.7480501015981047,
          0.9638261647871983,
          4.11860966903192,
          3.1489135786243105,
          4.780770480632781,
          1.7002787590026824,
          0.9453484571950381,
          7.803634037077427,
          11.938397250276935,
          1.7352943505559644,
          1.457187082066579,
          11.145909187121266,
          3.380760615212577,
          2.7356852627525177,
          0.7298933432359006,
          2.9679472635925555,
          1.5969825159916375,
          1.2281257587530447,
          0.8993340666963582,
          0.5619177552464522,
          2.5592597952855174,
          1.2179758946665302,
          1.3164657511209177,
          1.246368164769732,
          2.275591547290487,
          1.145601909206464,
          0.3751891255378722,
          2.5015057669890006,
          1.2978857898742573,
          4.385847769992452,
          15.118184990353054,
          7.285605989969695,
          2.0943515853448353,
          2.9498416385730777,
          30.710472871859874,
          12.205181399981193,
          41.10409545898435,
          2.8069015046132417,
          6.511547693392125,
          30.576175212860093,
          1.0401060364624317,
          27.8008823394775,
          1.076189697439235,
          2.4497742020104027,
          0.921652504575572,
          2.816784044959661,
          0.611872422261938,
          0.04830289632081986,
          2.7049525734744493,
          1.0705517090786738,
          1.7811740898298765,
          0.58363653217108,
          1.6727452781332195,
          2.101976053237363,
          2.9529544641337697,
          11.559736251831051,
          3.401548089652226,
          10.683394626776398,
          0.856337091878608,
          2.3514959657633714,
          6.581740434353166,
          1.5312512610639841,
          1.4245145467625477,
          1.2699264550598441,
          3.0005775218208623,
          1.2873230345052733,
          1.064728202952618,
          2.783483487255169,
          0.7159839769901679,
          0.951731351394733,
          0.9485021558961164,
          31.5594749450684,
          2.0938514244678905,
          0.415187001228333,
          1.2400979834741774,
          1.9858242134729072,
          2.8566139147846576,
          3.0949474880229944,
          1.2456947652732624,
          0.3522796099002545,
          0.7043074125148427,
          1.3605291111412898,
          1.6325362487272783,
          0.488566517829895,
          1.7451314619419092,
          1.2956754343912875,
          2.6373028518086636,
          0.5967231541872022,
          0.10721735283322137,
          8.201306271553042,
          0.9946427968415349,
          0.815905571768158,
          0.3910893499851225,
          1.8215822780095967,
          2.5500551809398635,
          5.625592329428583,
          2.2308521694447623,
          0.943405061509124,
          1.301129731660086,
          1.4605831629094899,
          24.893561834638763,
          4.197196586264505,
          0.9602962061762806,
          1.1155192700036511,
          1.891721185995267,
          10.450619147040626,
          4.487384446289228,
          2.1719796817058956,
          0.5068862371974523,
          0.6835209191709325,
          2.2122995089861304,
          6.497960327580424,
          0.6791743583240131,
          3.182144343852996,
          0.49261167536800193,
          93.1928329467773,
          5.079693831246475,
          2.160341069048454,
          2.982793272815199,
          2.6095065013928846,
          6.854637606199396,
          6.382049288068503,
          0.8550185250961838,
          1.7108184378458857,
          1.4656478396037718,
          3.3034288028012133,
          0.2187991542687823,
          11.68708159043951,
          1.1952381666566507,
          5.5512958022221905,
          0.5040680907382027,
          1.1008778186071482,
          7.635876119136815,
          7.253488989437326,
          1.5202035028535246,
          0.5741496837260772,
          5.26743607237136,
          18.7072200775146,
          0.643660451038781,
          1.0504519442956037,
          2.6722030397504577,
          0.9091729509855527,
          5.05415534973145,
          1.8649942932213748,
          1.2419895552075249,
          3.515877416352092,
          2.152629568638804,
          5.025692720108844,
          0.9784237429341737,
          0.6200806723862158,
          3.430569743116702,
          1.360477892194069,
          1.8782964593984866,
          0.6508316880172234,
          9.293864367313176,
          1.4731439221650362,
          4.744459342523189,
          27.6330661773682,
          4.566038008659115,
          40.990980509165176,
          6.904982176481507,
          2.9461632706471628,
          2.2632415066530682,
          1.1761737169862614,
          1.8925124276625482,
          0.8060837325549889,
          5.280027422037983,
          25.218836103166865,
          10.229706573486322,
          4.546274747421502,
          2.378730791996627,
          7.167531828085582,
          1.3855853755182277,
          7.919964373111724,
          1.4058614567954943,
          115.59593963623,
          2.881706972332562,
          11.507496632470023,
          3.1743761563258435,
          0.5379614531993866,
          1.2922919864348812,
          21.185497612323427,
          1.0493516282364732,
          1.6780374150900614,
          2.5154757882232093,
          2.400793525907729,
          2.6318312058002538,
          1.4807915247593946,
          4.533360720682544,
          6.1821067708290425,
          0.8711144263661578,
          3.089454089436267,
          2.331239339262248,
          1.7232413319870827,
          48.327088173698016,
          19.35444281498592,
          11.50996036720031,
          1.1045123736063633,
          4.388651371002198,
          7.355582174800691,
          2.5257550956015162,
          4.6698398646854224,
          0.6936802351742649,
          2.80725002288818,
          9.004844740542127,
          1.1772157989797125,
          8.815483041431605,
          3.354300975799565,
          20.312638180596505,
          1.2815885610098672,
          4.356463032641582,
          18.27646326560238,
          12.421934208423973,
          11.183981639034345,
          0.45451792223112925,
          101.309394836426,
          5.471423119306564,
          2.9680646647980735,
          7.633607603915229,
          11.724193572998,
          5.473325241695752,
          0.5215662954400243,
          2.4866859516478144,
          6.628071983377413,
          55.7818775177002,
          0.40719846223649764,
          2.3968408837130193,
          7.12605074067779,
          14.05412893254182,
          24.3996105194092,
          15.556778852756212,
          23.439897038215822,
          6.805578738451002,
          3.1571674109482384,
          0.8451637559466886,
          4.840527844277158,
          5.682312414950173,
          1.7582860812354077,
          22.7817764282227,
          11.950840475878207,
          1.7628363192855545,
          0.9255817158066709,
          19.629364002834663,
          2.8470182962638817,
          65.9481658935547,
          40.15635108947755,
          50.92101638317108,
          5.809840846160227,
          2.945030059556515,
          128.34071445465096,
          199.292636871338,
          11.415627468199961,
          65.9481658935547,
          1.7946495692451283,
          65.9481658935547,
          214.6960372924805,
          1.6831721736163625,
          2.712870861206091,
          8.712202951825898,
          10.09689749452803,
          80.1459503173828,
          9.456627720739785,
          7.749995311101277,
          70.67796084664086,
          19.9322643280029,
          210.006393432617,
          0.5852090716362,
          11.413281955801207,
          19.044542606060354,
          61.2827110290527,
          11.867367076873782,
          26.769000738859184,
          129.011993408203,
          118.86933898925766,
          2.457435389012749,
          4.993500198636736,
          9.887850181018706,
          2.8638182683947,
          25.128310561180125,
          25.747789837419973,
          2.721676577693039,
          2.38616251945496,
          3.399893280618635,
          9.620941910185396,
          15.188986698301832,
          14.440372421627956,
          1.3145391903022745,
          2.9102542199821104,
          6.270752216378848,
          13.267171998356664,
          12.75167834849758,
          5.251627082534739,
          7.916790338954493,
          4.517116499453903,
          2.3777959476176056,
          4.615792053451866,
          17.436908404032398,
          3.272416888030018,
          8.419324117047447,
          3.1070915983599634,
          3.728380889972679,
          1.6124469591625807,
          79.96819429397566,
          3.8306975773543366,
          5.21795193740855,
          0.5438218884039343,
          7.0359338854534075,
          65.9481658935547,
          1.7429385612713888,
          12.122375916032222,
          7.17582350272637,
          23.5443325042725,
          3.920208121996281,
          210.006393432617,
          55.67449378967285,
          9.981326344550835,
          41.87859725952146,
          5.6958560377864496,
          20.719690570315805,
          2.1819846284918314,
          3.5781858509237128,
          22.900608062744148,
          89.2165069580078,
          3.774751237486907,
          0.628033757209778,
          41.48838070869443,
          15.621188897352953,
          11.38002505204605,
          5.791261166334167,
          56.68530927385603,
          2.5031446774049613,
          20.474003992297437,
          15.354059215706425,
          7.351946055889129,
          38.4905052185059,
          2.643623430882732,
          22.372550370036695,
          2.007553280598815,
          8.57103063442089,
          22.9747200012207,
          5.080811049936157,
          1.2667242952312032,
          2.2531573108452214,
          5.46022761279139,
          22.8734769821167,
          2.363143185722528,
          189.868789672852,
          8.784925643409169,
          183.567008972168,
          6.126497118818491,
          13.097015686120317,
          2.881577468015314,
          2.2117549067274447,
          7.205573901534086,
          29.42999935150145,
          189.868789672852,
          2.38616251945496,
          189.868789672852,
          0.126224994659424,
          3.9083678099861006,
          65.9481658935547,
          19.9037036895752,
          5.714096276449555,
          84.89199829101555,
          34.37770795822144,
          0.9784406307114272,
          189.256317138672,
          189.256317138672,
          184.51992289225268,
          189.256317138672,
          30.712212829540174,
          5.954696989059447,
          7.596233514750882,
          11.115646637976162,
          20.98551641191756,
          2.38616251945496,
          0.7928541815030604,
          23.46409863233565,
          2.38616251945496,
          0.8129511971647544,
          28.5722846984863,
          26.97806537151336,
          6.9621376991272,
          2.0417346871842104,
          22.78224309285483,
          1.2109853002701143,
          2.513707036088254,
          14.165060043335,
          3.091853790122307,
          386.48876953125,
          20.483183860778784,
          10.056790115089601,
          0.541627407073975,
          22.95464763045311,
          22.9747200012207,
          0.9142208138578809,
          1.9347351453822068,
          1.4061966690476135,
          3.6158238490488355,
          189.868789672852,
          196.17300923665366,
          11.957513912580913,
          65.9481658935547,
          6.480273537337767,
          189.868789672852,
          2.425649243028469,
          2.827766380238149,
          2.9281077962368722,
          2.46285209512269,
          7.896337375431309,
          1.417987974129406,
          8.887583750359557,
          22.9747200012207,
          23.068262367635178,
          22.9747200012207,
          21.1783504486084,
          0.5195333645890721,
          65.9481658935547,
          189.868789672852,
          33.51586776971818,
          5.545524996259939,
          2.039828141434835,
          0.7729189714726312,
          2.5439092337208637,
          5.003931057673913,
          15.040583059191686,
          0.5847567431927844,
          2.5885400545029413,
          7.831314165145166,
          0.291900426149368,
          29.224447761263168,
          2.7460488975048065,
          2.972021955147122,
          1.9773724355559423,
          65.9481658935547,
          31.41344939107484,
          5.6103450258572884,
          12.85401063226164,
          1.1557380096383496,
          14.740448102355,
          1.1149841525724957,
          4.397311949554613,
          5.598088402123678,
          7.93380546569824,
          1.3752082626024882,
          1.8340654292828347,
          38.1596221923828,
          1.0094207757435256,
          5.0828513269330955,
          1.8946885070012462,
          3.5257652029245348,
          8.640428279946143,
          2.9168833107859995,
          189.868789672852,
          33.292832940816886,
          37.2778244018555,
          65.9481658935547,
          9.745046748055353,
          21.024406924843795,
          189.868789672852,
          1.2366667292094522,
          65.7354278564453,
          63.539838790893555,
          18.503585577011116,
          16.705802043279018,
          3.481418247406299,
          65.9481658935547,
          5.456281809703163,
          8.021985954603192,
          3.276857690011572,
          3.38643561332104,
          0.9637581472247522,
          1.244615874321895,
          0.9374768955678479,
          99.3349304199219,
          13.027582260278557,
          15.592700495169716,
          2.9767814319709247,
          0.602350983942971,
          3.3351832287652177,
          3.477765732873095,
          4.456284742748394,
          0.227307453751564,
          1.349243917093988,
          4.70358838446169,
          3.3305289580904214,
          2.2143388418068666,
          189.868789672852,
          31.924950040619958,
          189.868789672852,
          1.3140466096068635,
          2.277867858266009,
          0.44086155669861726,
          2.913986134383737,
          1.3892446343437639,
          3.2207909292644947,
          26.1099071502686,
          2.0670383629344773,
          4.272124683370396,
          14.936554857095084,
          1.06207501888275,
          2.42708826065063,
          30.6826229095459,
          19.8053255081177,
          6.2089580850847055,
          22.9747200012207,
          12.68044126033783,
          3.893180360587742,
          22.9747200012207,
          29.1975975036621,
          1.1040843231000492,
          34.1730651855469,
          43.1585578918457,
          3.6748002431331543,
          29.664000511169398,
          22.661163330078136,
          1.301495221234805,
          8.365953079501141,
          3.8263440043265895,
          3.9087143270742333,
          189.868789672852,
          1.1266345226873906,
          26.598242317636803,
          1.4586654812212763,
          33.047742567956455,
          1.1243801190186364,
          4.80356225153295,
          7.024188654679876,
          56.2876853942871,
          38.9841766357422,
          68.5384187698364,
          28.002188950136553,
          1.6097133622947823,
          1.5184971836800565,
          1.0109292616248131,
          12.199335879228249,
          2.7355055749416346,
          15.438383718331659,
          6.129220456111396,
          13.620521272429672,
          8.153329672305837,
          15.958257012199933,
          3.1098908796543023,
          0.139020264148712,
          1.702833211735673,
          0.8296301020174359,
          4.820898904350803,
          72.97152328491211,
          21.299928417205823,
          125.38917160034151,
          12.909312386997053,
          0.637499988079071,
          6.527189769730067,
          14.206415653228756,
          1.9315761280253183,
          1.8517421603029223,
          1.6547997902025997,
          14.665785258015031,
          2.1419652771128685,
          0.6882473038676925,
          7.113141865071739,
          2.4424229403111086,
          1.2629182823633742,
          35.9051856994629,
          0.6605340833206688,
          6.4673460049213025,
          21.596186728581134,
          65.9481658935547,
          2.4030000248052272,
          1.1365712654673394,
          65.9481658935547,
          6.45335418143066,
          3.1324795620309014,
          2.3773442479531934,
          0.5566557818986271,
          1.07365167140961,
          3.648988378407844,
          43.8818206787109,
          189.868789672852,
          4.625345289707186,
          2.4810429913432968,
          0.703162491321564,
          1.8106465078621348,
          3.296230567252685,
          2.9467444362178927,
          64.90471633275364,
          9.429016683749014,
          61.04921827316285,
          6.926694307257148,
          11.055594775676727,
          189.868789672852,
          10.162160873413082,
          44.091366179287455,
          3.9036951150638717,
          15.192900627851468,
          16.846302817849548,
          1.2795724156484785,
          17.24089020888014,
          1.1522777121228043,
          13.8497657775879,
          4.950642879174286,
          5.509056658044506,
          1.3976548092009924,
          83.78206858634954,
          11.69390495419501,
          10.12039337856205,
          2.4773219676621006,
          0.691472768783569,
          36.7058868408203,
          2.919264438905215,
          1.4356637048524807,
          26.5350494384766,
          17.112385510775816,
          1.1025795799493787,
          17.93181166238031,
          65.9481658935547,
          2.143351252141753,
          1.600490786896065,
          22.9747200012207,
          23.516695022583,
          4.194440217969233,
          37.9348411560059,
          1.183272042252851,
          28.91307640075685,
          1.4168049723726424,
          1.0402072793286707,
          2.74468099862299,
          19.9037036895752,
          28.0140800476074,
          2.2273709162005355,
          6.03649233367033,
          9.466351704597482,
          1.2752742027136976,
          0.8269647495222416,
          13.3988160027398,
          1.7138059014646738,
          2.115781678042852,
          22.9747200012207,
          4.565995717870779,
          189.868789672852,
          2.373928547220592,
          2.7805737295284776,
          1.1123559424752214,
          14.9678716659546,
          6.593450330321576,
          0.557275295257568,
          0.7717961209411385,
          1.40092234789057,
          6.5934866666794,
          7.514439036670543,
          1.9873261025442648,
          10.111241333186635,
          30.0815467834473,
          2.82602508054223,
          1.686980483604662,
          25.392118148505688,
          2.510670594186319,
          14.474886702981038,
          48.0756709575653,
          2.4183836547268003,
          130.617813110352,
          5.387883978394362,
          1.1985594119636926,
          33.02877461910248,
          1.6784278274494775,
          4.098058467866107,
          25.937063217163097,
          70.3653220534325,
          65.9481658935547,
          4.522380739450445,
          63.9179916381836,
          22.9747200012207,
          1.714817322263814,
          118.512949625651,
          7.026171329103668,
          65.9481658935547,
          8.935510899372032,
          39.35282249450684,
          2.2735051713684054,
          2.1487686078396293,
          7.863875925540934,
          4.310874947754529,
          1.144100248376878,
          3.442016181427729,
          3.061006710642861,
          5.457050803729465,
          4.407282581224162,
          128.959991455078,
          3.679376136820491,
          11.962208112080885,
          9.934939702351882,
          6.128919101678408,
          0.8117538690567014,
          0.672866241229539,
          5.511272961273802,
          189.868789672852,
          11.690073847770677,
          17.4889011383057,
          3.550742007017107,
          2.930321921904882,
          122.1785509586336,
          24.59637191146612,
          3.1072058012088166,
          0.9976906786628984,
          1.1731967783121002,
          11.458826915671436,
          2.0401421569891878,
          0.6425128209352492,
          0.637499988079071,
          2.3793765653620715,
          22.9747200012207,
          65.9481658935547,
          1.487014815230111,
          0.9602245738855076,
          22.9747200012207,
          65.9481658935547,
          1.2192671767820324,
          65.9481658935547,
          5.324009331789886,
          2.5450203653711556,
          0.8297454732222552,
          4.168918788408075,
          0.6477891803344599,
          0.7956693583425172,
          198.9741287231445,
          5.425003764383936,
          0.8398567423739888,
          13.215554761886617,
          192.0478515625,
          0.6284841850679368,
          1.9311884175789984,
          204.102737426758,
          35.13040591508915,
          1.763125526198707,
          3.151358740404249,
          59.904807984828906,
          189.868789672852,
          26.7972469329834,
          0.9842116895399352,
          78.2494964599609,
          209.0950164794925,
          18.07976368814707,
          2.2468582285711403,
          2.434413537126162,
          36.71639060974123,
          101.52707154410233,
          175.194793701172,
          8.366823407865704,
          16.4114074707031,
          0.18319383743635523,
          2.38616251945496,
          16.678982869438503,
          1.9095207315224865,
          0.978562474250793,
          20.636251792311683,
          6.660040186267896,
          18.420169372307626,
          213.632522583008,
          7.445810660239187,
          6.3257509838967065,
          10.561752935652356,
          3.683152182116395,
          10.749055198681216,
          1.714460719121915,
          0.9943265262253164,
          1.2156897320057314,
          5.930588807378496,
          25.49440002441405,
          7.199295202891035,
          14.794855273962028,
          1.3398767842546755,
          5.2941889660627774,
          0.7745904016175429,
          33.8997116088867,
          2.0335695712039104,
          22.2442951202393,
          189.868789672852,
          0.199879840016365,
          1.4453163020650048,
          1.2568295708569615,
          1.1593668303729687,
          1.2576693723879868,
          24.3951778411865,
          3.369113564491271,
          65.9481658935547,
          1.740982925053687,
          11.7260507088283,
          189.868789672852,
          2.579272941464471,
          9.079918568134305,
          29.12626834710442,
          4.843466498233655,
          4.209292131476104,
          2.3772210576762896,
          5.866956989925641,
          22.502222793409146,
          3.798956209215624,
          65.9481658935547,
          3.116583227519582,
          211.051315307617,
          12.5671539306641,
          22.9747200012207,
          9.339925612158636,
          9.445675109113974,
          7.098224090465051,
          0.8546872809550558,
          3.1721706108914485,
          35.7660026550293,
          22.900608062744148,
          2.8978535197675255,
          1.471170463594464,
          3.5573967907441224,
          18.320584280249676,
          6.308952140253644,
          0.6287996869676278,
          1.8900272912449307,
          12.626917153596871,
          19.124093632025225,
          17.968547344207757,
          0.5152981771171093,
          1.946166784912348,
          5.108314169645309,
          1.072031990069935,
          26.617788921275217,
          21.45081830283871,
          1.2810763409794412,
          2.505782738985123,
          25.144291709970545,
          0.6607722043991093,
          1.3011652228869794,
          21.06300163269045,
          3.68549887666915,
          18.3957176208496,
          1.3830145861574275,
          189.868789672852,
          3.2337001066529343,
          0.7605965897640203,
          2.256611219199726,
          18.0229798955758,
          1.626320439188377,
          65.9481658935547,
          29.8757553100586,
          1.434693728042421,
          16.102518081665,
          2.1710387932626816,
          4.811268392950298,
          22.900608062744148,
          2.575306261119284,
          6.38712310791016,
          24.025402925908576,
          7.402194142074332,
          21.1676331130234,
          11.89897541646604,
          7.889185581668732,
          2.756768061014695,
          5.999580348105658,
          2.977783485544754,
          16.435133854548152,
          23.7415523529053,
          33.989274850446904,
          72.89531707763675,
          78.46554946899415,
          106.8077697753907,
          3.754963745112004,
          2.704797946042934,
          65.9481658935547,
          25.7757797241211,
          1.8149956235605664,
          6.727805169423422,
          1.497028498101185,
          20.77926054997231,
          2.4502766782954586,
          14.21560192108155,
          194.2046966552735,
          189.868789672852,
          19.08033180236815,
          0.8643085011173497,
          22.868057243399708,
          3.864583593606954,
          5.030863946541808,
          0.9668476348452409,
          4.450983243994414,
          3.344360430059685,
          2.0229574166811446,
          1.0157826457163035,
          2.135546335850351,
          10.942442593367206,
          5.394276523579521,
          7.833278536796573,
          20.26861572265625,
          3.642886144704506,
          3.5057801676959532,
          2.6633862487971784,
          1.8123191821304236,
          1.1198690606997566,
          19.9037036895752,
          16.67600074724151,
          76.34752044081704,
          3.766140085334579,
          1.1771889621535174,
          65.2262420654297,
          6.7842150945216355,
          17.05327242612837,
          189.868789672852,
          0.7526771543206466,
          3.2918122932314873,
          8.915078926753335,
          5.540431166964293,
          26.9843063354492,
          44.68935267130536,
          21.4270305633545,
          4.432711436468011,
          2.9277472310829205,
          8.979971973745673,
          6.835994703722706,
          7.312407180213954,
          126.23293552796054,
          4.590628553333032,
          4.797540158760257,
          1.1949491800691983,
          5.529340365871054,
          7.620162184970375,
          3.4857988758165335,
          1.6402633434570428,
          8.986958161692765,
          9.883522383040868,
          1.1992369299762167,
          10.453054991819089,
          1.374652403357781,
          4.3597356004917875,
          79.9948806762695,
          0.6666024079213017,
          6.313166034849067,
          2.9931911892361125,
          0.7015501970336551,
          1.2484324809967717,
          3.7060867064707987,
          189.868789672852,
          1.180719709578953,
          2.2233030512854826,
          1.2754488962007866,
          0.3946820456474288,
          2.30930846001742,
          14.721301447550472,
          19.326435024539645,
          7.788577068203496,
          6.218700175854698,
          8.202101143923668,
          15.725104252497353,
          18.466375398635833,
          0.6211911890023688,
          0.9641795731289186,
          1.591892418615956,
          2.2264098550738947,
          2.008892903374277,
          11.395905622621868,
          14.103936186908973,
          13.8483057022095,
          20.50173245072367,
          12.41323602199553,
          4.858056389052291,
          10.328658670692125,
          4.018212458844912,
          11.806109994649885,
          2.5033722174139976,
          3.2647127434611325,
          3.002793002029439,
          37.8256683349609,
          4.511576468529907,
          11.321560834770773,
          3.7827774729663717,
          46.34874945733605,
          1.1253030729644442,
          13.33857107162474,
          2.4998208952163994,
          65.67307698726648,
          128.959991455078,
          189.256317138672,
          189.868789672852,
          14.925303739001494,
          15.629690547784156,
          3.7519956696033483,
          1.7677851319313054,
          1.503461825143959,
          12.195492309139627,
          5.748358113448919,
          11.806109994649885,
          14.55499112606048,
          1.3878180858926898,
          1.2308774789174401,
          15.483565688133229,
          2.4315335132286418,
          9.416650046499408,
          2.5002992568594027,
          3.5909176055874164,
          16.743593578753263,
          7.749098956017276,
          2.322884865410147,
          1.658570048724406,
          12.297524452209451,
          2.129066398500893,
          8.184782218969904,
          13.42816704511643,
          2.470529224546182,
          12.181414733614245,
          15.7124643325806,
          75.83541135787979,
          57.13807114495175,
          64.11455663045247,
          1.1182661879585494,
          62.93029785156256,
          128.959991455078,
          22.9747200012207,
          49.932825088501005,
          184.51992289225268,
          4.226167772749537,
          6.40017460589588,
          16.250893115997307,
          2.153773647834019,
          1.2831148777234678,
          2.2603399733963765,
          1.2023124474991158,
          2.38616251945496,
          65.9481658935547,
          104.76339049339296,
          4.667794880114106,
          82.6592330932617,
          5.850337719917294,
          2.4410014844033867,
          1.8054436463584655,
          9.515844526360636,
          8.193204861698726,
          1.1548806134502865,
          9.529096579743968,
          157.7362457275392,
          189.868789672852,
          189.868789672852,
          5.809907127916812,
          8.235220074653627,
          2.4453495462455654,
          2.38616251945496,
          2.3683111856994152,
          2.1843940644243434,
          3.1949053993638676,
          26.9843063354492,
          3.4267508969719396,
          3.8017072186035956,
          9.451385487017673,
          1.108653792212991,
          5.502658923467,
          6.715534562865887,
          3.5450967832615508,
          1.7644854470412492,
          61.588291168212905,
          2.1741531599702233,
          4.112109329303103,
          8.008455673853566,
          2.2096475227673853,
          4.139800076899324,
          8.61516189575195,
          28.0140800476074,
          0.7048630803823469,
          2.9034116268158,
          184.0645294189453,
          13.24450687928633,
          8.145639633387333,
          22.9747200012207,
          1.5456751251045393,
          0.7648049176416614,
          3.920070681922447,
          5.956547455986341,
          19.646875381469698,
          2.622103100642562,
          65.9481658935547,
          9.790962772080732,
          3.078973740339273,
          0.37663603588316763,
          4.800117372320249,
          3.9840546718306755,
          31.80701488256453,
          1.3211150177275068,
          0.8347272532393499,
          2.2576440547729697,
          1.423706952222558,
          7.6024284763968915,
          1.0254270288607343,
          3.812421382557262,
          1.8431862810414708,
          66.0781707763672,
          5.0507665034178855,
          2.1078819852475426,
          19.217802610623067,
          1.6843219259679199,
          0.6540694474665953,
          4.372436458865802,
          11.691442247094777,
          4.108640601858497,
          8.723930827037776,
          1.1762013344757725,
          16.5782032012939,
          2.209717128570977,
          0.31271091964535114,
          39.7519302368164,
          4.734360844473154,
          25.222070693969698,
          4.565850458839387,
          6.716690943435288,
          5.740262597799304,
          1.4184608781313308,
          11.48016460984945,
          4.450648813020616,
          7.949796018600465,
          65.9481658935547,
          3.005992121195077,
          1.00700724124908,
          22.9747200012207,
          59.315941417217246,
          1.348773317954201,
          212.42872233390813,
          1.4009284447712942,
          65.9481658935547,
          7.282396137714387,
          7.430884640216829,
          0.6503166101530411,
          2.7872286236511092,
          12.33782098459643,
          65.9481658935547,
          22.9747200012207,
          2.38616251945496,
          65.9481658935547,
          7.0422108683606695,
          3.5915335774421715,
          2.4070026131812483,
          7.279705623157408,
          2.798528971771399,
          0.7316317309935888,
          2.024288170453195,
          7.131177350878717,
          35.755543132623025,
          9.178117517630252,
          12.68044126033783,
          16.0813045501709,
          8.171653170513627,
          4.028097627855046,
          3.063719346912371,
          189.868789672852,
          11.087393448700508,
          3.8481244001277646,
          2.503118136179135,
          4.373102643423607,
          2.5221828047822163,
          1.83889825032516,
          1.0625339980442283,
          1.8429234291101093,
          3.6011807415052317,
          2.4792501252547954,
          4.0599722452838,
          1.8344750658377709,
          2.4438660541233026,
          10.58634020388126,
          4.50205499519563,
          5.698329099078676,
          22.9747200012207,
          6.894223917614338,
          9.837334107130005,
          11.034441380151389,
          0.678027153015137,
          2.5033569710640444,
          1.1755405834908763,
          4.063441557761948,
          2.390022874789467,
          3.1605522414048512,
          129.951995849609,
          38.35809707641604,
          4.375769889466618,
          9.472254913294098,
          0.42055520106874217,
          3.505658552050592,
          2.097645714677928,
          0.9528270310125945,
          2.5759968666926674,
          3.5266322857316807,
          7.9580318752038055,
          0.5683182938200123,
          1.3868810399347344,
          7.813541706403098,
          199.9375915527345,
          65.9481658935547,
          10.627520187147732,
          16.3817468711706,
          6.243962325155736,
          2.790378437290927,
          0.0900902226567268,
          18.033474640713795,
          1.008706916688067,
          14.575415864586825,
          1.770923298610216,
          1.0917815439129939,
          6.473902977657634,
          4.672707177610964,
          6.972304044498337,
          0.746594130992889,
          27.435452789068222,
          1.9543113562069379,
          1.9551853313616339,
          10.091447949409497,
          0.10396895247201127,
          1.7383451660474132,
          14.641711592674255,
          22.427966880250956,
          5.317320224429879,
          5.165196068561489,
          3.571619059794989,
          121.84433412551886,
          41.279132472144234,
          26.97323304414747,
          11.91998582366685,
          1.6387818237399736,
          2.0050895965209707,
          1.3188824232406262,
          0.659778401706468,
          2.0407752208636114,
          23.2770137786865,
          1.5072316473989344,
          9.270361175903908,
          1.2094603230125536,
          0.8159724771976471,
          1.5120456266403195,
          6.337626437346132,
          18.485850873589506,
          2.2389731502243824,
          3.545365098402613,
          3.0735854880256546,
          26.9843063354492,
          8.649852562306533,
          1.6103052385151395,
          5.038044425348443,
          1.7929504811763763,
          31.51585329583597,
          1.176780216597222,
          10.765878717745505,
          2.67877507209778,
          189.868789672852,
          0.8820023763713973,
          1.7582168948764987,
          2.736833847017698,
          11.142641159621109,
          14.68523442745208,
          11.838760614395142,
          21.60212326049805,
          41.7682018280029,
          8.889539897441859,
          58.0121574401855,
          170.028793334961,
          5.307901325641862,
          9.048555430546196,
          1.0195816607682362,
          5.828298905628912,
          10.199892031500138,
          19.9987201690674,
          10.213907986879356,
          19.9653091430664,
          0.8149029041330023,
          58.0121574401855,
          58.035549163818345,
          0.8072421022931248,
          1.5105603572992996,
          0.7290133324941362,
          1.4838953303228535,
          2.978858179666776,
          2.0061592279478573,
          1.2393258066712727,
          8.821161805287657,
          20.283779144287102,
          7.415781342126186,
          170.028793334961,
          58.0121574401855,
          13.958321754421506,
          11.650163762271422,
          4.0471734680235425,
          2.0030780220732964,
          10.247290790081026,
          5.220882269469174,
          2.3646597170404013,
          32.908203125,
          4.559451411962509,
          1.0193326633939903,
          1.624485687352718,
          29.6969985961914,
          10.269399303354719,
          7.673518149291766,
          3.4041104316711426,
          3.885924520880677,
          6.880658961939468,
          126.116012573242,
          19.9987201690674,
          22.8667736053467,
          85.32422167062762,
          2.6509544875691926,
          0.7013900191714505,
          11.8305625915527,
          8.201000776303852,
          29.4039173126221,
          3.3684320778925843,
          4.133217440642196,
          0.8794471506250343,
          2.735956565488744,
          10.320492954763479,
          19.9987201690674,
          58.0121574401855,
          3.8753885605878997,
          2.4646333064883956,
          1.771782373568337,
          2.387407615509901,
          2.38616251945496,
          0.7589458768027931,
          2.613252178939982,
          61.4389991760254,
          1.5224184880263354,
          58.0121574401855,
          6.076345016286792,
          34.81255531311035,
          2.0940754334911587,
          3.1109622877179675,
          9.976619932386614,
          0.601351737976074,
          1.0104161767226494,
          2.411213184361691,
          1.4502263384303833,
          8.774687671462697,
          8.752399616125164,
          1.9298453186009366,
          8.537396513891442,
          21.904333114624,
          11.014160231639776,
          1.3228677365751493,
          6.321463133341501,
          6.532313466072078,
          13.472982082102023,
          1.2379782461903313,
          1.1937232557684188,
          4.878499596658413,
          11.370816204186792,
          8.737509094032589,
          5.006543227604458,
          0.7597511922162462,
          2.959733349943086,
          2.3080913367179723,
          0.9285046158653496,
          5.052690706763304,
          17.494268387556055,
          13.842745959758776,
          2.1967382052995634,
          32.0539360046387,
          1.0389485003641545,
          29.6814441680908,
          1.058901652260219,
          1.474026215008714,
          170.028793334961,
          134.00927543640125,
          2.3888813629867,
          8.005263353477828,
          2.533220748688715,
          3.5861927531028193,
          10.125690447656728,
          24.483703541755673,
          170.028793334961,
          277.854553222656,
          0.5762527411878109,
          38.984371185302734,
          1.9831113567006085,
          3.408229280306005,
          2.096431975227757,
          0.5391965068757055,
          0.5278220724474106,
          19.8787250518799,
          2.077639518798083,
          5.988456606864941,
          0.9409994163945932,
          1.5024575689033173,
          1.6104515503514596,
          1.5906602183486538,
          1.7340907415593312,
          57.825023651123,
          50.5837554931641,
          2.3982097579150636,
          0.451158761978149,
          3.7477191160558148,
          58.0121574401855,
          35.460581532840095,
          47.37886790434518,
          16.68660301202304,
          1.0619555176369346,
          9.215743433276662,
          0.5948590404322359,
          63.1573168436686,
          170.028793334961,
          39.7014942169189,
          9.566364249674345,
          6.0819956569873055,
          5.806601324389055,
          0.639689675645111,
          0.637499988079071,
          2.2055167579483763,
          10.640378773212444,
          4.443205064535138,
          1.7226446684669037,
          58.0121574401855,
          0.7802530623673362,
          0.9694759026169782,
          1.4637970626354213,
          2.7440988054642363,
          5.4832458250743725,
          17.436417791992426,
          1.4742819378152485,
          1.4228156555002007,
          1.7941596258698225,
          5.822255358638533,
          16.698753839447377,
          2.4676476901633317,
          29.2819470465183,
          1.6188921265092002,
          2.63804813318694,
          26.9843063354492,
          58.0121574401855,
          0.3985680580321996,
          12.095086044735382,
          17.285792526445892,
          10.138229116797444,
          2.5018885701049305,
          4.396326060952813,
          63.4471912384033,
          1.5529911367241112,
          3.0437789758046487,
          6.0087148288885714,
          4.9264535954141095,
          3.713118120735764,
          19.9342088699341,
          24.89605355262757,
          16.935096444153217,
          25.57510004043578,
          9.335271827876566,
          28.827693116935794,
          8.47512722015381,
          10.332941055297834,
          1.8244708086154902,
          12.491571485996246,
          9.223333012490048,
          2.540963409339181,
          4.04955162320818,
          1.7826101073443001,
          1.477106207158961,
          9.231433738361714,
          11.938736624901114,
          0.9438398270669792,
          19.9987201690674,
          3.0017005049212035,
          1.7879423615145773,
          1.31648635864258,
          4.269597837906233,
          28.0140800476074,
          2.7116550393402603,
          32.4048080444336,
          2.928515156110128,
          1.4685258443156872,
          15.500322151184093,
          2.411396492006523,
          3.22459093902422,
          10.648566696378941,
          170.028793334961,
          142.763916015625,
          104.08544921875,
          1.6662027014288614,
          33.8543319702148,
          6.139306231640106,
          1.0163701472970128,
          14.647517035084388,
          2.433692356208301,
          1.2550428876860802,
          1.1206257892384506,
          2.1073278622226974,
          1.8983156226930162,
          2.1729468698463146,
          1.0972672746808243,
          0.4986196548544935,
          4.22038301859009,
          7.732514177175132,
          4.30805193185806,
          4.876181924045088,
          4.120673172175882,
          0.6735055157244663,
          2.25657324595698,
          18.876215304097823,
          4.545225561383259,
          58.0121574401855,
          5.818887102837657,
          0.2879776913749602,
          11.14468681812284,
          10.729348096996555,
          4.009280710220334,
          26.9843063354492,
          4.747748424286681,
          4.339160157574546,
          29.4426136016846,
          34.3032627105713,
          0.8247881071062899,
          1.34406228736043,
          0.637499988079071,
          8.056546632252946,
          185.60708109537768,
          20.3786067962646,
          0.8802251933925022,
          2.272905391791175,
          1.517495005890943,
          2.0548811545877737,
          2.61321161503409,
          42.31622521693893,
          1.3224146007737017,
          1.065752334200439,
          5.618491977453236,
          3.5637973703635057,
          8.39401068295303,
          1.5620659822050253,
          3.9729020194150513,
          4.683405876159666,
          12.93843413688041,
          1.657028575423616,
          22.6911239624023,
          2.360499257462866,
          1.8583115124660226,
          29.4385375976563,
          32.88527061939239,
          2.353071290177185,
          11.0548907995224,
          7.763062447309507,
          11.720290884375574,
          10.614763997495174,
          0.21832589308420833,
          7.20712268352508,
          26.9843063354492,
          6.052347950313405,
          0.9976960492276009,
          8.65139455673022,
          28.6993541717529,
          0.9010615086575082,
          0.6287899829271271,
          58.0121574401855,
          0.750168740749359,
          8.130326320857101,
          3.117965436918395,
          3.133544838209765,
          3.698048272753149,
          58.0121574401855,
          2.858509026836236,
          1.9331952973869109,
          3.2539491670311613,
          20.43029403686524,
          6.799738813191649,
          0.75,
          124.9679985046385,
          2.462262249294113,
          22.387311257421953,
          1.5206535276843285,
          22.627499262491867,
          20.8941593170166,
          3.480715304493329,
          1.557329094780873,
          19.9987201690674,
          4.2746743086415036,
          20.81292164325716,
          1.7219204773533747,
          3.1575102894394442,
          0.5814546645299272,
          3.3658370043962242,
          12.185038551688189,
          0.9108666622277203,
          0.5243815760783574,
          5.967008112714837,
          58.0121574401855,
          5.885532420128582,
          1.5387027012184262,
          5.03025245666504,
          0.5121119369014439,
          1.238623305623022,
          10.677277001467615,
          3.4693488747608376,
          0.8257243801849052,
          47.9093208312988,
          4.0666290009865325,
          2.251554684340954,
          1.2068676023595097,
          1.261794141654311,
          1.573106331154704,
          5.412457799682252,
          20.1059799194336,
          2.7823129294489166,
          1.7921642463352583,
          2.950145107527663,
          3.7415833111320222,
          6.348000784357421,
          0.6274818597940381,
          5.695239260792731,
          2.576000120105414,
          6.427290156682332,
          36.20677185058593,
          3.076993885005049,
          0.9356836329691638,
          30.5517272949219,
          3.0114490279444945,
          52.6057239572207,
          46.61071014404293,
          1.844765083407907,
          1.3743596430155265,
          19.9987201690674,
          10.408752262592305,
          2.8616970136761664,
          20.17898127862384,
          172.68598937988298,
          16.91886523365974,
          7.790804683112279,
          0.9278742173673036,
          4.30722951889038,
          3.7146309378601265,
          26.9843063354492,
          4.287873171269893,
          0.9209170354098627,
          1.5212233309944478,
          4.363624841433304,
          1.7993464505217633,
          5.638871915878788,
          58.0121574401855,
          25.925953015685096,
          2.08458009518626,
          1.1278963090480865,
          3.5554099552559126,
          10.398534224053062,
          58.0121574401855,
          4.34071922302246,
          8.792871476065189,
          7.737679120136488,
          4.430455013607326,
          1.2088632444212652,
          10.398238840591475,
          2.5754114122473615,
          2.0342263094157236,
          1.7083964632964082,
          0.7373236246639862,
          8.477477624018986,
          26.8867282867432,
          13.943455040454856,
          2.4666166448681226,
          4.022294100439339,
          6.4516001248359665,
          13.287659321440026,
          6.427658718459455,
          5.495337623357771,
          17.321547918849515,
          6.186714198854236,
          2.0313755815029144,
          203.323547363281,
          0.8257319268083919,
          59.08187179565429,
          19.9987201690674,
          1.7813601613978884,
          11.539824952884608,
          1.3397407467300837,
          0.288787513971329,
          1.865097435730334,
          4.08708918206783,
          216.8432006835935,
          13.17677658254449,
          20.78266525268555,
          0.9497039578793761,
          26.9843063354492,
          2.6071621723739162,
          57.825023651123,
          1.02954378829427,
          4.907090858979656,
          29.277016222476934,
          55.5378379821777,
          2.74895459972322,
          4.660995022462519,
          8.66741740703583,
          2.3425390211974872,
          1.3953216029887539,
          3.47884589194614,
          1.5602204288755148,
          0.5120743569142012,
          0.9234193263869546,
          7.99708890914917,
          1.373003000329281,
          6.263095350641953,
          18.435964651405804,
          2.3416819615023448,
          26.87382727537969,
          1.8017625036786804,
          2.127446218580008,
          11.28819991648198,
          4.251413604487548,
          10.077309330304457,
          13.151120993069243,
          2.308987420647083,
          3.37800261582746,
          3.2277320505238825,
          7.6453489680360605,
          58.0121574401855,
          2.4513988908794193,
          32.643985748291,
          2.187893841089979,
          0.09404635131359103,
          8.746493895848587,
          8.180202406396052,
          2.2045633165115444,
          22.228659550348922,
          4.22843790054321,
          58.0121574401855,
          58.0121574401855,
          162.597297668457,
          1.5975105422735223,
          1.7788165918711958,
          7.724176712136909,
          2.40509899279246,
          4.157462861802845,
          3.161075989225725,
          2.0806964521628046,
          1.5249132949838538,
          2.5378517400134695,
          18.14400710662206,
          1.436580290033968,
          31.76912751197816,
          5.106683093161411,
          20.9615821838379,
          8.219810477324895,
          3.551222842931747,
          7.162119925022122,
          24.006400108337402,
          60.2496566772461,
          0.8222507011414197,
          3.10052888144731,
          1.2582773189742127,
          3.8748233111733885,
          3.1896437236720376,
          4.568426625954496,
          1.615549416211299,
          34.2775535583496,
          4.6387520553889106,
          8.738299876451498,
          6.354113294604079,
          0.679825067520142,
          5.374132711887358,
          18.694425195455537,
          7.6298284885066305,
          4.554615450107444,
          1.3042123661690894,
          1.1883514199938097,
          0.9854403801821771,
          26.9843063354492,
          2.192143251037141,
          26.9843063354492,
          13.120051708087386,
          1.783616841675676,
          8.204069805450924,
          0.586974918842316,
          4.12344328257091,
          8.0297255091748,
          10.69678509235383,
          19.9987201690674,
          3.770304150359576,
          58.0121574401855,
          3.4184983041551424,
          3.6064476228393265,
          0.8235049761913636,
          2.62799056198286,
          1.7930861054321325,
          9.261079336537257,
          15.005505181721285,
          36.9315376281738,
          5.249425159050868,
          19.3455543518066,
          1.3755363118252721,
          11.903965155283617,
          3.1483841128647314,
          2.373488529622555,
          1.259474160433009,
          0.879332512985126,
          12.163236618042,
          58.0121574401855,
          3.7078668271099127,
          8.470089933524525,
          0.6739892669812877,
          5.653735739097261,
          58.0121574401855,
          19.9342088699341,
          59.7022972106934,
          1.20299994945526,
          9.09411253035068,
          2.86875009536743,
          2.2595637149431487,
          1.0845960236058152,
          3.193199141225854,
          0.7490276573458687,
          6.539809914735643,
          0.7685022599975935,
          26.076685011386893,
          3.5705004401624962,
          2.835507990302224,
          7.539172072564405,
          1.8226087885079802,
          170.028793334961,
          2.743434793626269,
          56.0302429199219,
          2.38616251945496,
          71.8611297607422,
          0.8584569308275727,
          19.9987201690674,
          210.006393432617,
          5.904252077598832,
          4.363871582905087,
          3.4713227407819085,
          13.806554223809922,
          21.667672826786234,
          30.36243700981138,
          30.0436630249023,
          5.985546598831816,
          7.139029271380843,
          5.010546196038596,
          2.262944556176663,
          4.770149992604275,
          0.37307587432947875,
          35.2124633789063,
          21.562464147806164,
          17.400627817426404,
          24.5985912322998,
          9.347908645135464,
          10.93477652958445,
          8.301318280315757,
          0.8419379248998314,
          5.3434959309441705,
          3.1194536250701046,
          2.0059858553331225,
          6.181658308143199,
          1.9320189701393247,
          4.982260457150741,
          0.929088668388511,
          1.7535618317373585,
          0.9271823548857712,
          57.825023651123,
          79.9948806762695,
          0.45973288019498204,
          0.924971133500101,
          4.772217483392784,
          0.553689777851105,
          4.670145204024656,
          73.3153247833252,
          0.781752019679842,
          3.278273614026358,
          2.019161313681341,
          7.1214390839849315,
          9.229061504205056,
          2.9406570110689194,
          3.6203778213164846,
          14.845198929309841,
          8.627214017121688,
          1.787490298971533,
          12.541526687145229,
          14.007011456923058,
          7.038870429992675,
          19.429033279418952,
          14.282997393608095,
          2.801799331614048,
          1.1291008878835156,
          10.239405032466431,
          3.5152247226486604,
          3.50020575523376,
          2.2558879054489394,
          19.479946136474602,
          1.8425193295957967,
          2.189284456402741,
          11.216726569242267,
          24.976901054382353,
          1.748294044012405,
          0.6696925160000625,
          11.136749272996731,
          12.675512623041852,
          1.7031602909797487,
          3.175368961962786,
          12.62062155116688,
          3.2482115110205534,
          58.0121574401855,
          4.112049217407522,
          2.2553529606014493,
          4.076582518608672,
          4.250678063763516,
          2.8338908728550782,
          28.4611644744873,
          1.6358525010853489,
          4.723189644448392,
          0.9244374497121524,
          8.41889062661391,
          58.0121574401855,
          2.214011388172099,
          3.2055666564423353,
          1.9127095184783403,
          20.478907856222698,
          19.9987201690674,
          192.368850708008,
          3.8402836811347107,
          65.83914453784625,
          1.1962334020063286,
          3.266040582548487,
          6.3829576060539335,
          2.3229820928040987,
          3.276112880235836,
          8.964782981092439,
          41.1374130249023,
          53.18723297119143,
          32.974460601806655,
          46.44587971613957,
          3.704034868747955,
          158.945526123047,
          1.6235932537487567,
          1.5837927771354816,
          26.985636402008186,
          2.8597000898683764,
          2.4218972939997916,
          3.392295645815984,
          3.0723512008786207,
          41.3185157775879,
          8.620739247879591,
          3.777470121344368,
          1.7944926119353657,
          1.822130175476724,
          15.2716035842896,
          2.167053144520674,
          11.5310095981159,
          24.6258296966553,
          1.7992330250885564,
          32.1871147155762,
          17.1803809261322,
          1.41095085819356,
          1.59658660824694,
          9.882534336643063,
          2.6926870498976667,
          26.174398720264428,
          0.17299467752063125,
          0.637499988079071,
          0.9178260670411064,
          73.9931259155273,
          11.98716875116031,
          8.585865932352394,
          19.296642667368825,
          44.5717964172363,
          21.6213779449463,
          57.67237319946288,
          7.7028661641207625,
          47.8724822998047,
          43.2128944396973,
          6.939845377599801,
          0.9763840191745721,
          0.596062481403351,
          1.7321871558508586,
          5.573872857206448,
          20.095761954784383,
          3.364431239226281,
          34.2291145324707,
          1.0057878357071723,
          3.3991388859373792,
          2.5570818854344854,
          2.8555376291275016,
          89.02223920822149,
          11.190829846025249,
          22.2095256149769,
          28.8152046203613,
          4.422523501625127,
          4.005417624115944,
          0.9773661984512827,
          9.09349346160889,
          1.8612529787365024,
          1.423701869200389,
          170.028793334961,
          16.776536547220687,
          58.0121574401855,
          4.77540777231517,
          0.20408599375442893,
          46.2772636413574,
          1.904967785423212,
          19.9987201690674,
          57.825023651123,
          37.5796775817871,
          1.589041472383058,
          8.265208095312111,
          0.7651296086120289,
          2.546627649351173,
          0.122400000691414,
          1.9253162273764604,
          28.74718952178955,
          2.401027767403613,
          5.259968616328874,
          6.159713833672659,
          3.555890219357454,
          4.047051448947035,
          4.114172708243131,
          4.425004054133485,
          3.7187639371156185,
          2.853303656876088,
          68.78092956542964,
          0.8403383603927198,
          6.389778529915563,
          81.95454025268555,
          46.84693654378257,
          23.868674715359983,
          0.8687623876069369,
          3.4820393705597286,
          5.690840346633262,
          1.971016203899247,
          168.07735443115251,
          1.119297089344123,
          61.889734268188505,
          8.201699362860777,
          1.2413327662844433,
          20.761107861995697,
          3.6565599680014027,
          1.6474317253358624,
          75.3027191162109,
          0.9213555067918211,
          2.6753900446170986,
          3.1046825164302256,
          3.4244604318125837,
          3.7859523620954745,
          6.212764382362367,
          128.959991455078,
          27.98821934555354,
          40.80961036682127,
          9.25481462478638,
          14.1781702041626,
          39.22356406847633,
          57.825023651123,
          10.92831510305404,
          4.719500453677028,
          2.4757552074316216,
          4.0204981307188685,
          13.437986277634245,
          3.6511749348857174,
          12.082403082400559,
          24.3708343505859,
          4.371594712138178,
          1.3019037333933043,
          5.335957205295562,
          4.626349061727523,
          3.751465125430015,
          1.560506536026394,
          12.193208722507256,
          63.98380327224733,
          6.278345409900911,
          2.485661576438184,
          3.615559205075298,
          3.5060536728964906,
          4.7641967783371575,
          1.5564026800649513,
          13.6501559416453,
          50.3686065673828,
          22.9763565063477,
          84.0638809204102,
          3.1007369735080346,
          2.7000506586498707,
          5.274607216482199,
          0.8768892041734748,
          0.5635177904918586,
          1.09939202536949,
          0.869156770095748,
          2.6789738454867362,
          2.277721287501709,
          1.45037871857421,
          58.0121574401855,
          32.27781323024203,
          6.155754065790842,
          0.9480195567490666,
          12.082306587606444,
          5.008642822414547,
          128.959991455078,
          27.148330918858566,
          1.9555199199252657,
          1.1366163371981346,
          2.1742369716026424,
          3.651210227073768,
          2.8543502747800424,
          10.3477401733398,
          36.7612380981445,
          4.172708238874162,
          1.3716038955109457,
          12.586240937997552,
          58.0121574401855,
          5.62465075403452,
          4.354904484266403,
          194.984558105469,
          7.624398192455029,
          2.262079293905055,
          44.9742374420166,
          12.154004806478609,
          2.827420053419782,
          69.725456237793,
          14.54976212978363,
          6.610120505023964,
          2.031059468705808,
          1.7108331967373296,
          9.718427002429955,
          3.0816520013899167,
          9.277772935231527,
          7.459594820821008,
          16.736678656409772,
          48.44141173362735,
          6.0783343762159365,
          17.320613690830296,
          8.600872788578267,
          2.022801675047111,
          35.9990081787109,
          17.093395899843287,
          3.12951826254527,
          4.552112286486248,
          2.1928514083745054,
          33.6192603111267,
          3.388466244900083,
          2.0661897321508533,
          1.6064719904827174,
          1.8463829921330415,
          24.006400108337402,
          0.7647003251805224,
          3.6509134285151954,
          0.7596796633002638,
          11.19244134426118,
          1.644576752315398,
          19.04439658385056,
          17.789982312764884,
          43.439789533615105,
          1.6223127965710902,
          3.98777585520464,
          19.9987201690674,
          16.54469352807755,
          3.057508929779654,
          19.9987201690674,
          190.017593383789,
          2.040967806905722,
          6.90793988928593,
          29.1461009979248,
          58.0121574401855,
          13.101667449958073,
          58.0121574401855,
          0.6837164033120791,
          123.53020095825201,
          2.685799998247017,
          20.92816082636514,
          2.908385552191761,
          1.9706245221874936,
          2.7382881981461793,
          6.724346170822785,
          1.2415838176594642,
          2.0131444303559607,
          3.7541728150553806,
          15.14758369922639,
          2.468823633858286,
          3.934906727737853,
          0.5717339035560632,
          59.55100250244143,
          132.166366577148,
          15.118019286497153,
          3.2718541784736415,
          13.45536460047183,
          1.283849665114807,
          9.853060881296797,
          9.667089073946995,
          46.18425500392911,
          9.580426832263388,
          6.792556777380518,
          19.9987201690674,
          12.161768516579123,
          0.7408505403771879,
          11.891119925064205,
          1.6209265424626185,
          0.8160277693049359,
          0.8477810762124133,
          3.090027985699249,
          10.724178075790407,
          2.63268113136292,
          10.71956724532375,
          128.959991455078,
          11.666277714511935,
          11.490960547966608,
          1.5070235103368754,
          6.0413578144638,
          0.623534798622131,
          1.5854917157496982,
          6.5701442709783215,
          169.4803161621095,
          3.8595452435278665,
          18.566160801918258,
          65.01135200262064,
          5.874131843718614,
          36.97893152236941,
          21.5392742156982,
          5.248260272228264,
          0.8686123725238047,
          14.377618809541088,
          1.4526784948899705,
          20.141508102417,
          6.178779987494149,
          0.5243622194474336,
          2.38616251945496,
          1.7268496202097998,
          0.8137233324594932,
          11.828649520874,
          8.703117296099661,
          4.605024082949207,
          2.1247523423144172,
          3.9180990128490563,
          3.5414584780496265,
          25.6777400970459,
          2.467086060666265,
          2.2866432142257698,
          66.3216705322266,
          1.0160827101777776,
          6.749251211612998,
          5.777921759656497,
          0.637499988079071,
          7.019118670353107,
          21.2276649475098,
          2.4052263321103307,
          2.5656656588499396,
          19.9987201690674,
          2.8288088769795707,
          12.434127278625962,
          8.399325728854713,
          5.977519435041092,
          1.217254358861182,
          9.835336822729847,
          0.6673895020730198,
          10.318110078573236,
          9.584603436220286,
          21.15918827056885,
          7.4880924428764235,
          57.69300206502277,
          6.6301096673348585,
          5.686978076895078,
          2.934136867523195,
          15.730025690001789,
          5.317446395691939,
          6.394366207355712,
          1.2021949444756361,
          1.2813806447808687,
          4.420879597676562,
          1.1645372499013313,
          0.5546374836252358,
          33.1075820922852,
          2.384242782495844,
          18.26976187154651,
          1.1798878058236628,
          7.8600530545878176,
          1.4974682955247045,
          15.3068370819092,
          4.869746985090017,
          1.8934916042619274,
          3.9889320118559732,
          8.751448720693586,
          13.797237385015977,
          93.48607444763175,
          3.3275050740975605,
          3.6393241868132638,
          3.223196698352694,
          0.7539789199696056,
          3.0113910344739767,
          4.516363640626269,
          14.334282481696468,
          0.5780214776793049,
          2.7962676516582823,
          2.38616251945496,
          86.11886537075046,
          1.7624547270437094,
          14.289295186961668,
          12.915566444397,
          2.38616251945496,
          23.616017341613798,
          4.851441326348681,
          2.096133525961836,
          22.04623413085935,
          14.3508186340332,
          7.542223381144656,
          0.9740866649046086,
          2.22698330879211,
          0.9851531240362394,
          19.9987201690674,
          16.854197061061864,
          62.25680096944169,
          2.6472932621836662,
          4.74186706750892,
          3.1968591498291974,
          6.238073547191807,
          8.770688124001015,
          2.4373679103571404,
          2.1261095228520315,
          26.48764831489987,
          2.522728520571885,
          13.015470342976693,
          5.06240128042997,
          2.316247775793076,
          14.40696102380751,
          7.619982486421411,
          1.3495143085358496,
          0.7665624464296905,
          3.9837939066105865,
          12.191846758127232,
          9.110227862993879,
          19.9987201690674,
          1.4901671122080387,
          0.5441532437943182,
          25.69271474135547,
          2.999730736930431,
          4.299967149630762,
          15.448267099854998,
          54.7443542480469,
          1.3337553923620893,
          1.7756824289696136,
          1.9863692761591354,
          6.270826779108132,
          0.9585666553408065,
          11.7388324737549,
          2.772223927601493,
          8.777766965902776,
          9.588791241712652,
          3.404708113698734,
          0.470999985933304,
          1.2433864097971385,
          2.0417125377247483,
          1.240873240116165,
          1.4073453123370807,
          7.088696804539911,
          1.6433022910346144,
          0.6928763384397708,
          5.639411005657166,
          1.1721746579522179,
          1.3520678098385168,
          23.697210416197755,
          3.771391307261396,
          3.663181871035849,
          4.476177226929437,
          1.9540915773301337,
          1.2022633114154786,
          0.6777153053489444,
          57.825023651123,
          58.0121574401855,
          5.010112212101617,
          3.5461605424497358,
          23.9187145233154,
          44.21309661865234,
          10.841051556169997,
          3.966862261406522,
          36.0909309387207,
          17.42641736070314,
          2.38616251945496,
          2.392719391313117,
          1.2673500798220225,
          27.8778381347656,
          58.0121574401855,
          12.865196645259882,
          58.0121574401855,
          5.31658331213928,
          27.04277671234946,
          0.49177213074961823,
          5.496109222608896,
          20.0448966026306,
          29.47899833321569,
          8.23011621060195,
          2.38616251945496,
          0.9864589828355559,
          0.8165020252282391,
          8.390817119525028,
          3.173554417500102,
          0.6572625041008,
          4.968807374599372,
          13.8808670043945,
          2.9386298540234552,
          11.114821539754466,
          3.146951874861351,
          2.82956165767485,
          58.0121574401855,
          8.16072666247685,
          41.246538409480365,
          1.197422597053889,
          2.1850640291223042,
          12.199868246912933,
          0.892412006855011,
          13.999147935166501,
          5.927312027949551,
          15.770593598309691,
          4.647672192255656,
          11.1913270950317,
          19.583506584167502,
          29.11546588480472,
          131.2188873291015,
          58.0121574401855,
          15.80393397808075,
          4.049593817847115,
          4.402168101925873,
          2.918883998852883,
          170.028793334961,
          6.913652020393771,
          10.018989579035683,
          0.318749994039536,
          29.134314472025093,
          17.373667074574374,
          6.477537196091929,
          10.563338716824843,
          0.8170706211372161,
          58.0121574401855,
          1.5993598334455932,
          11.2208843231201,
          9.010985507054267,
          4.650461272469592,
          58.0121574401855,
          4.319576293915167,
          4.239168728099153,
          1.302910429821617,
          3.246458178909465,
          2.416756926939407,
          1.9626430653863485,
          58.0121574401855,
          1.6218878369353982,
          1.7014376350811546,
          1.9102263354716151,
          8.84740737723369,
          0.8946176732454119,
          4.659503561109561,
          21.128303527832,
          61.16457411646838,
          2.1232083978561254,
          5.410424853675067,
          24.330899744122107,
          56.74657440185543,
          2.615582789888373,
          0.689992967140624,
          7.891457062214614,
          4.606473938458497,
          19.9987201690674,
          19.9987201690674,
          16.68624059359233,
          1.3633864660309092,
          3.122292837723208,
          168.4462331136066,
          7.419350431515621,
          8.859213040425232,
          34.59439145028591,
          21.8502082824707,
          6.106293775322965,
          1.261080155089498,
          0.208562582731247,
          1.9090676557602153,
          2.79085469245911,
          27.8985023498535,
          3.9405902616679667,
          20.694210301274847,
          1.2952454420801716,
          4.4752938617830695,
          17.18078038427565,
          12.878345125360989,
          37.9348411560059,
          1.4814452388488193,
          2.172565493636465,
          41.63513748986369,
          3.630669458027192,
          44.31414470590396,
          33.0302810668945,
          1.0725490356310763,
          0.8630841639711325,
          1.8399620850522744,
          9.126166288453836,
          12.619553971290586,
          16.50354941991658,
          8.56313230594,
          47.951488494873,
          16.21199058392198,
          1.7544823884964003,
          1.6362443044652335,
          6.383124850086264,
          19.9987201690674,
          46.61071014404293,
          5.53828017661969,
          15.028652790614549,
          5.881604484889819,
          51.2292556762695,
          10.038126146793354,
          34.23017185926428,
          6.51236815651258,
          1.4567569591358502,
          2.076196449463657,
          1.8761811481928017,
          18.925888061523448,
          3.9327616280033504,
          2.0548694782843038,
          1.2153883772372303,
          1.6220042595072146,
          1.4330732064288965,
          7.554451047841988,
          58.0121574401855,
          88.34142875671375,
          10.591448278196403,
          2.036434942479795,
          7.305577176263135,
          6.418628302605257,
          0.36773688971838886,
          1.5902877553351644,
          1.22987276409071,
          1.0855428954861672,
          4.673437970876699,
          8.39621943235397,
          2.311129888319053,
          4.032163855433465,
          0.585424542427063,
          7.774993162129967,
          19.369683086872122,
          2.38616251945496,
          4.834110844702949,
          9.733066309582105,
          12.534043219645286,
          30.8208179473877,
          2.1667279442674237,
          2.171502615454831,
          4.4914110840535635,
          10.560701838006148,
          2.489601896987076,
          10.37452882528306,
          0.7565226992474329,
          20.204888648456954,
          30.3568897247314,
          56.19945430755615,
          1.1245410933648015,
          0.7847387882837544,
          6.463297165357148,
          3.4619742159388567,
          18.404796600341786,
          73.1464614868164,
          37.1603698730469,
          39.94649548828602,
          3.5107475999432296,
          37.9348411560059,
          6.895934772491451,
          6.22010278701782,
          38.46075026194266,
          1.5107092475979629,
          210.006393432617,
          2.6277569860984107,
          42.0206313431263,
          1.369405029057965,
          1.97790431976318,
          8.316821207099242,
          4.857405149570391,
          10.065576052979415,
          1.1895339058047574,
          19.099896080423104,
          3.510468957854101,
          0.9193964696238786,
          1.863543657181056,
          129.951995849609,
          9.92280630270641,
          10.556650514403978,
          1.7627302641522127,
          24.3561191558838,
          1.4577180104828924,
          11.4722127914429,
          0.3322365894559001,
          0.5634055859565216,
          5.3080669095118855,
          129.951995849609,
          9.711320562460989,
          3.529259702689212,
          1.8764812426759714,
          4.210008066099887,
          128.959991455078,
          15.2319679260254,
          1.905426003890378,
          3.6438080373211443,
          1.9633622683641565,
          14.3668284416199,
          4.316227357387543,
          1.6901626770188207,
          3.9672335088253017,
          1.1877069268808802,
          1.0930551341449168,
          79.9948806762695,
          15.807515220208607,
          1.40313744544983,
          2.5120565431082964,
          1.3866945295919517,
          3.7745442014526223,
          0.992767691612244,
          5.3119930710111385,
          20.489034876227375,
          46.41187185049057,
          15.248735049675231,
          0.197314500808716,
          3.7517233277391386,
          3.5983240495125455,
          0.6347789389705192,
          28.0140800476074,
          12.54028701782225,
          2.289802155575969,
          4.084128769066023,
          8.446788981556903,
          4.792231950759892,
          1.4016140002556368,
          16.252638438852813,
          7.1122907008041665,
          13.030903518199935,
          7.250213843324912,
          1.7745389344819469,
          22.595941543579123,
          2.08781242370605,
          12.5144128799438,
          42.01907920837405,
          2.2043885389963758,
          7.359196935506425,
          3.193644002931458,
          2.940443062782292,
          7.710059483383972,
          42.9511528015137,
          6.085691267669909,
          9.862084390719733,
          13.210035281612504,
          0.056253011205366674,
          12.255955183813366,
          1.52859401702881,
          14.4818696975708,
          35.924663901329026,
          2.4092646571430016,
          3.31936144828796,
          13.9635047912598,
          26.2662391662598,
          1.4211792812815724,
          3.675075328407379,
          4.576535622456246,
          1.8240537082865136,
          1.1908995223970242,
          0.9560783742105261,
          42.2612495422363,
          16.5331649780273,
          21.2351894378662,
          6.182818876845496,
          30.3743724822998,
          11.61773926019669,
          7.953380084545408,
          6.631462700403568,
          2.8366042190584646,
          3.597280196845535,
          1.2169644787310514,
          1.3126477677975936,
          1.7960605032222225,
          21.08896244106006,
          18.3268241882324,
          2.3383177518138387,
          1.457360256155697,
          8.734450626373283,
          0.7390465227996599,
          5.445434831449436,
          3.912251945894532,
          0.2736855497478009,
          12.5144128799438,
          28.62189137935638,
          25.8409309387207,
          0.8502385333977697,
          1.2845470293232526,
          2.8869889667539903,
          3.081978506098191,
          2.437030776287801,
          0.7384135741420697,
          2.036176388905598,
          1.948213992459756,
          2.261998570587449,
          3.8489882507494526,
          0.9137538361523684,
          21.887982130050684,
          7.814002730780176,
          5.207577346012121,
          3.985631480813025,
          25.373940865198776,
          0.5731947392259678,
          6.828725218772865,
          7.547419687940009,
          7.29108400146167,
          0.9176806793264517,
          37.9348411560059,
          1.0953189590826182,
          10.963960021734216,
          3.173080672820412,
          3.9595904029332676,
          0.8398980218728354,
          14.717267670414662,
          128.959991455078,
          1.3600102254331499,
          0.8776333771205596,
          13.594083044839932,
          0.9137717509242494,
          4.111142151885563,
          0.9577712042619713,
          1.3671997982279545,
          129.951995849609,
          6.65328884124756,
          0.45552801918760644,
          0.9792207885261596,
          28.738175898790377,
          1.140096199880374,
          21.087842559814458,
          6.851143736927043,
          20.9092082977295,
          37.9348411560059,
          3.98083271719005,
          1.7518360701967675,
          4.891419700213837,
          33.06614685058595,
          6.907490689214779,
          1.3445227777540887,
          3.8850011049199336,
          3.439891582390048,
          1.3856771261646197,
          3.2412659483849455,
          2.0302643758951,
          3.371377145743133,
          3.1248779247204475,
          138.85219303766883,
          2.5126305295947637,
          5.407923204008731,
          129.951995849609,
          2.8132311229048086,
          2.119688272252119,
          5.676151048569451,
          1.9324365772162884,
          1.333411083106071,
          4.317139718792227,
          1.3993956904971245,
          17.496161020719093,
          9.154513871504205,
          6.940723879403804,
          12.47404384613035,
          3.0054407295855623,
          6.08646383329674,
          20.92718410491945,
          1.29760432596772,
          1.1837913957360675,
          6.313705179501667,
          3.0702594150888163,
          1.4052530400948242,
          4.968958614437204,
          12.5144128799438,
          4.926543298568435,
          1.1120343816324771,
          6.350494743039365,
          5.382757607344035,
          1.1385749578476,
          3.49624459279745,
          3.216003536403953,
          4.0766143026899115,
          24.371920247872684,
          1.2322833259578472,
          0.0553216114640236,
          1.9413225098167832,
          13.3522911071777,
          1.668516988781365,
          1.5058543373787305,
          1.2784984211364283,
          7.033706580867637,
          13.189058008498716,
          2.0660382021557173,
          0.1618253514170646,
          10.050004221498966,
          37.9348411560059,
          7.166206926107398,
          2.4610150370158634,
          37.154810667037985,
          3.991351086285806,
          2.4736137227578574,
          3.784967617157263,
          9.248300300194668,
          144.682052612305,
          6.852810303189543,
          10.384841290370149,
          1.5425649833034818,
          5.307807832956316,
          2.4371156238019465,
          77.153694152832,
          1.2814352926129695,
          2.352482050860999,
          65.26649051904681,
          0.6798320290363713,
          3.1260696144636015,
          37.9348411560059,
          1.4975981021799676,
          21.7089195251465,
          23.1675319671631,
          0.9733871562140328,
          5.168614025626865,
          1.0808927524974787,
          140.291549682617,
          6.026948465079798,
          75.87916234632333,
          24.619429379701593,
          0.6265217661857605,
          5.672025698819198,
          2.395410964655321,
          3.357577141599367,
          4.230394999260334,
          2.655714049935341,
          7.703044044932254,
          0.6506691943717807,
          1.840923171635572,
          3.9759894457053058,
          4.60397217299912,
          34.2039222717285,
          5.575376102328294,
          5.504617482233823,
          1.81270879507065,
          0.714284774241792,
          0.9662416959933425,
          37.9348411560059,
          2.7969708780447635,
          95.4715881347656,
          2.832278821084469,
          10.799102499567216,
          7.97960667996793,
          0.7860290071018691,
          5.514693740495417,
          12.5144128799438,
          3.2540116739544,
          7.273405311685621,
          2.049130079680925,
          48.1916694641113,
          1.2245539848227054,
          3.4071510452212714,
          1.1329730499687618,
          22.186032953716456,
          1.9358057027654012,
          12.5144128799438,
          11.470572648850156,
          1.8647881052205673,
          3.0411133247613913,
          9.424396503803344,
          4.41910406583693,
          1.1393705733287869,
          1.749062577899742,
          17.698870986700026,
          1.6375611750192414,
          2.4553059521648617,
          4.7981499527328975,
          2.2930421575352,
          1.2941994496955063,
          29.43652087763736,
          18.359030000865477,
          2.0334938820018325,
          43.47011915445316,
          8.377248356739665,
          12.5144128799438,
          5.4328816930453,
          1.8976662125946446,
          1.907095722132182,
          10.267392650465755,
          42.763971358537674,
          2.218530123782718,
          6.69797049789894,
          52.74618023633957,
          2.360297530889511,
          4.847226862928697,
          18.422271236777306,
          2.08781242370605,
          5.877884872754418,
          1.6768652046168286,
          1.9103224476196383,
          129.951995849609,
          1.4482620833310436,
          4.788990085471099,
          0.220575004816055,
          12.5144128799438,
          1.6200358862031816,
          7.549799921544823,
          2.0973750307623824,
          3.469754662405759,
          2.656352393058213,
          5.9644742038514895,
          1.5676679738516943,
          22.3474636077881,
          5.626942015077483,
          1.4733821199979715,
          24.8863639831543,
          21.269147350237866,
          5.2068052989942535,
          37.9348411560059,
          3.8180193041500297,
          29.3043745676676,
          2.2127361187062466,
          1.4899420220635635,
          2.4007451100782906,
          13.89258908087971,
          6.6811963075347105,
          6.95448185503485,
          7.580782527508943,
          3.251276320760901,
          0.8577975204757025,
          13.987168149989946,
          11.627470629472354,
          3.9328145682811724,
          2.38616251945496,
          35.672283083200476,
          3.163544735459031,
          26.509691903465672,
          1.1057822385406233,
          0.157684981822968,
          21.2276649475098,
          129.951995849609,
          3.0171779115830577,
          0.46341524988477406,
          4.487586285386768,
          0.166606143116951,
          1.2678509144769856,
          129.951995849609,
          0.5064326313371631,
          3.9239824898540956,
          3.780566550813047,
          0.6575320438835127,
          6.528869688060613,
          4.292043072523065,
          5.812264886167318,
          1.5314859118070165,
          4.278688516840341,
          0.9558186063853402,
          4.394061494756629,
          0.539575934410095,
          49.72100400924685,
          219.54616800943998,
          27.78621295690537,
          6.95148419124493,
          1.8316735882566926,
          0.9767442641045274,
          3.611094492061116,
          0.9646931350881978,
          1.662642752361852,
          1.300424814224245,
          3.6205843488375344,
          4.980403557632046,
          3.984254426956178,
          2.513924195431176,
          6.996444806696909,
          2.0817904141617976,
          21.1431980133057,
          21.788961606065048,
          5.850771857882445,
          0.9073307999563447,
          129.951995849609,
          215.37066650390602,
          4.902550492684045,
          81.59784301122026,
          2.1906454178734096,
          65.98249793052655,
          6.220717869900368,
          2.825336207188282,
          1.9755291398674155,
          7.4116504891165365,
          4.368968051265586,
          43.2336324453355,
          12.5144128799438,
          29.18288230896,
          2.9792831912636744,
          2.883018690300366,
          1.35277497768402,
          18.0886306762695,
          6.038676595936213,
          9.67865471593266,
          2.9877980306413434,
          3.274377081129285,
          18.7100791931152,
          1.165349400371757,
          2.0938943402619112,
          2.971651928654562,
          1.170372968696204,
          37.9348411560059,
          3.031649410724637,
          2.4011567173860007,
          5.467013385560778,
          1.487418514194218,
          3.6222316490279307,
          1.2465801268505539,
          34.53288050339776,
          22.033200263977072,
          2.477896881810689,
          48.0866889953613,
          11.534753775596617,
          1.9511520047645778,
          21.04619884490965,
          3.9361865186245644,
          2.164012740154078,
          1.2364782181653091,
          7.76379484855212,
          43.96244430541995,
          10.995578099042177,
          8.013092805357545,
          9.252118401229358,
          4.950409319665699,
          22.27689337730405,
          12.7972917556763,
          0.9424800276756284,
          3.638518323929145,
          34.80799517264727,
          2.3337410915960644,
          1.424169720856698,
          6.081521261462384,
          7.757900166745278,
          0.5038894875487014,
          4.54557312385012,
          2.8657843309347752,
          2.7092955930203924,
          4.938281281126872,
          2.3236668083683285,
          2.4769996101191896,
          6.304894315662669,
          1.0308243965067094,
          2.5451614061991368,
          21.67156004905702,
          63.31678199768062,
          1.3181975438498224,
          14.17143678856405,
          28.879340165853495,
          104.47743606567376,
          3.885842738480405,
          6.838213482435713,
          2.8222259524858226,
          19.89660555124285,
          2.38616251945496,
          2.7770990777908446,
          41.21652936935424,
          6.6558582620187225,
          6.636914229393015,
          42.146161767152655,
          18.0500426292419,
          68.6986770629883,
          5.5382330669806485,
          43.0213890075684,
          3.659802856562017,
          14.2036800384521,
          13.108133271801107,
          9.076863119999565,
          0.6913735633050753,
          22.111367753573834,
          7.912667470673717,
          11.88499508252957,
          0.6844261559792831,
          4.380022626074535,
          1.8704909855085943,
          2.666964968969656,
          3.1046954462570815,
          21.90971755981445,
          10.072322795788446,
          6.716142194966477,
          20.2139603793621,
          4.05124338096883,
          19.92367058992388,
          1.8750813199414134,
          10.183867707252503,
          0.7550155729389395,
          1.208559121916203,
          10.312003731727593,
          1.762640298883636,
          6.884675287431288,
          2.38616251945496,
          37.9348411560059,
          1.5416071194189571,
          5.09423060729125,
          4.105782775485769,
          4.192152028364583,
          0.8178359062047835,
          4.790670832390165,
          15.610053062439,
          5.065211892127988,
          66.38996187845872,
          42.9934692382813,
          12.650516196489315,
          17.076396933623712,
          15.5543785095215,
          61.7108421325684,
          2.931740620351854,
          57.053150177002,
          129.951995849609,
          8.423000755493458,
          7.904132445653272,
          28.02388477325437,
          0.8676813742039735,
          11.341559262836684,
          12.5144128799438,
          0.5566976559771739,
          1.6740814237682913,
          7.108813671202493,
          12.023573318777016,
          79.8993225097656,
          3.6141187189481196,
          0.841499984264374,
          36.0910682678223,
          12.765262694944912,
          4.136165837085869,
          15.917023086122104,
          196.675827026367,
          13.461388309796641,
          7.702485746985314,
          24.763748121261568,
          43.138786315918,
          2.9410155835476774,
          36.0910682678223,
          9.1358029127121,
          26.3682279586792,
          176.77914047241237,
          1.79174995422363,
          0.895628213882446,
          4.022348618507385,
          15.855257445573804,
          10.16840114593506,
          25.4657974243164,
          36.0910682678223,
          1.0712533248714635,
          49.6732864379883,
          129.951995849609,
          1.5720225671927122,
          33.88364451071788,
          11.8699254989624,
          13.064474761486052,
          2.589105529154276,
          0.7643160742475653,
          1.8718159297666868,
          129.951995849609,
          1.8748391950256604,
          1.07564294338226,
          13.219296137491853,
          2.8365171415344737,
          9.918076594670621,
          2.504346229472989,
          1.8400951500167424,
          13.7826328277588,
          2.38616251945496,
          21.6739749908447,
          1.310947303099032,
          13.069283428186756,
          5.416531556396075,
          11.8699254989624,
          1.2447818112406106,
          2.3259435519576073,
          4.577029820324642,
          6.757788896560667,
          62.3937911987305,
          0.7777038679735079,
          180.948944091797,
          45.93240308761595,
          0.9379483929890043,
          0.926944494247437,
          5.158387167637167,
          23.449889421463,
          2.095961842646724,
          36.0910682678223,
          32.507242838541664,
          8.077443559964495,
          3.795670447164573,
          11.39034490287302,
          0.9367698941690223,
          51.3089447021484,
          18.1642913818359,
          6.785930583874387,
          9.653820613255863,
          12.579502463340756,
          1.178925572689307,
          4.799427700566725,
          2.3057360027649607,
          7.097598151486604,
          48.8611183166504,
          12.9463205337524,
          2.80725002288818,
          19.38506889343265,
          1.1795386865515913,
          130.331901550293,
          2.38616251945496,
          36.0910682678223,
          22.2573871612549,
          17.06135177612305,
          2.0147306260503375,
          4.671874219092771,
          18.97677969932558,
          1.8890761829997322,
          1.0117293596267698,
          1.6280684555478917,
          0.7013683671128368,
          1.5525905672784737,
          5.721111576557157,
          2.82714021205902,
          6.67254504561425,
          3.4090420925849667,
          5.807553323109945,
          12.2631816864014,
          1.9087627595405512,
          5.419011305769283,
          28.5814571380615,
          1.8369827727973467,
          2.958960063010454,
          9.340473702459626,
          1.3924058482602797,
          0.8953928833568418,
          2.180079628282146,
          2.166912844191947,
          36.0910682678223,
          1.4046009672539583,
          14.25217723846435,
          2.411829246601148,
          6.4626827811201535,
          0.5274289540537345,
          24.32090187072755,
          93.958137512207,
          2.008930958468806,
          1.2905255397781743,
          7.943119328698993,
          4.2963559721645534,
          27.848054349422437,
          3.790262498353657,
          2.571682422513693,
          7.534147791067754,
          26.679412581302486,
          3.5438018545271857,
          9.427601473199001,
          5.38247612544469,
          1.0653755513054362,
          71.19073367118833,
          5.540159955620767,
          64.2136611938477,
          3.604449937966737,
          1.176473070969101,
          7.0561749693168245,
          105.93095525105787,
          4.909673289060591,
          3.210683498684675,
          124.801906585693,
          1.6992731491484765,
          9.565419077873223,
          1.45924212419006,
          18.338784128427523,
          3.214236035667084,
          17.7824554443359,
          7.479166378206182,
          18.395000783010747,
          9.987919762990114,
          13.26266992092133,
          2.129450560437413,
          2.160082445414953,
          9.822180926799778,
          2.2282925532026976,
          36.0910682678223,
          6.102447587251663,
          5.254774186436244,
          40.7650718688965,
          12.7229824066162,
          4.52929793085371,
          8.386873582998918,
          1.03117661357562,
          7.6312633216380945,
          1.1742293807593263,
          3.6101276720011675,
          2.875476146557115,
          1.780106625284058,
          3.3463446982204936,
          5.541941170451001,
          6.734267316081303,
          63.9874877929688,
          1.0153153132308612,
          29.735158528600405,
          22.7195644378662,
          0.637499988079071,
          37.882281109690666,
          1.3473231535568666,
          45.4702110290527,
          2.717691188809848,
          4.560291720310592,
          8.472123444287313,
          5.849701193617835,
          2.1186997877473526,
          4.876556551645673,
          2.9288677831490832,
          1.0871793566852483,
          13.621131102244076,
          6.53752594463753,
          23.516695022583,
          2.7412949309994787,
          7.2186526618897915,
          2.3684706262167583,
          2.5137177126392425,
          43.1228408813477,
          6.261334206409504,
          14.328094164530434,
          1.3280222161441575,
          2.4838749912944986,
          2.7335667632408995,
          7.778717987239358,
          14.948459529214423,
          30.74772453308105,
          4.207607472731249,
          13.000069646902807,
          25.450588661432196,
          124.212619781494,
          6.500236768275485,
          4.083428184743277,
          3.9413118362426793,
          24.32090187072755,
          25.409761428833,
          6.802990118662507,
          3.8382686534896493,
          9.416448803508985,
          6.377044108041369,
          1.2691165710037398,
          3.2934041061709,
          81.7598342895508,
          2.987512426313601,
          15.2849893569946,
          0.7897777332525168,
          1.9100949679102226,
          3.947121232748032,
          0.637499988079071,
          4.03477721925705,
          1.8804386007998686,
          36.0910682678223,
          16.6765098571777,
          25.197168111801172,
          11.194507598877,
          0.8672870009559746,
          7.842714510763743,
          3.8050919919805515,
          21.73278827017001,
          1.4651303959500266,
          11.286042913794512,
          2.45624995231628,
          129.5327987670895,
          6.181171383708695,
          81.8836212158203,
          2.213449207803822,
          0.637499988079071,
          3.5356224814341175,
          7.913894802331924,
          2.475816626583829,
          1.8123277443889017,
          6.323252294869984,
          5.073524751561754,
          4.44291349252065,
          36.0910682678223,
          41.76476401090623,
          2.38616251945496,
          3.010353233489633,
          3.1497531938854118,
          6.780862325971783,
          129.951995849609,
          0.78169575867218,
          18.813012868165995,
          3.2955940868469735,
          35.97464561462405,
          11.8699254989624,
          210.006393432617,
          36.0910682678223,
          37.5715599060059,
          1.989596984991804,
          2.32718744348254,
          0.6120361291114821,
          0.5946236192525229,
          3.1266339358655713,
          11.8699254989624,
          41.1603012084961,
          1.855664216789853,
          1.8167535403654689,
          2.38616251945496,
          6.014420568477363,
          4.618979232955952,
          4.410295421310836,
          8.188833417800755,
          0.863674819469452,
          6.063016144907663,
          2.058399999842924,
          31.165744205315914,
          2.0390073359012564,
          1.4741990447044369,
          3.313591221395213,
          9.10508322219054,
          88.75665846467027,
          1.8356971123388832,
          15.4467325210571,
          36.0910682678223,
          1.1636920703781979,
          5.449463594079818,
          0.9985799197173405,
          1.1222860949081277,
          4.393527019768955,
          2.9197940915822995,
          1.0681958932836144,
          14.261894494295124,
          4.328476778417826,
          16.930731739316652,
          0.7003983329104183,
          0.39594629140732085,
          2.844984075507604,
          1.8866617664600067,
          1.1829747547560328,
          0.044202929983536365,
          0.926119414581494,
          13.810133934021,
          6.68006373156567,
          8.12534607084172,
          6.171086058020591,
          1.1270058208447729,
          99.074104309082,
          17.20950538526255,
          82.28569265206637,
          1.324220196176655,
          8.53670342763265,
          1.6861290755320568,
          2.1261267931230607,
          53.1215591430664,
          5.041070678017362,
          2.462042896485288,
          1.5156369643906757,
          6.793769985153562,
          0.9105109315343769,
          1.2257136962783164,
          13.784628717104598,
          1.1797236448432182,
          3.1913978530436147,
          15.681660970052079,
          4.253592652987832,
          18.2556705474854,
          9.869130684269797,
          23.732852935791,
          5.42065001775821,
          1.034059546123713,
          63.67138671875,
          5.90181972299303,
          1.013853653051235,
          0.7432613082048372,
          16.19017856461661,
          2.79156775608145,
          17.3937673568726,
          9.494646725746303,
          1.822923717058101,
          15.542848623023833,
          2.2283462532361344,
          7.294680017977951,
          8.28919791430233,
          1.5167547610516734,
          63.67138671875,
          1.575551344516377,
          28.541792551676433,
          2.757749611304865,
          3.885541208088401,
          4.256336347623306,
          182.86996968587232,
          1.1512316709541406,
          1.561784636396081,
          4.159587578340009,
          11.720851504238393,
          11.8699254989624,
          0.9613163884518281,
          5.989736788581918,
          5.554469623063741,
          0.154734000563622,
          4.90493829761232,
          9.54624557495117,
          14.82318896055222,
          8.045768189814796,
          25.37757173538203,
          63.6970634460449,
          1.587115301250738,
          4.5378553356583184,
          3.565113500535688,
          2.7372165013242644,
          31.354075431823752,
          2.674808144569397,
          3.0763991275062303,
          3.5345284174037697,
          237.088958740234,
          1.876639486970128,
          2.719865166478689,
          2.2307772684273206,
          129.951995849609,
          3.650216457795126,
          1.7521326431206297,
          5.592212139660942,
          10.956690646409971,
          0.8202189532464655,
          12.024860121987073,
          2.4740815127179747,
          9.54624557495117,
          16.999892635199863,
          3.764945656061172,
          1.5482521413517416,
          4.957584473863243,
          5.59854544640592,
          18.02879118744063,
          3.5965130478143714,
          20.968507627646158,
          5.929563222491012,
          41.7053833802541,
          1.4266215537209066,
          2.222360368987376,
          17.324357938766468,
          0.528823737759549,
          41.34396991729736,
          6.625749183112179,
          17.3778324127197,
          9.360573619604114,
          64.40382614135744,
          4.53028688185355,
          2.0468414023518564,
          2.05692648783065,
          1.4813933005290372,
          3.87775905712231,
          2.3281801318588817,
          2.100580203418548,
          28.1261882781982,
          13.949793010950083,
          2.3765416973167,
          24.1309986114502,
          15.9033098220825,
          1.3442197232507163,
          1.050646803075435,
          17.07602940499782,
          12.25193147085331,
          55.5887222290039,
          72.8994903564453,
          4.611431067188581,
          6.8031479035472024,
          11.540009399323623,
          1.551044252328574,
          23.7285280227661,
          2.3466796427965178,
          8.97600092877371,
          0.762449979782104,
          11.429310798645,
          210.006393432617,
          9.897389463425682,
          3.552489191293717,
          10.634937563538552,
          1.9886453641785506,
          1.2094928839944319,
          30.4132556915283,
          6.22523404215552,
          2.751996126488177,
          4.312043818143697,
          12.643256871946257,
          3.231672753305997,
          8.117531108856202,
          0.2854727275137389,
          2.86875009536743,
          2.7970046960390533,
          9.456954255700092,
          5.813551549116769,
          1.8082340492142588,
          7.774279184201184,
          0.6961511146778672,
          5.698857181602055,
          0.37813536709752577,
          0.8607956447863372,
          14.9252462387085,
          58.35472361246743,
          5.390410023766598,
          1.4428455498483441,
          1.5366164680815648,
          4.974360532230802,
          1.0816623936352057,
          8.617812247503371,
          1.5987023454287963,
          126.192043304443,
          1.1768706380250216,
          0.637499988079071,
          1.5574431466177485,
          2.2690477983688746,
          14.645832856496177,
          1.2854357656931614,
          12.600451514124876,
          10.418856186595377,
          1.165641263775203,
          2.0423797556154795,
          122.46033092056018,
          2.8580580085515987,
          4.644883260130883,
          4.898789557425874,
          17.62061476707457,
          1.7215833865756691,
          32.338416552102125,
          1.8841622169266004,
          3.8156338993992143,
          8.190525662899024,
          1.0081975882982501,
          3.3398960760661534,
          103.406982421875,
          1.0921842952569336,
          9.515451431274414,
          5.868222852069211,
          0.897961896713649,
          2.293819105625151,
          0.985429016230297,
          2.7442538692607537,
          19.0754318237305,
          0.8654355274858926,
          0.5755944550037385,
          0.6973650235714027,
          7.653074609962372,
          1.2099194056616067,
          2.303886952308508,
          0.8503902098857503,
          2.4771021489191942,
          1.056282946180839,
          63.67138671875,
          4.454871303037461,
          129.951995849609,
          2.959223458712752,
          2.38616251945496,
          0.477833032608032,
          6.327853340368994,
          2.8929154078165666,
          0.828073576493905,
          8.760665766894821,
          1.5544682258257136,
          7.059515145752166,
          8.640699842473962,
          8.502027684201797,
          15.060518868267538,
          126.913864135742,
          4.862296553239937,
          3.4314385517090558,
          9.54624557495117,
          129.5327987670895,
          16.638897304147026,
          1.024744400487037,
          0.6377489877243839,
          14.443953719404005,
          17.4577732086182,
          2.6128429487347598,
          19.66857875435098,
          4.170240060247555,
          0.7303124964237215,
          4.833764641649191,
          71.83313369750975,
          9.54624557495117,
          0.6526616816337287,
          20.817684173584,
          44.48357689380634,
          5.753003675829281,
          2.2827422022819484,
          2.4218240184709425,
          1.534297887120665,
          2.6308979276816045,
          17.091249510645884,
          6.868762749328929,
          129.951995849609,
          17.677807475036047,
          2.2857524473820994,
          1.7701430506372842,
          42.908713181813546,
          3.8764182547728243,
          4.738983791608078,
          0.6843214754416783,
          7.536306402700774,
          2.867015363382443,
          10.383361492838182,
          2.5675941665967335,
          52.7494468688965,
          1.307276187353699,
          25.3890533447266,
          14.820873916149125,
          17.1883155465126,
          2.5778334384867505,
          2.6663719260195893,
          4.570699101977651,
          2.7253411956304743,
          0.17320717637923277,
          63.67138671875,
          6.466406545118443,
          1.0918967495573337,
          6.782095339894292,
          2.7046751775754196,
          8.90851753000374,
          129.951995849609,
          26.660957217216424,
          1.5423151601444591,
          1.5276417649266398,
          4.067527161152276,
          32.0922203063965,
          1.4117213144883922,
          2.5262516066432017,
          2.462672480212076,
          4.262654763147316,
          28.8211936950684,
          0.7720806214958429,
          0.8041477771924139,
          0.8964210898731146,
          15.888263374567034,
          18.49248139063518,
          9.54624557495117,
          32.176437109708786,
          2.883716101745785,
          1.8732371046429583,
          108.827011108398,
          0.9602979372984201,
          2.21009672881477,
          37.083597719669335,
          63.67138671875,
          2.3355680221188675,
          14.577672958374,
          33.295946359634414,
          0.7703683413477711,
          0.319176852703094,
          4.685015799937308,
          21.030064741770428,
          0.607403039932251,
          2.2031767502805963,
          4.825185988483762,
          6.941683610280357,
          6.9657328082964955,
          5.618447110420322,
          0.738090634346008,
          14.81710317005982,
          128.959991455078,
          1.675264176763134,
          1.1018899785938554,
          129.951995849609,
          2.8154337406158447,
          18.52741837501528,
          1.2169325919146987,
          3.669452592178626,
          0.553938746452332,
          74.17119725545247,
          2.161236768066886,
          1.4065987263240063,
          8.83637139532301,
          0.9473423729340229,
          4.85646372749692,
          2.0562939696932494,
          24.3996105194092,
          5.721499626636503,
          16.81746761401494,
          8.507893694067997,
          4.702075373772142,
          13.33681046962738,
          0.939160585742105,
          0.6622932039733455,
          5.624574267597339,
          1.155688234761489,
          3.6975907185114916,
          2.270248083740621,
          3.200488291846381,
          6.295815359801042,
          5.952299970647561,
          4.76296997070313,
          6.145907819271082,
          1.0688158165324817,
          128.959991455078,
          105.51385498046852,
          1.1951655576413036,
          9.395387708057056,
          0.7314755006170856,
          2.148144036250776,
          32.154443353414536,
          0.577757730105015,
          2.022199755205827,
          2.903384768962859,
          19.8095874786377,
          10.835693085193636,
          3.74090863910376,
          1.93608748912811,
          9.36949144239011,
          1.5331025469687678,
          6.4693020385611435,
          3.8474999442696567,
          6.566820887002083,
          11.543033472632853,
          0.358493596315384,
          0.47924780845642045,
          1.7059107304953827,
          5.758344967554257,
          2.4026083353352043,
          7.715365331906544,
          1.824695973760553,
          9.67931152582169,
          11.572621464729309,
          3.582925726349156,
          1.821116706728933,
          8.699293891588834,
          4.252859115600587,
          2.08781242370605,
          14.318540973248684,
          4.686431052473682,
          0.6410222103198369,
          3.1694997178541686,
          43.7207431793213,
          7.468894600868225,
          1.4695704677701007,
          19.31588932871816,
          5.856461803118381,
          2.860701548892099,
          1.7957978180506162,
          22.0285587310791,
          24.612673441569033,
          1.1131257910281422,
          13.74984300136568,
          2.479243932543575,
          13.899311141534282,
          129.951995849609,
          3.4509891434149353,
          0.75,
          2.0995151909977885,
          1.8766294317391086,
          6.056736981097076,
          3.4183758168648444,
          0.637499988079071,
          1.290145268198103,
          23.9651947021484,
          0.0806852802634239,
          1.16626369953156,
          1.7239504575442792,
          23.937954282760607,
          30.4182872772217,
          2.0880456566810617,
          0.6976915376679022,
          10.650994994810643,
          3.5322975336688844,
          1.6933921937515424,
          5.827566271828067,
          0.8756678851918793,
          0.137062504887581,
          1.663889943758646,
          2.2150108265989252,
          3.5812675457889758,
          7.915501832962043,
          7.681761702522636,
          1.7887545073104854,
          2.308469619702648,
          5.578588530421258,
          63.67138671875,
          9.773317356528473,
          2.3482698674003286,
          2.1999034811685116,
          36.07153785228729,
          6.706392720060534,
          33.5339361131191,
          1.24440002441406,
          14.941148583378114,
          1.8651519757695503,
          10.674867346882804,
          54.305735766887665,
          20.485385894775398,
          1.5426898425231217,
          5.190619234945261,
          6.038681698223895,
          0.148587226867676,
          1.5940246498478312,
          14.832311719656003,
          27.261931777000438,
          2.4653290294367722,
          10.15513127517294,
          39.1537195841471,
          0.988181054592133,
          0.3902451395988462,
          4.465952685475351,
          6.369710683822635,
          35.8787841796875,
          12.355525149396186,
          69.4619216918945,
          4.665703985095026,
          0.5310396380853234,
          13.89490365982055,
          1.3453605860471733,
          1.6398996470204308,
          1.1698333965124281,
          1.1153588017934553,
          25.616788029670698,
          3.2400364443047414,
          1.49517683873051,
          3.736533546312289,
          1.7803549170494102,
          40.0271987915039,
          2.5983371635278063,
          4.552912630140783,
          10.311945078324314,
          3.53794682025909,
          10.796392401603802,
          6.092596078675891,
          0.0870366021990776,
          5.837656934945178,
          2.38616251945496,
          15.9782705307007,
          3.309596871457448,
          11.2433643341064,
          4.177327603101736,
          5.986569881439206,
          40.0271987915039,
          5.533255717333622,
          8.94514083862305,
          2.38616251945496,
          1.9002491395388337,
          6.427959775924677,
          3.883452888239513,
          56.024884790182035,
          42.6504135131836,
          0.474299997091293,
          2.2294459419476027,
          2.959224308078939,
          23.2425479888916,
          7.971980626384415,
          0.579659432437225
         ],
         "xaxis": "x",
         "yaxis": "y"
        }
       ],
       "layout": {
        "barmode": "relative",
        "legend": {
         "tracegroupgap": 0
        },
        "margin": {
         "t": 60
        },
        "template": {
         "data": {
          "bar": [
           {
            "error_x": {
             "color": "#2a3f5f"
            },
            "error_y": {
             "color": "#2a3f5f"
            },
            "marker": {
             "line": {
              "color": "#E5ECF6",
              "width": 0.5
             },
             "pattern": {
              "fillmode": "overlay",
              "size": 10,
              "solidity": 0.2
             }
            },
            "type": "bar"
           }
          ],
          "barpolar": [
           {
            "marker": {
             "line": {
              "color": "#E5ECF6",
              "width": 0.5
             },
             "pattern": {
              "fillmode": "overlay",
              "size": 10,
              "solidity": 0.2
             }
            },
            "type": "barpolar"
           }
          ],
          "carpet": [
           {
            "aaxis": {
             "endlinecolor": "#2a3f5f",
             "gridcolor": "white",
             "linecolor": "white",
             "minorgridcolor": "white",
             "startlinecolor": "#2a3f5f"
            },
            "baxis": {
             "endlinecolor": "#2a3f5f",
             "gridcolor": "white",
             "linecolor": "white",
             "minorgridcolor": "white",
             "startlinecolor": "#2a3f5f"
            },
            "type": "carpet"
           }
          ],
          "choropleth": [
           {
            "colorbar": {
             "outlinewidth": 0,
             "ticks": ""
            },
            "type": "choropleth"
           }
          ],
          "contour": [
           {
            "colorbar": {
             "outlinewidth": 0,
             "ticks": ""
            },
            "colorscale": [
             [
              0,
              "#0d0887"
             ],
             [
              0.1111111111111111,
              "#46039f"
             ],
             [
              0.2222222222222222,
              "#7201a8"
             ],
             [
              0.3333333333333333,
              "#9c179e"
             ],
             [
              0.4444444444444444,
              "#bd3786"
             ],
             [
              0.5555555555555556,
              "#d8576b"
             ],
             [
              0.6666666666666666,
              "#ed7953"
             ],
             [
              0.7777777777777778,
              "#fb9f3a"
             ],
             [
              0.8888888888888888,
              "#fdca26"
             ],
             [
              1,
              "#f0f921"
             ]
            ],
            "type": "contour"
           }
          ],
          "contourcarpet": [
           {
            "colorbar": {
             "outlinewidth": 0,
             "ticks": ""
            },
            "type": "contourcarpet"
           }
          ],
          "heatmap": [
           {
            "colorbar": {
             "outlinewidth": 0,
             "ticks": ""
            },
            "colorscale": [
             [
              0,
              "#0d0887"
             ],
             [
              0.1111111111111111,
              "#46039f"
             ],
             [
              0.2222222222222222,
              "#7201a8"
             ],
             [
              0.3333333333333333,
              "#9c179e"
             ],
             [
              0.4444444444444444,
              "#bd3786"
             ],
             [
              0.5555555555555556,
              "#d8576b"
             ],
             [
              0.6666666666666666,
              "#ed7953"
             ],
             [
              0.7777777777777778,
              "#fb9f3a"
             ],
             [
              0.8888888888888888,
              "#fdca26"
             ],
             [
              1,
              "#f0f921"
             ]
            ],
            "type": "heatmap"
           }
          ],
          "heatmapgl": [
           {
            "colorbar": {
             "outlinewidth": 0,
             "ticks": ""
            },
            "colorscale": [
             [
              0,
              "#0d0887"
             ],
             [
              0.1111111111111111,
              "#46039f"
             ],
             [
              0.2222222222222222,
              "#7201a8"
             ],
             [
              0.3333333333333333,
              "#9c179e"
             ],
             [
              0.4444444444444444,
              "#bd3786"
             ],
             [
              0.5555555555555556,
              "#d8576b"
             ],
             [
              0.6666666666666666,
              "#ed7953"
             ],
             [
              0.7777777777777778,
              "#fb9f3a"
             ],
             [
              0.8888888888888888,
              "#fdca26"
             ],
             [
              1,
              "#f0f921"
             ]
            ],
            "type": "heatmapgl"
           }
          ],
          "histogram": [
           {
            "marker": {
             "pattern": {
              "fillmode": "overlay",
              "size": 10,
              "solidity": 0.2
             }
            },
            "type": "histogram"
           }
          ],
          "histogram2d": [
           {
            "colorbar": {
             "outlinewidth": 0,
             "ticks": ""
            },
            "colorscale": [
             [
              0,
              "#0d0887"
             ],
             [
              0.1111111111111111,
              "#46039f"
             ],
             [
              0.2222222222222222,
              "#7201a8"
             ],
             [
              0.3333333333333333,
              "#9c179e"
             ],
             [
              0.4444444444444444,
              "#bd3786"
             ],
             [
              0.5555555555555556,
              "#d8576b"
             ],
             [
              0.6666666666666666,
              "#ed7953"
             ],
             [
              0.7777777777777778,
              "#fb9f3a"
             ],
             [
              0.8888888888888888,
              "#fdca26"
             ],
             [
              1,
              "#f0f921"
             ]
            ],
            "type": "histogram2d"
           }
          ],
          "histogram2dcontour": [
           {
            "colorbar": {
             "outlinewidth": 0,
             "ticks": ""
            },
            "colorscale": [
             [
              0,
              "#0d0887"
             ],
             [
              0.1111111111111111,
              "#46039f"
             ],
             [
              0.2222222222222222,
              "#7201a8"
             ],
             [
              0.3333333333333333,
              "#9c179e"
             ],
             [
              0.4444444444444444,
              "#bd3786"
             ],
             [
              0.5555555555555556,
              "#d8576b"
             ],
             [
              0.6666666666666666,
              "#ed7953"
             ],
             [
              0.7777777777777778,
              "#fb9f3a"
             ],
             [
              0.8888888888888888,
              "#fdca26"
             ],
             [
              1,
              "#f0f921"
             ]
            ],
            "type": "histogram2dcontour"
           }
          ],
          "mesh3d": [
           {
            "colorbar": {
             "outlinewidth": 0,
             "ticks": ""
            },
            "type": "mesh3d"
           }
          ],
          "parcoords": [
           {
            "line": {
             "colorbar": {
              "outlinewidth": 0,
              "ticks": ""
             }
            },
            "type": "parcoords"
           }
          ],
          "pie": [
           {
            "automargin": true,
            "type": "pie"
           }
          ],
          "scatter": [
           {
            "marker": {
             "colorbar": {
              "outlinewidth": 0,
              "ticks": ""
             }
            },
            "type": "scatter"
           }
          ],
          "scatter3d": [
           {
            "line": {
             "colorbar": {
              "outlinewidth": 0,
              "ticks": ""
             }
            },
            "marker": {
             "colorbar": {
              "outlinewidth": 0,
              "ticks": ""
             }
            },
            "type": "scatter3d"
           }
          ],
          "scattercarpet": [
           {
            "marker": {
             "colorbar": {
              "outlinewidth": 0,
              "ticks": ""
             }
            },
            "type": "scattercarpet"
           }
          ],
          "scattergeo": [
           {
            "marker": {
             "colorbar": {
              "outlinewidth": 0,
              "ticks": ""
             }
            },
            "type": "scattergeo"
           }
          ],
          "scattergl": [
           {
            "marker": {
             "colorbar": {
              "outlinewidth": 0,
              "ticks": ""
             }
            },
            "type": "scattergl"
           }
          ],
          "scattermapbox": [
           {
            "marker": {
             "colorbar": {
              "outlinewidth": 0,
              "ticks": ""
             }
            },
            "type": "scattermapbox"
           }
          ],
          "scatterpolar": [
           {
            "marker": {
             "colorbar": {
              "outlinewidth": 0,
              "ticks": ""
             }
            },
            "type": "scatterpolar"
           }
          ],
          "scatterpolargl": [
           {
            "marker": {
             "colorbar": {
              "outlinewidth": 0,
              "ticks": ""
             }
            },
            "type": "scatterpolargl"
           }
          ],
          "scatterternary": [
           {
            "marker": {
             "colorbar": {
              "outlinewidth": 0,
              "ticks": ""
             }
            },
            "type": "scatterternary"
           }
          ],
          "surface": [
           {
            "colorbar": {
             "outlinewidth": 0,
             "ticks": ""
            },
            "colorscale": [
             [
              0,
              "#0d0887"
             ],
             [
              0.1111111111111111,
              "#46039f"
             ],
             [
              0.2222222222222222,
              "#7201a8"
             ],
             [
              0.3333333333333333,
              "#9c179e"
             ],
             [
              0.4444444444444444,
              "#bd3786"
             ],
             [
              0.5555555555555556,
              "#d8576b"
             ],
             [
              0.6666666666666666,
              "#ed7953"
             ],
             [
              0.7777777777777778,
              "#fb9f3a"
             ],
             [
              0.8888888888888888,
              "#fdca26"
             ],
             [
              1,
              "#f0f921"
             ]
            ],
            "type": "surface"
           }
          ],
          "table": [
           {
            "cells": {
             "fill": {
              "color": "#EBF0F8"
             },
             "line": {
              "color": "white"
             }
            },
            "header": {
             "fill": {
              "color": "#C8D4E3"
             },
             "line": {
              "color": "white"
             }
            },
            "type": "table"
           }
          ]
         },
         "layout": {
          "annotationdefaults": {
           "arrowcolor": "#2a3f5f",
           "arrowhead": 0,
           "arrowwidth": 1
          },
          "autotypenumbers": "strict",
          "coloraxis": {
           "colorbar": {
            "outlinewidth": 0,
            "ticks": ""
           }
          },
          "colorscale": {
           "diverging": [
            [
             0,
             "#8e0152"
            ],
            [
             0.1,
             "#c51b7d"
            ],
            [
             0.2,
             "#de77ae"
            ],
            [
             0.3,
             "#f1b6da"
            ],
            [
             0.4,
             "#fde0ef"
            ],
            [
             0.5,
             "#f7f7f7"
            ],
            [
             0.6,
             "#e6f5d0"
            ],
            [
             0.7,
             "#b8e186"
            ],
            [
             0.8,
             "#7fbc41"
            ],
            [
             0.9,
             "#4d9221"
            ],
            [
             1,
             "#276419"
            ]
           ],
           "sequential": [
            [
             0,
             "#0d0887"
            ],
            [
             0.1111111111111111,
             "#46039f"
            ],
            [
             0.2222222222222222,
             "#7201a8"
            ],
            [
             0.3333333333333333,
             "#9c179e"
            ],
            [
             0.4444444444444444,
             "#bd3786"
            ],
            [
             0.5555555555555556,
             "#d8576b"
            ],
            [
             0.6666666666666666,
             "#ed7953"
            ],
            [
             0.7777777777777778,
             "#fb9f3a"
            ],
            [
             0.8888888888888888,
             "#fdca26"
            ],
            [
             1,
             "#f0f921"
            ]
           ],
           "sequentialminus": [
            [
             0,
             "#0d0887"
            ],
            [
             0.1111111111111111,
             "#46039f"
            ],
            [
             0.2222222222222222,
             "#7201a8"
            ],
            [
             0.3333333333333333,
             "#9c179e"
            ],
            [
             0.4444444444444444,
             "#bd3786"
            ],
            [
             0.5555555555555556,
             "#d8576b"
            ],
            [
             0.6666666666666666,
             "#ed7953"
            ],
            [
             0.7777777777777778,
             "#fb9f3a"
            ],
            [
             0.8888888888888888,
             "#fdca26"
            ],
            [
             1,
             "#f0f921"
            ]
           ]
          },
          "colorway": [
           "#636efa",
           "#EF553B",
           "#00cc96",
           "#ab63fa",
           "#FFA15A",
           "#19d3f3",
           "#FF6692",
           "#B6E880",
           "#FF97FF",
           "#FECB52"
          ],
          "font": {
           "color": "#2a3f5f"
          },
          "geo": {
           "bgcolor": "white",
           "lakecolor": "white",
           "landcolor": "#E5ECF6",
           "showlakes": true,
           "showland": true,
           "subunitcolor": "white"
          },
          "hoverlabel": {
           "align": "left"
          },
          "hovermode": "closest",
          "mapbox": {
           "style": "light"
          },
          "paper_bgcolor": "white",
          "plot_bgcolor": "#E5ECF6",
          "polar": {
           "angularaxis": {
            "gridcolor": "white",
            "linecolor": "white",
            "ticks": ""
           },
           "bgcolor": "#E5ECF6",
           "radialaxis": {
            "gridcolor": "white",
            "linecolor": "white",
            "ticks": ""
           }
          },
          "scene": {
           "xaxis": {
            "backgroundcolor": "#E5ECF6",
            "gridcolor": "white",
            "gridwidth": 2,
            "linecolor": "white",
            "showbackground": true,
            "ticks": "",
            "zerolinecolor": "white"
           },
           "yaxis": {
            "backgroundcolor": "#E5ECF6",
            "gridcolor": "white",
            "gridwidth": 2,
            "linecolor": "white",
            "showbackground": true,
            "ticks": "",
            "zerolinecolor": "white"
           },
           "zaxis": {
            "backgroundcolor": "#E5ECF6",
            "gridcolor": "white",
            "gridwidth": 2,
            "linecolor": "white",
            "showbackground": true,
            "ticks": "",
            "zerolinecolor": "white"
           }
          },
          "shapedefaults": {
           "line": {
            "color": "#2a3f5f"
           }
          },
          "ternary": {
           "aaxis": {
            "gridcolor": "white",
            "linecolor": "white",
            "ticks": ""
           },
           "baxis": {
            "gridcolor": "white",
            "linecolor": "white",
            "ticks": ""
           },
           "bgcolor": "#E5ECF6",
           "caxis": {
            "gridcolor": "white",
            "linecolor": "white",
            "ticks": ""
           }
          },
          "title": {
           "x": 0.05
          },
          "xaxis": {
           "automargin": true,
           "gridcolor": "white",
           "linecolor": "white",
           "ticks": "",
           "title": {
            "standoff": 15
           },
           "zerolinecolor": "white",
           "zerolinewidth": 2
          },
          "yaxis": {
           "automargin": true,
           "gridcolor": "white",
           "linecolor": "white",
           "ticks": "",
           "title": {
            "standoff": 15
           },
           "zerolinecolor": "white",
           "zerolinewidth": 2
          }
         }
        },
        "xaxis": {
         "anchor": "y",
         "domain": [
          0,
          1
         ],
         "title": {
          "text": "ecpm_sma"
         }
        },
        "yaxis": {
         "anchor": "x",
         "domain": [
          0,
          1
         ],
         "title": {
          "text": "count"
         }
        }
       }
      },
      "text/html": [
       "<div>                            <div id=\"32f5723c-656d-4360-9e54-83a34e7e706c\" class=\"plotly-graph-div\" style=\"height:525px; width:100%;\"></div>            <script type=\"text/javascript\">                require([\"plotly\"], function(Plotly) {                    window.PLOTLYENV=window.PLOTLYENV || {};                                    if (document.getElementById(\"32f5723c-656d-4360-9e54-83a34e7e706c\")) {                    Plotly.newPlot(                        \"32f5723c-656d-4360-9e54-83a34e7e706c\",                        [{\"alignmentgroup\":\"True\",\"bingroup\":\"x\",\"hovertemplate\":\"ecpm_sma=%{x}<br>count=%{y}<extra></extra>\",\"legendgroup\":\"\",\"marker\":{\"color\":\"#636efa\",\"pattern\":{\"shape\":\"\"}},\"name\":\"\",\"nbinsx\":200,\"offsetgroup\":\"\",\"orientation\":\"v\",\"showlegend\":false,\"x\":[5.379373403695914,2.435746777238268,1.557256072759629,2.361295589024112,0.3328915146680979,0.8793892865550923,2.899561855851149,1.6292709324022996,0.9968852322156503,0.7443642450345529,0.9446249664840051,1.3907327370591542,0.8942699602094331,1.472572691300335,2.6388713490423257,2.2865472609616497,38.52417900272319,17.305766623705,15.083101136343823,7.583975166082361,2.785831416354461,31.6496067047119,4.771089332444328,3.864641343393635,2.96338605880737,1.7740007138678011,3.2995512201672508,4.07493174459253,5.273406893014903,0.48692324757576,2.811936959853539,2.6819351497983566,1.1675703711807732,1.369689588035855,0.7154731975849904,2.5819806075548817,3.289375201822067,2.043788502003,19.91321274638174,0.33204114788036415,1.19441974163055,4.064433940375844,1.3860189494907216,2.544466968339271,0.126530364155769,4.6749416058897,3.0092401486387597,7.978674151003364,5.566457135732779,2.1521010241087732,2.1057864317979518,1.680129094557329,0.7781143180955897,1.2717757115110029,0.6350537538528445,0.9523818194866189,4.517404574405229,1.6355516849494567,0.34315169702928816,1.8524348214268687,2.883379909821918,0.4188582507954953,2.38616251945496,15.1616697311401,5.124307513237,9.393129688038293,1.7552759463296217,1.5032022309423698,2.0487344267150003,5.898026327292127,0.5816058706982894,0.9188745930427457,7.549048759370505,0.566171050071716,4.984540084997811,1.5988215622305872,6.213079690933228,0.8036387632152775,7.26013725517709,12.113079541921623,8.72742868587375,3.0143767896536233,3.9343889551875133,5.09699600367319,87.8397369384766,18.52908849062986,3.75000500679016,32.596716160867736,0.5835989973654795,0.7286504118226916,2.486286799233735,6.1946158769559725,1.4162904365974316,43.89027442534752,1.165991381156323,2.79259758417099,7.622392193371094,57.83650398254395,49.5438613891602,1.80729790398741,5.45117650667227,1.4061220749920498,1.2095408961056118,5.774694328743314,0.4275506201801944,8.991458192999877,1.2179632250239512,57.825023651123,8.045545232336528,3.695016527662472,1.2375428028013784,0.48551195859909047,2.870478911254242,0.522640563547611,7.8699808262254525,8.095055601813572,0.9504578342369772,2.38616251945496,0.6821719749440947,2.9591800527913223,9.043107193527792,10.877186533004519,12.137216150760645,2.6911344593221496,2.91194009136509,1.3315366716296595,2.097451027369348,2.8911613859236214,2.774182515590725,5.169620588125773,4.475153023546392,2.7979060469135155,3.99960387663408,6.6586584555881965,0.9518051588845917,5.8146327248326095,2.290628022410384,5.234454199227489,4.444360303878784,8.085046175198672,2.757279731412098,1.1631504159070478,2.033179664156503,4.152835287757823,1.07777492191849,5.395672410726536,3.0563991751452404,7.08905855881966,2.994577080011366,1.124442692236467,0.7486353456974031,19.0641174316406,1.8223659957156453,17.192167630997183,1.3897294244679512,0.8104585247735168,2.1381157679217204,0.5552693406740823,3.869013542338971,2.809282858669757,1.520294770472368,5.656757082154503,4.616232198668678,1.455957258997298,1.4931875285372596,0.7590354133881688,20.452345240375276,121.31658279895801,2.8430673831548434,0.9207806551072018,3.5876441154825063,7.891862797560082,0.38526121415753856,1.380210220894736,1.3290465661687734,4.750438629710821,2.005262531340124,0.6817694544037686,3.6338360313683333,3.173462943242932,1.4718909180339654,2.2150717914818285,2.1537507659510555,2.573921550287647,1.85278654098511,4.81788408756256,3.0674195965933646,0.949265962285127,50.8302230834961,0.43862353421978123,5.22040405591329,0.7398293491643978,8.645533373153288,2.5678920222365336,3.471135818145488,1.1027937875617118,1.911313116563031,59.6284790039063,0.9436885277164802,2.734419471930459,2.48052748002504,0.6806623745502326,6.381870852576362,6.229917255551533,1.5798557494685865,3.9031689888568284,0.949395388364792,3.65754222869873,6.103782286544042,4.731985594986416,0.8438840433368531,4.257903771529207,1.2276513651748258,3.1489463567733766,3.1294541733734533,9.672042819169853,0.6182275777962761,0.18752005845308312,0.8037164861957234,0.348224103450775,0.9758451272931794,0.450050244356572,0.8778656648945727,0.9013194881227552,3.010941194636487,44.1711044311523,6.867749127474704,2.823831340564147,8.283356702753476,2.2119685546918344,1.476188271285068,8.067592407763001,3.957625153282509,2.829778667452878,2.620188137018904,1.1660929014758459,1.8048746589232558,0.36969562625323515,0.7858149784598306,0.102502845227718,1.890834879634422,11.992916284238591,0.5987306702720081,5.180421042442322,2.39854383468628,4.390005069061861,1.5377077890809177,0.8502668062845866,3.3478871019263003,0.8736077534909152,4.446617217710267,0.9287118797118847,1.608866467402549,1.0390035133730293,1.632083741398905,6.2894857513143645,1.256005661847547,2.1244516843318486,1.3314967346931257,3.8733713150024407,1.2669910827980326,5.597042787642707,3.2036722501118966,1.4033102775043473,1.4148823118302998,2.0167131166959162,1.3430640821594118,1.192252634012183,0.4160890550810403,8.144236435560412,32.35463583469392,5.673235453389309,2.833622275658374,1.40345066661636,0.8566080140473364,1.5130269725275578,5.676905345916746,1.6586263431557293,2.5801482610302986,2.0653668399049177,1.0703170984619998,3.282986506658345,1.1886573570273196,0.7729233480713983,0.7422882317783731,1.1548022366289155,1.943989868176744,1.6828738110609165,5.517413341774133,0.35213787785985246,4.623069011150522,4.639295378598299,23.790042090416037,0.489991068840027,5.503151730118152,1.5136862220366798,2.38616251945496,0.6317069365377843,0.23661175866921735,2.4913284160917786,3.6374367312951525,3.0029041578575053,0.9796342790776966,3.0774856973826603,0.8641157928699008,0.581274402141571,2.985815629363057,0.326049453020096,0.4064969601142302,0.6379942444139918,0.16898149761701117,0.6232766232733078,0.3266458026265382,2.9259711233052315,1.0608176952917818,0.7731770809924775,0.5788900045787587,1.4162215289830322,1.6858315765857697,1.7480501015981047,0.9638261647871983,4.11860966903192,3.1489135786243105,4.780770480632781,1.7002787590026824,0.9453484571950381,7.803634037077427,11.938397250276935,1.7352943505559644,1.457187082066579,11.145909187121266,3.380760615212577,2.7356852627525177,0.7298933432359006,2.9679472635925555,1.5969825159916375,1.2281257587530447,0.8993340666963582,0.5619177552464522,2.5592597952855174,1.2179758946665302,1.3164657511209177,1.246368164769732,2.275591547290487,1.145601909206464,0.3751891255378722,2.5015057669890006,1.2978857898742573,4.385847769992452,15.118184990353054,7.285605989969695,2.0943515853448353,2.9498416385730777,30.710472871859874,12.205181399981193,41.10409545898435,2.8069015046132417,6.511547693392125,30.576175212860093,1.0401060364624317,27.8008823394775,1.076189697439235,2.4497742020104027,0.921652504575572,2.816784044959661,0.611872422261938,0.04830289632081986,2.7049525734744493,1.0705517090786738,1.7811740898298765,0.58363653217108,1.6727452781332195,2.101976053237363,2.9529544641337697,11.559736251831051,3.401548089652226,10.683394626776398,0.856337091878608,2.3514959657633714,6.581740434353166,1.5312512610639841,1.4245145467625477,1.2699264550598441,3.0005775218208623,1.2873230345052733,1.064728202952618,2.783483487255169,0.7159839769901679,0.951731351394733,0.9485021558961164,31.5594749450684,2.0938514244678905,0.415187001228333,1.2400979834741774,1.9858242134729072,2.8566139147846576,3.0949474880229944,1.2456947652732624,0.3522796099002545,0.7043074125148427,1.3605291111412898,1.6325362487272783,0.488566517829895,1.7451314619419092,1.2956754343912875,2.6373028518086636,0.5967231541872022,0.10721735283322137,8.201306271553042,0.9946427968415349,0.815905571768158,0.3910893499851225,1.8215822780095967,2.5500551809398635,5.625592329428583,2.2308521694447623,0.943405061509124,1.301129731660086,1.4605831629094899,24.893561834638763,4.197196586264505,0.9602962061762806,1.1155192700036511,1.891721185995267,10.450619147040626,4.487384446289228,2.1719796817058956,0.5068862371974523,0.6835209191709325,2.2122995089861304,6.497960327580424,0.6791743583240131,3.182144343852996,0.49261167536800193,93.1928329467773,5.079693831246475,2.160341069048454,2.982793272815199,2.6095065013928846,6.854637606199396,6.382049288068503,0.8550185250961838,1.7108184378458857,1.4656478396037718,3.3034288028012133,0.2187991542687823,11.68708159043951,1.1952381666566507,5.5512958022221905,0.5040680907382027,1.1008778186071482,7.635876119136815,7.253488989437326,1.5202035028535246,0.5741496837260772,5.26743607237136,18.7072200775146,0.643660451038781,1.0504519442956037,2.6722030397504577,0.9091729509855527,5.05415534973145,1.8649942932213748,1.2419895552075249,3.515877416352092,2.152629568638804,5.025692720108844,0.9784237429341737,0.6200806723862158,3.430569743116702,1.360477892194069,1.8782964593984866,0.6508316880172234,9.293864367313176,1.4731439221650362,4.744459342523189,27.6330661773682,4.566038008659115,40.990980509165176,6.904982176481507,2.9461632706471628,2.2632415066530682,1.1761737169862614,1.8925124276625482,0.8060837325549889,5.280027422037983,25.218836103166865,10.229706573486322,4.546274747421502,2.378730791996627,7.167531828085582,1.3855853755182277,7.919964373111724,1.4058614567954943,115.59593963623,2.881706972332562,11.507496632470023,3.1743761563258435,0.5379614531993866,1.2922919864348812,21.185497612323427,1.0493516282364732,1.6780374150900614,2.5154757882232093,2.400793525907729,2.6318312058002538,1.4807915247593946,4.533360720682544,6.1821067708290425,0.8711144263661578,3.089454089436267,2.331239339262248,1.7232413319870827,48.327088173698016,19.35444281498592,11.50996036720031,1.1045123736063633,4.388651371002198,7.355582174800691,2.5257550956015162,4.6698398646854224,0.6936802351742649,2.80725002288818,9.004844740542127,1.1772157989797125,8.815483041431605,3.354300975799565,20.312638180596505,1.2815885610098672,4.356463032641582,18.27646326560238,12.421934208423973,11.183981639034345,0.45451792223112925,101.309394836426,5.471423119306564,2.9680646647980735,7.633607603915229,11.724193572998,5.473325241695752,0.5215662954400243,2.4866859516478144,6.628071983377413,55.7818775177002,0.40719846223649764,2.3968408837130193,7.12605074067779,14.05412893254182,24.3996105194092,15.556778852756212,23.439897038215822,6.805578738451002,3.1571674109482384,0.8451637559466886,4.840527844277158,5.682312414950173,1.7582860812354077,22.7817764282227,11.950840475878207,1.7628363192855545,0.9255817158066709,19.629364002834663,2.8470182962638817,65.9481658935547,40.15635108947755,50.92101638317108,5.809840846160227,2.945030059556515,128.34071445465096,199.292636871338,11.415627468199961,65.9481658935547,1.7946495692451283,65.9481658935547,214.6960372924805,1.6831721736163625,2.712870861206091,8.712202951825898,10.09689749452803,80.1459503173828,9.456627720739785,7.749995311101277,70.67796084664086,19.9322643280029,210.006393432617,0.5852090716362,11.413281955801207,19.044542606060354,61.2827110290527,11.867367076873782,26.769000738859184,129.011993408203,118.86933898925766,2.457435389012749,4.993500198636736,9.887850181018706,2.8638182683947,25.128310561180125,25.747789837419973,2.721676577693039,2.38616251945496,3.399893280618635,9.620941910185396,15.188986698301832,14.440372421627956,1.3145391903022745,2.9102542199821104,6.270752216378848,13.267171998356664,12.75167834849758,5.251627082534739,7.916790338954493,4.517116499453903,2.3777959476176056,4.615792053451866,17.436908404032398,3.272416888030018,8.419324117047447,3.1070915983599634,3.728380889972679,1.6124469591625807,79.96819429397566,3.8306975773543366,5.21795193740855,0.5438218884039343,7.0359338854534075,65.9481658935547,1.7429385612713888,12.122375916032222,7.17582350272637,23.5443325042725,3.920208121996281,210.006393432617,55.67449378967285,9.981326344550835,41.87859725952146,5.6958560377864496,20.719690570315805,2.1819846284918314,3.5781858509237128,22.900608062744148,89.2165069580078,3.774751237486907,0.628033757209778,41.48838070869443,15.621188897352953,11.38002505204605,5.791261166334167,56.68530927385603,2.5031446774049613,20.474003992297437,15.354059215706425,7.351946055889129,38.4905052185059,2.643623430882732,22.372550370036695,2.007553280598815,8.57103063442089,22.9747200012207,5.080811049936157,1.2667242952312032,2.2531573108452214,5.46022761279139,22.8734769821167,2.363143185722528,189.868789672852,8.784925643409169,183.567008972168,6.126497118818491,13.097015686120317,2.881577468015314,2.2117549067274447,7.205573901534086,29.42999935150145,189.868789672852,2.38616251945496,189.868789672852,0.126224994659424,3.9083678099861006,65.9481658935547,19.9037036895752,5.714096276449555,84.89199829101555,34.37770795822144,0.9784406307114272,189.256317138672,189.256317138672,184.51992289225268,189.256317138672,30.712212829540174,5.954696989059447,7.596233514750882,11.115646637976162,20.98551641191756,2.38616251945496,0.7928541815030604,23.46409863233565,2.38616251945496,0.8129511971647544,28.5722846984863,26.97806537151336,6.9621376991272,2.0417346871842104,22.78224309285483,1.2109853002701143,2.513707036088254,14.165060043335,3.091853790122307,386.48876953125,20.483183860778784,10.056790115089601,0.541627407073975,22.95464763045311,22.9747200012207,0.9142208138578809,1.9347351453822068,1.4061966690476135,3.6158238490488355,189.868789672852,196.17300923665366,11.957513912580913,65.9481658935547,6.480273537337767,189.868789672852,2.425649243028469,2.827766380238149,2.9281077962368722,2.46285209512269,7.896337375431309,1.417987974129406,8.887583750359557,22.9747200012207,23.068262367635178,22.9747200012207,21.1783504486084,0.5195333645890721,65.9481658935547,189.868789672852,33.51586776971818,5.545524996259939,2.039828141434835,0.7729189714726312,2.5439092337208637,5.003931057673913,15.040583059191686,0.5847567431927844,2.5885400545029413,7.831314165145166,0.291900426149368,29.224447761263168,2.7460488975048065,2.972021955147122,1.9773724355559423,65.9481658935547,31.41344939107484,5.6103450258572884,12.85401063226164,1.1557380096383496,14.740448102355,1.1149841525724957,4.397311949554613,5.598088402123678,7.93380546569824,1.3752082626024882,1.8340654292828347,38.1596221923828,1.0094207757435256,5.0828513269330955,1.8946885070012462,3.5257652029245348,8.640428279946143,2.9168833107859995,189.868789672852,33.292832940816886,37.2778244018555,65.9481658935547,9.745046748055353,21.024406924843795,189.868789672852,1.2366667292094522,65.7354278564453,63.539838790893555,18.503585577011116,16.705802043279018,3.481418247406299,65.9481658935547,5.456281809703163,8.021985954603192,3.276857690011572,3.38643561332104,0.9637581472247522,1.244615874321895,0.9374768955678479,99.3349304199219,13.027582260278557,15.592700495169716,2.9767814319709247,0.602350983942971,3.3351832287652177,3.477765732873095,4.456284742748394,0.227307453751564,1.349243917093988,4.70358838446169,3.3305289580904214,2.2143388418068666,189.868789672852,31.924950040619958,189.868789672852,1.3140466096068635,2.277867858266009,0.44086155669861726,2.913986134383737,1.3892446343437639,3.2207909292644947,26.1099071502686,2.0670383629344773,4.272124683370396,14.936554857095084,1.06207501888275,2.42708826065063,30.6826229095459,19.8053255081177,6.2089580850847055,22.9747200012207,12.68044126033783,3.893180360587742,22.9747200012207,29.1975975036621,1.1040843231000492,34.1730651855469,43.1585578918457,3.6748002431331543,29.664000511169398,22.661163330078136,1.301495221234805,8.365953079501141,3.8263440043265895,3.9087143270742333,189.868789672852,1.1266345226873906,26.598242317636803,1.4586654812212763,33.047742567956455,1.1243801190186364,4.80356225153295,7.024188654679876,56.2876853942871,38.9841766357422,68.5384187698364,28.002188950136553,1.6097133622947823,1.5184971836800565,1.0109292616248131,12.199335879228249,2.7355055749416346,15.438383718331659,6.129220456111396,13.620521272429672,8.153329672305837,15.958257012199933,3.1098908796543023,0.139020264148712,1.702833211735673,0.8296301020174359,4.820898904350803,72.97152328491211,21.299928417205823,125.38917160034151,12.909312386997053,0.637499988079071,6.527189769730067,14.206415653228756,1.9315761280253183,1.8517421603029223,1.6547997902025997,14.665785258015031,2.1419652771128685,0.6882473038676925,7.113141865071739,2.4424229403111086,1.2629182823633742,35.9051856994629,0.6605340833206688,6.4673460049213025,21.596186728581134,65.9481658935547,2.4030000248052272,1.1365712654673394,65.9481658935547,6.45335418143066,3.1324795620309014,2.3773442479531934,0.5566557818986271,1.07365167140961,3.648988378407844,43.8818206787109,189.868789672852,4.625345289707186,2.4810429913432968,0.703162491321564,1.8106465078621348,3.296230567252685,2.9467444362178927,64.90471633275364,9.429016683749014,61.04921827316285,6.926694307257148,11.055594775676727,189.868789672852,10.162160873413082,44.091366179287455,3.9036951150638717,15.192900627851468,16.846302817849548,1.2795724156484785,17.24089020888014,1.1522777121228043,13.8497657775879,4.950642879174286,5.509056658044506,1.3976548092009924,83.78206858634954,11.69390495419501,10.12039337856205,2.4773219676621006,0.691472768783569,36.7058868408203,2.919264438905215,1.4356637048524807,26.5350494384766,17.112385510775816,1.1025795799493787,17.93181166238031,65.9481658935547,2.143351252141753,1.600490786896065,22.9747200012207,23.516695022583,4.194440217969233,37.9348411560059,1.183272042252851,28.91307640075685,1.4168049723726424,1.0402072793286707,2.74468099862299,19.9037036895752,28.0140800476074,2.2273709162005355,6.03649233367033,9.466351704597482,1.2752742027136976,0.8269647495222416,13.3988160027398,1.7138059014646738,2.115781678042852,22.9747200012207,4.565995717870779,189.868789672852,2.373928547220592,2.7805737295284776,1.1123559424752214,14.9678716659546,6.593450330321576,0.557275295257568,0.7717961209411385,1.40092234789057,6.5934866666794,7.514439036670543,1.9873261025442648,10.111241333186635,30.0815467834473,2.82602508054223,1.686980483604662,25.392118148505688,2.510670594186319,14.474886702981038,48.0756709575653,2.4183836547268003,130.617813110352,5.387883978394362,1.1985594119636926,33.02877461910248,1.6784278274494775,4.098058467866107,25.937063217163097,70.3653220534325,65.9481658935547,4.522380739450445,63.9179916381836,22.9747200012207,1.714817322263814,118.512949625651,7.026171329103668,65.9481658935547,8.935510899372032,39.35282249450684,2.2735051713684054,2.1487686078396293,7.863875925540934,4.310874947754529,1.144100248376878,3.442016181427729,3.061006710642861,5.457050803729465,4.407282581224162,128.959991455078,3.679376136820491,11.962208112080885,9.934939702351882,6.128919101678408,0.8117538690567014,0.672866241229539,5.511272961273802,189.868789672852,11.690073847770677,17.4889011383057,3.550742007017107,2.930321921904882,122.1785509586336,24.59637191146612,3.1072058012088166,0.9976906786628984,1.1731967783121002,11.458826915671436,2.0401421569891878,0.6425128209352492,0.637499988079071,2.3793765653620715,22.9747200012207,65.9481658935547,1.487014815230111,0.9602245738855076,22.9747200012207,65.9481658935547,1.2192671767820324,65.9481658935547,5.324009331789886,2.5450203653711556,0.8297454732222552,4.168918788408075,0.6477891803344599,0.7956693583425172,198.9741287231445,5.425003764383936,0.8398567423739888,13.215554761886617,192.0478515625,0.6284841850679368,1.9311884175789984,204.102737426758,35.13040591508915,1.763125526198707,3.151358740404249,59.904807984828906,189.868789672852,26.7972469329834,0.9842116895399352,78.2494964599609,209.0950164794925,18.07976368814707,2.2468582285711403,2.434413537126162,36.71639060974123,101.52707154410233,175.194793701172,8.366823407865704,16.4114074707031,0.18319383743635523,2.38616251945496,16.678982869438503,1.9095207315224865,0.978562474250793,20.636251792311683,6.660040186267896,18.420169372307626,213.632522583008,7.445810660239187,6.3257509838967065,10.561752935652356,3.683152182116395,10.749055198681216,1.714460719121915,0.9943265262253164,1.2156897320057314,5.930588807378496,25.49440002441405,7.199295202891035,14.794855273962028,1.3398767842546755,5.2941889660627774,0.7745904016175429,33.8997116088867,2.0335695712039104,22.2442951202393,189.868789672852,0.199879840016365,1.4453163020650048,1.2568295708569615,1.1593668303729687,1.2576693723879868,24.3951778411865,3.369113564491271,65.9481658935547,1.740982925053687,11.7260507088283,189.868789672852,2.579272941464471,9.079918568134305,29.12626834710442,4.843466498233655,4.209292131476104,2.3772210576762896,5.866956989925641,22.502222793409146,3.798956209215624,65.9481658935547,3.116583227519582,211.051315307617,12.5671539306641,22.9747200012207,9.339925612158636,9.445675109113974,7.098224090465051,0.8546872809550558,3.1721706108914485,35.7660026550293,22.900608062744148,2.8978535197675255,1.471170463594464,3.5573967907441224,18.320584280249676,6.308952140253644,0.6287996869676278,1.8900272912449307,12.626917153596871,19.124093632025225,17.968547344207757,0.5152981771171093,1.946166784912348,5.108314169645309,1.072031990069935,26.617788921275217,21.45081830283871,1.2810763409794412,2.505782738985123,25.144291709970545,0.6607722043991093,1.3011652228869794,21.06300163269045,3.68549887666915,18.3957176208496,1.3830145861574275,189.868789672852,3.2337001066529343,0.7605965897640203,2.256611219199726,18.0229798955758,1.626320439188377,65.9481658935547,29.8757553100586,1.434693728042421,16.102518081665,2.1710387932626816,4.811268392950298,22.900608062744148,2.575306261119284,6.38712310791016,24.025402925908576,7.402194142074332,21.1676331130234,11.89897541646604,7.889185581668732,2.756768061014695,5.999580348105658,2.977783485544754,16.435133854548152,23.7415523529053,33.989274850446904,72.89531707763675,78.46554946899415,106.8077697753907,3.754963745112004,2.704797946042934,65.9481658935547,25.7757797241211,1.8149956235605664,6.727805169423422,1.497028498101185,20.77926054997231,2.4502766782954586,14.21560192108155,194.2046966552735,189.868789672852,19.08033180236815,0.8643085011173497,22.868057243399708,3.864583593606954,5.030863946541808,0.9668476348452409,4.450983243994414,3.344360430059685,2.0229574166811446,1.0157826457163035,2.135546335850351,10.942442593367206,5.394276523579521,7.833278536796573,20.26861572265625,3.642886144704506,3.5057801676959532,2.6633862487971784,1.8123191821304236,1.1198690606997566,19.9037036895752,16.67600074724151,76.34752044081704,3.766140085334579,1.1771889621535174,65.2262420654297,6.7842150945216355,17.05327242612837,189.868789672852,0.7526771543206466,3.2918122932314873,8.915078926753335,5.540431166964293,26.9843063354492,44.68935267130536,21.4270305633545,4.432711436468011,2.9277472310829205,8.979971973745673,6.835994703722706,7.312407180213954,126.23293552796054,4.590628553333032,4.797540158760257,1.1949491800691983,5.529340365871054,7.620162184970375,3.4857988758165335,1.6402633434570428,8.986958161692765,9.883522383040868,1.1992369299762167,10.453054991819089,1.374652403357781,4.3597356004917875,79.9948806762695,0.6666024079213017,6.313166034849067,2.9931911892361125,0.7015501970336551,1.2484324809967717,3.7060867064707987,189.868789672852,1.180719709578953,2.2233030512854826,1.2754488962007866,0.3946820456474288,2.30930846001742,14.721301447550472,19.326435024539645,7.788577068203496,6.218700175854698,8.202101143923668,15.725104252497353,18.466375398635833,0.6211911890023688,0.9641795731289186,1.591892418615956,2.2264098550738947,2.008892903374277,11.395905622621868,14.103936186908973,13.8483057022095,20.50173245072367,12.41323602199553,4.858056389052291,10.328658670692125,4.018212458844912,11.806109994649885,2.5033722174139976,3.2647127434611325,3.002793002029439,37.8256683349609,4.511576468529907,11.321560834770773,3.7827774729663717,46.34874945733605,1.1253030729644442,13.33857107162474,2.4998208952163994,65.67307698726648,128.959991455078,189.256317138672,189.868789672852,14.925303739001494,15.629690547784156,3.7519956696033483,1.7677851319313054,1.503461825143959,12.195492309139627,5.748358113448919,11.806109994649885,14.55499112606048,1.3878180858926898,1.2308774789174401,15.483565688133229,2.4315335132286418,9.416650046499408,2.5002992568594027,3.5909176055874164,16.743593578753263,7.749098956017276,2.322884865410147,1.658570048724406,12.297524452209451,2.129066398500893,8.184782218969904,13.42816704511643,2.470529224546182,12.181414733614245,15.7124643325806,75.83541135787979,57.13807114495175,64.11455663045247,1.1182661879585494,62.93029785156256,128.959991455078,22.9747200012207,49.932825088501005,184.51992289225268,4.226167772749537,6.40017460589588,16.250893115997307,2.153773647834019,1.2831148777234678,2.2603399733963765,1.2023124474991158,2.38616251945496,65.9481658935547,104.76339049339296,4.667794880114106,82.6592330932617,5.850337719917294,2.4410014844033867,1.8054436463584655,9.515844526360636,8.193204861698726,1.1548806134502865,9.529096579743968,157.7362457275392,189.868789672852,189.868789672852,5.809907127916812,8.235220074653627,2.4453495462455654,2.38616251945496,2.3683111856994152,2.1843940644243434,3.1949053993638676,26.9843063354492,3.4267508969719396,3.8017072186035956,9.451385487017673,1.108653792212991,5.502658923467,6.715534562865887,3.5450967832615508,1.7644854470412492,61.588291168212905,2.1741531599702233,4.112109329303103,8.008455673853566,2.2096475227673853,4.139800076899324,8.61516189575195,28.0140800476074,0.7048630803823469,2.9034116268158,184.0645294189453,13.24450687928633,8.145639633387333,22.9747200012207,1.5456751251045393,0.7648049176416614,3.920070681922447,5.956547455986341,19.646875381469698,2.622103100642562,65.9481658935547,9.790962772080732,3.078973740339273,0.37663603588316763,4.800117372320249,3.9840546718306755,31.80701488256453,1.3211150177275068,0.8347272532393499,2.2576440547729697,1.423706952222558,7.6024284763968915,1.0254270288607343,3.812421382557262,1.8431862810414708,66.0781707763672,5.0507665034178855,2.1078819852475426,19.217802610623067,1.6843219259679199,0.6540694474665953,4.372436458865802,11.691442247094777,4.108640601858497,8.723930827037776,1.1762013344757725,16.5782032012939,2.209717128570977,0.31271091964535114,39.7519302368164,4.734360844473154,25.222070693969698,4.565850458839387,6.716690943435288,5.740262597799304,1.4184608781313308,11.48016460984945,4.450648813020616,7.949796018600465,65.9481658935547,3.005992121195077,1.00700724124908,22.9747200012207,59.315941417217246,1.348773317954201,212.42872233390813,1.4009284447712942,65.9481658935547,7.282396137714387,7.430884640216829,0.6503166101530411,2.7872286236511092,12.33782098459643,65.9481658935547,22.9747200012207,2.38616251945496,65.9481658935547,7.0422108683606695,3.5915335774421715,2.4070026131812483,7.279705623157408,2.798528971771399,0.7316317309935888,2.024288170453195,7.131177350878717,35.755543132623025,9.178117517630252,12.68044126033783,16.0813045501709,8.171653170513627,4.028097627855046,3.063719346912371,189.868789672852,11.087393448700508,3.8481244001277646,2.503118136179135,4.373102643423607,2.5221828047822163,1.83889825032516,1.0625339980442283,1.8429234291101093,3.6011807415052317,2.4792501252547954,4.0599722452838,1.8344750658377709,2.4438660541233026,10.58634020388126,4.50205499519563,5.698329099078676,22.9747200012207,6.894223917614338,9.837334107130005,11.034441380151389,0.678027153015137,2.5033569710640444,1.1755405834908763,4.063441557761948,2.390022874789467,3.1605522414048512,129.951995849609,38.35809707641604,4.375769889466618,9.472254913294098,0.42055520106874217,3.505658552050592,2.097645714677928,0.9528270310125945,2.5759968666926674,3.5266322857316807,7.9580318752038055,0.5683182938200123,1.3868810399347344,7.813541706403098,199.9375915527345,65.9481658935547,10.627520187147732,16.3817468711706,6.243962325155736,2.790378437290927,0.0900902226567268,18.033474640713795,1.008706916688067,14.575415864586825,1.770923298610216,1.0917815439129939,6.473902977657634,4.672707177610964,6.972304044498337,0.746594130992889,27.435452789068222,1.9543113562069379,1.9551853313616339,10.091447949409497,0.10396895247201127,1.7383451660474132,14.641711592674255,22.427966880250956,5.317320224429879,5.165196068561489,3.571619059794989,121.84433412551886,41.279132472144234,26.97323304414747,11.91998582366685,1.6387818237399736,2.0050895965209707,1.3188824232406262,0.659778401706468,2.0407752208636114,23.2770137786865,1.5072316473989344,9.270361175903908,1.2094603230125536,0.8159724771976471,1.5120456266403195,6.337626437346132,18.485850873589506,2.2389731502243824,3.545365098402613,3.0735854880256546,26.9843063354492,8.649852562306533,1.6103052385151395,5.038044425348443,1.7929504811763763,31.51585329583597,1.176780216597222,10.765878717745505,2.67877507209778,189.868789672852,0.8820023763713973,1.7582168948764987,2.736833847017698,11.142641159621109,14.68523442745208,11.838760614395142,21.60212326049805,41.7682018280029,8.889539897441859,58.0121574401855,170.028793334961,5.307901325641862,9.048555430546196,1.0195816607682362,5.828298905628912,10.199892031500138,19.9987201690674,10.213907986879356,19.9653091430664,0.8149029041330023,58.0121574401855,58.035549163818345,0.8072421022931248,1.5105603572992996,0.7290133324941362,1.4838953303228535,2.978858179666776,2.0061592279478573,1.2393258066712727,8.821161805287657,20.283779144287102,7.415781342126186,170.028793334961,58.0121574401855,13.958321754421506,11.650163762271422,4.0471734680235425,2.0030780220732964,10.247290790081026,5.220882269469174,2.3646597170404013,32.908203125,4.559451411962509,1.0193326633939903,1.624485687352718,29.6969985961914,10.269399303354719,7.673518149291766,3.4041104316711426,3.885924520880677,6.880658961939468,126.116012573242,19.9987201690674,22.8667736053467,85.32422167062762,2.6509544875691926,0.7013900191714505,11.8305625915527,8.201000776303852,29.4039173126221,3.3684320778925843,4.133217440642196,0.8794471506250343,2.735956565488744,10.320492954763479,19.9987201690674,58.0121574401855,3.8753885605878997,2.4646333064883956,1.771782373568337,2.387407615509901,2.38616251945496,0.7589458768027931,2.613252178939982,61.4389991760254,1.5224184880263354,58.0121574401855,6.076345016286792,34.81255531311035,2.0940754334911587,3.1109622877179675,9.976619932386614,0.601351737976074,1.0104161767226494,2.411213184361691,1.4502263384303833,8.774687671462697,8.752399616125164,1.9298453186009366,8.537396513891442,21.904333114624,11.014160231639776,1.3228677365751493,6.321463133341501,6.532313466072078,13.472982082102023,1.2379782461903313,1.1937232557684188,4.878499596658413,11.370816204186792,8.737509094032589,5.006543227604458,0.7597511922162462,2.959733349943086,2.3080913367179723,0.9285046158653496,5.052690706763304,17.494268387556055,13.842745959758776,2.1967382052995634,32.0539360046387,1.0389485003641545,29.6814441680908,1.058901652260219,1.474026215008714,170.028793334961,134.00927543640125,2.3888813629867,8.005263353477828,2.533220748688715,3.5861927531028193,10.125690447656728,24.483703541755673,170.028793334961,277.854553222656,0.5762527411878109,38.984371185302734,1.9831113567006085,3.408229280306005,2.096431975227757,0.5391965068757055,0.5278220724474106,19.8787250518799,2.077639518798083,5.988456606864941,0.9409994163945932,1.5024575689033173,1.6104515503514596,1.5906602183486538,1.7340907415593312,57.825023651123,50.5837554931641,2.3982097579150636,0.451158761978149,3.7477191160558148,58.0121574401855,35.460581532840095,47.37886790434518,16.68660301202304,1.0619555176369346,9.215743433276662,0.5948590404322359,63.1573168436686,170.028793334961,39.7014942169189,9.566364249674345,6.0819956569873055,5.806601324389055,0.639689675645111,0.637499988079071,2.2055167579483763,10.640378773212444,4.443205064535138,1.7226446684669037,58.0121574401855,0.7802530623673362,0.9694759026169782,1.4637970626354213,2.7440988054642363,5.4832458250743725,17.436417791992426,1.4742819378152485,1.4228156555002007,1.7941596258698225,5.822255358638533,16.698753839447377,2.4676476901633317,29.2819470465183,1.6188921265092002,2.63804813318694,26.9843063354492,58.0121574401855,0.3985680580321996,12.095086044735382,17.285792526445892,10.138229116797444,2.5018885701049305,4.396326060952813,63.4471912384033,1.5529911367241112,3.0437789758046487,6.0087148288885714,4.9264535954141095,3.713118120735764,19.9342088699341,24.89605355262757,16.935096444153217,25.57510004043578,9.335271827876566,28.827693116935794,8.47512722015381,10.332941055297834,1.8244708086154902,12.491571485996246,9.223333012490048,2.540963409339181,4.04955162320818,1.7826101073443001,1.477106207158961,9.231433738361714,11.938736624901114,0.9438398270669792,19.9987201690674,3.0017005049212035,1.7879423615145773,1.31648635864258,4.269597837906233,28.0140800476074,2.7116550393402603,32.4048080444336,2.928515156110128,1.4685258443156872,15.500322151184093,2.411396492006523,3.22459093902422,10.648566696378941,170.028793334961,142.763916015625,104.08544921875,1.6662027014288614,33.8543319702148,6.139306231640106,1.0163701472970128,14.647517035084388,2.433692356208301,1.2550428876860802,1.1206257892384506,2.1073278622226974,1.8983156226930162,2.1729468698463146,1.0972672746808243,0.4986196548544935,4.22038301859009,7.732514177175132,4.30805193185806,4.876181924045088,4.120673172175882,0.6735055157244663,2.25657324595698,18.876215304097823,4.545225561383259,58.0121574401855,5.818887102837657,0.2879776913749602,11.14468681812284,10.729348096996555,4.009280710220334,26.9843063354492,4.747748424286681,4.339160157574546,29.4426136016846,34.3032627105713,0.8247881071062899,1.34406228736043,0.637499988079071,8.056546632252946,185.60708109537768,20.3786067962646,0.8802251933925022,2.272905391791175,1.517495005890943,2.0548811545877737,2.61321161503409,42.31622521693893,1.3224146007737017,1.065752334200439,5.618491977453236,3.5637973703635057,8.39401068295303,1.5620659822050253,3.9729020194150513,4.683405876159666,12.93843413688041,1.657028575423616,22.6911239624023,2.360499257462866,1.8583115124660226,29.4385375976563,32.88527061939239,2.353071290177185,11.0548907995224,7.763062447309507,11.720290884375574,10.614763997495174,0.21832589308420833,7.20712268352508,26.9843063354492,6.052347950313405,0.9976960492276009,8.65139455673022,28.6993541717529,0.9010615086575082,0.6287899829271271,58.0121574401855,0.750168740749359,8.130326320857101,3.117965436918395,3.133544838209765,3.698048272753149,58.0121574401855,2.858509026836236,1.9331952973869109,3.2539491670311613,20.43029403686524,6.799738813191649,0.75,124.9679985046385,2.462262249294113,22.387311257421953,1.5206535276843285,22.627499262491867,20.8941593170166,3.480715304493329,1.557329094780873,19.9987201690674,4.2746743086415036,20.81292164325716,1.7219204773533747,3.1575102894394442,0.5814546645299272,3.3658370043962242,12.185038551688189,0.9108666622277203,0.5243815760783574,5.967008112714837,58.0121574401855,5.885532420128582,1.5387027012184262,5.03025245666504,0.5121119369014439,1.238623305623022,10.677277001467615,3.4693488747608376,0.8257243801849052,47.9093208312988,4.0666290009865325,2.251554684340954,1.2068676023595097,1.261794141654311,1.573106331154704,5.412457799682252,20.1059799194336,2.7823129294489166,1.7921642463352583,2.950145107527663,3.7415833111320222,6.348000784357421,0.6274818597940381,5.695239260792731,2.576000120105414,6.427290156682332,36.20677185058593,3.076993885005049,0.9356836329691638,30.5517272949219,3.0114490279444945,52.6057239572207,46.61071014404293,1.844765083407907,1.3743596430155265,19.9987201690674,10.408752262592305,2.8616970136761664,20.17898127862384,172.68598937988298,16.91886523365974,7.790804683112279,0.9278742173673036,4.30722951889038,3.7146309378601265,26.9843063354492,4.287873171269893,0.9209170354098627,1.5212233309944478,4.363624841433304,1.7993464505217633,5.638871915878788,58.0121574401855,25.925953015685096,2.08458009518626,1.1278963090480865,3.5554099552559126,10.398534224053062,58.0121574401855,4.34071922302246,8.792871476065189,7.737679120136488,4.430455013607326,1.2088632444212652,10.398238840591475,2.5754114122473615,2.0342263094157236,1.7083964632964082,0.7373236246639862,8.477477624018986,26.8867282867432,13.943455040454856,2.4666166448681226,4.022294100439339,6.4516001248359665,13.287659321440026,6.427658718459455,5.495337623357771,17.321547918849515,6.186714198854236,2.0313755815029144,203.323547363281,0.8257319268083919,59.08187179565429,19.9987201690674,1.7813601613978884,11.539824952884608,1.3397407467300837,0.288787513971329,1.865097435730334,4.08708918206783,216.8432006835935,13.17677658254449,20.78266525268555,0.9497039578793761,26.9843063354492,2.6071621723739162,57.825023651123,1.02954378829427,4.907090858979656,29.277016222476934,55.5378379821777,2.74895459972322,4.660995022462519,8.66741740703583,2.3425390211974872,1.3953216029887539,3.47884589194614,1.5602204288755148,0.5120743569142012,0.9234193263869546,7.99708890914917,1.373003000329281,6.263095350641953,18.435964651405804,2.3416819615023448,26.87382727537969,1.8017625036786804,2.127446218580008,11.28819991648198,4.251413604487548,10.077309330304457,13.151120993069243,2.308987420647083,3.37800261582746,3.2277320505238825,7.6453489680360605,58.0121574401855,2.4513988908794193,32.643985748291,2.187893841089979,0.09404635131359103,8.746493895848587,8.180202406396052,2.2045633165115444,22.228659550348922,4.22843790054321,58.0121574401855,58.0121574401855,162.597297668457,1.5975105422735223,1.7788165918711958,7.724176712136909,2.40509899279246,4.157462861802845,3.161075989225725,2.0806964521628046,1.5249132949838538,2.5378517400134695,18.14400710662206,1.436580290033968,31.76912751197816,5.106683093161411,20.9615821838379,8.219810477324895,3.551222842931747,7.162119925022122,24.006400108337402,60.2496566772461,0.8222507011414197,3.10052888144731,1.2582773189742127,3.8748233111733885,3.1896437236720376,4.568426625954496,1.615549416211299,34.2775535583496,4.6387520553889106,8.738299876451498,6.354113294604079,0.679825067520142,5.374132711887358,18.694425195455537,7.6298284885066305,4.554615450107444,1.3042123661690894,1.1883514199938097,0.9854403801821771,26.9843063354492,2.192143251037141,26.9843063354492,13.120051708087386,1.783616841675676,8.204069805450924,0.586974918842316,4.12344328257091,8.0297255091748,10.69678509235383,19.9987201690674,3.770304150359576,58.0121574401855,3.4184983041551424,3.6064476228393265,0.8235049761913636,2.62799056198286,1.7930861054321325,9.261079336537257,15.005505181721285,36.9315376281738,5.249425159050868,19.3455543518066,1.3755363118252721,11.903965155283617,3.1483841128647314,2.373488529622555,1.259474160433009,0.879332512985126,12.163236618042,58.0121574401855,3.7078668271099127,8.470089933524525,0.6739892669812877,5.653735739097261,58.0121574401855,19.9342088699341,59.7022972106934,1.20299994945526,9.09411253035068,2.86875009536743,2.2595637149431487,1.0845960236058152,3.193199141225854,0.7490276573458687,6.539809914735643,0.7685022599975935,26.076685011386893,3.5705004401624962,2.835507990302224,7.539172072564405,1.8226087885079802,170.028793334961,2.743434793626269,56.0302429199219,2.38616251945496,71.8611297607422,0.8584569308275727,19.9987201690674,210.006393432617,5.904252077598832,4.363871582905087,3.4713227407819085,13.806554223809922,21.667672826786234,30.36243700981138,30.0436630249023,5.985546598831816,7.139029271380843,5.010546196038596,2.262944556176663,4.770149992604275,0.37307587432947875,35.2124633789063,21.562464147806164,17.400627817426404,24.5985912322998,9.347908645135464,10.93477652958445,8.301318280315757,0.8419379248998314,5.3434959309441705,3.1194536250701046,2.0059858553331225,6.181658308143199,1.9320189701393247,4.982260457150741,0.929088668388511,1.7535618317373585,0.9271823548857712,57.825023651123,79.9948806762695,0.45973288019498204,0.924971133500101,4.772217483392784,0.553689777851105,4.670145204024656,73.3153247833252,0.781752019679842,3.278273614026358,2.019161313681341,7.1214390839849315,9.229061504205056,2.9406570110689194,3.6203778213164846,14.845198929309841,8.627214017121688,1.787490298971533,12.541526687145229,14.007011456923058,7.038870429992675,19.429033279418952,14.282997393608095,2.801799331614048,1.1291008878835156,10.239405032466431,3.5152247226486604,3.50020575523376,2.2558879054489394,19.479946136474602,1.8425193295957967,2.189284456402741,11.216726569242267,24.976901054382353,1.748294044012405,0.6696925160000625,11.136749272996731,12.675512623041852,1.7031602909797487,3.175368961962786,12.62062155116688,3.2482115110205534,58.0121574401855,4.112049217407522,2.2553529606014493,4.076582518608672,4.250678063763516,2.8338908728550782,28.4611644744873,1.6358525010853489,4.723189644448392,0.9244374497121524,8.41889062661391,58.0121574401855,2.214011388172099,3.2055666564423353,1.9127095184783403,20.478907856222698,19.9987201690674,192.368850708008,3.8402836811347107,65.83914453784625,1.1962334020063286,3.266040582548487,6.3829576060539335,2.3229820928040987,3.276112880235836,8.964782981092439,41.1374130249023,53.18723297119143,32.974460601806655,46.44587971613957,3.704034868747955,158.945526123047,1.6235932537487567,1.5837927771354816,26.985636402008186,2.8597000898683764,2.4218972939997916,3.392295645815984,3.0723512008786207,41.3185157775879,8.620739247879591,3.777470121344368,1.7944926119353657,1.822130175476724,15.2716035842896,2.167053144520674,11.5310095981159,24.6258296966553,1.7992330250885564,32.1871147155762,17.1803809261322,1.41095085819356,1.59658660824694,9.882534336643063,2.6926870498976667,26.174398720264428,0.17299467752063125,0.637499988079071,0.9178260670411064,73.9931259155273,11.98716875116031,8.585865932352394,19.296642667368825,44.5717964172363,21.6213779449463,57.67237319946288,7.7028661641207625,47.8724822998047,43.2128944396973,6.939845377599801,0.9763840191745721,0.596062481403351,1.7321871558508586,5.573872857206448,20.095761954784383,3.364431239226281,34.2291145324707,1.0057878357071723,3.3991388859373792,2.5570818854344854,2.8555376291275016,89.02223920822149,11.190829846025249,22.2095256149769,28.8152046203613,4.422523501625127,4.005417624115944,0.9773661984512827,9.09349346160889,1.8612529787365024,1.423701869200389,170.028793334961,16.776536547220687,58.0121574401855,4.77540777231517,0.20408599375442893,46.2772636413574,1.904967785423212,19.9987201690674,57.825023651123,37.5796775817871,1.589041472383058,8.265208095312111,0.7651296086120289,2.546627649351173,0.122400000691414,1.9253162273764604,28.74718952178955,2.401027767403613,5.259968616328874,6.159713833672659,3.555890219357454,4.047051448947035,4.114172708243131,4.425004054133485,3.7187639371156185,2.853303656876088,68.78092956542964,0.8403383603927198,6.389778529915563,81.95454025268555,46.84693654378257,23.868674715359983,0.8687623876069369,3.4820393705597286,5.690840346633262,1.971016203899247,168.07735443115251,1.119297089344123,61.889734268188505,8.201699362860777,1.2413327662844433,20.761107861995697,3.6565599680014027,1.6474317253358624,75.3027191162109,0.9213555067918211,2.6753900446170986,3.1046825164302256,3.4244604318125837,3.7859523620954745,6.212764382362367,128.959991455078,27.98821934555354,40.80961036682127,9.25481462478638,14.1781702041626,39.22356406847633,57.825023651123,10.92831510305404,4.719500453677028,2.4757552074316216,4.0204981307188685,13.437986277634245,3.6511749348857174,12.082403082400559,24.3708343505859,4.371594712138178,1.3019037333933043,5.335957205295562,4.626349061727523,3.751465125430015,1.560506536026394,12.193208722507256,63.98380327224733,6.278345409900911,2.485661576438184,3.615559205075298,3.5060536728964906,4.7641967783371575,1.5564026800649513,13.6501559416453,50.3686065673828,22.9763565063477,84.0638809204102,3.1007369735080346,2.7000506586498707,5.274607216482199,0.8768892041734748,0.5635177904918586,1.09939202536949,0.869156770095748,2.6789738454867362,2.277721287501709,1.45037871857421,58.0121574401855,32.27781323024203,6.155754065790842,0.9480195567490666,12.082306587606444,5.008642822414547,128.959991455078,27.148330918858566,1.9555199199252657,1.1366163371981346,2.1742369716026424,3.651210227073768,2.8543502747800424,10.3477401733398,36.7612380981445,4.172708238874162,1.3716038955109457,12.586240937997552,58.0121574401855,5.62465075403452,4.354904484266403,194.984558105469,7.624398192455029,2.262079293905055,44.9742374420166,12.154004806478609,2.827420053419782,69.725456237793,14.54976212978363,6.610120505023964,2.031059468705808,1.7108331967373296,9.718427002429955,3.0816520013899167,9.277772935231527,7.459594820821008,16.736678656409772,48.44141173362735,6.0783343762159365,17.320613690830296,8.600872788578267,2.022801675047111,35.9990081787109,17.093395899843287,3.12951826254527,4.552112286486248,2.1928514083745054,33.6192603111267,3.388466244900083,2.0661897321508533,1.6064719904827174,1.8463829921330415,24.006400108337402,0.7647003251805224,3.6509134285151954,0.7596796633002638,11.19244134426118,1.644576752315398,19.04439658385056,17.789982312764884,43.439789533615105,1.6223127965710902,3.98777585520464,19.9987201690674,16.54469352807755,3.057508929779654,19.9987201690674,190.017593383789,2.040967806905722,6.90793988928593,29.1461009979248,58.0121574401855,13.101667449958073,58.0121574401855,0.6837164033120791,123.53020095825201,2.685799998247017,20.92816082636514,2.908385552191761,1.9706245221874936,2.7382881981461793,6.724346170822785,1.2415838176594642,2.0131444303559607,3.7541728150553806,15.14758369922639,2.468823633858286,3.934906727737853,0.5717339035560632,59.55100250244143,132.166366577148,15.118019286497153,3.2718541784736415,13.45536460047183,1.283849665114807,9.853060881296797,9.667089073946995,46.18425500392911,9.580426832263388,6.792556777380518,19.9987201690674,12.161768516579123,0.7408505403771879,11.891119925064205,1.6209265424626185,0.8160277693049359,0.8477810762124133,3.090027985699249,10.724178075790407,2.63268113136292,10.71956724532375,128.959991455078,11.666277714511935,11.490960547966608,1.5070235103368754,6.0413578144638,0.623534798622131,1.5854917157496982,6.5701442709783215,169.4803161621095,3.8595452435278665,18.566160801918258,65.01135200262064,5.874131843718614,36.97893152236941,21.5392742156982,5.248260272228264,0.8686123725238047,14.377618809541088,1.4526784948899705,20.141508102417,6.178779987494149,0.5243622194474336,2.38616251945496,1.7268496202097998,0.8137233324594932,11.828649520874,8.703117296099661,4.605024082949207,2.1247523423144172,3.9180990128490563,3.5414584780496265,25.6777400970459,2.467086060666265,2.2866432142257698,66.3216705322266,1.0160827101777776,6.749251211612998,5.777921759656497,0.637499988079071,7.019118670353107,21.2276649475098,2.4052263321103307,2.5656656588499396,19.9987201690674,2.8288088769795707,12.434127278625962,8.399325728854713,5.977519435041092,1.217254358861182,9.835336822729847,0.6673895020730198,10.318110078573236,9.584603436220286,21.15918827056885,7.4880924428764235,57.69300206502277,6.6301096673348585,5.686978076895078,2.934136867523195,15.730025690001789,5.317446395691939,6.394366207355712,1.2021949444756361,1.2813806447808687,4.420879597676562,1.1645372499013313,0.5546374836252358,33.1075820922852,2.384242782495844,18.26976187154651,1.1798878058236628,7.8600530545878176,1.4974682955247045,15.3068370819092,4.869746985090017,1.8934916042619274,3.9889320118559732,8.751448720693586,13.797237385015977,93.48607444763175,3.3275050740975605,3.6393241868132638,3.223196698352694,0.7539789199696056,3.0113910344739767,4.516363640626269,14.334282481696468,0.5780214776793049,2.7962676516582823,2.38616251945496,86.11886537075046,1.7624547270437094,14.289295186961668,12.915566444397,2.38616251945496,23.616017341613798,4.851441326348681,2.096133525961836,22.04623413085935,14.3508186340332,7.542223381144656,0.9740866649046086,2.22698330879211,0.9851531240362394,19.9987201690674,16.854197061061864,62.25680096944169,2.6472932621836662,4.74186706750892,3.1968591498291974,6.238073547191807,8.770688124001015,2.4373679103571404,2.1261095228520315,26.48764831489987,2.522728520571885,13.015470342976693,5.06240128042997,2.316247775793076,14.40696102380751,7.619982486421411,1.3495143085358496,0.7665624464296905,3.9837939066105865,12.191846758127232,9.110227862993879,19.9987201690674,1.4901671122080387,0.5441532437943182,25.69271474135547,2.999730736930431,4.299967149630762,15.448267099854998,54.7443542480469,1.3337553923620893,1.7756824289696136,1.9863692761591354,6.270826779108132,0.9585666553408065,11.7388324737549,2.772223927601493,8.777766965902776,9.588791241712652,3.404708113698734,0.470999985933304,1.2433864097971385,2.0417125377247483,1.240873240116165,1.4073453123370807,7.088696804539911,1.6433022910346144,0.6928763384397708,5.639411005657166,1.1721746579522179,1.3520678098385168,23.697210416197755,3.771391307261396,3.663181871035849,4.476177226929437,1.9540915773301337,1.2022633114154786,0.6777153053489444,57.825023651123,58.0121574401855,5.010112212101617,3.5461605424497358,23.9187145233154,44.21309661865234,10.841051556169997,3.966862261406522,36.0909309387207,17.42641736070314,2.38616251945496,2.392719391313117,1.2673500798220225,27.8778381347656,58.0121574401855,12.865196645259882,58.0121574401855,5.31658331213928,27.04277671234946,0.49177213074961823,5.496109222608896,20.0448966026306,29.47899833321569,8.23011621060195,2.38616251945496,0.9864589828355559,0.8165020252282391,8.390817119525028,3.173554417500102,0.6572625041008,4.968807374599372,13.8808670043945,2.9386298540234552,11.114821539754466,3.146951874861351,2.82956165767485,58.0121574401855,8.16072666247685,41.246538409480365,1.197422597053889,2.1850640291223042,12.199868246912933,0.892412006855011,13.999147935166501,5.927312027949551,15.770593598309691,4.647672192255656,11.1913270950317,19.583506584167502,29.11546588480472,131.2188873291015,58.0121574401855,15.80393397808075,4.049593817847115,4.402168101925873,2.918883998852883,170.028793334961,6.913652020393771,10.018989579035683,0.318749994039536,29.134314472025093,17.373667074574374,6.477537196091929,10.563338716824843,0.8170706211372161,58.0121574401855,1.5993598334455932,11.2208843231201,9.010985507054267,4.650461272469592,58.0121574401855,4.319576293915167,4.239168728099153,1.302910429821617,3.246458178909465,2.416756926939407,1.9626430653863485,58.0121574401855,1.6218878369353982,1.7014376350811546,1.9102263354716151,8.84740737723369,0.8946176732454119,4.659503561109561,21.128303527832,61.16457411646838,2.1232083978561254,5.410424853675067,24.330899744122107,56.74657440185543,2.615582789888373,0.689992967140624,7.891457062214614,4.606473938458497,19.9987201690674,19.9987201690674,16.68624059359233,1.3633864660309092,3.122292837723208,168.4462331136066,7.419350431515621,8.859213040425232,34.59439145028591,21.8502082824707,6.106293775322965,1.261080155089498,0.208562582731247,1.9090676557602153,2.79085469245911,27.8985023498535,3.9405902616679667,20.694210301274847,1.2952454420801716,4.4752938617830695,17.18078038427565,12.878345125360989,37.9348411560059,1.4814452388488193,2.172565493636465,41.63513748986369,3.630669458027192,44.31414470590396,33.0302810668945,1.0725490356310763,0.8630841639711325,1.8399620850522744,9.126166288453836,12.619553971290586,16.50354941991658,8.56313230594,47.951488494873,16.21199058392198,1.7544823884964003,1.6362443044652335,6.383124850086264,19.9987201690674,46.61071014404293,5.53828017661969,15.028652790614549,5.881604484889819,51.2292556762695,10.038126146793354,34.23017185926428,6.51236815651258,1.4567569591358502,2.076196449463657,1.8761811481928017,18.925888061523448,3.9327616280033504,2.0548694782843038,1.2153883772372303,1.6220042595072146,1.4330732064288965,7.554451047841988,58.0121574401855,88.34142875671375,10.591448278196403,2.036434942479795,7.305577176263135,6.418628302605257,0.36773688971838886,1.5902877553351644,1.22987276409071,1.0855428954861672,4.673437970876699,8.39621943235397,2.311129888319053,4.032163855433465,0.585424542427063,7.774993162129967,19.369683086872122,2.38616251945496,4.834110844702949,9.733066309582105,12.534043219645286,30.8208179473877,2.1667279442674237,2.171502615454831,4.4914110840535635,10.560701838006148,2.489601896987076,10.37452882528306,0.7565226992474329,20.204888648456954,30.3568897247314,56.19945430755615,1.1245410933648015,0.7847387882837544,6.463297165357148,3.4619742159388567,18.404796600341786,73.1464614868164,37.1603698730469,39.94649548828602,3.5107475999432296,37.9348411560059,6.895934772491451,6.22010278701782,38.46075026194266,1.5107092475979629,210.006393432617,2.6277569860984107,42.0206313431263,1.369405029057965,1.97790431976318,8.316821207099242,4.857405149570391,10.065576052979415,1.1895339058047574,19.099896080423104,3.510468957854101,0.9193964696238786,1.863543657181056,129.951995849609,9.92280630270641,10.556650514403978,1.7627302641522127,24.3561191558838,1.4577180104828924,11.4722127914429,0.3322365894559001,0.5634055859565216,5.3080669095118855,129.951995849609,9.711320562460989,3.529259702689212,1.8764812426759714,4.210008066099887,128.959991455078,15.2319679260254,1.905426003890378,3.6438080373211443,1.9633622683641565,14.3668284416199,4.316227357387543,1.6901626770188207,3.9672335088253017,1.1877069268808802,1.0930551341449168,79.9948806762695,15.807515220208607,1.40313744544983,2.5120565431082964,1.3866945295919517,3.7745442014526223,0.992767691612244,5.3119930710111385,20.489034876227375,46.41187185049057,15.248735049675231,0.197314500808716,3.7517233277391386,3.5983240495125455,0.6347789389705192,28.0140800476074,12.54028701782225,2.289802155575969,4.084128769066023,8.446788981556903,4.792231950759892,1.4016140002556368,16.252638438852813,7.1122907008041665,13.030903518199935,7.250213843324912,1.7745389344819469,22.595941543579123,2.08781242370605,12.5144128799438,42.01907920837405,2.2043885389963758,7.359196935506425,3.193644002931458,2.940443062782292,7.710059483383972,42.9511528015137,6.085691267669909,9.862084390719733,13.210035281612504,0.056253011205366674,12.255955183813366,1.52859401702881,14.4818696975708,35.924663901329026,2.4092646571430016,3.31936144828796,13.9635047912598,26.2662391662598,1.4211792812815724,3.675075328407379,4.576535622456246,1.8240537082865136,1.1908995223970242,0.9560783742105261,42.2612495422363,16.5331649780273,21.2351894378662,6.182818876845496,30.3743724822998,11.61773926019669,7.953380084545408,6.631462700403568,2.8366042190584646,3.597280196845535,1.2169644787310514,1.3126477677975936,1.7960605032222225,21.08896244106006,18.3268241882324,2.3383177518138387,1.457360256155697,8.734450626373283,0.7390465227996599,5.445434831449436,3.912251945894532,0.2736855497478009,12.5144128799438,28.62189137935638,25.8409309387207,0.8502385333977697,1.2845470293232526,2.8869889667539903,3.081978506098191,2.437030776287801,0.7384135741420697,2.036176388905598,1.948213992459756,2.261998570587449,3.8489882507494526,0.9137538361523684,21.887982130050684,7.814002730780176,5.207577346012121,3.985631480813025,25.373940865198776,0.5731947392259678,6.828725218772865,7.547419687940009,7.29108400146167,0.9176806793264517,37.9348411560059,1.0953189590826182,10.963960021734216,3.173080672820412,3.9595904029332676,0.8398980218728354,14.717267670414662,128.959991455078,1.3600102254331499,0.8776333771205596,13.594083044839932,0.9137717509242494,4.111142151885563,0.9577712042619713,1.3671997982279545,129.951995849609,6.65328884124756,0.45552801918760644,0.9792207885261596,28.738175898790377,1.140096199880374,21.087842559814458,6.851143736927043,20.9092082977295,37.9348411560059,3.98083271719005,1.7518360701967675,4.891419700213837,33.06614685058595,6.907490689214779,1.3445227777540887,3.8850011049199336,3.439891582390048,1.3856771261646197,3.2412659483849455,2.0302643758951,3.371377145743133,3.1248779247204475,138.85219303766883,2.5126305295947637,5.407923204008731,129.951995849609,2.8132311229048086,2.119688272252119,5.676151048569451,1.9324365772162884,1.333411083106071,4.317139718792227,1.3993956904971245,17.496161020719093,9.154513871504205,6.940723879403804,12.47404384613035,3.0054407295855623,6.08646383329674,20.92718410491945,1.29760432596772,1.1837913957360675,6.313705179501667,3.0702594150888163,1.4052530400948242,4.968958614437204,12.5144128799438,4.926543298568435,1.1120343816324771,6.350494743039365,5.382757607344035,1.1385749578476,3.49624459279745,3.216003536403953,4.0766143026899115,24.371920247872684,1.2322833259578472,0.0553216114640236,1.9413225098167832,13.3522911071777,1.668516988781365,1.5058543373787305,1.2784984211364283,7.033706580867637,13.189058008498716,2.0660382021557173,0.1618253514170646,10.050004221498966,37.9348411560059,7.166206926107398,2.4610150370158634,37.154810667037985,3.991351086285806,2.4736137227578574,3.784967617157263,9.248300300194668,144.682052612305,6.852810303189543,10.384841290370149,1.5425649833034818,5.307807832956316,2.4371156238019465,77.153694152832,1.2814352926129695,2.352482050860999,65.26649051904681,0.6798320290363713,3.1260696144636015,37.9348411560059,1.4975981021799676,21.7089195251465,23.1675319671631,0.9733871562140328,5.168614025626865,1.0808927524974787,140.291549682617,6.026948465079798,75.87916234632333,24.619429379701593,0.6265217661857605,5.672025698819198,2.395410964655321,3.357577141599367,4.230394999260334,2.655714049935341,7.703044044932254,0.6506691943717807,1.840923171635572,3.9759894457053058,4.60397217299912,34.2039222717285,5.575376102328294,5.504617482233823,1.81270879507065,0.714284774241792,0.9662416959933425,37.9348411560059,2.7969708780447635,95.4715881347656,2.832278821084469,10.799102499567216,7.97960667996793,0.7860290071018691,5.514693740495417,12.5144128799438,3.2540116739544,7.273405311685621,2.049130079680925,48.1916694641113,1.2245539848227054,3.4071510452212714,1.1329730499687618,22.186032953716456,1.9358057027654012,12.5144128799438,11.470572648850156,1.8647881052205673,3.0411133247613913,9.424396503803344,4.41910406583693,1.1393705733287869,1.749062577899742,17.698870986700026,1.6375611750192414,2.4553059521648617,4.7981499527328975,2.2930421575352,1.2941994496955063,29.43652087763736,18.359030000865477,2.0334938820018325,43.47011915445316,8.377248356739665,12.5144128799438,5.4328816930453,1.8976662125946446,1.907095722132182,10.267392650465755,42.763971358537674,2.218530123782718,6.69797049789894,52.74618023633957,2.360297530889511,4.847226862928697,18.422271236777306,2.08781242370605,5.877884872754418,1.6768652046168286,1.9103224476196383,129.951995849609,1.4482620833310436,4.788990085471099,0.220575004816055,12.5144128799438,1.6200358862031816,7.549799921544823,2.0973750307623824,3.469754662405759,2.656352393058213,5.9644742038514895,1.5676679738516943,22.3474636077881,5.626942015077483,1.4733821199979715,24.8863639831543,21.269147350237866,5.2068052989942535,37.9348411560059,3.8180193041500297,29.3043745676676,2.2127361187062466,1.4899420220635635,2.4007451100782906,13.89258908087971,6.6811963075347105,6.95448185503485,7.580782527508943,3.251276320760901,0.8577975204757025,13.987168149989946,11.627470629472354,3.9328145682811724,2.38616251945496,35.672283083200476,3.163544735459031,26.509691903465672,1.1057822385406233,0.157684981822968,21.2276649475098,129.951995849609,3.0171779115830577,0.46341524988477406,4.487586285386768,0.166606143116951,1.2678509144769856,129.951995849609,0.5064326313371631,3.9239824898540956,3.780566550813047,0.6575320438835127,6.528869688060613,4.292043072523065,5.812264886167318,1.5314859118070165,4.278688516840341,0.9558186063853402,4.394061494756629,0.539575934410095,49.72100400924685,219.54616800943998,27.78621295690537,6.95148419124493,1.8316735882566926,0.9767442641045274,3.611094492061116,0.9646931350881978,1.662642752361852,1.300424814224245,3.6205843488375344,4.980403557632046,3.984254426956178,2.513924195431176,6.996444806696909,2.0817904141617976,21.1431980133057,21.788961606065048,5.850771857882445,0.9073307999563447,129.951995849609,215.37066650390602,4.902550492684045,81.59784301122026,2.1906454178734096,65.98249793052655,6.220717869900368,2.825336207188282,1.9755291398674155,7.4116504891165365,4.368968051265586,43.2336324453355,12.5144128799438,29.18288230896,2.9792831912636744,2.883018690300366,1.35277497768402,18.0886306762695,6.038676595936213,9.67865471593266,2.9877980306413434,3.274377081129285,18.7100791931152,1.165349400371757,2.0938943402619112,2.971651928654562,1.170372968696204,37.9348411560059,3.031649410724637,2.4011567173860007,5.467013385560778,1.487418514194218,3.6222316490279307,1.2465801268505539,34.53288050339776,22.033200263977072,2.477896881810689,48.0866889953613,11.534753775596617,1.9511520047645778,21.04619884490965,3.9361865186245644,2.164012740154078,1.2364782181653091,7.76379484855212,43.96244430541995,10.995578099042177,8.013092805357545,9.252118401229358,4.950409319665699,22.27689337730405,12.7972917556763,0.9424800276756284,3.638518323929145,34.80799517264727,2.3337410915960644,1.424169720856698,6.081521261462384,7.757900166745278,0.5038894875487014,4.54557312385012,2.8657843309347752,2.7092955930203924,4.938281281126872,2.3236668083683285,2.4769996101191896,6.304894315662669,1.0308243965067094,2.5451614061991368,21.67156004905702,63.31678199768062,1.3181975438498224,14.17143678856405,28.879340165853495,104.47743606567376,3.885842738480405,6.838213482435713,2.8222259524858226,19.89660555124285,2.38616251945496,2.7770990777908446,41.21652936935424,6.6558582620187225,6.636914229393015,42.146161767152655,18.0500426292419,68.6986770629883,5.5382330669806485,43.0213890075684,3.659802856562017,14.2036800384521,13.108133271801107,9.076863119999565,0.6913735633050753,22.111367753573834,7.912667470673717,11.88499508252957,0.6844261559792831,4.380022626074535,1.8704909855085943,2.666964968969656,3.1046954462570815,21.90971755981445,10.072322795788446,6.716142194966477,20.2139603793621,4.05124338096883,19.92367058992388,1.8750813199414134,10.183867707252503,0.7550155729389395,1.208559121916203,10.312003731727593,1.762640298883636,6.884675287431288,2.38616251945496,37.9348411560059,1.5416071194189571,5.09423060729125,4.105782775485769,4.192152028364583,0.8178359062047835,4.790670832390165,15.610053062439,5.065211892127988,66.38996187845872,42.9934692382813,12.650516196489315,17.076396933623712,15.5543785095215,61.7108421325684,2.931740620351854,57.053150177002,129.951995849609,8.423000755493458,7.904132445653272,28.02388477325437,0.8676813742039735,11.341559262836684,12.5144128799438,0.5566976559771739,1.6740814237682913,7.108813671202493,12.023573318777016,79.8993225097656,3.6141187189481196,0.841499984264374,36.0910682678223,12.765262694944912,4.136165837085869,15.917023086122104,196.675827026367,13.461388309796641,7.702485746985314,24.763748121261568,43.138786315918,2.9410155835476774,36.0910682678223,9.1358029127121,26.3682279586792,176.77914047241237,1.79174995422363,0.895628213882446,4.022348618507385,15.855257445573804,10.16840114593506,25.4657974243164,36.0910682678223,1.0712533248714635,49.6732864379883,129.951995849609,1.5720225671927122,33.88364451071788,11.8699254989624,13.064474761486052,2.589105529154276,0.7643160742475653,1.8718159297666868,129.951995849609,1.8748391950256604,1.07564294338226,13.219296137491853,2.8365171415344737,9.918076594670621,2.504346229472989,1.8400951500167424,13.7826328277588,2.38616251945496,21.6739749908447,1.310947303099032,13.069283428186756,5.416531556396075,11.8699254989624,1.2447818112406106,2.3259435519576073,4.577029820324642,6.757788896560667,62.3937911987305,0.7777038679735079,180.948944091797,45.93240308761595,0.9379483929890043,0.926944494247437,5.158387167637167,23.449889421463,2.095961842646724,36.0910682678223,32.507242838541664,8.077443559964495,3.795670447164573,11.39034490287302,0.9367698941690223,51.3089447021484,18.1642913818359,6.785930583874387,9.653820613255863,12.579502463340756,1.178925572689307,4.799427700566725,2.3057360027649607,7.097598151486604,48.8611183166504,12.9463205337524,2.80725002288818,19.38506889343265,1.1795386865515913,130.331901550293,2.38616251945496,36.0910682678223,22.2573871612549,17.06135177612305,2.0147306260503375,4.671874219092771,18.97677969932558,1.8890761829997322,1.0117293596267698,1.6280684555478917,0.7013683671128368,1.5525905672784737,5.721111576557157,2.82714021205902,6.67254504561425,3.4090420925849667,5.807553323109945,12.2631816864014,1.9087627595405512,5.419011305769283,28.5814571380615,1.8369827727973467,2.958960063010454,9.340473702459626,1.3924058482602797,0.8953928833568418,2.180079628282146,2.166912844191947,36.0910682678223,1.4046009672539583,14.25217723846435,2.411829246601148,6.4626827811201535,0.5274289540537345,24.32090187072755,93.958137512207,2.008930958468806,1.2905255397781743,7.943119328698993,4.2963559721645534,27.848054349422437,3.790262498353657,2.571682422513693,7.534147791067754,26.679412581302486,3.5438018545271857,9.427601473199001,5.38247612544469,1.0653755513054362,71.19073367118833,5.540159955620767,64.2136611938477,3.604449937966737,1.176473070969101,7.0561749693168245,105.93095525105787,4.909673289060591,3.210683498684675,124.801906585693,1.6992731491484765,9.565419077873223,1.45924212419006,18.338784128427523,3.214236035667084,17.7824554443359,7.479166378206182,18.395000783010747,9.987919762990114,13.26266992092133,2.129450560437413,2.160082445414953,9.822180926799778,2.2282925532026976,36.0910682678223,6.102447587251663,5.254774186436244,40.7650718688965,12.7229824066162,4.52929793085371,8.386873582998918,1.03117661357562,7.6312633216380945,1.1742293807593263,3.6101276720011675,2.875476146557115,1.780106625284058,3.3463446982204936,5.541941170451001,6.734267316081303,63.9874877929688,1.0153153132308612,29.735158528600405,22.7195644378662,0.637499988079071,37.882281109690666,1.3473231535568666,45.4702110290527,2.717691188809848,4.560291720310592,8.472123444287313,5.849701193617835,2.1186997877473526,4.876556551645673,2.9288677831490832,1.0871793566852483,13.621131102244076,6.53752594463753,23.516695022583,2.7412949309994787,7.2186526618897915,2.3684706262167583,2.5137177126392425,43.1228408813477,6.261334206409504,14.328094164530434,1.3280222161441575,2.4838749912944986,2.7335667632408995,7.778717987239358,14.948459529214423,30.74772453308105,4.207607472731249,13.000069646902807,25.450588661432196,124.212619781494,6.500236768275485,4.083428184743277,3.9413118362426793,24.32090187072755,25.409761428833,6.802990118662507,3.8382686534896493,9.416448803508985,6.377044108041369,1.2691165710037398,3.2934041061709,81.7598342895508,2.987512426313601,15.2849893569946,0.7897777332525168,1.9100949679102226,3.947121232748032,0.637499988079071,4.03477721925705,1.8804386007998686,36.0910682678223,16.6765098571777,25.197168111801172,11.194507598877,0.8672870009559746,7.842714510763743,3.8050919919805515,21.73278827017001,1.4651303959500266,11.286042913794512,2.45624995231628,129.5327987670895,6.181171383708695,81.8836212158203,2.213449207803822,0.637499988079071,3.5356224814341175,7.913894802331924,2.475816626583829,1.8123277443889017,6.323252294869984,5.073524751561754,4.44291349252065,36.0910682678223,41.76476401090623,2.38616251945496,3.010353233489633,3.1497531938854118,6.780862325971783,129.951995849609,0.78169575867218,18.813012868165995,3.2955940868469735,35.97464561462405,11.8699254989624,210.006393432617,36.0910682678223,37.5715599060059,1.989596984991804,2.32718744348254,0.6120361291114821,0.5946236192525229,3.1266339358655713,11.8699254989624,41.1603012084961,1.855664216789853,1.8167535403654689,2.38616251945496,6.014420568477363,4.618979232955952,4.410295421310836,8.188833417800755,0.863674819469452,6.063016144907663,2.058399999842924,31.165744205315914,2.0390073359012564,1.4741990447044369,3.313591221395213,9.10508322219054,88.75665846467027,1.8356971123388832,15.4467325210571,36.0910682678223,1.1636920703781979,5.449463594079818,0.9985799197173405,1.1222860949081277,4.393527019768955,2.9197940915822995,1.0681958932836144,14.261894494295124,4.328476778417826,16.930731739316652,0.7003983329104183,0.39594629140732085,2.844984075507604,1.8866617664600067,1.1829747547560328,0.044202929983536365,0.926119414581494,13.810133934021,6.68006373156567,8.12534607084172,6.171086058020591,1.1270058208447729,99.074104309082,17.20950538526255,82.28569265206637,1.324220196176655,8.53670342763265,1.6861290755320568,2.1261267931230607,53.1215591430664,5.041070678017362,2.462042896485288,1.5156369643906757,6.793769985153562,0.9105109315343769,1.2257136962783164,13.784628717104598,1.1797236448432182,3.1913978530436147,15.681660970052079,4.253592652987832,18.2556705474854,9.869130684269797,23.732852935791,5.42065001775821,1.034059546123713,63.67138671875,5.90181972299303,1.013853653051235,0.7432613082048372,16.19017856461661,2.79156775608145,17.3937673568726,9.494646725746303,1.822923717058101,15.542848623023833,2.2283462532361344,7.294680017977951,8.28919791430233,1.5167547610516734,63.67138671875,1.575551344516377,28.541792551676433,2.757749611304865,3.885541208088401,4.256336347623306,182.86996968587232,1.1512316709541406,1.561784636396081,4.159587578340009,11.720851504238393,11.8699254989624,0.9613163884518281,5.989736788581918,5.554469623063741,0.154734000563622,4.90493829761232,9.54624557495117,14.82318896055222,8.045768189814796,25.37757173538203,63.6970634460449,1.587115301250738,4.5378553356583184,3.565113500535688,2.7372165013242644,31.354075431823752,2.674808144569397,3.0763991275062303,3.5345284174037697,237.088958740234,1.876639486970128,2.719865166478689,2.2307772684273206,129.951995849609,3.650216457795126,1.7521326431206297,5.592212139660942,10.956690646409971,0.8202189532464655,12.024860121987073,2.4740815127179747,9.54624557495117,16.999892635199863,3.764945656061172,1.5482521413517416,4.957584473863243,5.59854544640592,18.02879118744063,3.5965130478143714,20.968507627646158,5.929563222491012,41.7053833802541,1.4266215537209066,2.222360368987376,17.324357938766468,0.528823737759549,41.34396991729736,6.625749183112179,17.3778324127197,9.360573619604114,64.40382614135744,4.53028688185355,2.0468414023518564,2.05692648783065,1.4813933005290372,3.87775905712231,2.3281801318588817,2.100580203418548,28.1261882781982,13.949793010950083,2.3765416973167,24.1309986114502,15.9033098220825,1.3442197232507163,1.050646803075435,17.07602940499782,12.25193147085331,55.5887222290039,72.8994903564453,4.611431067188581,6.8031479035472024,11.540009399323623,1.551044252328574,23.7285280227661,2.3466796427965178,8.97600092877371,0.762449979782104,11.429310798645,210.006393432617,9.897389463425682,3.552489191293717,10.634937563538552,1.9886453641785506,1.2094928839944319,30.4132556915283,6.22523404215552,2.751996126488177,4.312043818143697,12.643256871946257,3.231672753305997,8.117531108856202,0.2854727275137389,2.86875009536743,2.7970046960390533,9.456954255700092,5.813551549116769,1.8082340492142588,7.774279184201184,0.6961511146778672,5.698857181602055,0.37813536709752577,0.8607956447863372,14.9252462387085,58.35472361246743,5.390410023766598,1.4428455498483441,1.5366164680815648,4.974360532230802,1.0816623936352057,8.617812247503371,1.5987023454287963,126.192043304443,1.1768706380250216,0.637499988079071,1.5574431466177485,2.2690477983688746,14.645832856496177,1.2854357656931614,12.600451514124876,10.418856186595377,1.165641263775203,2.0423797556154795,122.46033092056018,2.8580580085515987,4.644883260130883,4.898789557425874,17.62061476707457,1.7215833865756691,32.338416552102125,1.8841622169266004,3.8156338993992143,8.190525662899024,1.0081975882982501,3.3398960760661534,103.406982421875,1.0921842952569336,9.515451431274414,5.868222852069211,0.897961896713649,2.293819105625151,0.985429016230297,2.7442538692607537,19.0754318237305,0.8654355274858926,0.5755944550037385,0.6973650235714027,7.653074609962372,1.2099194056616067,2.303886952308508,0.8503902098857503,2.4771021489191942,1.056282946180839,63.67138671875,4.454871303037461,129.951995849609,2.959223458712752,2.38616251945496,0.477833032608032,6.327853340368994,2.8929154078165666,0.828073576493905,8.760665766894821,1.5544682258257136,7.059515145752166,8.640699842473962,8.502027684201797,15.060518868267538,126.913864135742,4.862296553239937,3.4314385517090558,9.54624557495117,129.5327987670895,16.638897304147026,1.024744400487037,0.6377489877243839,14.443953719404005,17.4577732086182,2.6128429487347598,19.66857875435098,4.170240060247555,0.7303124964237215,4.833764641649191,71.83313369750975,9.54624557495117,0.6526616816337287,20.817684173584,44.48357689380634,5.753003675829281,2.2827422022819484,2.4218240184709425,1.534297887120665,2.6308979276816045,17.091249510645884,6.868762749328929,129.951995849609,17.677807475036047,2.2857524473820994,1.7701430506372842,42.908713181813546,3.8764182547728243,4.738983791608078,0.6843214754416783,7.536306402700774,2.867015363382443,10.383361492838182,2.5675941665967335,52.7494468688965,1.307276187353699,25.3890533447266,14.820873916149125,17.1883155465126,2.5778334384867505,2.6663719260195893,4.570699101977651,2.7253411956304743,0.17320717637923277,63.67138671875,6.466406545118443,1.0918967495573337,6.782095339894292,2.7046751775754196,8.90851753000374,129.951995849609,26.660957217216424,1.5423151601444591,1.5276417649266398,4.067527161152276,32.0922203063965,1.4117213144883922,2.5262516066432017,2.462672480212076,4.262654763147316,28.8211936950684,0.7720806214958429,0.8041477771924139,0.8964210898731146,15.888263374567034,18.49248139063518,9.54624557495117,32.176437109708786,2.883716101745785,1.8732371046429583,108.827011108398,0.9602979372984201,2.21009672881477,37.083597719669335,63.67138671875,2.3355680221188675,14.577672958374,33.295946359634414,0.7703683413477711,0.319176852703094,4.685015799937308,21.030064741770428,0.607403039932251,2.2031767502805963,4.825185988483762,6.941683610280357,6.9657328082964955,5.618447110420322,0.738090634346008,14.81710317005982,128.959991455078,1.675264176763134,1.1018899785938554,129.951995849609,2.8154337406158447,18.52741837501528,1.2169325919146987,3.669452592178626,0.553938746452332,74.17119725545247,2.161236768066886,1.4065987263240063,8.83637139532301,0.9473423729340229,4.85646372749692,2.0562939696932494,24.3996105194092,5.721499626636503,16.81746761401494,8.507893694067997,4.702075373772142,13.33681046962738,0.939160585742105,0.6622932039733455,5.624574267597339,1.155688234761489,3.6975907185114916,2.270248083740621,3.200488291846381,6.295815359801042,5.952299970647561,4.76296997070313,6.145907819271082,1.0688158165324817,128.959991455078,105.51385498046852,1.1951655576413036,9.395387708057056,0.7314755006170856,2.148144036250776,32.154443353414536,0.577757730105015,2.022199755205827,2.903384768962859,19.8095874786377,10.835693085193636,3.74090863910376,1.93608748912811,9.36949144239011,1.5331025469687678,6.4693020385611435,3.8474999442696567,6.566820887002083,11.543033472632853,0.358493596315384,0.47924780845642045,1.7059107304953827,5.758344967554257,2.4026083353352043,7.715365331906544,1.824695973760553,9.67931152582169,11.572621464729309,3.582925726349156,1.821116706728933,8.699293891588834,4.252859115600587,2.08781242370605,14.318540973248684,4.686431052473682,0.6410222103198369,3.1694997178541686,43.7207431793213,7.468894600868225,1.4695704677701007,19.31588932871816,5.856461803118381,2.860701548892099,1.7957978180506162,22.0285587310791,24.612673441569033,1.1131257910281422,13.74984300136568,2.479243932543575,13.899311141534282,129.951995849609,3.4509891434149353,0.75,2.0995151909977885,1.8766294317391086,6.056736981097076,3.4183758168648444,0.637499988079071,1.290145268198103,23.9651947021484,0.0806852802634239,1.16626369953156,1.7239504575442792,23.937954282760607,30.4182872772217,2.0880456566810617,0.6976915376679022,10.650994994810643,3.5322975336688844,1.6933921937515424,5.827566271828067,0.8756678851918793,0.137062504887581,1.663889943758646,2.2150108265989252,3.5812675457889758,7.915501832962043,7.681761702522636,1.7887545073104854,2.308469619702648,5.578588530421258,63.67138671875,9.773317356528473,2.3482698674003286,2.1999034811685116,36.07153785228729,6.706392720060534,33.5339361131191,1.24440002441406,14.941148583378114,1.8651519757695503,10.674867346882804,54.305735766887665,20.485385894775398,1.5426898425231217,5.190619234945261,6.038681698223895,0.148587226867676,1.5940246498478312,14.832311719656003,27.261931777000438,2.4653290294367722,10.15513127517294,39.1537195841471,0.988181054592133,0.3902451395988462,4.465952685475351,6.369710683822635,35.8787841796875,12.355525149396186,69.4619216918945,4.665703985095026,0.5310396380853234,13.89490365982055,1.3453605860471733,1.6398996470204308,1.1698333965124281,1.1153588017934553,25.616788029670698,3.2400364443047414,1.49517683873051,3.736533546312289,1.7803549170494102,40.0271987915039,2.5983371635278063,4.552912630140783,10.311945078324314,3.53794682025909,10.796392401603802,6.092596078675891,0.0870366021990776,5.837656934945178,2.38616251945496,15.9782705307007,3.309596871457448,11.2433643341064,4.177327603101736,5.986569881439206,40.0271987915039,5.533255717333622,8.94514083862305,2.38616251945496,1.9002491395388337,6.427959775924677,3.883452888239513,56.024884790182035,42.6504135131836,0.474299997091293,2.2294459419476027,2.959224308078939,23.2425479888916,7.971980626384415,0.579659432437225],\"xaxis\":\"x\",\"yaxis\":\"y\",\"type\":\"histogram\"}],                        {\"template\":{\"data\":{\"bar\":[{\"error_x\":{\"color\":\"#2a3f5f\"},\"error_y\":{\"color\":\"#2a3f5f\"},\"marker\":{\"line\":{\"color\":\"#E5ECF6\",\"width\":0.5},\"pattern\":{\"fillmode\":\"overlay\",\"size\":10,\"solidity\":0.2}},\"type\":\"bar\"}],\"barpolar\":[{\"marker\":{\"line\":{\"color\":\"#E5ECF6\",\"width\":0.5},\"pattern\":{\"fillmode\":\"overlay\",\"size\":10,\"solidity\":0.2}},\"type\":\"barpolar\"}],\"carpet\":[{\"aaxis\":{\"endlinecolor\":\"#2a3f5f\",\"gridcolor\":\"white\",\"linecolor\":\"white\",\"minorgridcolor\":\"white\",\"startlinecolor\":\"#2a3f5f\"},\"baxis\":{\"endlinecolor\":\"#2a3f5f\",\"gridcolor\":\"white\",\"linecolor\":\"white\",\"minorgridcolor\":\"white\",\"startlinecolor\":\"#2a3f5f\"},\"type\":\"carpet\"}],\"choropleth\":[{\"colorbar\":{\"outlinewidth\":0,\"ticks\":\"\"},\"type\":\"choropleth\"}],\"contour\":[{\"colorbar\":{\"outlinewidth\":0,\"ticks\":\"\"},\"colorscale\":[[0.0,\"#0d0887\"],[0.1111111111111111,\"#46039f\"],[0.2222222222222222,\"#7201a8\"],[0.3333333333333333,\"#9c179e\"],[0.4444444444444444,\"#bd3786\"],[0.5555555555555556,\"#d8576b\"],[0.6666666666666666,\"#ed7953\"],[0.7777777777777778,\"#fb9f3a\"],[0.8888888888888888,\"#fdca26\"],[1.0,\"#f0f921\"]],\"type\":\"contour\"}],\"contourcarpet\":[{\"colorbar\":{\"outlinewidth\":0,\"ticks\":\"\"},\"type\":\"contourcarpet\"}],\"heatmap\":[{\"colorbar\":{\"outlinewidth\":0,\"ticks\":\"\"},\"colorscale\":[[0.0,\"#0d0887\"],[0.1111111111111111,\"#46039f\"],[0.2222222222222222,\"#7201a8\"],[0.3333333333333333,\"#9c179e\"],[0.4444444444444444,\"#bd3786\"],[0.5555555555555556,\"#d8576b\"],[0.6666666666666666,\"#ed7953\"],[0.7777777777777778,\"#fb9f3a\"],[0.8888888888888888,\"#fdca26\"],[1.0,\"#f0f921\"]],\"type\":\"heatmap\"}],\"heatmapgl\":[{\"colorbar\":{\"outlinewidth\":0,\"ticks\":\"\"},\"colorscale\":[[0.0,\"#0d0887\"],[0.1111111111111111,\"#46039f\"],[0.2222222222222222,\"#7201a8\"],[0.3333333333333333,\"#9c179e\"],[0.4444444444444444,\"#bd3786\"],[0.5555555555555556,\"#d8576b\"],[0.6666666666666666,\"#ed7953\"],[0.7777777777777778,\"#fb9f3a\"],[0.8888888888888888,\"#fdca26\"],[1.0,\"#f0f921\"]],\"type\":\"heatmapgl\"}],\"histogram\":[{\"marker\":{\"pattern\":{\"fillmode\":\"overlay\",\"size\":10,\"solidity\":0.2}},\"type\":\"histogram\"}],\"histogram2d\":[{\"colorbar\":{\"outlinewidth\":0,\"ticks\":\"\"},\"colorscale\":[[0.0,\"#0d0887\"],[0.1111111111111111,\"#46039f\"],[0.2222222222222222,\"#7201a8\"],[0.3333333333333333,\"#9c179e\"],[0.4444444444444444,\"#bd3786\"],[0.5555555555555556,\"#d8576b\"],[0.6666666666666666,\"#ed7953\"],[0.7777777777777778,\"#fb9f3a\"],[0.8888888888888888,\"#fdca26\"],[1.0,\"#f0f921\"]],\"type\":\"histogram2d\"}],\"histogram2dcontour\":[{\"colorbar\":{\"outlinewidth\":0,\"ticks\":\"\"},\"colorscale\":[[0.0,\"#0d0887\"],[0.1111111111111111,\"#46039f\"],[0.2222222222222222,\"#7201a8\"],[0.3333333333333333,\"#9c179e\"],[0.4444444444444444,\"#bd3786\"],[0.5555555555555556,\"#d8576b\"],[0.6666666666666666,\"#ed7953\"],[0.7777777777777778,\"#fb9f3a\"],[0.8888888888888888,\"#fdca26\"],[1.0,\"#f0f921\"]],\"type\":\"histogram2dcontour\"}],\"mesh3d\":[{\"colorbar\":{\"outlinewidth\":0,\"ticks\":\"\"},\"type\":\"mesh3d\"}],\"parcoords\":[{\"line\":{\"colorbar\":{\"outlinewidth\":0,\"ticks\":\"\"}},\"type\":\"parcoords\"}],\"pie\":[{\"automargin\":true,\"type\":\"pie\"}],\"scatter\":[{\"marker\":{\"colorbar\":{\"outlinewidth\":0,\"ticks\":\"\"}},\"type\":\"scatter\"}],\"scatter3d\":[{\"line\":{\"colorbar\":{\"outlinewidth\":0,\"ticks\":\"\"}},\"marker\":{\"colorbar\":{\"outlinewidth\":0,\"ticks\":\"\"}},\"type\":\"scatter3d\"}],\"scattercarpet\":[{\"marker\":{\"colorbar\":{\"outlinewidth\":0,\"ticks\":\"\"}},\"type\":\"scattercarpet\"}],\"scattergeo\":[{\"marker\":{\"colorbar\":{\"outlinewidth\":0,\"ticks\":\"\"}},\"type\":\"scattergeo\"}],\"scattergl\":[{\"marker\":{\"colorbar\":{\"outlinewidth\":0,\"ticks\":\"\"}},\"type\":\"scattergl\"}],\"scattermapbox\":[{\"marker\":{\"colorbar\":{\"outlinewidth\":0,\"ticks\":\"\"}},\"type\":\"scattermapbox\"}],\"scatterpolar\":[{\"marker\":{\"colorbar\":{\"outlinewidth\":0,\"ticks\":\"\"}},\"type\":\"scatterpolar\"}],\"scatterpolargl\":[{\"marker\":{\"colorbar\":{\"outlinewidth\":0,\"ticks\":\"\"}},\"type\":\"scatterpolargl\"}],\"scatterternary\":[{\"marker\":{\"colorbar\":{\"outlinewidth\":0,\"ticks\":\"\"}},\"type\":\"scatterternary\"}],\"surface\":[{\"colorbar\":{\"outlinewidth\":0,\"ticks\":\"\"},\"colorscale\":[[0.0,\"#0d0887\"],[0.1111111111111111,\"#46039f\"],[0.2222222222222222,\"#7201a8\"],[0.3333333333333333,\"#9c179e\"],[0.4444444444444444,\"#bd3786\"],[0.5555555555555556,\"#d8576b\"],[0.6666666666666666,\"#ed7953\"],[0.7777777777777778,\"#fb9f3a\"],[0.8888888888888888,\"#fdca26\"],[1.0,\"#f0f921\"]],\"type\":\"surface\"}],\"table\":[{\"cells\":{\"fill\":{\"color\":\"#EBF0F8\"},\"line\":{\"color\":\"white\"}},\"header\":{\"fill\":{\"color\":\"#C8D4E3\"},\"line\":{\"color\":\"white\"}},\"type\":\"table\"}]},\"layout\":{\"annotationdefaults\":{\"arrowcolor\":\"#2a3f5f\",\"arrowhead\":0,\"arrowwidth\":1},\"autotypenumbers\":\"strict\",\"coloraxis\":{\"colorbar\":{\"outlinewidth\":0,\"ticks\":\"\"}},\"colorscale\":{\"diverging\":[[0,\"#8e0152\"],[0.1,\"#c51b7d\"],[0.2,\"#de77ae\"],[0.3,\"#f1b6da\"],[0.4,\"#fde0ef\"],[0.5,\"#f7f7f7\"],[0.6,\"#e6f5d0\"],[0.7,\"#b8e186\"],[0.8,\"#7fbc41\"],[0.9,\"#4d9221\"],[1,\"#276419\"]],\"sequential\":[[0.0,\"#0d0887\"],[0.1111111111111111,\"#46039f\"],[0.2222222222222222,\"#7201a8\"],[0.3333333333333333,\"#9c179e\"],[0.4444444444444444,\"#bd3786\"],[0.5555555555555556,\"#d8576b\"],[0.6666666666666666,\"#ed7953\"],[0.7777777777777778,\"#fb9f3a\"],[0.8888888888888888,\"#fdca26\"],[1.0,\"#f0f921\"]],\"sequentialminus\":[[0.0,\"#0d0887\"],[0.1111111111111111,\"#46039f\"],[0.2222222222222222,\"#7201a8\"],[0.3333333333333333,\"#9c179e\"],[0.4444444444444444,\"#bd3786\"],[0.5555555555555556,\"#d8576b\"],[0.6666666666666666,\"#ed7953\"],[0.7777777777777778,\"#fb9f3a\"],[0.8888888888888888,\"#fdca26\"],[1.0,\"#f0f921\"]]},\"colorway\":[\"#636efa\",\"#EF553B\",\"#00cc96\",\"#ab63fa\",\"#FFA15A\",\"#19d3f3\",\"#FF6692\",\"#B6E880\",\"#FF97FF\",\"#FECB52\"],\"font\":{\"color\":\"#2a3f5f\"},\"geo\":{\"bgcolor\":\"white\",\"lakecolor\":\"white\",\"landcolor\":\"#E5ECF6\",\"showlakes\":true,\"showland\":true,\"subunitcolor\":\"white\"},\"hoverlabel\":{\"align\":\"left\"},\"hovermode\":\"closest\",\"mapbox\":{\"style\":\"light\"},\"paper_bgcolor\":\"white\",\"plot_bgcolor\":\"#E5ECF6\",\"polar\":{\"angularaxis\":{\"gridcolor\":\"white\",\"linecolor\":\"white\",\"ticks\":\"\"},\"bgcolor\":\"#E5ECF6\",\"radialaxis\":{\"gridcolor\":\"white\",\"linecolor\":\"white\",\"ticks\":\"\"}},\"scene\":{\"xaxis\":{\"backgroundcolor\":\"#E5ECF6\",\"gridcolor\":\"white\",\"gridwidth\":2,\"linecolor\":\"white\",\"showbackground\":true,\"ticks\":\"\",\"zerolinecolor\":\"white\"},\"yaxis\":{\"backgroundcolor\":\"#E5ECF6\",\"gridcolor\":\"white\",\"gridwidth\":2,\"linecolor\":\"white\",\"showbackground\":true,\"ticks\":\"\",\"zerolinecolor\":\"white\"},\"zaxis\":{\"backgroundcolor\":\"#E5ECF6\",\"gridcolor\":\"white\",\"gridwidth\":2,\"linecolor\":\"white\",\"showbackground\":true,\"ticks\":\"\",\"zerolinecolor\":\"white\"}},\"shapedefaults\":{\"line\":{\"color\":\"#2a3f5f\"}},\"ternary\":{\"aaxis\":{\"gridcolor\":\"white\",\"linecolor\":\"white\",\"ticks\":\"\"},\"baxis\":{\"gridcolor\":\"white\",\"linecolor\":\"white\",\"ticks\":\"\"},\"bgcolor\":\"#E5ECF6\",\"caxis\":{\"gridcolor\":\"white\",\"linecolor\":\"white\",\"ticks\":\"\"}},\"title\":{\"x\":0.05},\"xaxis\":{\"automargin\":true,\"gridcolor\":\"white\",\"linecolor\":\"white\",\"ticks\":\"\",\"title\":{\"standoff\":15},\"zerolinecolor\":\"white\",\"zerolinewidth\":2},\"yaxis\":{\"automargin\":true,\"gridcolor\":\"white\",\"linecolor\":\"white\",\"ticks\":\"\",\"title\":{\"standoff\":15},\"zerolinecolor\":\"white\",\"zerolinewidth\":2}}},\"xaxis\":{\"anchor\":\"y\",\"domain\":[0.0,1.0],\"title\":{\"text\":\"ecpm_sma\"}},\"yaxis\":{\"anchor\":\"x\",\"domain\":[0.0,1.0],\"title\":{\"text\":\"count\"}},\"legend\":{\"tracegroupgap\":0},\"margin\":{\"t\":60},\"barmode\":\"relative\"},                        {\"responsive\": true}                    ).then(function(){\n",
       "                            \n",
       "var gd = document.getElementById('32f5723c-656d-4360-9e54-83a34e7e706c');\n",
       "var x = new MutationObserver(function (mutations, observer) {{\n",
       "        var display = window.getComputedStyle(gd).display;\n",
       "        if (!display || display === 'none') {{\n",
       "            console.log([gd, 'removed!']);\n",
       "            Plotly.purge(gd);\n",
       "            observer.disconnect();\n",
       "        }}\n",
       "}});\n",
       "\n",
       "// Listen for the removal of the full notebook cells\n",
       "var notebookContainer = gd.closest('#notebook-container');\n",
       "if (notebookContainer) {{\n",
       "    x.observe(notebookContainer, {childList: true});\n",
       "}}\n",
       "\n",
       "// Listen for the clearing of the current output cell\n",
       "var outputEl = gd.closest('.output');\n",
       "if (outputEl) {{\n",
       "    x.observe(outputEl, {childList: true});\n",
       "}}\n",
       "\n",
       "                        })                };                });            </script>        </div>"
      ]
     },
     "metadata": {},
     "output_type": "display_data"
    }
   ],
   "source": [
    "df_1a = df[['ecpm_sma', 'profile_id']].groupby(['profile_id'], as_index=False).agg('mean')\n",
    "fig = px.histogram(df_1a, x=\"ecpm_sma\", nbins=200)\n",
    "fig.show()"
   ]
  },
  {
   "cell_type": "markdown",
   "id": "ac95a652",
   "metadata": {},
   "source": [
    "### Задание 1.b\n",
    "Отобразить средние eCPM-ы по городам, версиям ОС"
   ]
  },
  {
   "cell_type": "code",
   "execution_count": 127,
   "id": "27df32ba",
   "metadata": {},
   "outputs": [],
   "source": [
    "# Этот расчет для более приятного отображения на графиках\n",
    "df_1b_city = df[['ecpm_sma', 'city']].groupby(['city'], as_index=False).agg('mean')\n",
    "df_1b_os = df[['ecpm_sma', 'os_version']].groupby(['os_version'], as_index=False).agg('mean')"
   ]
  },
  {
   "cell_type": "markdown",
   "id": "eb5b1d21",
   "metadata": {},
   "source": [
    "По городам"
   ]
  },
  {
   "cell_type": "code",
   "execution_count": 128,
   "id": "b5a74225",
   "metadata": {},
   "outputs": [
    {
     "data": {
      "application/vnd.plotly.v1+json": {
       "config": {
        "plotlyServerURL": "https://plot.ly"
       },
       "data": [
        {
         "alignmentgroup": "True",
         "bingroup": "x",
         "histfunc": "avg",
         "hovertemplate": "city=%{x}<br>avg of ecpm_sma=%{y}<extra></extra>",
         "legendgroup": "",
         "marker": {
          "color": "#636efa",
          "pattern": {
           "shape": ""
          }
         },
         "name": "",
         "offsetgroup": "",
         "orientation": "v",
         "showlegend": false,
         "type": "histogram",
         "x": [
          "Aberdeen",
          "Abilene",
          "Addison",
          "Afton",
          "Akron",
          "Alameda",
          "Alamogordo",
          "Albany",
          "Albuquerque",
          "Alexandria",
          "Allentown",
          "Alpharetta",
          "Altamonte Springs",
          "Altoona",
          "Alvarado",
          "Amery",
          "Anaheim",
          "Anchorage",
          "Anderson",
          "Angola",
          "Ann Arbor",
          "Anoka",
          "Apex",
          "Apopka",
          "Appleton",
          "Arcadia",
          "Ardmore",
          "Arkansas City",
          "Arlington",
          "Arvada",
          "Asbury Park",
          "Ashburn",
          "Asheboro",
          "Athens",
          "Atlanta",
          "Auburn",
          "Augusta",
          "Aurora",
          "Austin",
          "Bainbridge Island",
          "Bakersfield",
          "Baltimore",
          "Bangor",
          "Bardstown",
          "Bartlesville",
          "Basking Ridge",
          "Batavia",
          "Batesville",
          "Baton Rouge",
          "Battle Creek",
          "Bay City",
          "Bayonne",
          "Baytown",
          "Beatrice",
          "Beaufort",
          "Beaumont",
          "Beaverton",
          "Bedford",
          "Bell Gardens",
          "Belle Vernon",
          "Bellefontaine",
          "Belleville",
          "Bellevue",
          "Bellflower",
          "Bellingham",
          "Bend",
          "Berlin",
          "Bethel Park",
          "Bethlehem",
          "Billings",
          "Biloxi",
          "Binghamton",
          "Birmingham",
          "Bismarck",
          "Blairsville",
          "Bloomfield",
          "Bloomingdale",
          "Bloomington",
          "Blue Springs",
          "Boca Raton",
          "Boise",
          "Bolingbrook",
          "Bonners Ferry",
          "Bordentown",
          "Boston",
          "Boulder",
          "Bowie",
          "Bowling Green",
          "Bozeman",
          "Bradenton",
          "Brainerd",
          "Brandon",
          "Brecksville",
          "Bremerton",
          "Brenham",
          "Brentwood",
          "Brighton",
          "Brockton",
          "Broken Arrow",
          "Brookfield",
          "Brookings",
          "Brookline",
          "Brooksville",
          "Broomfield",
          "Brownsburg",
          "Buena Park",
          "Buffalo",
          "Bullhead City",
          "Burbank",
          "Burkburnett",
          "Burlington",
          "Burnsville",
          "Butler",
          "Butte",
          "Camden",
          "Canfield",
          "Canonsburg",
          "Canton",
          "Cape Coral",
          "Cape Girardeau",
          "Carbondale",
          "Carlisle",
          "Carlsbad",
          "Carmel",
          "Carroll",
          "Carrollton",
          "Cartersville",
          "Cary",
          "Casper",
          "Castro Valley",
          "Cedar City",
          "Cedar Falls",
          "Cedar Rapids",
          "Celina",
          "Centerville",
          "Chambersburg",
          "Champaign",
          "Chandler",
          "Chantilly",
          "Charleston",
          "Charlotte",
          "Charlottesville",
          "Charlston",
          "Chattanooga",
          "Cherokee",
          "Cherry Hill",
          "Cheyenne",
          "Chicago",
          "Chico",
          "Chicopee",
          "Chillicothe",
          "Cincinnati",
          "Claremont",
          "Claremore",
          "Clarkesville",
          "Clarks Summit",
          "Clarksburg",
          "Clarksville",
          "Clearwater",
          "Cleburne",
          "Clementon",
          "Cleveland",
          "Clifton",
          "Clovis",
          "Cocoa",
          "Coeur d'Alene",
          "Colchester",
          "College Station",
          "Collinsville",
          "Colorado Springs",
          "Columbia",
          "Columbia City",
          "Columbus",
          "Concord",
          "Conroe",
          "Conyers",
          "Cookeville",
          "Coraopolis",
          "Corbin",
          "Corning",
          "Corona",
          "Corpus Christi",
          "Cortland",
          "Costa Mesa",
          "Council Bluffs",
          "Covington",
          "Cranston",
          "Crawfordsville",
          "Crossett",
          "Crossville",
          "Crystal Lake",
          "Cullman",
          "Cumming",
          "Custer",
          "Cynthiana",
          "Dade City",
          "Dahlonega",
          "Dallas",
          "Dalton",
          "Danbury",
          "Danvers",
          "Danville",
          "Dayton",
          "Daytona Beach",
          "DeKalb",
          "Dearborn",
          "Decatur",
          "Deer Park",
          "Deltona",
          "Denham Springs",
          "Denton",
          "Denver",
          "Derry",
          "Des Moines",
          "Des Plaines",
          "Detroit",
          "Dickinson",
          "Dobson",
          "Dothan",
          "Dover",
          "DuBois",
          "Dublin",
          "Dubuque",
          "Duluth",
          "Durham",
          "Dyersburg",
          "East Hartford",
          "East Liverpool",
          "East Peoria",
          "Easton",
          "Eau Claire",
          "Edgerton",
          "Edison",
          "Edmond",
          "El Cajon",
          "El Centro",
          "El Monte",
          "El Paso",
          "Elgin",
          "Elizabethtown",
          "Elk Grove",
          "Elkhart",
          "Elkhorn",
          "Ellensburg",
          "Elmira",
          "Enid",
          "Ephrata",
          "Erie",
          "Escanaba",
          "Escondido",
          "Eugene",
          "Eureka",
          "Eureka Springs",
          "Evanston",
          "Evansville",
          "Everett",
          "Exeter",
          "Fairborn",
          "Fairfax",
          "Fairfield",
          "Fairview Heights",
          "Fall River",
          "Fallon",
          "Falls Church",
          "Fargo",
          "Faribault",
          "Farmington",
          "Farmingville",
          "Farmville",
          "Fayetteville",
          "Federal Way",
          "Fishers",
          "Flagstaff",
          "Flemington",
          "Flint",
          "Florence",
          "Florissant",
          "Flushing",
          "Folsom",
          "Fond Du Lac",
          "Fontana",
          "Forest City",
          "Fort Collins",
          "Fort Lauderdale",
          "Fort Mill",
          "Fort Myers",
          "Fort Walton Beach",
          "Fort Wayne",
          "Fort Worth",
          "Framingham",
          "Frankfort",
          "Franklin",
          "Fredericksburg",
          "Freeport",
          "Fremont",
          "Fresno",
          "Frisco",
          "Front Royal",
          "Gadsden",
          "Gainesville",
          "Galesburg",
          "Gallatin",
          "Garden Grove",
          "Gardena",
          "Garland",
          "Garner",
          "Gastonia",
          "Geneva",
          "Georgetown",
          "Gettysburg",
          "Gig Harbor",
          "Gilbert",
          "Glastonbury",
          "Glen Burnie",
          "Glendale",
          "Gloucester City",
          "Gloversville",
          "Goldsboro",
          "Gonzales",
          "Grand Forks",
          "Grand Junction",
          "Grand Prairie",
          "Grand Rapids",
          "Grants Pass",
          "Grapevine",
          "Great Bend",
          "Great Falls",
          "Greeley",
          "Green Bay",
          "Greeneville",
          "Greenfield",
          "Greensboro",
          "Greensburg",
          "Greenville",
          "Greenwood",
          "Gresham",
          "Grove City",
          "Gulfport",
          "Hackensack",
          "Hadley",
          "Hagerstown",
          "Hammond",
          "Hampton",
          "Hannibal",
          "Hanover",
          "Harlingen",
          "Harrisburg",
          "Harrison",
          "Hartford",
          "Hartsville",
          "Hastings",
          "Hattiesburg",
          "Hays",
          "Hayward",
          "Hazard",
          "Hazlet",
          "Hazleton",
          "Helena",
          "Hemet",
          "Henderson",
          "Hendersonville",
          "High Point",
          "Hilliard",
          "Hillsboro",
          "Hilo",
          "Hilton Head Island",
          "Hinesville",
          "Hobbs",
          "Hoffman Estates",
          "Holbrook",
          "Holland",
          "Hollywood",
          "Homestead",
          "Honolulu",
          "Hoover",
          "Horseheads",
          "Hot Springs",
          "Houston",
          "Huntersville",
          "Huntingdon",
          "Huntington",
          "Huntington Beach",
          "Huntsville",
          "Huron",
          "Hurricane",
          "Hutchinson",
          "Idaho Falls",
          "Independence",
          "Indianapolis",
          "Indio",
          "Inverness",
          "Iowa City",
          "Ironton",
          "Irvine",
          "Irving",
          "Ithaca",
          "Jackson",
          "Jacksonville",
          "Jacksonville Beach",
          "Jamestown",
          "Janesville",
          "Jefferson City",
          "Jersey City",
          "Jerseyville",
          "Johnson City",
          "Johnstown",
          "Joliet",
          "Jonesboro",
          "Joplin",
          "Kailua-Kona",
          "Kalamazoo",
          "Kalispell",
          "Kankakee",
          "Kansas City",
          "Katy",
          "Kearney",
          "Kennesaw",
          "Kennewick",
          "Kenosha",
          "Kent",
          "Keokuk",
          "Kernersville",
          "Killeen",
          "King of Prussia",
          "Kingsport",
          "Kingston",
          "Kingsville",
          "Kingwood",
          "Kissimmee",
          "Knoxville",
          "Kokomo",
          "Kyle",
          "La Crosse",
          "La Grange",
          "La Junta",
          "Lafayette",
          "Lake Charles",
          "Lake George",
          "Lake Worth",
          "Lakeland",
          "Lamar",
          "Lancaster",
          "Lansdale",
          "Lansing",
          "Laramie",
          "Laredo",
          "Las Cruces",
          "Las Vegas",
          "Laurel",
          "Lavonia",
          "Lawrence",
          "Lawrenceville",
          "Lawton",
          "Layton",
          "League City",
          "Lebanon",
          "Lee's Summit",
          "Leesburg",
          "Leesville",
          "Lehighton",
          "Lenexa",
          "Lenoir City",
          "Levelland",
          "Levittown",
          "Lewes",
          "Lewisburg",
          "Lewistown",
          "Lewisville",
          "Lexington",
          "Lima",
          "Lincoln",
          "Lincoln City",
          "Linden",
          "Lindon",
          "Little Rock",
          "Littleton",
          "Livonia",
          "Logan",
          "Lompoc",
          "London",
          "Long Beach",
          "Longmont",
          "Longview",
          "Los Angeles",
          "Louisville",
          "Lowell",
          "Lubbock",
          "Lynchburg",
          "Lynnwood",
          "Madison",
          "Madison Heights",
          "Madisonville",
          "Malden",
          "Manassas",
          "Manchester",
          "Manhattan",
          "Manistee",
          "Manitowoc",
          "Mankato",
          "Maple Grove",
          "Marietta",
          "Marina",
          "Marion",
          "Marquette",
          "Marshall",
          "Marshfield",
          "Martin",
          "Martinsburg",
          "Massillon",
          "Matthews",
          "Mattoon",
          "Mayfield",
          "McAllen",
          "McDonough",
          "McHenry",
          "McKeesport",
          "Meadville",
          "Mebane",
          "Mechanicsburg",
          "Mechanicsville",
          "Medford",
          "Medina",
          "Melbourne",
          "Memphis",
          "Mentor",
          "Merced",
          "Meridian",
          "Mesa",
          "Mesquite",
          "Metairie",
          "Miami",
          "Miami Beach",
          "Miamisburg",
          "Michigan City",
          "Middletown",
          "Midland",
          "Milford",
          "Milpitas",
          "Milton",
          "Milwaukee",
          "Minneapolis",
          "Minot",
          "Mission",
          "Missoula",
          "Mobile",
          "Modesto",
          "Moline",
          "Monroe",
          "Montgomery",
          "Montpelier",
          "Monument",
          "Morehead City",
          "Moreno Valley",
          "Morgantown",
          "Morristown",
          "Mount Airy",
          "Mount Juliet",
          "Mount Laurel",
          "Mount Pleasant",
          "Mount Vernon",
          "Mountain Top",
          "Mountain View",
          "Muncie",
          "Munster",
          "Murfreesboro",
          "Murray",
          "Murrieta",
          "Muskegon",
          "Muskogee",
          "Myrtle Beach",
          "Nampa",
          "Naperville",
          "Naples",
          "Nashua",
          "Nashville",
          "Neenah",
          "New Albany",
          "New Bedford",
          "New Berlin",
          "New Braunfels",
          "New Castle",
          "New Orleans",
          "New Port Richey",
          "New Smyrna Beach",
          "New Ulm",
          "New York",
          "Newark",
          "Newington",
          "Newnan",
          "Newport",
          "Newport Beach",
          "Newport News",
          "Newton",
          "Niagara Falls",
          "Nicholasville",
          "Norfolk",
          "Norman",
          "North Bergen",
          "North Las Vegas",
          "North Olmsted",
          "North Platte",
          "North Port",
          "Northampton",
          "Northville",
          "Norwalk",
          "Norwich",
          "Norwood",
          "O'Fallon",
          "Oak Creek",
          "Oakland",
          "Ocala",
          "Oceanside",
          "Odessa",
          "Ogden",
          "Okeechobee",
          "Oklahoma City",
          "Okmulgee",
          "Olathe",
          "Olympia",
          "Omaha",
          "Oneonta",
          "Ontario",
          "Orange",
          "Orem",
          "Orland Park",
          "Orlando",
          "Ormond Beach",
          "Oroville",
          "Osage Beach",
          "Oshkosh",
          "Osseo",
          "Overland Park",
          "Oviedo",
          "Owensboro",
          "Owings Mills",
          "Oxford",
          "Oxnard",
          "Paducah",
          "Pahrump",
          "Palestine",
          "Palm Bay",
          "Palm Beach Gardens",
          "Palm Coast",
          "Palmdale",
          "Palmyra",
          "Panama City",
          "Paoli",
          "Parkersburg",
          "Pascagoula",
          "Pasco",
          "Pearland",
          "Pell City",
          "Pembroke Pines",
          "Pendleton",
          "Pensacola",
          "Peoria",
          "Perris",
          "Petersburg",
          "Philadelphia",
          "Phoenix",
          "Picayune",
          "Pikesville",
          "Pikeville",
          "Pinellas Park",
          "Pittsburgh",
          "Pittsfield",
          "Pittsford",
          "Placerville",
          "Plainfield",
          "Plano",
          "Plattsburgh",
          "Plymouth",
          "Pocatello",
          "Pompano Beach",
          "Ponca City",
          "Pontiac",
          "Pooler",
          "Port Clinton",
          "Port Huron",
          "Port Orchard",
          "Port Saint Lucie",
          "Portage",
          "Porterville",
          "Portland",
          "Portsmouth",
          "Post Falls",
          "Potsdam",
          "Poughkeepsie",
          "Powell",
          "Prattville",
          "Prescott Valley",
          "Providence",
          "Provo",
          "Pueblo",
          "Punta Gorda",
          "Queensbury",
          "Quincy",
          "Racine",
          "Raleigh",
          "Rancho Cordova",
          "Rancho Cucamonga",
          "Rapid City",
          "Raymondville",
          "Rayville",
          "Reading",
          "Redlands",
          "Redmond",
          "Redwood City",
          "Reno",
          "Richardson",
          "Richmond",
          "Ridley Park",
          "Riverdale",
          "Riverside",
          "Roanoke",
          "Robinson",
          "Rochester",
          "Rockford",
          "Rockingham",
          "Rockport",
          "Rockwall",
          "Rocky Mount",
          "Rogers",
          "Rohnert Park",
          "Rome",
          "Romulus",
          "Ronkonkoma",
          "Roosevelt",
          "Roseburg",
          "Roseville",
          "Round Rock",
          "Royal Oak",
          "Ruston",
          "Sacramento",
          "Saginaw",
          "Saint Augustine",
          "Saint Charles",
          "Saint Joseph",
          "Saint Marys",
          "Saint Paul",
          "Salem",
          "Salinas",
          "Salisbury",
          "Salt Lake City",
          "San Angelo",
          "San Antonio",
          "San Bernardino",
          "San Diego",
          "San Francisco",
          "San Jose",
          "San Luis Obispo",
          "San Rafael",
          "Sandusky",
          "Sandy",
          "Sanford",
          "Santa Ana",
          "Santa Clara",
          "Santa Cruz",
          "Santa Fe",
          "Santa Maria",
          "Santa Rosa",
          "Sarasota",
          "Savannah",
          "Sayre",
          "Schaumburg",
          "Schenectady",
          "Schertz",
          "Scottsburg",
          "Scottsdale",
          "Scranton",
          "Seattle",
          "Seguin",
          "Senatobia",
          "Sevierville",
          "Seymour",
          "Shawnee",
          "Shelbyville",
          "Shreveport",
          "Sierra Vista",
          "Silver Spring",
          "Simpsonville",
          "Sioux City",
          "Sioux Falls",
          "Slidell",
          "Smyrna",
          "Somerset",
          "Somerville",
          "South Bend",
          "South Milwaukee",
          "Southfield",
          "Southington",
          "Spirit Lake",
          "Spokane",
          "Spring",
          "Spring Hill",
          "Springdale",
          "Springfield",
          "St. Louis",
          "State College",
          "Statesville",
          "Steamboat Springs",
          "Sterling Heights",
          "Stockton",
          "Stow",
          "Strongsville",
          "Sturgeon Bay",
          "Sturgis",
          "Suffolk",
          "Sugar Land",
          "Sulphur",
          "Summersville",
          "Summerville",
          "Sumter",
          "Sun Prairie",
          "Sunnyvale",
          "Surprise",
          "Swedesboro",
          "Sylacauga",
          "Sylvania",
          "Syracuse",
          "Tacoma",
          "Tallahassee",
          "Tampa",
          "Tarpon Springs",
          "Taylor",
          "Tehachapi",
          "Temecula",
          "Tempe",
          "Temple",
          "Terre Haute",
          "Thousand Oaks",
          "Tiffin",
          "Tillamook",
          "Tinley Park",
          "Toledo",
          "Tomball",
          "Toms River",
          "Topeka",
          "Torrance",
          "Tracy",
          "Traverse City",
          "Trenton",
          "Troy",
          "Tucker",
          "Tucson",
          "Tulare",
          "Tulsa",
          "Uniontown",
          "Urbana",
          "Utica",
          "Vacaville",
          "Vail",
          "Valdosta",
          "Valparaiso",
          "Vancouver",
          "Venice",
          "Ventura",
          "Vero Beach",
          "Vienna",
          "Vincennes",
          "Virginia Beach",
          "Vista",
          "Waco",
          "Wake Forest",
          "Waldorf",
          "Walker",
          "Walla Walla",
          "Walled Lake",
          "Wallingford",
          "Waltham",
          "Warner Robins",
          "Warren",
          "Warsaw",
          "Washington",
          "Wasilla",
          "Waterloo",
          "Watertown",
          "Waterville",
          "Waukesha",
          "Wausau",
          "Waxahachie",
          "Waynesboro",
          "Waynesville",
          "Webster",
          "Wentzville",
          "Wesley Chapel",
          "West Chester",
          "West Chicago",
          "West Des Moines",
          "West Jordan",
          "West Lafayette",
          "West Palm Beach",
          "West Valley City",
          "West Warwick",
          "Westfield",
          "Westford",
          "Wheat Ridge",
          "White Plains",
          "Wichita",
          "Wichita Falls",
          "Williamsburg",
          "Willmar",
          "Wilmington",
          "Wilson",
          "Winter Garden",
          "Winter Park",
          "Wisconsin Rapids",
          "Woburn",
          "Woodcliff Lake",
          "Woodstock",
          "Worcester",
          "Worland",
          "Wrangell",
          "Wylie",
          "York",
          "Youngstown",
          "Ypsilanti",
          "Yukon",
          "Yuma",
          "Zanesville"
         ],
         "xaxis": "x",
         "y": [
          1.3907327370591542,
          10.519701624555253,
          0.489449679851532,
          2.510670594186319,
          8.88261014727109,
          1.7444767600884945,
          1.635145481304125,
          4.273909829365902,
          3.373641922388355,
          3.2449199859667743,
          7.823940974367147,
          1.0863318632891608,
          1.4718641459148858,
          1.465470802446238,
          6.377044108041369,
          189.868789672852,
          2.3004744970396653,
          3.5654337587247054,
          54.216400244738935,
          2.4828728541569034,
          2.6389107200707125,
          3.12652089514516,
          1.1636043148159627,
          2.6435964805920436,
          2.4075221451507356,
          4.702075373772142,
          12.541526687145229,
          1.9297836348414439,
          4.11887751047609,
          3.1308605475521794,
          8.077212395401778,
          7.717850270478622,
          4.907985191719206,
          11.854994184591545,
          3.0331025536093366,
          8.060317196850805,
          14.004705679278043,
          2.4438901579501677,
          2.7923529373586637,
          5.387883978394362,
          2.4866859516478144,
          3.359972765687846,
          7.582065468303421,
          0.701372532865831,
          0.8391893035689878,
          4.063063531818956,
          3.5922271721065044,
          3.4977309139895056,
          196.17300923665366,
          6.745445396532026,
          3.369113564491271,
          8.585647025415978,
          12.643256871946257,
          3.74813909707186,
          9.427601473199001,
          0.0900902226567268,
          3.1526254505357336,
          1.5738986123418603,
          0.04920618289283341,
          88.75665846467027,
          1.1222860949081277,
          2.94842457966879,
          2.1419652771128685,
          0.988181054592133,
          5.500297246809042,
          34.2039222717285,
          128.959991455078,
          1.7947443362264364,
          2.3236668083683285,
          1.94632287706352,
          9.048918564822161,
          1.3866945295919517,
          2.495326217048863,
          8.85752963648468,
          1.07777492191849,
          2.9363631688984193,
          3.611094492061116,
          2.7781221513260346,
          1.8763412431760869,
          1.062395650341838,
          4.150619623308279,
          1.4083553170648058,
          4.1258064183321865,
          11.690073847770677,
          1.7587527076638283,
          9.653820613255863,
          54.305735766887665,
          15.118184990353054,
          4.068665628758191,
          17.303210260346546,
          1.7340907415593312,
          61.588291168212905,
          4.307564438458086,
          32.35551990853978,
          1.1156177669763578,
          15.483565688133229,
          4.244838717552583,
          20.719690570315805,
          0.4751230836600851,
          0.6312031332865915,
          3.917855238630657,
          7.949916697476268,
          18.009040991465252,
          5.176101823605102,
          81.8836212158203,
          3.563584556705074,
          3.168068219006011,
          57.779150009155245,
          1.217254358861182,
          1.8431862810414708,
          11.633658299813176,
          61.889734268188505,
          1.680129094557329,
          2.0803088376650956,
          0.07741271884491048,
          1.07365167140961,
          1.3724436174377197,
          3.113170462097238,
          1.8055550034542909,
          7.603978334735563,
          4.907090858979656,
          0.7523043203072097,
          12.297524452209451,
          2.1140214788635276,
          1.477106207158961,
          2.733357483724196,
          170.028793334961,
          1.5945340389590394,
          12.344504155391865,
          0.6185564244921141,
          2.8737107896700103,
          1.0957922713177224,
          6.078673167739598,
          4.731985594986416,
          0.5040680907382027,
          36.0910682678223,
          1.3315366716296595,
          3.0461140543524707,
          1.8991015623597558,
          2.2356987819323333,
          2.847540079611617,
          4.134847100008289,
          3.4003423353036184,
          1.3980486817626143,
          0.8654355274858926,
          2.4809571420773877,
          6.212764382362367,
          1.8241918682756508,
          2.756768061014695,
          2.966984302981231,
          128.959991455078,
          7.051579572284379,
          71.19073367118833,
          1.2151803552572211,
          5.144460430434743,
          14.390380552241897,
          2.118873129194063,
          16.006350348393116,
          1.7855509633453772,
          1.759881956948595,
          1.4438769379577097,
          5.808199368033583,
          0.1933266549474663,
          6.6811963075347105,
          4.337160199880603,
          3.6137446947318197,
          12.127721428871158,
          3.243888328112662,
          18.422271236777306,
          2.2880855036073164,
          1.92045103589432,
          0.678027153015137,
          4.079688239238092,
          1.2564875260954755,
          1.9732925533317032,
          8.095055601813572,
          4.532882759923284,
          4.035995622631158,
          14.717267670414662,
          21.6213779449463,
          1.0851422380656006,
          6.135709947506011,
          2.382803594784158,
          4.287873171269893,
          3.1592029121391563,
          1.4290422297082839,
          1.2090599561839215,
          1.9937123671437786,
          3.4955482825636857,
          3.824228453249655,
          1.1107855628605092,
          3.9687844606760563,
          3.5915335774421715,
          0.7261414953640537,
          0.6572625041008,
          1.5494119785201388,
          2.1973985114416155,
          3.4472555622092744,
          2.3599674962461004,
          1.0972672746808243,
          1.3453605860471733,
          2.8911613859236214,
          3.986739615836517,
          1.6049333095550538,
          1.4226699674451915,
          3.3036305567065463,
          12.31814615726471,
          1.4559992732897178,
          0.5381039182345072,
          2.018788768225271,
          2.8352127263740616,
          3.3292705959492386,
          2.704797946042934,
          1.49287950009126,
          4.292503926269792,
          3.4651322360265673,
          2.149036396155569,
          46.9148042894179,
          22.387311257421953,
          4.712366112583392,
          0.21832589308420833,
          1.693784020258931,
          3.2523006971006283,
          8.992175615271934,
          10.283062833547577,
          63.67138671875,
          6.753705737302829,
          1.891721185995267,
          25.770336459451055,
          0.47875860525715735,
          2.831115390415545,
          1.9301405131816858,
          0.6431820392608645,
          1.9475294210358085,
          4.565995717870779,
          0.8503902098857503,
          128.959991455078,
          4.7039573299445845,
          2.23863743672705,
          26.1099071502686,
          0.8336837701653826,
          9.02868817849851,
          3.754963745112004,
          3.764945656061172,
          1.8750671295807029,
          3.436437069797622,
          84.0638809204102,
          4.126135200654205,
          4.30722951889038,
          28.5722846984863,
          2.878514820159815,
          2.4771021489191942,
          5.8146327248326095,
          0.696657051985292,
          1.3388750080354097,
          11.152486313728808,
          4.0655367823023525,
          1.1369310671632944,
          3.9795433968305587,
          2.7875336463742735,
          4.950678721619258,
          1.5407867690976254,
          2.962726286550363,
          0.8892010005280442,
          1.3767608884158418,
          65.9481658935547,
          2.1563643555981757,
          12.462574481964118,
          0.377753496170044,
          0.662058254127121,
          3.1776103172451244,
          1.534038217266715,
          25.128310561180125,
          2.3080913367179723,
          2.4646643479665116,
          1.8732371046429583,
          5.1856128031557285,
          1.7643078437181026,
          8.365953079501141,
          20.197477201620735,
          5.563694588933141,
          0.9209170354098627,
          2.9288677831490832,
          3.099075520525173,
          4.632641882718678,
          2.1781695585359224,
          0.9694759026169782,
          1.3772371092002,
          3.894481595766033,
          17.309563763213898,
          8.204069805450924,
          2.1400015300638087,
          215.37066650390602,
          14.488730405728653,
          13.949793010950083,
          6.688578201493912,
          6.070658041701056,
          1.494480644458014,
          2.049130079680925,
          3.543371148103812,
          3.812323199471396,
          0.9846990204383769,
          1.457187082066579,
          12.380736128868463,
          4.6733583357581985,
          11.58719128042787,
          5.884577463956399,
          1.1155192700036511,
          0.24954690412142316,
          1.5323569837301596,
          0.6972577108751203,
          4.454245476727466,
          1.898246276571795,
          5.910453142379137,
          2.631159178396828,
          11.059506640434268,
          21.2276649475098,
          8.676849039395654,
          0.5755944550037385,
          0.9925370543048943,
          5.500055772615903,
          0.5919975309125171,
          3.980425100222984,
          11.872732665670762,
          0.9589183760288168,
          11.640550130512555,
          5.608732743395704,
          3.18248124266055,
          2.854161032305077,
          4.05977499386982,
          5.163341269410885,
          17.337028653050467,
          1.7507862189325032,
          1.2038744702252617,
          25.373940865198776,
          5.176588271037645,
          1.256193757057192,
          4.559451411962509,
          2.485661576438184,
          0.9031545993991393,
          4.196457598250677,
          4.569862889231376,
          61.084487574441205,
          7.664211025019933,
          3.7672482542693615,
          1.5836710419237923,
          1.7957978180506162,
          3.4634973438400194,
          6.295815359801042,
          0.12284420244395731,
          0.7597511922162462,
          2.721676577693039,
          11.153264772892008,
          1.5220976131198203,
          0.6329751396307925,
          6.308952140253644,
          3.480715304493329,
          1.1373331530490334,
          2.2045633165115444,
          0.596062481403351,
          1.1243801190186364,
          0.39018115798632297,
          11.845476062297823,
          3.599749706607115,
          0.895628213882446,
          1.85831248760223,
          29.6814441680908,
          2.2603399733963765,
          2.456004612147809,
          7.729964728521952,
          0.49177213074961823,
          3.2242863996321933,
          6.001640410759508,
          4.0250929072128585,
          1.1675703711807732,
          2.7979060469135155,
          2.941003137130508,
          3.8700054974009563,
          2.354685734425271,
          0.9244374497121524,
          3.7444701614930773,
          0.126530364155769,
          11.89850309831292,
          29.134314472025093,
          7.402194142074332,
          5.955803738482709,
          10.12039337856205,
          3.8389140403346174,
          5.936075674300142,
          6.145907819271082,
          24.9808921813965,
          2.0351177128248423,
          5.762057553066151,
          2.924441980889865,
          1.4951506019083425,
          1.6724272424524487,
          2.529275244946851,
          3.216861845276425,
          17.968547344207757,
          0.5647327867106935,
          6.579819577606398,
          1.6433022910346144,
          12.09000763787499,
          1.5284348301217363,
          2.2708806831281465,
          9.566364249674345,
          7.8607192439575675,
          10.014405698144115,
          4.032163855433465,
          0.867128485212992,
          7.861167638074782,
          2.220838363277898,
          6.4516001248359665,
          2.913683578167423,
          7.120940000846469,
          4.583815684189668,
          20.478907856222698,
          5.9933006150027115,
          6.41756326887967,
          4.313780081285817,
          89.02223920822149,
          0.8391153553384344,
          3.755929659136773,
          6.33529250896195,
          13.961384201049814,
          0.0870366021990776,
          2.365148838892767,
          0.34071152969772817,
          2.984274204741133,
          3.6777785398750926,
          19.9987201690674,
          0.7110592197710861,
          101.52707154410233,
          0.7997049078708739,
          2.6500127670310825,
          8.226925315996994,
          128.959991455078,
          5.22040405591329,
          192.0478515625,
          13.221937576929747,
          1.9494276292251889,
          3.2518215657798555,
          1.6647581974180736,
          2.282913271548614,
          60.2496566772461,
          12.082306587606444,
          3.173060560681625,
          5.672467948999017,
          18.22629666161314,
          2.5368495434522598,
          17.915317323472777,
          12.193208722507256,
          4.329948509197971,
          4.880422760537103,
          4.307754409341998,
          6.637428874319244,
          6.483282441216523,
          6.348000784357421,
          11.387143180265536,
          3.2938620696465244,
          3.555890219357454,
          1.1593668303729687,
          6.127744356791182,
          3.2597998270573916,
          0.22368249061999612,
          8.600872788578267,
          5.425003764383936,
          10.24623345066174,
          0.6630726785497797,
          0.913914754986763,
          3.2347935459884805,
          0.17320717637923277,
          12.001016854246462,
          2.4666166448681226,
          6.7185165687876545,
          6.782228352757992,
          1.477595772766782,
          1.124120813872394,
          7.26013725517709,
          3.0295437365830793,
          5.354858854846777,
          2.6545019143590927,
          1.4025853642913684,
          3.549401890279315,
          5.130119296929919,
          3.922037217020989,
          2.0512877035308885,
          1.3198824312335768,
          4.470745173575622,
          3.3787623976908066,
          2.46285209512269,
          46.34874945733605,
          0.31271091964535114,
          3.772754608082171,
          1.5929105425408732,
          3.5033672181042728,
          0.5987306702720081,
          3.9031442424713685,
          2.2862756217794167,
          2.39495218356417,
          9.899520357770294,
          1.571842831527365,
          15.382447852454384,
          12.408972144126897,
          1.7969449705043563,
          5.114675860755382,
          2.8459858185341265,
          4.420879597676562,
          13.9635047912598,
          0.8862080389038247,
          3.351156767759776,
          34.53288050339776,
          3.6205843488375344,
          1.0732926062992596,
          1.5138853756736232,
          1.3011652228869794,
          0.5948590404322359,
          2.666964968969656,
          1.6376307667011305,
          1.6601148216342503,
          15.446647092073913,
          3.4507201537489895,
          5.470093586615154,
          3.633469261708221,
          3.2621914242443264,
          0.7717961209411385,
          12.795328961840518,
          2.851646580282719,
          122.432090759277,
          0.3548990198376267,
          3.8413986290414286,
          1.108653792212991,
          9.7645297660069,
          1.7627302641522127,
          1.3610155204631829,
          3.4695825729832857,
          8.472123444287313,
          3.403588007796898,
          25.218836103166865,
          6.380419464024845,
          2.891355900354368,
          3.635957384960992,
          0.199879840016365,
          2.0210205556617833,
          3.6747939152632925,
          5.929828720638553,
          1.5609914524137154,
          3.047198319845662,
          24.862252116203315,
          3.078372261413033,
          2.972021955147122,
          36.0910682678223,
          5.256000325083729,
          2.163354760266485,
          2.360817645540398,
          7.4942593723090685,
          3.259677427796134,
          10.671777077019213,
          2.3291904111441823,
          0.7928541815030604,
          30.248140335083,
          101.309394836426,
          35.00776596069337,
          11.338609122804218,
          2.3985009662831183,
          12.9463205337524,
          12.060909195301631,
          1.2472726961908236,
          1.4356637048524807,
          4.336816611444329,
          2.2468582285711403,
          1.3439880459644926,
          1.7437264274673612,
          18.049973892645678,
          2.8648692084255445,
          1.6839464963900868,
          4.5016221414532565,
          11.261544258672679,
          4.151062091191609,
          1.2136043475035454,
          1.333411083106071,
          3.033695839516733,
          2.1370080759127936,
          6.38384873229404,
          0.7408505403771879,
          2.9733075911873654,
          2.2614107126003913,
          0.31522826448500435,
          2.672159188713592,
          0.76962754091166,
          0.18036974966526056,
          6.346417646937901,
          3.3939712366082833,
          7.876255567638897,
          2.584973510983261,
          1.3753820761314337,
          8.725663018854041,
          2.5221311071744363,
          4.798957716340769,
          12.579502463340756,
          19.9987201690674,
          0.5170961121718091,
          2.801356139900744,
          4.342464173130645,
          2.78337535032661,
          5.3032650447943634,
          13.097015686120317,
          2.6343609525591414,
          0.7069738222552198,
          0.8294944038242105,
          0.545933568584068,
          1.4079598202125019,
          1.7663545139264638,
          1.6433212623315998,
          1.8135396833868995,
          7.011705038468635,
          58.0121574401855,
          5.336262617365523,
          11.527049671662486,
          2.874294563761104,
          12.456507780613041,
          5.26743607237136,
          1.795613327625822,
          2.505292586100192,
          8.882269631899318,
          2.381395926824012,
          8.517243013156587,
          1.7292307427405944,
          9.67865471593266,
          2.011075684223323,
          0.852331687853887,
          1.8821768860099841,
          2.036176388905598,
          210.006393432617,
          3.0523263011744475,
          5.410424853675067,
          14.647517035084388,
          0.6949050099069959,
          4.353224116563797,
          8.051067699491977,
          0.9414793181119203,
          4.0204981307188685,
          1.5430469022173654,
          2.08781242370605,
          4.207607472731249,
          2.9168833107859995,
          4.473477343224106,
          1.7352943505559644,
          4.425004054133485,
          4.772217483392784,
          4.747844935243526,
          11.137060040235564,
          58.0121574401855,
          2.894491058656538,
          11.142641159621109,
          2.1848980232874164,
          7.180624182735172,
          10.657341802662069,
          3.0681652014792222,
          2.863041909761608,
          69.725456237793,
          2.38616251945496,
          4.049593817847115,
          22.40876580007149,
          3.2213074741314367,
          2.6200099249143864,
          189.868789672852,
          1.4065987263240063,
          1.2484324809967717,
          3.6560796909288547,
          2.4424229403111086,
          7.29108400146167,
          1.696642082286616,
          3.003342928334621,
          19.08033180236815,
          1.946166784912348,
          3.146951874861351,
          0.8117538690567014,
          7.750482582969978,
          12.069525187665759,
          13.81216869904445,
          2.470529224546182,
          3.9217410388269616,
          4.436531746781459,
          4.124775233285012,
          9.0369837467487,
          6.594888220826785,
          2.195358099986097,
          9.504962062835693,
          4.81785599345271,
          1.1797236448432182,
          1.3727625340430274,
          1.4916268608399796,
          3.6193919552051423,
          0.358493596315384,
          4.53473299936532,
          2.8657843309347752,
          3.936092154934393,
          6.107115276955319,
          1.3181975438498224,
          3.036472026646138,
          3.198186892109949,
          3.1605522414048512,
          0.137062504887581,
          5.105975668939336,
          30.0815467834473,
          14.5448904037476,
          2.8452128960983543,
          3.944398867259851,
          6.824256486963123,
          1.7758692338447202,
          2.403101509515668,
          68.78092956542964,
          2.7307138530604234,
          5.968757860804046,
          4.500182422873402,
          7.576628547950439,
          4.7251991309708385,
          4.711744681000694,
          11.691442247094777,
          2.9894280664983297,
          28.036008963155556,
          4.629028468230819,
          209.0950164794925,
          7.274018257856369,
          0.9676678040858635,
          0.6575320438835127,
          5.656757082154503,
          0.8953928833568418,
          5.814000016450882,
          86.51141166686995,
          1.0895322922856439,
          35.755543132623025,
          1.9979065840772778,
          3.913111970167271,
          5.002143870822336,
          3.7033691807039824,
          4.085375218825825,
          1.0604817867279055,
          5.4960384296074585,
          7.395625145389484,
          9.86777873368974,
          44.9742374420166,
          3.0179907332961204,
          4.738983791608078,
          1.7483434928365122,
          2.6537384301160283,
          2.5646096156534113,
          2.4637987022628476,
          2.3415298757778427,
          7.915501832962043,
          1.5107092475979629,
          2.7376476793622757,
          4.563411972636267,
          3.5070859372938585,
          129.5327987670895,
          4.170721932314337,
          0.3597493745523107,
          189.256317138672,
          3.515877416352092,
          23.055804201075805,
          3.2486043727075744,
          3.0345565027885226,
          1.7451314619419092,
          17.211791202425964,
          4.2769804066893755,
          5.063291132450104,
          45.93240308761595,
          2.7777300770982234,
          4.7180183099901445,
          4.270929725570883,
          63.67138671875,
          2.5767333718708576,
          2.1171234431039005,
          1.2558938323994646,
          5.301388676581761,
          2.273055161190206,
          16.64535290087971,
          2.7724535227540485,
          4.611431067188581,
          0.8642124654326945,
          8.077443559964495,
          1.045493579872017,
          13.47106873929797,
          5.2194893826609094,
          3.7803294383313353,
          38.0928997993469,
          3.4555237401111607,
          16.102518081665,
          128.959991455078,
          17.140176991621654,
          75.87916234632333,
          3.311692507251584,
          3.267776299800191,
          2.5740452403322274,
          3.0143767896536233,
          1.337841603596574,
          3.154206749539321,
          3.1803529773439645,
          15.972125848811073,
          0.154734000563622,
          7.274036384147148,
          0.3241671472787855,
          0.8824858527098363,
          10.359585762023947,
          3.7541728150553806,
          18.52741837501528,
          108.827011108398,
          1.7944926119353657,
          24.743319946708105,
          9.305147171020504,
          2.8007778635119447,
          33.02877461910248,
          1.6553686573078819,
          4.848821232716257,
          9.289310872554763,
          0.48692324757576,
          0.122400000691414,
          7.020883616841872,
          1.7845819583383142,
          2.354029614920008,
          9.928794287145141,
          4.147552507196819,
          29.63443024456501,
          2.765746048441023,
          1.403040474103321,
          2.065549190016114,
          2.1624745551697506,
          58.0121574401855,
          15.42443690620935,
          65.9481658935547,
          10.860034817861298,
          2.53596456090317,
          8.110114321618711,
          7.4665500478046685,
          4.367687282445752,
          81.7598342895508,
          1.9621972280974478,
          129.951995849609,
          8.377248356739665,
          1.034866473397871,
          2.3292892850331905,
          69.4619216918945,
          0.9638261647871983,
          2.972430414197913,
          5.274607216482199,
          2.7588861355031113,
          1.246368164769732,
          3.475347966259841,
          2.241188302876488,
          4.746350280142254,
          1.2088632444212652,
          8.423000755493458,
          10.065883655794744,
          4.090004555881028,
          5.6253984442778995,
          0.6466864435092657,
          3.096585627856651,
          1.7406824161024634,
          1.0994439555353,
          7.471578707277486,
          0.17459639919329803,
          4.578443623050439,
          12.422126906258717,
          3.9195540362465997,
          7.809980965725015,
          2.4371156238019465,
          0.992767691612244,
          3.7412871954341735,
          3.6620993621407,
          12.5144128799438,
          1.4598317197108062,
          2.0548811545877737,
          6.4698046237898765,
          1.9300491348763675,
          7.0176668391341295,
          3.826741282067715,
          123.53020095825201,
          0.164594456553459,
          26.838443844214705,
          1.4256990813892487,
          10.28355250596439,
          1.5352068481774184,
          1.1238924531841656,
          6.121027658383049,
          6.273300636534556,
          16.46897215313385,
          4.927800615628562,
          5.461324207031926,
          1.7056091914262472,
          3.3264908013136516,
          3.4041104316711426,
          9.486591256459551,
          0.5871097154011007,
          2.7080582862595723,
          6.943609836253973,
          9.961360288293736,
          7.174441895147007,
          3.2767949301583563,
          3.13769868967381,
          1.4857261305054068,
          37.5796775817871,
          5.007940394815977,
          19.8053255081177,
          2.2169885116768633,
          20.81292164325716,
          5.213108474526693,
          1.577422008023294,
          0.5780276654714206,
          2.0822492479182344,
          2.118452691223343,
          6.553056927454667,
          1.0847397651842663,
          6.47363206148148,
          10.617208014925318,
          4.426102238658228,
          2.4454749227909653,
          0.8003787820701066,
          0.6087119631563956,
          1.8174110726407509
         ],
         "yaxis": "y"
        }
       ],
       "layout": {
        "barmode": "relative",
        "legend": {
         "tracegroupgap": 0
        },
        "margin": {
         "t": 60
        },
        "template": {
         "data": {
          "bar": [
           {
            "error_x": {
             "color": "#2a3f5f"
            },
            "error_y": {
             "color": "#2a3f5f"
            },
            "marker": {
             "line": {
              "color": "#E5ECF6",
              "width": 0.5
             },
             "pattern": {
              "fillmode": "overlay",
              "size": 10,
              "solidity": 0.2
             }
            },
            "type": "bar"
           }
          ],
          "barpolar": [
           {
            "marker": {
             "line": {
              "color": "#E5ECF6",
              "width": 0.5
             },
             "pattern": {
              "fillmode": "overlay",
              "size": 10,
              "solidity": 0.2
             }
            },
            "type": "barpolar"
           }
          ],
          "carpet": [
           {
            "aaxis": {
             "endlinecolor": "#2a3f5f",
             "gridcolor": "white",
             "linecolor": "white",
             "minorgridcolor": "white",
             "startlinecolor": "#2a3f5f"
            },
            "baxis": {
             "endlinecolor": "#2a3f5f",
             "gridcolor": "white",
             "linecolor": "white",
             "minorgridcolor": "white",
             "startlinecolor": "#2a3f5f"
            },
            "type": "carpet"
           }
          ],
          "choropleth": [
           {
            "colorbar": {
             "outlinewidth": 0,
             "ticks": ""
            },
            "type": "choropleth"
           }
          ],
          "contour": [
           {
            "colorbar": {
             "outlinewidth": 0,
             "ticks": ""
            },
            "colorscale": [
             [
              0,
              "#0d0887"
             ],
             [
              0.1111111111111111,
              "#46039f"
             ],
             [
              0.2222222222222222,
              "#7201a8"
             ],
             [
              0.3333333333333333,
              "#9c179e"
             ],
             [
              0.4444444444444444,
              "#bd3786"
             ],
             [
              0.5555555555555556,
              "#d8576b"
             ],
             [
              0.6666666666666666,
              "#ed7953"
             ],
             [
              0.7777777777777778,
              "#fb9f3a"
             ],
             [
              0.8888888888888888,
              "#fdca26"
             ],
             [
              1,
              "#f0f921"
             ]
            ],
            "type": "contour"
           }
          ],
          "contourcarpet": [
           {
            "colorbar": {
             "outlinewidth": 0,
             "ticks": ""
            },
            "type": "contourcarpet"
           }
          ],
          "heatmap": [
           {
            "colorbar": {
             "outlinewidth": 0,
             "ticks": ""
            },
            "colorscale": [
             [
              0,
              "#0d0887"
             ],
             [
              0.1111111111111111,
              "#46039f"
             ],
             [
              0.2222222222222222,
              "#7201a8"
             ],
             [
              0.3333333333333333,
              "#9c179e"
             ],
             [
              0.4444444444444444,
              "#bd3786"
             ],
             [
              0.5555555555555556,
              "#d8576b"
             ],
             [
              0.6666666666666666,
              "#ed7953"
             ],
             [
              0.7777777777777778,
              "#fb9f3a"
             ],
             [
              0.8888888888888888,
              "#fdca26"
             ],
             [
              1,
              "#f0f921"
             ]
            ],
            "type": "heatmap"
           }
          ],
          "heatmapgl": [
           {
            "colorbar": {
             "outlinewidth": 0,
             "ticks": ""
            },
            "colorscale": [
             [
              0,
              "#0d0887"
             ],
             [
              0.1111111111111111,
              "#46039f"
             ],
             [
              0.2222222222222222,
              "#7201a8"
             ],
             [
              0.3333333333333333,
              "#9c179e"
             ],
             [
              0.4444444444444444,
              "#bd3786"
             ],
             [
              0.5555555555555556,
              "#d8576b"
             ],
             [
              0.6666666666666666,
              "#ed7953"
             ],
             [
              0.7777777777777778,
              "#fb9f3a"
             ],
             [
              0.8888888888888888,
              "#fdca26"
             ],
             [
              1,
              "#f0f921"
             ]
            ],
            "type": "heatmapgl"
           }
          ],
          "histogram": [
           {
            "marker": {
             "pattern": {
              "fillmode": "overlay",
              "size": 10,
              "solidity": 0.2
             }
            },
            "type": "histogram"
           }
          ],
          "histogram2d": [
           {
            "colorbar": {
             "outlinewidth": 0,
             "ticks": ""
            },
            "colorscale": [
             [
              0,
              "#0d0887"
             ],
             [
              0.1111111111111111,
              "#46039f"
             ],
             [
              0.2222222222222222,
              "#7201a8"
             ],
             [
              0.3333333333333333,
              "#9c179e"
             ],
             [
              0.4444444444444444,
              "#bd3786"
             ],
             [
              0.5555555555555556,
              "#d8576b"
             ],
             [
              0.6666666666666666,
              "#ed7953"
             ],
             [
              0.7777777777777778,
              "#fb9f3a"
             ],
             [
              0.8888888888888888,
              "#fdca26"
             ],
             [
              1,
              "#f0f921"
             ]
            ],
            "type": "histogram2d"
           }
          ],
          "histogram2dcontour": [
           {
            "colorbar": {
             "outlinewidth": 0,
             "ticks": ""
            },
            "colorscale": [
             [
              0,
              "#0d0887"
             ],
             [
              0.1111111111111111,
              "#46039f"
             ],
             [
              0.2222222222222222,
              "#7201a8"
             ],
             [
              0.3333333333333333,
              "#9c179e"
             ],
             [
              0.4444444444444444,
              "#bd3786"
             ],
             [
              0.5555555555555556,
              "#d8576b"
             ],
             [
              0.6666666666666666,
              "#ed7953"
             ],
             [
              0.7777777777777778,
              "#fb9f3a"
             ],
             [
              0.8888888888888888,
              "#fdca26"
             ],
             [
              1,
              "#f0f921"
             ]
            ],
            "type": "histogram2dcontour"
           }
          ],
          "mesh3d": [
           {
            "colorbar": {
             "outlinewidth": 0,
             "ticks": ""
            },
            "type": "mesh3d"
           }
          ],
          "parcoords": [
           {
            "line": {
             "colorbar": {
              "outlinewidth": 0,
              "ticks": ""
             }
            },
            "type": "parcoords"
           }
          ],
          "pie": [
           {
            "automargin": true,
            "type": "pie"
           }
          ],
          "scatter": [
           {
            "marker": {
             "colorbar": {
              "outlinewidth": 0,
              "ticks": ""
             }
            },
            "type": "scatter"
           }
          ],
          "scatter3d": [
           {
            "line": {
             "colorbar": {
              "outlinewidth": 0,
              "ticks": ""
             }
            },
            "marker": {
             "colorbar": {
              "outlinewidth": 0,
              "ticks": ""
             }
            },
            "type": "scatter3d"
           }
          ],
          "scattercarpet": [
           {
            "marker": {
             "colorbar": {
              "outlinewidth": 0,
              "ticks": ""
             }
            },
            "type": "scattercarpet"
           }
          ],
          "scattergeo": [
           {
            "marker": {
             "colorbar": {
              "outlinewidth": 0,
              "ticks": ""
             }
            },
            "type": "scattergeo"
           }
          ],
          "scattergl": [
           {
            "marker": {
             "colorbar": {
              "outlinewidth": 0,
              "ticks": ""
             }
            },
            "type": "scattergl"
           }
          ],
          "scattermapbox": [
           {
            "marker": {
             "colorbar": {
              "outlinewidth": 0,
              "ticks": ""
             }
            },
            "type": "scattermapbox"
           }
          ],
          "scatterpolar": [
           {
            "marker": {
             "colorbar": {
              "outlinewidth": 0,
              "ticks": ""
             }
            },
            "type": "scatterpolar"
           }
          ],
          "scatterpolargl": [
           {
            "marker": {
             "colorbar": {
              "outlinewidth": 0,
              "ticks": ""
             }
            },
            "type": "scatterpolargl"
           }
          ],
          "scatterternary": [
           {
            "marker": {
             "colorbar": {
              "outlinewidth": 0,
              "ticks": ""
             }
            },
            "type": "scatterternary"
           }
          ],
          "surface": [
           {
            "colorbar": {
             "outlinewidth": 0,
             "ticks": ""
            },
            "colorscale": [
             [
              0,
              "#0d0887"
             ],
             [
              0.1111111111111111,
              "#46039f"
             ],
             [
              0.2222222222222222,
              "#7201a8"
             ],
             [
              0.3333333333333333,
              "#9c179e"
             ],
             [
              0.4444444444444444,
              "#bd3786"
             ],
             [
              0.5555555555555556,
              "#d8576b"
             ],
             [
              0.6666666666666666,
              "#ed7953"
             ],
             [
              0.7777777777777778,
              "#fb9f3a"
             ],
             [
              0.8888888888888888,
              "#fdca26"
             ],
             [
              1,
              "#f0f921"
             ]
            ],
            "type": "surface"
           }
          ],
          "table": [
           {
            "cells": {
             "fill": {
              "color": "#EBF0F8"
             },
             "line": {
              "color": "white"
             }
            },
            "header": {
             "fill": {
              "color": "#C8D4E3"
             },
             "line": {
              "color": "white"
             }
            },
            "type": "table"
           }
          ]
         },
         "layout": {
          "annotationdefaults": {
           "arrowcolor": "#2a3f5f",
           "arrowhead": 0,
           "arrowwidth": 1
          },
          "autotypenumbers": "strict",
          "coloraxis": {
           "colorbar": {
            "outlinewidth": 0,
            "ticks": ""
           }
          },
          "colorscale": {
           "diverging": [
            [
             0,
             "#8e0152"
            ],
            [
             0.1,
             "#c51b7d"
            ],
            [
             0.2,
             "#de77ae"
            ],
            [
             0.3,
             "#f1b6da"
            ],
            [
             0.4,
             "#fde0ef"
            ],
            [
             0.5,
             "#f7f7f7"
            ],
            [
             0.6,
             "#e6f5d0"
            ],
            [
             0.7,
             "#b8e186"
            ],
            [
             0.8,
             "#7fbc41"
            ],
            [
             0.9,
             "#4d9221"
            ],
            [
             1,
             "#276419"
            ]
           ],
           "sequential": [
            [
             0,
             "#0d0887"
            ],
            [
             0.1111111111111111,
             "#46039f"
            ],
            [
             0.2222222222222222,
             "#7201a8"
            ],
            [
             0.3333333333333333,
             "#9c179e"
            ],
            [
             0.4444444444444444,
             "#bd3786"
            ],
            [
             0.5555555555555556,
             "#d8576b"
            ],
            [
             0.6666666666666666,
             "#ed7953"
            ],
            [
             0.7777777777777778,
             "#fb9f3a"
            ],
            [
             0.8888888888888888,
             "#fdca26"
            ],
            [
             1,
             "#f0f921"
            ]
           ],
           "sequentialminus": [
            [
             0,
             "#0d0887"
            ],
            [
             0.1111111111111111,
             "#46039f"
            ],
            [
             0.2222222222222222,
             "#7201a8"
            ],
            [
             0.3333333333333333,
             "#9c179e"
            ],
            [
             0.4444444444444444,
             "#bd3786"
            ],
            [
             0.5555555555555556,
             "#d8576b"
            ],
            [
             0.6666666666666666,
             "#ed7953"
            ],
            [
             0.7777777777777778,
             "#fb9f3a"
            ],
            [
             0.8888888888888888,
             "#fdca26"
            ],
            [
             1,
             "#f0f921"
            ]
           ]
          },
          "colorway": [
           "#636efa",
           "#EF553B",
           "#00cc96",
           "#ab63fa",
           "#FFA15A",
           "#19d3f3",
           "#FF6692",
           "#B6E880",
           "#FF97FF",
           "#FECB52"
          ],
          "font": {
           "color": "#2a3f5f"
          },
          "geo": {
           "bgcolor": "white",
           "lakecolor": "white",
           "landcolor": "#E5ECF6",
           "showlakes": true,
           "showland": true,
           "subunitcolor": "white"
          },
          "hoverlabel": {
           "align": "left"
          },
          "hovermode": "closest",
          "mapbox": {
           "style": "light"
          },
          "paper_bgcolor": "white",
          "plot_bgcolor": "#E5ECF6",
          "polar": {
           "angularaxis": {
            "gridcolor": "white",
            "linecolor": "white",
            "ticks": ""
           },
           "bgcolor": "#E5ECF6",
           "radialaxis": {
            "gridcolor": "white",
            "linecolor": "white",
            "ticks": ""
           }
          },
          "scene": {
           "xaxis": {
            "backgroundcolor": "#E5ECF6",
            "gridcolor": "white",
            "gridwidth": 2,
            "linecolor": "white",
            "showbackground": true,
            "ticks": "",
            "zerolinecolor": "white"
           },
           "yaxis": {
            "backgroundcolor": "#E5ECF6",
            "gridcolor": "white",
            "gridwidth": 2,
            "linecolor": "white",
            "showbackground": true,
            "ticks": "",
            "zerolinecolor": "white"
           },
           "zaxis": {
            "backgroundcolor": "#E5ECF6",
            "gridcolor": "white",
            "gridwidth": 2,
            "linecolor": "white",
            "showbackground": true,
            "ticks": "",
            "zerolinecolor": "white"
           }
          },
          "shapedefaults": {
           "line": {
            "color": "#2a3f5f"
           }
          },
          "ternary": {
           "aaxis": {
            "gridcolor": "white",
            "linecolor": "white",
            "ticks": ""
           },
           "baxis": {
            "gridcolor": "white",
            "linecolor": "white",
            "ticks": ""
           },
           "bgcolor": "#E5ECF6",
           "caxis": {
            "gridcolor": "white",
            "linecolor": "white",
            "ticks": ""
           }
          },
          "title": {
           "x": 0.05
          },
          "xaxis": {
           "automargin": true,
           "gridcolor": "white",
           "linecolor": "white",
           "ticks": "",
           "title": {
            "standoff": 15
           },
           "zerolinecolor": "white",
           "zerolinewidth": 2
          },
          "yaxis": {
           "automargin": true,
           "gridcolor": "white",
           "linecolor": "white",
           "ticks": "",
           "title": {
            "standoff": 15
           },
           "zerolinecolor": "white",
           "zerolinewidth": 2
          }
         }
        },
        "xaxis": {
         "anchor": "y",
         "domain": [
          0,
          1
         ],
         "title": {
          "text": "city"
         }
        },
        "yaxis": {
         "anchor": "x",
         "domain": [
          0,
          1
         ],
         "title": {
          "text": "avg of ecpm_sma"
         }
        }
       }
      },
      "text/html": [
       "<div>                            <div id=\"877a9080-edd3-4ed5-a76c-1bc8ffbf5fb8\" class=\"plotly-graph-div\" style=\"height:525px; width:100%;\"></div>            <script type=\"text/javascript\">                require([\"plotly\"], function(Plotly) {                    window.PLOTLYENV=window.PLOTLYENV || {};                                    if (document.getElementById(\"877a9080-edd3-4ed5-a76c-1bc8ffbf5fb8\")) {                    Plotly.newPlot(                        \"877a9080-edd3-4ed5-a76c-1bc8ffbf5fb8\",                        [{\"alignmentgroup\":\"True\",\"bingroup\":\"x\",\"histfunc\":\"avg\",\"hovertemplate\":\"city=%{x}<br>avg of ecpm_sma=%{y}<extra></extra>\",\"legendgroup\":\"\",\"marker\":{\"color\":\"#636efa\",\"pattern\":{\"shape\":\"\"}},\"name\":\"\",\"offsetgroup\":\"\",\"orientation\":\"v\",\"showlegend\":false,\"x\":[\"Aberdeen\",\"Abilene\",\"Addison\",\"Afton\",\"Akron\",\"Alameda\",\"Alamogordo\",\"Albany\",\"Albuquerque\",\"Alexandria\",\"Allentown\",\"Alpharetta\",\"Altamonte Springs\",\"Altoona\",\"Alvarado\",\"Amery\",\"Anaheim\",\"Anchorage\",\"Anderson\",\"Angola\",\"Ann Arbor\",\"Anoka\",\"Apex\",\"Apopka\",\"Appleton\",\"Arcadia\",\"Ardmore\",\"Arkansas City\",\"Arlington\",\"Arvada\",\"Asbury Park\",\"Ashburn\",\"Asheboro\",\"Athens\",\"Atlanta\",\"Auburn\",\"Augusta\",\"Aurora\",\"Austin\",\"Bainbridge Island\",\"Bakersfield\",\"Baltimore\",\"Bangor\",\"Bardstown\",\"Bartlesville\",\"Basking Ridge\",\"Batavia\",\"Batesville\",\"Baton Rouge\",\"Battle Creek\",\"Bay City\",\"Bayonne\",\"Baytown\",\"Beatrice\",\"Beaufort\",\"Beaumont\",\"Beaverton\",\"Bedford\",\"Bell Gardens\",\"Belle Vernon\",\"Bellefontaine\",\"Belleville\",\"Bellevue\",\"Bellflower\",\"Bellingham\",\"Bend\",\"Berlin\",\"Bethel Park\",\"Bethlehem\",\"Billings\",\"Biloxi\",\"Binghamton\",\"Birmingham\",\"Bismarck\",\"Blairsville\",\"Bloomfield\",\"Bloomingdale\",\"Bloomington\",\"Blue Springs\",\"Boca Raton\",\"Boise\",\"Bolingbrook\",\"Bonners Ferry\",\"Bordentown\",\"Boston\",\"Boulder\",\"Bowie\",\"Bowling Green\",\"Bozeman\",\"Bradenton\",\"Brainerd\",\"Brandon\",\"Brecksville\",\"Bremerton\",\"Brenham\",\"Brentwood\",\"Brighton\",\"Brockton\",\"Broken Arrow\",\"Brookfield\",\"Brookings\",\"Brookline\",\"Brooksville\",\"Broomfield\",\"Brownsburg\",\"Buena Park\",\"Buffalo\",\"Bullhead City\",\"Burbank\",\"Burkburnett\",\"Burlington\",\"Burnsville\",\"Butler\",\"Butte\",\"Camden\",\"Canfield\",\"Canonsburg\",\"Canton\",\"Cape Coral\",\"Cape Girardeau\",\"Carbondale\",\"Carlisle\",\"Carlsbad\",\"Carmel\",\"Carroll\",\"Carrollton\",\"Cartersville\",\"Cary\",\"Casper\",\"Castro Valley\",\"Cedar City\",\"Cedar Falls\",\"Cedar Rapids\",\"Celina\",\"Centerville\",\"Chambersburg\",\"Champaign\",\"Chandler\",\"Chantilly\",\"Charleston\",\"Charlotte\",\"Charlottesville\",\"Charlston\",\"Chattanooga\",\"Cherokee\",\"Cherry Hill\",\"Cheyenne\",\"Chicago\",\"Chico\",\"Chicopee\",\"Chillicothe\",\"Cincinnati\",\"Claremont\",\"Claremore\",\"Clarkesville\",\"Clarks Summit\",\"Clarksburg\",\"Clarksville\",\"Clearwater\",\"Cleburne\",\"Clementon\",\"Cleveland\",\"Clifton\",\"Clovis\",\"Cocoa\",\"Coeur d'Alene\",\"Colchester\",\"College Station\",\"Collinsville\",\"Colorado Springs\",\"Columbia\",\"Columbia City\",\"Columbus\",\"Concord\",\"Conroe\",\"Conyers\",\"Cookeville\",\"Coraopolis\",\"Corbin\",\"Corning\",\"Corona\",\"Corpus Christi\",\"Cortland\",\"Costa Mesa\",\"Council Bluffs\",\"Covington\",\"Cranston\",\"Crawfordsville\",\"Crossett\",\"Crossville\",\"Crystal Lake\",\"Cullman\",\"Cumming\",\"Custer\",\"Cynthiana\",\"Dade City\",\"Dahlonega\",\"Dallas\",\"Dalton\",\"Danbury\",\"Danvers\",\"Danville\",\"Dayton\",\"Daytona Beach\",\"DeKalb\",\"Dearborn\",\"Decatur\",\"Deer Park\",\"Deltona\",\"Denham Springs\",\"Denton\",\"Denver\",\"Derry\",\"Des Moines\",\"Des Plaines\",\"Detroit\",\"Dickinson\",\"Dobson\",\"Dothan\",\"Dover\",\"DuBois\",\"Dublin\",\"Dubuque\",\"Duluth\",\"Durham\",\"Dyersburg\",\"East Hartford\",\"East Liverpool\",\"East Peoria\",\"Easton\",\"Eau Claire\",\"Edgerton\",\"Edison\",\"Edmond\",\"El Cajon\",\"El Centro\",\"El Monte\",\"El Paso\",\"Elgin\",\"Elizabethtown\",\"Elk Grove\",\"Elkhart\",\"Elkhorn\",\"Ellensburg\",\"Elmira\",\"Enid\",\"Ephrata\",\"Erie\",\"Escanaba\",\"Escondido\",\"Eugene\",\"Eureka\",\"Eureka Springs\",\"Evanston\",\"Evansville\",\"Everett\",\"Exeter\",\"Fairborn\",\"Fairfax\",\"Fairfield\",\"Fairview Heights\",\"Fall River\",\"Fallon\",\"Falls Church\",\"Fargo\",\"Faribault\",\"Farmington\",\"Farmingville\",\"Farmville\",\"Fayetteville\",\"Federal Way\",\"Fishers\",\"Flagstaff\",\"Flemington\",\"Flint\",\"Florence\",\"Florissant\",\"Flushing\",\"Folsom\",\"Fond Du Lac\",\"Fontana\",\"Forest City\",\"Fort Collins\",\"Fort Lauderdale\",\"Fort Mill\",\"Fort Myers\",\"Fort Walton Beach\",\"Fort Wayne\",\"Fort Worth\",\"Framingham\",\"Frankfort\",\"Franklin\",\"Fredericksburg\",\"Freeport\",\"Fremont\",\"Fresno\",\"Frisco\",\"Front Royal\",\"Gadsden\",\"Gainesville\",\"Galesburg\",\"Gallatin\",\"Garden Grove\",\"Gardena\",\"Garland\",\"Garner\",\"Gastonia\",\"Geneva\",\"Georgetown\",\"Gettysburg\",\"Gig Harbor\",\"Gilbert\",\"Glastonbury\",\"Glen Burnie\",\"Glendale\",\"Gloucester City\",\"Gloversville\",\"Goldsboro\",\"Gonzales\",\"Grand Forks\",\"Grand Junction\",\"Grand Prairie\",\"Grand Rapids\",\"Grants Pass\",\"Grapevine\",\"Great Bend\",\"Great Falls\",\"Greeley\",\"Green Bay\",\"Greeneville\",\"Greenfield\",\"Greensboro\",\"Greensburg\",\"Greenville\",\"Greenwood\",\"Gresham\",\"Grove City\",\"Gulfport\",\"Hackensack\",\"Hadley\",\"Hagerstown\",\"Hammond\",\"Hampton\",\"Hannibal\",\"Hanover\",\"Harlingen\",\"Harrisburg\",\"Harrison\",\"Hartford\",\"Hartsville\",\"Hastings\",\"Hattiesburg\",\"Hays\",\"Hayward\",\"Hazard\",\"Hazlet\",\"Hazleton\",\"Helena\",\"Hemet\",\"Henderson\",\"Hendersonville\",\"High Point\",\"Hilliard\",\"Hillsboro\",\"Hilo\",\"Hilton Head Island\",\"Hinesville\",\"Hobbs\",\"Hoffman Estates\",\"Holbrook\",\"Holland\",\"Hollywood\",\"Homestead\",\"Honolulu\",\"Hoover\",\"Horseheads\",\"Hot Springs\",\"Houston\",\"Huntersville\",\"Huntingdon\",\"Huntington\",\"Huntington Beach\",\"Huntsville\",\"Huron\",\"Hurricane\",\"Hutchinson\",\"Idaho Falls\",\"Independence\",\"Indianapolis\",\"Indio\",\"Inverness\",\"Iowa City\",\"Ironton\",\"Irvine\",\"Irving\",\"Ithaca\",\"Jackson\",\"Jacksonville\",\"Jacksonville Beach\",\"Jamestown\",\"Janesville\",\"Jefferson City\",\"Jersey City\",\"Jerseyville\",\"Johnson City\",\"Johnstown\",\"Joliet\",\"Jonesboro\",\"Joplin\",\"Kailua-Kona\",\"Kalamazoo\",\"Kalispell\",\"Kankakee\",\"Kansas City\",\"Katy\",\"Kearney\",\"Kennesaw\",\"Kennewick\",\"Kenosha\",\"Kent\",\"Keokuk\",\"Kernersville\",\"Killeen\",\"King of Prussia\",\"Kingsport\",\"Kingston\",\"Kingsville\",\"Kingwood\",\"Kissimmee\",\"Knoxville\",\"Kokomo\",\"Kyle\",\"La Crosse\",\"La Grange\",\"La Junta\",\"Lafayette\",\"Lake Charles\",\"Lake George\",\"Lake Worth\",\"Lakeland\",\"Lamar\",\"Lancaster\",\"Lansdale\",\"Lansing\",\"Laramie\",\"Laredo\",\"Las Cruces\",\"Las Vegas\",\"Laurel\",\"Lavonia\",\"Lawrence\",\"Lawrenceville\",\"Lawton\",\"Layton\",\"League City\",\"Lebanon\",\"Lee's Summit\",\"Leesburg\",\"Leesville\",\"Lehighton\",\"Lenexa\",\"Lenoir City\",\"Levelland\",\"Levittown\",\"Lewes\",\"Lewisburg\",\"Lewistown\",\"Lewisville\",\"Lexington\",\"Lima\",\"Lincoln\",\"Lincoln City\",\"Linden\",\"Lindon\",\"Little Rock\",\"Littleton\",\"Livonia\",\"Logan\",\"Lompoc\",\"London\",\"Long Beach\",\"Longmont\",\"Longview\",\"Los Angeles\",\"Louisville\",\"Lowell\",\"Lubbock\",\"Lynchburg\",\"Lynnwood\",\"Madison\",\"Madison Heights\",\"Madisonville\",\"Malden\",\"Manassas\",\"Manchester\",\"Manhattan\",\"Manistee\",\"Manitowoc\",\"Mankato\",\"Maple Grove\",\"Marietta\",\"Marina\",\"Marion\",\"Marquette\",\"Marshall\",\"Marshfield\",\"Martin\",\"Martinsburg\",\"Massillon\",\"Matthews\",\"Mattoon\",\"Mayfield\",\"McAllen\",\"McDonough\",\"McHenry\",\"McKeesport\",\"Meadville\",\"Mebane\",\"Mechanicsburg\",\"Mechanicsville\",\"Medford\",\"Medina\",\"Melbourne\",\"Memphis\",\"Mentor\",\"Merced\",\"Meridian\",\"Mesa\",\"Mesquite\",\"Metairie\",\"Miami\",\"Miami Beach\",\"Miamisburg\",\"Michigan City\",\"Middletown\",\"Midland\",\"Milford\",\"Milpitas\",\"Milton\",\"Milwaukee\",\"Minneapolis\",\"Minot\",\"Mission\",\"Missoula\",\"Mobile\",\"Modesto\",\"Moline\",\"Monroe\",\"Montgomery\",\"Montpelier\",\"Monument\",\"Morehead City\",\"Moreno Valley\",\"Morgantown\",\"Morristown\",\"Mount Airy\",\"Mount Juliet\",\"Mount Laurel\",\"Mount Pleasant\",\"Mount Vernon\",\"Mountain Top\",\"Mountain View\",\"Muncie\",\"Munster\",\"Murfreesboro\",\"Murray\",\"Murrieta\",\"Muskegon\",\"Muskogee\",\"Myrtle Beach\",\"Nampa\",\"Naperville\",\"Naples\",\"Nashua\",\"Nashville\",\"Neenah\",\"New Albany\",\"New Bedford\",\"New Berlin\",\"New Braunfels\",\"New Castle\",\"New Orleans\",\"New Port Richey\",\"New Smyrna Beach\",\"New Ulm\",\"New York\",\"Newark\",\"Newington\",\"Newnan\",\"Newport\",\"Newport Beach\",\"Newport News\",\"Newton\",\"Niagara Falls\",\"Nicholasville\",\"Norfolk\",\"Norman\",\"North Bergen\",\"North Las Vegas\",\"North Olmsted\",\"North Platte\",\"North Port\",\"Northampton\",\"Northville\",\"Norwalk\",\"Norwich\",\"Norwood\",\"O'Fallon\",\"Oak Creek\",\"Oakland\",\"Ocala\",\"Oceanside\",\"Odessa\",\"Ogden\",\"Okeechobee\",\"Oklahoma City\",\"Okmulgee\",\"Olathe\",\"Olympia\",\"Omaha\",\"Oneonta\",\"Ontario\",\"Orange\",\"Orem\",\"Orland Park\",\"Orlando\",\"Ormond Beach\",\"Oroville\",\"Osage Beach\",\"Oshkosh\",\"Osseo\",\"Overland Park\",\"Oviedo\",\"Owensboro\",\"Owings Mills\",\"Oxford\",\"Oxnard\",\"Paducah\",\"Pahrump\",\"Palestine\",\"Palm Bay\",\"Palm Beach Gardens\",\"Palm Coast\",\"Palmdale\",\"Palmyra\",\"Panama City\",\"Paoli\",\"Parkersburg\",\"Pascagoula\",\"Pasco\",\"Pearland\",\"Pell City\",\"Pembroke Pines\",\"Pendleton\",\"Pensacola\",\"Peoria\",\"Perris\",\"Petersburg\",\"Philadelphia\",\"Phoenix\",\"Picayune\",\"Pikesville\",\"Pikeville\",\"Pinellas Park\",\"Pittsburgh\",\"Pittsfield\",\"Pittsford\",\"Placerville\",\"Plainfield\",\"Plano\",\"Plattsburgh\",\"Plymouth\",\"Pocatello\",\"Pompano Beach\",\"Ponca City\",\"Pontiac\",\"Pooler\",\"Port Clinton\",\"Port Huron\",\"Port Orchard\",\"Port Saint Lucie\",\"Portage\",\"Porterville\",\"Portland\",\"Portsmouth\",\"Post Falls\",\"Potsdam\",\"Poughkeepsie\",\"Powell\",\"Prattville\",\"Prescott Valley\",\"Providence\",\"Provo\",\"Pueblo\",\"Punta Gorda\",\"Queensbury\",\"Quincy\",\"Racine\",\"Raleigh\",\"Rancho Cordova\",\"Rancho Cucamonga\",\"Rapid City\",\"Raymondville\",\"Rayville\",\"Reading\",\"Redlands\",\"Redmond\",\"Redwood City\",\"Reno\",\"Richardson\",\"Richmond\",\"Ridley Park\",\"Riverdale\",\"Riverside\",\"Roanoke\",\"Robinson\",\"Rochester\",\"Rockford\",\"Rockingham\",\"Rockport\",\"Rockwall\",\"Rocky Mount\",\"Rogers\",\"Rohnert Park\",\"Rome\",\"Romulus\",\"Ronkonkoma\",\"Roosevelt\",\"Roseburg\",\"Roseville\",\"Round Rock\",\"Royal Oak\",\"Ruston\",\"Sacramento\",\"Saginaw\",\"Saint Augustine\",\"Saint Charles\",\"Saint Joseph\",\"Saint Marys\",\"Saint Paul\",\"Salem\",\"Salinas\",\"Salisbury\",\"Salt Lake City\",\"San Angelo\",\"San Antonio\",\"San Bernardino\",\"San Diego\",\"San Francisco\",\"San Jose\",\"San Luis Obispo\",\"San Rafael\",\"Sandusky\",\"Sandy\",\"Sanford\",\"Santa Ana\",\"Santa Clara\",\"Santa Cruz\",\"Santa Fe\",\"Santa Maria\",\"Santa Rosa\",\"Sarasota\",\"Savannah\",\"Sayre\",\"Schaumburg\",\"Schenectady\",\"Schertz\",\"Scottsburg\",\"Scottsdale\",\"Scranton\",\"Seattle\",\"Seguin\",\"Senatobia\",\"Sevierville\",\"Seymour\",\"Shawnee\",\"Shelbyville\",\"Shreveport\",\"Sierra Vista\",\"Silver Spring\",\"Simpsonville\",\"Sioux City\",\"Sioux Falls\",\"Slidell\",\"Smyrna\",\"Somerset\",\"Somerville\",\"South Bend\",\"South Milwaukee\",\"Southfield\",\"Southington\",\"Spirit Lake\",\"Spokane\",\"Spring\",\"Spring Hill\",\"Springdale\",\"Springfield\",\"St. Louis\",\"State College\",\"Statesville\",\"Steamboat Springs\",\"Sterling Heights\",\"Stockton\",\"Stow\",\"Strongsville\",\"Sturgeon Bay\",\"Sturgis\",\"Suffolk\",\"Sugar Land\",\"Sulphur\",\"Summersville\",\"Summerville\",\"Sumter\",\"Sun Prairie\",\"Sunnyvale\",\"Surprise\",\"Swedesboro\",\"Sylacauga\",\"Sylvania\",\"Syracuse\",\"Tacoma\",\"Tallahassee\",\"Tampa\",\"Tarpon Springs\",\"Taylor\",\"Tehachapi\",\"Temecula\",\"Tempe\",\"Temple\",\"Terre Haute\",\"Thousand Oaks\",\"Tiffin\",\"Tillamook\",\"Tinley Park\",\"Toledo\",\"Tomball\",\"Toms River\",\"Topeka\",\"Torrance\",\"Tracy\",\"Traverse City\",\"Trenton\",\"Troy\",\"Tucker\",\"Tucson\",\"Tulare\",\"Tulsa\",\"Uniontown\",\"Urbana\",\"Utica\",\"Vacaville\",\"Vail\",\"Valdosta\",\"Valparaiso\",\"Vancouver\",\"Venice\",\"Ventura\",\"Vero Beach\",\"Vienna\",\"Vincennes\",\"Virginia Beach\",\"Vista\",\"Waco\",\"Wake Forest\",\"Waldorf\",\"Walker\",\"Walla Walla\",\"Walled Lake\",\"Wallingford\",\"Waltham\",\"Warner Robins\",\"Warren\",\"Warsaw\",\"Washington\",\"Wasilla\",\"Waterloo\",\"Watertown\",\"Waterville\",\"Waukesha\",\"Wausau\",\"Waxahachie\",\"Waynesboro\",\"Waynesville\",\"Webster\",\"Wentzville\",\"Wesley Chapel\",\"West Chester\",\"West Chicago\",\"West Des Moines\",\"West Jordan\",\"West Lafayette\",\"West Palm Beach\",\"West Valley City\",\"West Warwick\",\"Westfield\",\"Westford\",\"Wheat Ridge\",\"White Plains\",\"Wichita\",\"Wichita Falls\",\"Williamsburg\",\"Willmar\",\"Wilmington\",\"Wilson\",\"Winter Garden\",\"Winter Park\",\"Wisconsin Rapids\",\"Woburn\",\"Woodcliff Lake\",\"Woodstock\",\"Worcester\",\"Worland\",\"Wrangell\",\"Wylie\",\"York\",\"Youngstown\",\"Ypsilanti\",\"Yukon\",\"Yuma\",\"Zanesville\"],\"xaxis\":\"x\",\"y\":[1.3907327370591542,10.519701624555253,0.489449679851532,2.510670594186319,8.88261014727109,1.7444767600884945,1.635145481304125,4.273909829365902,3.373641922388355,3.2449199859667743,7.823940974367147,1.0863318632891608,1.4718641459148858,1.465470802446238,6.377044108041369,189.868789672852,2.3004744970396653,3.5654337587247054,54.216400244738935,2.4828728541569034,2.6389107200707125,3.12652089514516,1.1636043148159627,2.6435964805920436,2.4075221451507356,4.702075373772142,12.541526687145229,1.9297836348414439,4.11887751047609,3.1308605475521794,8.077212395401778,7.717850270478622,4.907985191719206,11.854994184591545,3.0331025536093366,8.060317196850805,14.004705679278043,2.4438901579501677,2.7923529373586637,5.387883978394362,2.4866859516478144,3.359972765687846,7.582065468303421,0.701372532865831,0.8391893035689878,4.063063531818956,3.5922271721065044,3.4977309139895056,196.17300923665366,6.745445396532026,3.369113564491271,8.585647025415978,12.643256871946257,3.74813909707186,9.427601473199001,0.0900902226567268,3.1526254505357336,1.5738986123418603,0.04920618289283341,88.75665846467027,1.1222860949081277,2.94842457966879,2.1419652771128685,0.988181054592133,5.500297246809042,34.2039222717285,128.959991455078,1.7947443362264364,2.3236668083683285,1.94632287706352,9.048918564822161,1.3866945295919517,2.495326217048863,8.85752963648468,1.07777492191849,2.9363631688984193,3.611094492061116,2.7781221513260346,1.8763412431760869,1.062395650341838,4.150619623308279,1.4083553170648058,4.1258064183321865,11.690073847770677,1.7587527076638283,9.653820613255863,54.305735766887665,15.118184990353054,4.068665628758191,17.303210260346546,1.7340907415593312,61.588291168212905,4.307564438458086,32.35551990853978,1.1156177669763578,15.483565688133229,4.244838717552583,20.719690570315805,0.4751230836600851,0.6312031332865915,3.917855238630657,7.949916697476268,18.009040991465252,5.176101823605102,81.8836212158203,3.563584556705074,3.168068219006011,57.779150009155245,1.217254358861182,1.8431862810414708,11.633658299813176,61.889734268188505,1.680129094557329,2.0803088376650956,0.07741271884491048,1.07365167140961,1.3724436174377197,3.113170462097238,1.8055550034542909,7.603978334735563,4.907090858979656,0.7523043203072097,12.297524452209451,2.1140214788635276,1.477106207158961,2.733357483724196,170.028793334961,1.5945340389590394,12.344504155391865,0.6185564244921141,2.8737107896700103,1.0957922713177224,6.078673167739598,4.731985594986416,0.5040680907382027,36.0910682678223,1.3315366716296595,3.0461140543524707,1.8991015623597558,2.2356987819323333,2.847540079611617,4.134847100008289,3.4003423353036184,1.3980486817626143,0.8654355274858926,2.4809571420773877,6.212764382362367,1.8241918682756508,2.756768061014695,2.966984302981231,128.959991455078,7.051579572284379,71.19073367118833,1.2151803552572211,5.144460430434743,14.390380552241897,2.118873129194063,16.006350348393116,1.7855509633453772,1.759881956948595,1.4438769379577097,5.808199368033583,0.1933266549474663,6.6811963075347105,4.337160199880603,3.6137446947318197,12.127721428871158,3.243888328112662,18.422271236777306,2.2880855036073164,1.92045103589432,0.678027153015137,4.079688239238092,1.2564875260954755,1.9732925533317032,8.095055601813572,4.532882759923284,4.035995622631158,14.717267670414662,21.6213779449463,1.0851422380656006,6.135709947506011,2.382803594784158,4.287873171269893,3.1592029121391563,1.4290422297082839,1.2090599561839215,1.9937123671437786,3.4955482825636857,3.824228453249655,1.1107855628605092,3.9687844606760563,3.5915335774421715,0.7261414953640537,0.6572625041008,1.5494119785201388,2.1973985114416155,3.4472555622092744,2.3599674962461004,1.0972672746808243,1.3453605860471733,2.8911613859236214,3.986739615836517,1.6049333095550538,1.4226699674451915,3.3036305567065463,12.31814615726471,1.4559992732897178,0.5381039182345072,2.018788768225271,2.8352127263740616,3.3292705959492386,2.704797946042934,1.49287950009126,4.292503926269792,3.4651322360265673,2.149036396155569,46.9148042894179,22.387311257421953,4.712366112583392,0.21832589308420833,1.693784020258931,3.2523006971006283,8.992175615271934,10.283062833547577,63.67138671875,6.753705737302829,1.891721185995267,25.770336459451055,0.47875860525715735,2.831115390415545,1.9301405131816858,0.6431820392608645,1.9475294210358085,4.565995717870779,0.8503902098857503,128.959991455078,4.7039573299445845,2.23863743672705,26.1099071502686,0.8336837701653826,9.02868817849851,3.754963745112004,3.764945656061172,1.8750671295807029,3.436437069797622,84.0638809204102,4.126135200654205,4.30722951889038,28.5722846984863,2.878514820159815,2.4771021489191942,5.8146327248326095,0.696657051985292,1.3388750080354097,11.152486313728808,4.0655367823023525,1.1369310671632944,3.9795433968305587,2.7875336463742735,4.950678721619258,1.5407867690976254,2.962726286550363,0.8892010005280442,1.3767608884158418,65.9481658935547,2.1563643555981757,12.462574481964118,0.377753496170044,0.662058254127121,3.1776103172451244,1.534038217266715,25.128310561180125,2.3080913367179723,2.4646643479665116,1.8732371046429583,5.1856128031557285,1.7643078437181026,8.365953079501141,20.197477201620735,5.563694588933141,0.9209170354098627,2.9288677831490832,3.099075520525173,4.632641882718678,2.1781695585359224,0.9694759026169782,1.3772371092002,3.894481595766033,17.309563763213898,8.204069805450924,2.1400015300638087,215.37066650390602,14.488730405728653,13.949793010950083,6.688578201493912,6.070658041701056,1.494480644458014,2.049130079680925,3.543371148103812,3.812323199471396,0.9846990204383769,1.457187082066579,12.380736128868463,4.6733583357581985,11.58719128042787,5.884577463956399,1.1155192700036511,0.24954690412142316,1.5323569837301596,0.6972577108751203,4.454245476727466,1.898246276571795,5.910453142379137,2.631159178396828,11.059506640434268,21.2276649475098,8.676849039395654,0.5755944550037385,0.9925370543048943,5.500055772615903,0.5919975309125171,3.980425100222984,11.872732665670762,0.9589183760288168,11.640550130512555,5.608732743395704,3.18248124266055,2.854161032305077,4.05977499386982,5.163341269410885,17.337028653050467,1.7507862189325032,1.2038744702252617,25.373940865198776,5.176588271037645,1.256193757057192,4.559451411962509,2.485661576438184,0.9031545993991393,4.196457598250677,4.569862889231376,61.084487574441205,7.664211025019933,3.7672482542693615,1.5836710419237923,1.7957978180506162,3.4634973438400194,6.295815359801042,0.12284420244395731,0.7597511922162462,2.721676577693039,11.153264772892008,1.5220976131198203,0.6329751396307925,6.308952140253644,3.480715304493329,1.1373331530490334,2.2045633165115444,0.596062481403351,1.1243801190186364,0.39018115798632297,11.845476062297823,3.599749706607115,0.895628213882446,1.85831248760223,29.6814441680908,2.2603399733963765,2.456004612147809,7.729964728521952,0.49177213074961823,3.2242863996321933,6.001640410759508,4.0250929072128585,1.1675703711807732,2.7979060469135155,2.941003137130508,3.8700054974009563,2.354685734425271,0.9244374497121524,3.7444701614930773,0.126530364155769,11.89850309831292,29.134314472025093,7.402194142074332,5.955803738482709,10.12039337856205,3.8389140403346174,5.936075674300142,6.145907819271082,24.9808921813965,2.0351177128248423,5.762057553066151,2.924441980889865,1.4951506019083425,1.6724272424524487,2.529275244946851,3.216861845276425,17.968547344207757,0.5647327867106935,6.579819577606398,1.6433022910346144,12.09000763787499,1.5284348301217363,2.2708806831281465,9.566364249674345,7.8607192439575675,10.014405698144115,4.032163855433465,0.867128485212992,7.861167638074782,2.220838363277898,6.4516001248359665,2.913683578167423,7.120940000846469,4.583815684189668,20.478907856222698,5.9933006150027115,6.41756326887967,4.313780081285817,89.02223920822149,0.8391153553384344,3.755929659136773,6.33529250896195,13.961384201049814,0.0870366021990776,2.365148838892767,0.34071152969772817,2.984274204741133,3.6777785398750926,19.9987201690674,0.7110592197710861,101.52707154410233,0.7997049078708739,2.6500127670310825,8.226925315996994,128.959991455078,5.22040405591329,192.0478515625,13.221937576929747,1.9494276292251889,3.2518215657798555,1.6647581974180736,2.282913271548614,60.2496566772461,12.082306587606444,3.173060560681625,5.672467948999017,18.22629666161314,2.5368495434522598,17.915317323472777,12.193208722507256,4.329948509197971,4.880422760537103,4.307754409341998,6.637428874319244,6.483282441216523,6.348000784357421,11.387143180265536,3.2938620696465244,3.555890219357454,1.1593668303729687,6.127744356791182,3.2597998270573916,0.22368249061999612,8.600872788578267,5.425003764383936,10.24623345066174,0.6630726785497797,0.913914754986763,3.2347935459884805,0.17320717637923277,12.001016854246462,2.4666166448681226,6.7185165687876545,6.782228352757992,1.477595772766782,1.124120813872394,7.26013725517709,3.0295437365830793,5.354858854846777,2.6545019143590927,1.4025853642913684,3.549401890279315,5.130119296929919,3.922037217020989,2.0512877035308885,1.3198824312335768,4.470745173575622,3.3787623976908066,2.46285209512269,46.34874945733605,0.31271091964535114,3.772754608082171,1.5929105425408732,3.5033672181042728,0.5987306702720081,3.9031442424713685,2.2862756217794167,2.39495218356417,9.899520357770294,1.571842831527365,15.382447852454384,12.408972144126897,1.7969449705043563,5.114675860755382,2.8459858185341265,4.420879597676562,13.9635047912598,0.8862080389038247,3.351156767759776,34.53288050339776,3.6205843488375344,1.0732926062992596,1.5138853756736232,1.3011652228869794,0.5948590404322359,2.666964968969656,1.6376307667011305,1.6601148216342503,15.446647092073913,3.4507201537489895,5.470093586615154,3.633469261708221,3.2621914242443264,0.7717961209411385,12.795328961840518,2.851646580282719,122.432090759277,0.3548990198376267,3.8413986290414286,1.108653792212991,9.7645297660069,1.7627302641522127,1.3610155204631829,3.4695825729832857,8.472123444287313,3.403588007796898,25.218836103166865,6.380419464024845,2.891355900354368,3.635957384960992,0.199879840016365,2.0210205556617833,3.6747939152632925,5.929828720638553,1.5609914524137154,3.047198319845662,24.862252116203315,3.078372261413033,2.972021955147122,36.0910682678223,5.256000325083729,2.163354760266485,2.360817645540398,7.4942593723090685,3.259677427796134,10.671777077019213,2.3291904111441823,0.7928541815030604,30.248140335083,101.309394836426,35.00776596069337,11.338609122804218,2.3985009662831183,12.9463205337524,12.060909195301631,1.2472726961908236,1.4356637048524807,4.336816611444329,2.2468582285711403,1.3439880459644926,1.7437264274673612,18.049973892645678,2.8648692084255445,1.6839464963900868,4.5016221414532565,11.261544258672679,4.151062091191609,1.2136043475035454,1.333411083106071,3.033695839516733,2.1370080759127936,6.38384873229404,0.7408505403771879,2.9733075911873654,2.2614107126003913,0.31522826448500435,2.672159188713592,0.76962754091166,0.18036974966526056,6.346417646937901,3.3939712366082833,7.876255567638897,2.584973510983261,1.3753820761314337,8.725663018854041,2.5221311071744363,4.798957716340769,12.579502463340756,19.9987201690674,0.5170961121718091,2.801356139900744,4.342464173130645,2.78337535032661,5.3032650447943634,13.097015686120317,2.6343609525591414,0.7069738222552198,0.8294944038242105,0.545933568584068,1.4079598202125019,1.7663545139264638,1.6433212623315998,1.8135396833868995,7.011705038468635,58.0121574401855,5.336262617365523,11.527049671662486,2.874294563761104,12.456507780613041,5.26743607237136,1.795613327625822,2.505292586100192,8.882269631899318,2.381395926824012,8.517243013156587,1.7292307427405944,9.67865471593266,2.011075684223323,0.852331687853887,1.8821768860099841,2.036176388905598,210.006393432617,3.0523263011744475,5.410424853675067,14.647517035084388,0.6949050099069959,4.353224116563797,8.051067699491977,0.9414793181119203,4.0204981307188685,1.5430469022173654,2.08781242370605,4.207607472731249,2.9168833107859995,4.473477343224106,1.7352943505559644,4.425004054133485,4.772217483392784,4.747844935243526,11.137060040235564,58.0121574401855,2.894491058656538,11.142641159621109,2.1848980232874164,7.180624182735172,10.657341802662069,3.0681652014792222,2.863041909761608,69.725456237793,2.38616251945496,4.049593817847115,22.40876580007149,3.2213074741314367,2.6200099249143864,189.868789672852,1.4065987263240063,1.2484324809967717,3.6560796909288547,2.4424229403111086,7.29108400146167,1.696642082286616,3.003342928334621,19.08033180236815,1.946166784912348,3.146951874861351,0.8117538690567014,7.750482582969978,12.069525187665759,13.81216869904445,2.470529224546182,3.9217410388269616,4.436531746781459,4.124775233285012,9.0369837467487,6.594888220826785,2.195358099986097,9.504962062835693,4.81785599345271,1.1797236448432182,1.3727625340430274,1.4916268608399796,3.6193919552051423,0.358493596315384,4.53473299936532,2.8657843309347752,3.936092154934393,6.107115276955319,1.3181975438498224,3.036472026646138,3.198186892109949,3.1605522414048512,0.137062504887581,5.105975668939336,30.0815467834473,14.5448904037476,2.8452128960983543,3.944398867259851,6.824256486963123,1.7758692338447202,2.403101509515668,68.78092956542964,2.7307138530604234,5.968757860804046,4.500182422873402,7.576628547950439,4.7251991309708385,4.711744681000694,11.691442247094777,2.9894280664983297,28.036008963155556,4.629028468230819,209.0950164794925,7.274018257856369,0.9676678040858635,0.6575320438835127,5.656757082154503,0.8953928833568418,5.814000016450882,86.51141166686995,1.0895322922856439,35.755543132623025,1.9979065840772778,3.913111970167271,5.002143870822336,3.7033691807039824,4.085375218825825,1.0604817867279055,5.4960384296074585,7.395625145389484,9.86777873368974,44.9742374420166,3.0179907332961204,4.738983791608078,1.7483434928365122,2.6537384301160283,2.5646096156534113,2.4637987022628476,2.3415298757778427,7.915501832962043,1.5107092475979629,2.7376476793622757,4.563411972636267,3.5070859372938585,129.5327987670895,4.170721932314337,0.3597493745523107,189.256317138672,3.515877416352092,23.055804201075805,3.2486043727075744,3.0345565027885226,1.7451314619419092,17.211791202425964,4.2769804066893755,5.063291132450104,45.93240308761595,2.7777300770982234,4.7180183099901445,4.270929725570883,63.67138671875,2.5767333718708576,2.1171234431039005,1.2558938323994646,5.301388676581761,2.273055161190206,16.64535290087971,2.7724535227540485,4.611431067188581,0.8642124654326945,8.077443559964495,1.045493579872017,13.47106873929797,5.2194893826609094,3.7803294383313353,38.0928997993469,3.4555237401111607,16.102518081665,128.959991455078,17.140176991621654,75.87916234632333,3.311692507251584,3.267776299800191,2.5740452403322274,3.0143767896536233,1.337841603596574,3.154206749539321,3.1803529773439645,15.972125848811073,0.154734000563622,7.274036384147148,0.3241671472787855,0.8824858527098363,10.359585762023947,3.7541728150553806,18.52741837501528,108.827011108398,1.7944926119353657,24.743319946708105,9.305147171020504,2.8007778635119447,33.02877461910248,1.6553686573078819,4.848821232716257,9.289310872554763,0.48692324757576,0.122400000691414,7.020883616841872,1.7845819583383142,2.354029614920008,9.928794287145141,4.147552507196819,29.63443024456501,2.765746048441023,1.403040474103321,2.065549190016114,2.1624745551697506,58.0121574401855,15.42443690620935,65.9481658935547,10.860034817861298,2.53596456090317,8.110114321618711,7.4665500478046685,4.367687282445752,81.7598342895508,1.9621972280974478,129.951995849609,8.377248356739665,1.034866473397871,2.3292892850331905,69.4619216918945,0.9638261647871983,2.972430414197913,5.274607216482199,2.7588861355031113,1.246368164769732,3.475347966259841,2.241188302876488,4.746350280142254,1.2088632444212652,8.423000755493458,10.065883655794744,4.090004555881028,5.6253984442778995,0.6466864435092657,3.096585627856651,1.7406824161024634,1.0994439555353,7.471578707277486,0.17459639919329803,4.578443623050439,12.422126906258717,3.9195540362465997,7.809980965725015,2.4371156238019465,0.992767691612244,3.7412871954341735,3.6620993621407,12.5144128799438,1.4598317197108062,2.0548811545877737,6.4698046237898765,1.9300491348763675,7.0176668391341295,3.826741282067715,123.53020095825201,0.164594456553459,26.838443844214705,1.4256990813892487,10.28355250596439,1.5352068481774184,1.1238924531841656,6.121027658383049,6.273300636534556,16.46897215313385,4.927800615628562,5.461324207031926,1.7056091914262472,3.3264908013136516,3.4041104316711426,9.486591256459551,0.5871097154011007,2.7080582862595723,6.943609836253973,9.961360288293736,7.174441895147007,3.2767949301583563,3.13769868967381,1.4857261305054068,37.5796775817871,5.007940394815977,19.8053255081177,2.2169885116768633,20.81292164325716,5.213108474526693,1.577422008023294,0.5780276654714206,2.0822492479182344,2.118452691223343,6.553056927454667,1.0847397651842663,6.47363206148148,10.617208014925318,4.426102238658228,2.4454749227909653,0.8003787820701066,0.6087119631563956,1.8174110726407509],\"yaxis\":\"y\",\"type\":\"histogram\"}],                        {\"template\":{\"data\":{\"bar\":[{\"error_x\":{\"color\":\"#2a3f5f\"},\"error_y\":{\"color\":\"#2a3f5f\"},\"marker\":{\"line\":{\"color\":\"#E5ECF6\",\"width\":0.5},\"pattern\":{\"fillmode\":\"overlay\",\"size\":10,\"solidity\":0.2}},\"type\":\"bar\"}],\"barpolar\":[{\"marker\":{\"line\":{\"color\":\"#E5ECF6\",\"width\":0.5},\"pattern\":{\"fillmode\":\"overlay\",\"size\":10,\"solidity\":0.2}},\"type\":\"barpolar\"}],\"carpet\":[{\"aaxis\":{\"endlinecolor\":\"#2a3f5f\",\"gridcolor\":\"white\",\"linecolor\":\"white\",\"minorgridcolor\":\"white\",\"startlinecolor\":\"#2a3f5f\"},\"baxis\":{\"endlinecolor\":\"#2a3f5f\",\"gridcolor\":\"white\",\"linecolor\":\"white\",\"minorgridcolor\":\"white\",\"startlinecolor\":\"#2a3f5f\"},\"type\":\"carpet\"}],\"choropleth\":[{\"colorbar\":{\"outlinewidth\":0,\"ticks\":\"\"},\"type\":\"choropleth\"}],\"contour\":[{\"colorbar\":{\"outlinewidth\":0,\"ticks\":\"\"},\"colorscale\":[[0.0,\"#0d0887\"],[0.1111111111111111,\"#46039f\"],[0.2222222222222222,\"#7201a8\"],[0.3333333333333333,\"#9c179e\"],[0.4444444444444444,\"#bd3786\"],[0.5555555555555556,\"#d8576b\"],[0.6666666666666666,\"#ed7953\"],[0.7777777777777778,\"#fb9f3a\"],[0.8888888888888888,\"#fdca26\"],[1.0,\"#f0f921\"]],\"type\":\"contour\"}],\"contourcarpet\":[{\"colorbar\":{\"outlinewidth\":0,\"ticks\":\"\"},\"type\":\"contourcarpet\"}],\"heatmap\":[{\"colorbar\":{\"outlinewidth\":0,\"ticks\":\"\"},\"colorscale\":[[0.0,\"#0d0887\"],[0.1111111111111111,\"#46039f\"],[0.2222222222222222,\"#7201a8\"],[0.3333333333333333,\"#9c179e\"],[0.4444444444444444,\"#bd3786\"],[0.5555555555555556,\"#d8576b\"],[0.6666666666666666,\"#ed7953\"],[0.7777777777777778,\"#fb9f3a\"],[0.8888888888888888,\"#fdca26\"],[1.0,\"#f0f921\"]],\"type\":\"heatmap\"}],\"heatmapgl\":[{\"colorbar\":{\"outlinewidth\":0,\"ticks\":\"\"},\"colorscale\":[[0.0,\"#0d0887\"],[0.1111111111111111,\"#46039f\"],[0.2222222222222222,\"#7201a8\"],[0.3333333333333333,\"#9c179e\"],[0.4444444444444444,\"#bd3786\"],[0.5555555555555556,\"#d8576b\"],[0.6666666666666666,\"#ed7953\"],[0.7777777777777778,\"#fb9f3a\"],[0.8888888888888888,\"#fdca26\"],[1.0,\"#f0f921\"]],\"type\":\"heatmapgl\"}],\"histogram\":[{\"marker\":{\"pattern\":{\"fillmode\":\"overlay\",\"size\":10,\"solidity\":0.2}},\"type\":\"histogram\"}],\"histogram2d\":[{\"colorbar\":{\"outlinewidth\":0,\"ticks\":\"\"},\"colorscale\":[[0.0,\"#0d0887\"],[0.1111111111111111,\"#46039f\"],[0.2222222222222222,\"#7201a8\"],[0.3333333333333333,\"#9c179e\"],[0.4444444444444444,\"#bd3786\"],[0.5555555555555556,\"#d8576b\"],[0.6666666666666666,\"#ed7953\"],[0.7777777777777778,\"#fb9f3a\"],[0.8888888888888888,\"#fdca26\"],[1.0,\"#f0f921\"]],\"type\":\"histogram2d\"}],\"histogram2dcontour\":[{\"colorbar\":{\"outlinewidth\":0,\"ticks\":\"\"},\"colorscale\":[[0.0,\"#0d0887\"],[0.1111111111111111,\"#46039f\"],[0.2222222222222222,\"#7201a8\"],[0.3333333333333333,\"#9c179e\"],[0.4444444444444444,\"#bd3786\"],[0.5555555555555556,\"#d8576b\"],[0.6666666666666666,\"#ed7953\"],[0.7777777777777778,\"#fb9f3a\"],[0.8888888888888888,\"#fdca26\"],[1.0,\"#f0f921\"]],\"type\":\"histogram2dcontour\"}],\"mesh3d\":[{\"colorbar\":{\"outlinewidth\":0,\"ticks\":\"\"},\"type\":\"mesh3d\"}],\"parcoords\":[{\"line\":{\"colorbar\":{\"outlinewidth\":0,\"ticks\":\"\"}},\"type\":\"parcoords\"}],\"pie\":[{\"automargin\":true,\"type\":\"pie\"}],\"scatter\":[{\"marker\":{\"colorbar\":{\"outlinewidth\":0,\"ticks\":\"\"}},\"type\":\"scatter\"}],\"scatter3d\":[{\"line\":{\"colorbar\":{\"outlinewidth\":0,\"ticks\":\"\"}},\"marker\":{\"colorbar\":{\"outlinewidth\":0,\"ticks\":\"\"}},\"type\":\"scatter3d\"}],\"scattercarpet\":[{\"marker\":{\"colorbar\":{\"outlinewidth\":0,\"ticks\":\"\"}},\"type\":\"scattercarpet\"}],\"scattergeo\":[{\"marker\":{\"colorbar\":{\"outlinewidth\":0,\"ticks\":\"\"}},\"type\":\"scattergeo\"}],\"scattergl\":[{\"marker\":{\"colorbar\":{\"outlinewidth\":0,\"ticks\":\"\"}},\"type\":\"scattergl\"}],\"scattermapbox\":[{\"marker\":{\"colorbar\":{\"outlinewidth\":0,\"ticks\":\"\"}},\"type\":\"scattermapbox\"}],\"scatterpolar\":[{\"marker\":{\"colorbar\":{\"outlinewidth\":0,\"ticks\":\"\"}},\"type\":\"scatterpolar\"}],\"scatterpolargl\":[{\"marker\":{\"colorbar\":{\"outlinewidth\":0,\"ticks\":\"\"}},\"type\":\"scatterpolargl\"}],\"scatterternary\":[{\"marker\":{\"colorbar\":{\"outlinewidth\":0,\"ticks\":\"\"}},\"type\":\"scatterternary\"}],\"surface\":[{\"colorbar\":{\"outlinewidth\":0,\"ticks\":\"\"},\"colorscale\":[[0.0,\"#0d0887\"],[0.1111111111111111,\"#46039f\"],[0.2222222222222222,\"#7201a8\"],[0.3333333333333333,\"#9c179e\"],[0.4444444444444444,\"#bd3786\"],[0.5555555555555556,\"#d8576b\"],[0.6666666666666666,\"#ed7953\"],[0.7777777777777778,\"#fb9f3a\"],[0.8888888888888888,\"#fdca26\"],[1.0,\"#f0f921\"]],\"type\":\"surface\"}],\"table\":[{\"cells\":{\"fill\":{\"color\":\"#EBF0F8\"},\"line\":{\"color\":\"white\"}},\"header\":{\"fill\":{\"color\":\"#C8D4E3\"},\"line\":{\"color\":\"white\"}},\"type\":\"table\"}]},\"layout\":{\"annotationdefaults\":{\"arrowcolor\":\"#2a3f5f\",\"arrowhead\":0,\"arrowwidth\":1},\"autotypenumbers\":\"strict\",\"coloraxis\":{\"colorbar\":{\"outlinewidth\":0,\"ticks\":\"\"}},\"colorscale\":{\"diverging\":[[0,\"#8e0152\"],[0.1,\"#c51b7d\"],[0.2,\"#de77ae\"],[0.3,\"#f1b6da\"],[0.4,\"#fde0ef\"],[0.5,\"#f7f7f7\"],[0.6,\"#e6f5d0\"],[0.7,\"#b8e186\"],[0.8,\"#7fbc41\"],[0.9,\"#4d9221\"],[1,\"#276419\"]],\"sequential\":[[0.0,\"#0d0887\"],[0.1111111111111111,\"#46039f\"],[0.2222222222222222,\"#7201a8\"],[0.3333333333333333,\"#9c179e\"],[0.4444444444444444,\"#bd3786\"],[0.5555555555555556,\"#d8576b\"],[0.6666666666666666,\"#ed7953\"],[0.7777777777777778,\"#fb9f3a\"],[0.8888888888888888,\"#fdca26\"],[1.0,\"#f0f921\"]],\"sequentialminus\":[[0.0,\"#0d0887\"],[0.1111111111111111,\"#46039f\"],[0.2222222222222222,\"#7201a8\"],[0.3333333333333333,\"#9c179e\"],[0.4444444444444444,\"#bd3786\"],[0.5555555555555556,\"#d8576b\"],[0.6666666666666666,\"#ed7953\"],[0.7777777777777778,\"#fb9f3a\"],[0.8888888888888888,\"#fdca26\"],[1.0,\"#f0f921\"]]},\"colorway\":[\"#636efa\",\"#EF553B\",\"#00cc96\",\"#ab63fa\",\"#FFA15A\",\"#19d3f3\",\"#FF6692\",\"#B6E880\",\"#FF97FF\",\"#FECB52\"],\"font\":{\"color\":\"#2a3f5f\"},\"geo\":{\"bgcolor\":\"white\",\"lakecolor\":\"white\",\"landcolor\":\"#E5ECF6\",\"showlakes\":true,\"showland\":true,\"subunitcolor\":\"white\"},\"hoverlabel\":{\"align\":\"left\"},\"hovermode\":\"closest\",\"mapbox\":{\"style\":\"light\"},\"paper_bgcolor\":\"white\",\"plot_bgcolor\":\"#E5ECF6\",\"polar\":{\"angularaxis\":{\"gridcolor\":\"white\",\"linecolor\":\"white\",\"ticks\":\"\"},\"bgcolor\":\"#E5ECF6\",\"radialaxis\":{\"gridcolor\":\"white\",\"linecolor\":\"white\",\"ticks\":\"\"}},\"scene\":{\"xaxis\":{\"backgroundcolor\":\"#E5ECF6\",\"gridcolor\":\"white\",\"gridwidth\":2,\"linecolor\":\"white\",\"showbackground\":true,\"ticks\":\"\",\"zerolinecolor\":\"white\"},\"yaxis\":{\"backgroundcolor\":\"#E5ECF6\",\"gridcolor\":\"white\",\"gridwidth\":2,\"linecolor\":\"white\",\"showbackground\":true,\"ticks\":\"\",\"zerolinecolor\":\"white\"},\"zaxis\":{\"backgroundcolor\":\"#E5ECF6\",\"gridcolor\":\"white\",\"gridwidth\":2,\"linecolor\":\"white\",\"showbackground\":true,\"ticks\":\"\",\"zerolinecolor\":\"white\"}},\"shapedefaults\":{\"line\":{\"color\":\"#2a3f5f\"}},\"ternary\":{\"aaxis\":{\"gridcolor\":\"white\",\"linecolor\":\"white\",\"ticks\":\"\"},\"baxis\":{\"gridcolor\":\"white\",\"linecolor\":\"white\",\"ticks\":\"\"},\"bgcolor\":\"#E5ECF6\",\"caxis\":{\"gridcolor\":\"white\",\"linecolor\":\"white\",\"ticks\":\"\"}},\"title\":{\"x\":0.05},\"xaxis\":{\"automargin\":true,\"gridcolor\":\"white\",\"linecolor\":\"white\",\"ticks\":\"\",\"title\":{\"standoff\":15},\"zerolinecolor\":\"white\",\"zerolinewidth\":2},\"yaxis\":{\"automargin\":true,\"gridcolor\":\"white\",\"linecolor\":\"white\",\"ticks\":\"\",\"title\":{\"standoff\":15},\"zerolinecolor\":\"white\",\"zerolinewidth\":2}}},\"xaxis\":{\"anchor\":\"y\",\"domain\":[0.0,1.0],\"title\":{\"text\":\"city\"}},\"yaxis\":{\"anchor\":\"x\",\"domain\":[0.0,1.0],\"title\":{\"text\":\"avg of ecpm_sma\"}},\"legend\":{\"tracegroupgap\":0},\"margin\":{\"t\":60},\"barmode\":\"relative\"},                        {\"responsive\": true}                    ).then(function(){\n",
       "                            \n",
       "var gd = document.getElementById('877a9080-edd3-4ed5-a76c-1bc8ffbf5fb8');\n",
       "var x = new MutationObserver(function (mutations, observer) {{\n",
       "        var display = window.getComputedStyle(gd).display;\n",
       "        if (!display || display === 'none') {{\n",
       "            console.log([gd, 'removed!']);\n",
       "            Plotly.purge(gd);\n",
       "            observer.disconnect();\n",
       "        }}\n",
       "}});\n",
       "\n",
       "// Listen for the removal of the full notebook cells\n",
       "var notebookContainer = gd.closest('#notebook-container');\n",
       "if (notebookContainer) {{\n",
       "    x.observe(notebookContainer, {childList: true});\n",
       "}}\n",
       "\n",
       "// Listen for the clearing of the current output cell\n",
       "var outputEl = gd.closest('.output');\n",
       "if (outputEl) {{\n",
       "    x.observe(outputEl, {childList: true});\n",
       "}}\n",
       "\n",
       "                        })                };                });            </script>        </div>"
      ]
     },
     "metadata": {},
     "output_type": "display_data"
    }
   ],
   "source": [
    "fig = px.histogram(df_1b_city, x=\"city\", y=\"ecpm_sma\", histfunc='avg')\n",
    "fig.show()"
   ]
  },
  {
   "cell_type": "markdown",
   "id": "36564bfb",
   "metadata": {},
   "source": [
    "По версиям ОС"
   ]
  },
  {
   "cell_type": "code",
   "execution_count": 129,
   "id": "12d9cbc1",
   "metadata": {},
   "outputs": [
    {
     "data": {
      "application/vnd.plotly.v1+json": {
       "config": {
        "plotlyServerURL": "https://plot.ly"
       },
       "data": [
        {
         "alignmentgroup": "True",
         "bingroup": "x",
         "histfunc": "avg",
         "hovertemplate": "os_version=%{x}<br>avg of ecpm_sma=%{y}<extra></extra>",
         "legendgroup": "",
         "marker": {
          "color": "#636efa",
          "pattern": {
           "shape": ""
          }
         },
         "name": "",
         "offsetgroup": "",
         "orientation": "v",
         "showlegend": false,
         "type": "histogram",
         "x": [
          "10",
          "11",
          "12",
          "5.0.2",
          "6.0.1",
          "7.0",
          "7.1.1",
          "7.1.2",
          "8.0.0",
          "8.1.0",
          "9"
         ],
         "xaxis": "x",
         "y": [
          2.489296428624229,
          3.2305986217235216,
          3.5968868588612217,
          0.8096190712090231,
          1.1075467227016234,
          3.071181951970824,
          1.4038515502042883,
          0.9321147133670807,
          1.7071171286178963,
          1.1100259092130418,
          2.226090554998621
         ],
         "yaxis": "y"
        }
       ],
       "layout": {
        "barmode": "relative",
        "legend": {
         "tracegroupgap": 0
        },
        "margin": {
         "t": 60
        },
        "template": {
         "data": {
          "bar": [
           {
            "error_x": {
             "color": "#2a3f5f"
            },
            "error_y": {
             "color": "#2a3f5f"
            },
            "marker": {
             "line": {
              "color": "#E5ECF6",
              "width": 0.5
             },
             "pattern": {
              "fillmode": "overlay",
              "size": 10,
              "solidity": 0.2
             }
            },
            "type": "bar"
           }
          ],
          "barpolar": [
           {
            "marker": {
             "line": {
              "color": "#E5ECF6",
              "width": 0.5
             },
             "pattern": {
              "fillmode": "overlay",
              "size": 10,
              "solidity": 0.2
             }
            },
            "type": "barpolar"
           }
          ],
          "carpet": [
           {
            "aaxis": {
             "endlinecolor": "#2a3f5f",
             "gridcolor": "white",
             "linecolor": "white",
             "minorgridcolor": "white",
             "startlinecolor": "#2a3f5f"
            },
            "baxis": {
             "endlinecolor": "#2a3f5f",
             "gridcolor": "white",
             "linecolor": "white",
             "minorgridcolor": "white",
             "startlinecolor": "#2a3f5f"
            },
            "type": "carpet"
           }
          ],
          "choropleth": [
           {
            "colorbar": {
             "outlinewidth": 0,
             "ticks": ""
            },
            "type": "choropleth"
           }
          ],
          "contour": [
           {
            "colorbar": {
             "outlinewidth": 0,
             "ticks": ""
            },
            "colorscale": [
             [
              0,
              "#0d0887"
             ],
             [
              0.1111111111111111,
              "#46039f"
             ],
             [
              0.2222222222222222,
              "#7201a8"
             ],
             [
              0.3333333333333333,
              "#9c179e"
             ],
             [
              0.4444444444444444,
              "#bd3786"
             ],
             [
              0.5555555555555556,
              "#d8576b"
             ],
             [
              0.6666666666666666,
              "#ed7953"
             ],
             [
              0.7777777777777778,
              "#fb9f3a"
             ],
             [
              0.8888888888888888,
              "#fdca26"
             ],
             [
              1,
              "#f0f921"
             ]
            ],
            "type": "contour"
           }
          ],
          "contourcarpet": [
           {
            "colorbar": {
             "outlinewidth": 0,
             "ticks": ""
            },
            "type": "contourcarpet"
           }
          ],
          "heatmap": [
           {
            "colorbar": {
             "outlinewidth": 0,
             "ticks": ""
            },
            "colorscale": [
             [
              0,
              "#0d0887"
             ],
             [
              0.1111111111111111,
              "#46039f"
             ],
             [
              0.2222222222222222,
              "#7201a8"
             ],
             [
              0.3333333333333333,
              "#9c179e"
             ],
             [
              0.4444444444444444,
              "#bd3786"
             ],
             [
              0.5555555555555556,
              "#d8576b"
             ],
             [
              0.6666666666666666,
              "#ed7953"
             ],
             [
              0.7777777777777778,
              "#fb9f3a"
             ],
             [
              0.8888888888888888,
              "#fdca26"
             ],
             [
              1,
              "#f0f921"
             ]
            ],
            "type": "heatmap"
           }
          ],
          "heatmapgl": [
           {
            "colorbar": {
             "outlinewidth": 0,
             "ticks": ""
            },
            "colorscale": [
             [
              0,
              "#0d0887"
             ],
             [
              0.1111111111111111,
              "#46039f"
             ],
             [
              0.2222222222222222,
              "#7201a8"
             ],
             [
              0.3333333333333333,
              "#9c179e"
             ],
             [
              0.4444444444444444,
              "#bd3786"
             ],
             [
              0.5555555555555556,
              "#d8576b"
             ],
             [
              0.6666666666666666,
              "#ed7953"
             ],
             [
              0.7777777777777778,
              "#fb9f3a"
             ],
             [
              0.8888888888888888,
              "#fdca26"
             ],
             [
              1,
              "#f0f921"
             ]
            ],
            "type": "heatmapgl"
           }
          ],
          "histogram": [
           {
            "marker": {
             "pattern": {
              "fillmode": "overlay",
              "size": 10,
              "solidity": 0.2
             }
            },
            "type": "histogram"
           }
          ],
          "histogram2d": [
           {
            "colorbar": {
             "outlinewidth": 0,
             "ticks": ""
            },
            "colorscale": [
             [
              0,
              "#0d0887"
             ],
             [
              0.1111111111111111,
              "#46039f"
             ],
             [
              0.2222222222222222,
              "#7201a8"
             ],
             [
              0.3333333333333333,
              "#9c179e"
             ],
             [
              0.4444444444444444,
              "#bd3786"
             ],
             [
              0.5555555555555556,
              "#d8576b"
             ],
             [
              0.6666666666666666,
              "#ed7953"
             ],
             [
              0.7777777777777778,
              "#fb9f3a"
             ],
             [
              0.8888888888888888,
              "#fdca26"
             ],
             [
              1,
              "#f0f921"
             ]
            ],
            "type": "histogram2d"
           }
          ],
          "histogram2dcontour": [
           {
            "colorbar": {
             "outlinewidth": 0,
             "ticks": ""
            },
            "colorscale": [
             [
              0,
              "#0d0887"
             ],
             [
              0.1111111111111111,
              "#46039f"
             ],
             [
              0.2222222222222222,
              "#7201a8"
             ],
             [
              0.3333333333333333,
              "#9c179e"
             ],
             [
              0.4444444444444444,
              "#bd3786"
             ],
             [
              0.5555555555555556,
              "#d8576b"
             ],
             [
              0.6666666666666666,
              "#ed7953"
             ],
             [
              0.7777777777777778,
              "#fb9f3a"
             ],
             [
              0.8888888888888888,
              "#fdca26"
             ],
             [
              1,
              "#f0f921"
             ]
            ],
            "type": "histogram2dcontour"
           }
          ],
          "mesh3d": [
           {
            "colorbar": {
             "outlinewidth": 0,
             "ticks": ""
            },
            "type": "mesh3d"
           }
          ],
          "parcoords": [
           {
            "line": {
             "colorbar": {
              "outlinewidth": 0,
              "ticks": ""
             }
            },
            "type": "parcoords"
           }
          ],
          "pie": [
           {
            "automargin": true,
            "type": "pie"
           }
          ],
          "scatter": [
           {
            "marker": {
             "colorbar": {
              "outlinewidth": 0,
              "ticks": ""
             }
            },
            "type": "scatter"
           }
          ],
          "scatter3d": [
           {
            "line": {
             "colorbar": {
              "outlinewidth": 0,
              "ticks": ""
             }
            },
            "marker": {
             "colorbar": {
              "outlinewidth": 0,
              "ticks": ""
             }
            },
            "type": "scatter3d"
           }
          ],
          "scattercarpet": [
           {
            "marker": {
             "colorbar": {
              "outlinewidth": 0,
              "ticks": ""
             }
            },
            "type": "scattercarpet"
           }
          ],
          "scattergeo": [
           {
            "marker": {
             "colorbar": {
              "outlinewidth": 0,
              "ticks": ""
             }
            },
            "type": "scattergeo"
           }
          ],
          "scattergl": [
           {
            "marker": {
             "colorbar": {
              "outlinewidth": 0,
              "ticks": ""
             }
            },
            "type": "scattergl"
           }
          ],
          "scattermapbox": [
           {
            "marker": {
             "colorbar": {
              "outlinewidth": 0,
              "ticks": ""
             }
            },
            "type": "scattermapbox"
           }
          ],
          "scatterpolar": [
           {
            "marker": {
             "colorbar": {
              "outlinewidth": 0,
              "ticks": ""
             }
            },
            "type": "scatterpolar"
           }
          ],
          "scatterpolargl": [
           {
            "marker": {
             "colorbar": {
              "outlinewidth": 0,
              "ticks": ""
             }
            },
            "type": "scatterpolargl"
           }
          ],
          "scatterternary": [
           {
            "marker": {
             "colorbar": {
              "outlinewidth": 0,
              "ticks": ""
             }
            },
            "type": "scatterternary"
           }
          ],
          "surface": [
           {
            "colorbar": {
             "outlinewidth": 0,
             "ticks": ""
            },
            "colorscale": [
             [
              0,
              "#0d0887"
             ],
             [
              0.1111111111111111,
              "#46039f"
             ],
             [
              0.2222222222222222,
              "#7201a8"
             ],
             [
              0.3333333333333333,
              "#9c179e"
             ],
             [
              0.4444444444444444,
              "#bd3786"
             ],
             [
              0.5555555555555556,
              "#d8576b"
             ],
             [
              0.6666666666666666,
              "#ed7953"
             ],
             [
              0.7777777777777778,
              "#fb9f3a"
             ],
             [
              0.8888888888888888,
              "#fdca26"
             ],
             [
              1,
              "#f0f921"
             ]
            ],
            "type": "surface"
           }
          ],
          "table": [
           {
            "cells": {
             "fill": {
              "color": "#EBF0F8"
             },
             "line": {
              "color": "white"
             }
            },
            "header": {
             "fill": {
              "color": "#C8D4E3"
             },
             "line": {
              "color": "white"
             }
            },
            "type": "table"
           }
          ]
         },
         "layout": {
          "annotationdefaults": {
           "arrowcolor": "#2a3f5f",
           "arrowhead": 0,
           "arrowwidth": 1
          },
          "autotypenumbers": "strict",
          "coloraxis": {
           "colorbar": {
            "outlinewidth": 0,
            "ticks": ""
           }
          },
          "colorscale": {
           "diverging": [
            [
             0,
             "#8e0152"
            ],
            [
             0.1,
             "#c51b7d"
            ],
            [
             0.2,
             "#de77ae"
            ],
            [
             0.3,
             "#f1b6da"
            ],
            [
             0.4,
             "#fde0ef"
            ],
            [
             0.5,
             "#f7f7f7"
            ],
            [
             0.6,
             "#e6f5d0"
            ],
            [
             0.7,
             "#b8e186"
            ],
            [
             0.8,
             "#7fbc41"
            ],
            [
             0.9,
             "#4d9221"
            ],
            [
             1,
             "#276419"
            ]
           ],
           "sequential": [
            [
             0,
             "#0d0887"
            ],
            [
             0.1111111111111111,
             "#46039f"
            ],
            [
             0.2222222222222222,
             "#7201a8"
            ],
            [
             0.3333333333333333,
             "#9c179e"
            ],
            [
             0.4444444444444444,
             "#bd3786"
            ],
            [
             0.5555555555555556,
             "#d8576b"
            ],
            [
             0.6666666666666666,
             "#ed7953"
            ],
            [
             0.7777777777777778,
             "#fb9f3a"
            ],
            [
             0.8888888888888888,
             "#fdca26"
            ],
            [
             1,
             "#f0f921"
            ]
           ],
           "sequentialminus": [
            [
             0,
             "#0d0887"
            ],
            [
             0.1111111111111111,
             "#46039f"
            ],
            [
             0.2222222222222222,
             "#7201a8"
            ],
            [
             0.3333333333333333,
             "#9c179e"
            ],
            [
             0.4444444444444444,
             "#bd3786"
            ],
            [
             0.5555555555555556,
             "#d8576b"
            ],
            [
             0.6666666666666666,
             "#ed7953"
            ],
            [
             0.7777777777777778,
             "#fb9f3a"
            ],
            [
             0.8888888888888888,
             "#fdca26"
            ],
            [
             1,
             "#f0f921"
            ]
           ]
          },
          "colorway": [
           "#636efa",
           "#EF553B",
           "#00cc96",
           "#ab63fa",
           "#FFA15A",
           "#19d3f3",
           "#FF6692",
           "#B6E880",
           "#FF97FF",
           "#FECB52"
          ],
          "font": {
           "color": "#2a3f5f"
          },
          "geo": {
           "bgcolor": "white",
           "lakecolor": "white",
           "landcolor": "#E5ECF6",
           "showlakes": true,
           "showland": true,
           "subunitcolor": "white"
          },
          "hoverlabel": {
           "align": "left"
          },
          "hovermode": "closest",
          "mapbox": {
           "style": "light"
          },
          "paper_bgcolor": "white",
          "plot_bgcolor": "#E5ECF6",
          "polar": {
           "angularaxis": {
            "gridcolor": "white",
            "linecolor": "white",
            "ticks": ""
           },
           "bgcolor": "#E5ECF6",
           "radialaxis": {
            "gridcolor": "white",
            "linecolor": "white",
            "ticks": ""
           }
          },
          "scene": {
           "xaxis": {
            "backgroundcolor": "#E5ECF6",
            "gridcolor": "white",
            "gridwidth": 2,
            "linecolor": "white",
            "showbackground": true,
            "ticks": "",
            "zerolinecolor": "white"
           },
           "yaxis": {
            "backgroundcolor": "#E5ECF6",
            "gridcolor": "white",
            "gridwidth": 2,
            "linecolor": "white",
            "showbackground": true,
            "ticks": "",
            "zerolinecolor": "white"
           },
           "zaxis": {
            "backgroundcolor": "#E5ECF6",
            "gridcolor": "white",
            "gridwidth": 2,
            "linecolor": "white",
            "showbackground": true,
            "ticks": "",
            "zerolinecolor": "white"
           }
          },
          "shapedefaults": {
           "line": {
            "color": "#2a3f5f"
           }
          },
          "ternary": {
           "aaxis": {
            "gridcolor": "white",
            "linecolor": "white",
            "ticks": ""
           },
           "baxis": {
            "gridcolor": "white",
            "linecolor": "white",
            "ticks": ""
           },
           "bgcolor": "#E5ECF6",
           "caxis": {
            "gridcolor": "white",
            "linecolor": "white",
            "ticks": ""
           }
          },
          "title": {
           "x": 0.05
          },
          "xaxis": {
           "automargin": true,
           "gridcolor": "white",
           "linecolor": "white",
           "ticks": "",
           "title": {
            "standoff": 15
           },
           "zerolinecolor": "white",
           "zerolinewidth": 2
          },
          "yaxis": {
           "automargin": true,
           "gridcolor": "white",
           "linecolor": "white",
           "ticks": "",
           "title": {
            "standoff": 15
           },
           "zerolinecolor": "white",
           "zerolinewidth": 2
          }
         }
        },
        "xaxis": {
         "anchor": "y",
         "domain": [
          0,
          1
         ],
         "title": {
          "text": "os_version"
         }
        },
        "yaxis": {
         "anchor": "x",
         "domain": [
          0,
          1
         ],
         "title": {
          "text": "avg of ecpm_sma"
         }
        }
       }
      },
      "text/html": [
       "<div>                            <div id=\"b00d999f-eeae-423d-9032-e7ffc46609f9\" class=\"plotly-graph-div\" style=\"height:525px; width:100%;\"></div>            <script type=\"text/javascript\">                require([\"plotly\"], function(Plotly) {                    window.PLOTLYENV=window.PLOTLYENV || {};                                    if (document.getElementById(\"b00d999f-eeae-423d-9032-e7ffc46609f9\")) {                    Plotly.newPlot(                        \"b00d999f-eeae-423d-9032-e7ffc46609f9\",                        [{\"alignmentgroup\":\"True\",\"bingroup\":\"x\",\"histfunc\":\"avg\",\"hovertemplate\":\"os_version=%{x}<br>avg of ecpm_sma=%{y}<extra></extra>\",\"legendgroup\":\"\",\"marker\":{\"color\":\"#636efa\",\"pattern\":{\"shape\":\"\"}},\"name\":\"\",\"offsetgroup\":\"\",\"orientation\":\"v\",\"showlegend\":false,\"x\":[\"10\",\"11\",\"12\",\"5.0.2\",\"6.0.1\",\"7.0\",\"7.1.1\",\"7.1.2\",\"8.0.0\",\"8.1.0\",\"9\"],\"xaxis\":\"x\",\"y\":[2.489296428624229,3.2305986217235216,3.5968868588612217,0.8096190712090231,1.1075467227016234,3.071181951970824,1.4038515502042883,0.9321147133670807,1.7071171286178963,1.1100259092130418,2.226090554998621],\"yaxis\":\"y\",\"type\":\"histogram\"}],                        {\"template\":{\"data\":{\"bar\":[{\"error_x\":{\"color\":\"#2a3f5f\"},\"error_y\":{\"color\":\"#2a3f5f\"},\"marker\":{\"line\":{\"color\":\"#E5ECF6\",\"width\":0.5},\"pattern\":{\"fillmode\":\"overlay\",\"size\":10,\"solidity\":0.2}},\"type\":\"bar\"}],\"barpolar\":[{\"marker\":{\"line\":{\"color\":\"#E5ECF6\",\"width\":0.5},\"pattern\":{\"fillmode\":\"overlay\",\"size\":10,\"solidity\":0.2}},\"type\":\"barpolar\"}],\"carpet\":[{\"aaxis\":{\"endlinecolor\":\"#2a3f5f\",\"gridcolor\":\"white\",\"linecolor\":\"white\",\"minorgridcolor\":\"white\",\"startlinecolor\":\"#2a3f5f\"},\"baxis\":{\"endlinecolor\":\"#2a3f5f\",\"gridcolor\":\"white\",\"linecolor\":\"white\",\"minorgridcolor\":\"white\",\"startlinecolor\":\"#2a3f5f\"},\"type\":\"carpet\"}],\"choropleth\":[{\"colorbar\":{\"outlinewidth\":0,\"ticks\":\"\"},\"type\":\"choropleth\"}],\"contour\":[{\"colorbar\":{\"outlinewidth\":0,\"ticks\":\"\"},\"colorscale\":[[0.0,\"#0d0887\"],[0.1111111111111111,\"#46039f\"],[0.2222222222222222,\"#7201a8\"],[0.3333333333333333,\"#9c179e\"],[0.4444444444444444,\"#bd3786\"],[0.5555555555555556,\"#d8576b\"],[0.6666666666666666,\"#ed7953\"],[0.7777777777777778,\"#fb9f3a\"],[0.8888888888888888,\"#fdca26\"],[1.0,\"#f0f921\"]],\"type\":\"contour\"}],\"contourcarpet\":[{\"colorbar\":{\"outlinewidth\":0,\"ticks\":\"\"},\"type\":\"contourcarpet\"}],\"heatmap\":[{\"colorbar\":{\"outlinewidth\":0,\"ticks\":\"\"},\"colorscale\":[[0.0,\"#0d0887\"],[0.1111111111111111,\"#46039f\"],[0.2222222222222222,\"#7201a8\"],[0.3333333333333333,\"#9c179e\"],[0.4444444444444444,\"#bd3786\"],[0.5555555555555556,\"#d8576b\"],[0.6666666666666666,\"#ed7953\"],[0.7777777777777778,\"#fb9f3a\"],[0.8888888888888888,\"#fdca26\"],[1.0,\"#f0f921\"]],\"type\":\"heatmap\"}],\"heatmapgl\":[{\"colorbar\":{\"outlinewidth\":0,\"ticks\":\"\"},\"colorscale\":[[0.0,\"#0d0887\"],[0.1111111111111111,\"#46039f\"],[0.2222222222222222,\"#7201a8\"],[0.3333333333333333,\"#9c179e\"],[0.4444444444444444,\"#bd3786\"],[0.5555555555555556,\"#d8576b\"],[0.6666666666666666,\"#ed7953\"],[0.7777777777777778,\"#fb9f3a\"],[0.8888888888888888,\"#fdca26\"],[1.0,\"#f0f921\"]],\"type\":\"heatmapgl\"}],\"histogram\":[{\"marker\":{\"pattern\":{\"fillmode\":\"overlay\",\"size\":10,\"solidity\":0.2}},\"type\":\"histogram\"}],\"histogram2d\":[{\"colorbar\":{\"outlinewidth\":0,\"ticks\":\"\"},\"colorscale\":[[0.0,\"#0d0887\"],[0.1111111111111111,\"#46039f\"],[0.2222222222222222,\"#7201a8\"],[0.3333333333333333,\"#9c179e\"],[0.4444444444444444,\"#bd3786\"],[0.5555555555555556,\"#d8576b\"],[0.6666666666666666,\"#ed7953\"],[0.7777777777777778,\"#fb9f3a\"],[0.8888888888888888,\"#fdca26\"],[1.0,\"#f0f921\"]],\"type\":\"histogram2d\"}],\"histogram2dcontour\":[{\"colorbar\":{\"outlinewidth\":0,\"ticks\":\"\"},\"colorscale\":[[0.0,\"#0d0887\"],[0.1111111111111111,\"#46039f\"],[0.2222222222222222,\"#7201a8\"],[0.3333333333333333,\"#9c179e\"],[0.4444444444444444,\"#bd3786\"],[0.5555555555555556,\"#d8576b\"],[0.6666666666666666,\"#ed7953\"],[0.7777777777777778,\"#fb9f3a\"],[0.8888888888888888,\"#fdca26\"],[1.0,\"#f0f921\"]],\"type\":\"histogram2dcontour\"}],\"mesh3d\":[{\"colorbar\":{\"outlinewidth\":0,\"ticks\":\"\"},\"type\":\"mesh3d\"}],\"parcoords\":[{\"line\":{\"colorbar\":{\"outlinewidth\":0,\"ticks\":\"\"}},\"type\":\"parcoords\"}],\"pie\":[{\"automargin\":true,\"type\":\"pie\"}],\"scatter\":[{\"marker\":{\"colorbar\":{\"outlinewidth\":0,\"ticks\":\"\"}},\"type\":\"scatter\"}],\"scatter3d\":[{\"line\":{\"colorbar\":{\"outlinewidth\":0,\"ticks\":\"\"}},\"marker\":{\"colorbar\":{\"outlinewidth\":0,\"ticks\":\"\"}},\"type\":\"scatter3d\"}],\"scattercarpet\":[{\"marker\":{\"colorbar\":{\"outlinewidth\":0,\"ticks\":\"\"}},\"type\":\"scattercarpet\"}],\"scattergeo\":[{\"marker\":{\"colorbar\":{\"outlinewidth\":0,\"ticks\":\"\"}},\"type\":\"scattergeo\"}],\"scattergl\":[{\"marker\":{\"colorbar\":{\"outlinewidth\":0,\"ticks\":\"\"}},\"type\":\"scattergl\"}],\"scattermapbox\":[{\"marker\":{\"colorbar\":{\"outlinewidth\":0,\"ticks\":\"\"}},\"type\":\"scattermapbox\"}],\"scatterpolar\":[{\"marker\":{\"colorbar\":{\"outlinewidth\":0,\"ticks\":\"\"}},\"type\":\"scatterpolar\"}],\"scatterpolargl\":[{\"marker\":{\"colorbar\":{\"outlinewidth\":0,\"ticks\":\"\"}},\"type\":\"scatterpolargl\"}],\"scatterternary\":[{\"marker\":{\"colorbar\":{\"outlinewidth\":0,\"ticks\":\"\"}},\"type\":\"scatterternary\"}],\"surface\":[{\"colorbar\":{\"outlinewidth\":0,\"ticks\":\"\"},\"colorscale\":[[0.0,\"#0d0887\"],[0.1111111111111111,\"#46039f\"],[0.2222222222222222,\"#7201a8\"],[0.3333333333333333,\"#9c179e\"],[0.4444444444444444,\"#bd3786\"],[0.5555555555555556,\"#d8576b\"],[0.6666666666666666,\"#ed7953\"],[0.7777777777777778,\"#fb9f3a\"],[0.8888888888888888,\"#fdca26\"],[1.0,\"#f0f921\"]],\"type\":\"surface\"}],\"table\":[{\"cells\":{\"fill\":{\"color\":\"#EBF0F8\"},\"line\":{\"color\":\"white\"}},\"header\":{\"fill\":{\"color\":\"#C8D4E3\"},\"line\":{\"color\":\"white\"}},\"type\":\"table\"}]},\"layout\":{\"annotationdefaults\":{\"arrowcolor\":\"#2a3f5f\",\"arrowhead\":0,\"arrowwidth\":1},\"autotypenumbers\":\"strict\",\"coloraxis\":{\"colorbar\":{\"outlinewidth\":0,\"ticks\":\"\"}},\"colorscale\":{\"diverging\":[[0,\"#8e0152\"],[0.1,\"#c51b7d\"],[0.2,\"#de77ae\"],[0.3,\"#f1b6da\"],[0.4,\"#fde0ef\"],[0.5,\"#f7f7f7\"],[0.6,\"#e6f5d0\"],[0.7,\"#b8e186\"],[0.8,\"#7fbc41\"],[0.9,\"#4d9221\"],[1,\"#276419\"]],\"sequential\":[[0.0,\"#0d0887\"],[0.1111111111111111,\"#46039f\"],[0.2222222222222222,\"#7201a8\"],[0.3333333333333333,\"#9c179e\"],[0.4444444444444444,\"#bd3786\"],[0.5555555555555556,\"#d8576b\"],[0.6666666666666666,\"#ed7953\"],[0.7777777777777778,\"#fb9f3a\"],[0.8888888888888888,\"#fdca26\"],[1.0,\"#f0f921\"]],\"sequentialminus\":[[0.0,\"#0d0887\"],[0.1111111111111111,\"#46039f\"],[0.2222222222222222,\"#7201a8\"],[0.3333333333333333,\"#9c179e\"],[0.4444444444444444,\"#bd3786\"],[0.5555555555555556,\"#d8576b\"],[0.6666666666666666,\"#ed7953\"],[0.7777777777777778,\"#fb9f3a\"],[0.8888888888888888,\"#fdca26\"],[1.0,\"#f0f921\"]]},\"colorway\":[\"#636efa\",\"#EF553B\",\"#00cc96\",\"#ab63fa\",\"#FFA15A\",\"#19d3f3\",\"#FF6692\",\"#B6E880\",\"#FF97FF\",\"#FECB52\"],\"font\":{\"color\":\"#2a3f5f\"},\"geo\":{\"bgcolor\":\"white\",\"lakecolor\":\"white\",\"landcolor\":\"#E5ECF6\",\"showlakes\":true,\"showland\":true,\"subunitcolor\":\"white\"},\"hoverlabel\":{\"align\":\"left\"},\"hovermode\":\"closest\",\"mapbox\":{\"style\":\"light\"},\"paper_bgcolor\":\"white\",\"plot_bgcolor\":\"#E5ECF6\",\"polar\":{\"angularaxis\":{\"gridcolor\":\"white\",\"linecolor\":\"white\",\"ticks\":\"\"},\"bgcolor\":\"#E5ECF6\",\"radialaxis\":{\"gridcolor\":\"white\",\"linecolor\":\"white\",\"ticks\":\"\"}},\"scene\":{\"xaxis\":{\"backgroundcolor\":\"#E5ECF6\",\"gridcolor\":\"white\",\"gridwidth\":2,\"linecolor\":\"white\",\"showbackground\":true,\"ticks\":\"\",\"zerolinecolor\":\"white\"},\"yaxis\":{\"backgroundcolor\":\"#E5ECF6\",\"gridcolor\":\"white\",\"gridwidth\":2,\"linecolor\":\"white\",\"showbackground\":true,\"ticks\":\"\",\"zerolinecolor\":\"white\"},\"zaxis\":{\"backgroundcolor\":\"#E5ECF6\",\"gridcolor\":\"white\",\"gridwidth\":2,\"linecolor\":\"white\",\"showbackground\":true,\"ticks\":\"\",\"zerolinecolor\":\"white\"}},\"shapedefaults\":{\"line\":{\"color\":\"#2a3f5f\"}},\"ternary\":{\"aaxis\":{\"gridcolor\":\"white\",\"linecolor\":\"white\",\"ticks\":\"\"},\"baxis\":{\"gridcolor\":\"white\",\"linecolor\":\"white\",\"ticks\":\"\"},\"bgcolor\":\"#E5ECF6\",\"caxis\":{\"gridcolor\":\"white\",\"linecolor\":\"white\",\"ticks\":\"\"}},\"title\":{\"x\":0.05},\"xaxis\":{\"automargin\":true,\"gridcolor\":\"white\",\"linecolor\":\"white\",\"ticks\":\"\",\"title\":{\"standoff\":15},\"zerolinecolor\":\"white\",\"zerolinewidth\":2},\"yaxis\":{\"automargin\":true,\"gridcolor\":\"white\",\"linecolor\":\"white\",\"ticks\":\"\",\"title\":{\"standoff\":15},\"zerolinecolor\":\"white\",\"zerolinewidth\":2}}},\"xaxis\":{\"anchor\":\"y\",\"domain\":[0.0,1.0],\"title\":{\"text\":\"os_version\"}},\"yaxis\":{\"anchor\":\"x\",\"domain\":[0.0,1.0],\"title\":{\"text\":\"avg of ecpm_sma\"}},\"legend\":{\"tracegroupgap\":0},\"margin\":{\"t\":60},\"barmode\":\"relative\"},                        {\"responsive\": true}                    ).then(function(){\n",
       "                            \n",
       "var gd = document.getElementById('b00d999f-eeae-423d-9032-e7ffc46609f9');\n",
       "var x = new MutationObserver(function (mutations, observer) {{\n",
       "        var display = window.getComputedStyle(gd).display;\n",
       "        if (!display || display === 'none') {{\n",
       "            console.log([gd, 'removed!']);\n",
       "            Plotly.purge(gd);\n",
       "            observer.disconnect();\n",
       "        }}\n",
       "}});\n",
       "\n",
       "// Listen for the removal of the full notebook cells\n",
       "var notebookContainer = gd.closest('#notebook-container');\n",
       "if (notebookContainer) {{\n",
       "    x.observe(notebookContainer, {childList: true});\n",
       "}}\n",
       "\n",
       "// Listen for the clearing of the current output cell\n",
       "var outputEl = gd.closest('.output');\n",
       "if (outputEl) {{\n",
       "    x.observe(outputEl, {childList: true});\n",
       "}}\n",
       "\n",
       "                        })                };                });            </script>        </div>"
      ]
     },
     "metadata": {},
     "output_type": "display_data"
    }
   ],
   "source": [
    "fig = px.histogram(df_1b_os, x=\"os_version\", y=\"ecpm_sma\", histfunc='avg')\n",
    "fig.show()"
   ]
  },
  {
   "cell_type": "markdown",
   "id": "d33bfbda",
   "metadata": {},
   "source": [
    "### Задание 1.c\n",
    "Отобразить суммарные доходы по городам, версиям ОС"
   ]
  },
  {
   "cell_type": "code",
   "execution_count": 130,
   "id": "8b19510a",
   "metadata": {},
   "outputs": [],
   "source": [
    "df_2b_city = df[['revenue', 'city']].groupby(['city'], as_index=False).agg('sum')\n",
    "df_2b_os = df[['revenue', 'os_version']].groupby(['os_version'], as_index=False).agg('sum')"
   ]
  },
  {
   "cell_type": "code",
   "execution_count": 131,
   "id": "936bc921",
   "metadata": {},
   "outputs": [
    {
     "data": {
      "application/vnd.plotly.v1+json": {
       "config": {
        "plotlyServerURL": "https://plot.ly"
       },
       "data": [
        {
         "alignmentgroup": "True",
         "bingroup": "x",
         "histfunc": "sum",
         "hovertemplate": "city=%{x}<br>sum of revenue=%{y}<extra></extra>",
         "legendgroup": "",
         "marker": {
          "color": "#636efa",
          "pattern": {
           "shape": ""
          }
         },
         "name": "",
         "offsetgroup": "",
         "orientation": "v",
         "showlegend": false,
         "type": "histogram",
         "x": [
          "Aberdeen",
          "Abilene",
          "Addison",
          "Afton",
          "Akron",
          "Alameda",
          "Alamogordo",
          "Albany",
          "Albuquerque",
          "Alexandria",
          "Allentown",
          "Alpharetta",
          "Altamonte Springs",
          "Altoona",
          "Alvarado",
          "Amery",
          "Anaheim",
          "Anchorage",
          "Anderson",
          "Angola",
          "Ann Arbor",
          "Anoka",
          "Apex",
          "Apopka",
          "Appleton",
          "Arcadia",
          "Ardmore",
          "Arkansas City",
          "Arlington",
          "Arvada",
          "Asbury Park",
          "Ashburn",
          "Asheboro",
          "Athens",
          "Atlanta",
          "Auburn",
          "Augusta",
          "Aurora",
          "Austin",
          "Bainbridge Island",
          "Bakersfield",
          "Baltimore",
          "Bangor",
          "Bardstown",
          "Bartlesville",
          "Basking Ridge",
          "Batavia",
          "Batesville",
          "Baton Rouge",
          "Battle Creek",
          "Bay City",
          "Bayonne",
          "Baytown",
          "Beatrice",
          "Beaufort",
          "Beaumont",
          "Beaverton",
          "Bedford",
          "Bell Gardens",
          "Belle Vernon",
          "Bellefontaine",
          "Belleville",
          "Bellevue",
          "Bellflower",
          "Bellingham",
          "Bend",
          "Berlin",
          "Bethel Park",
          "Bethlehem",
          "Billings",
          "Biloxi",
          "Binghamton",
          "Birmingham",
          "Bismarck",
          "Blairsville",
          "Bloomfield",
          "Bloomingdale",
          "Bloomington",
          "Blue Springs",
          "Boca Raton",
          "Boise",
          "Bolingbrook",
          "Bonners Ferry",
          "Bordentown",
          "Boston",
          "Boulder",
          "Bowie",
          "Bowling Green",
          "Bozeman",
          "Bradenton",
          "Brainerd",
          "Brandon",
          "Brecksville",
          "Bremerton",
          "Brenham",
          "Brentwood",
          "Brighton",
          "Brockton",
          "Broken Arrow",
          "Brookfield",
          "Brookings",
          "Brookline",
          "Brooksville",
          "Broomfield",
          "Brownsburg",
          "Buena Park",
          "Buffalo",
          "Bullhead City",
          "Burbank",
          "Burkburnett",
          "Burlington",
          "Burnsville",
          "Butler",
          "Butte",
          "Camden",
          "Canfield",
          "Canonsburg",
          "Canton",
          "Cape Coral",
          "Cape Girardeau",
          "Carbondale",
          "Carlisle",
          "Carlsbad",
          "Carmel",
          "Carroll",
          "Carrollton",
          "Cartersville",
          "Cary",
          "Casper",
          "Castro Valley",
          "Cedar City",
          "Cedar Falls",
          "Cedar Rapids",
          "Celina",
          "Centerville",
          "Chambersburg",
          "Champaign",
          "Chandler",
          "Chantilly",
          "Charleston",
          "Charlotte",
          "Charlottesville",
          "Charlston",
          "Chattanooga",
          "Cherokee",
          "Cherry Hill",
          "Cheyenne",
          "Chicago",
          "Chico",
          "Chicopee",
          "Chillicothe",
          "Cincinnati",
          "Claremont",
          "Claremore",
          "Clarkesville",
          "Clarks Summit",
          "Clarksburg",
          "Clarksville",
          "Clearwater",
          "Cleburne",
          "Clementon",
          "Cleveland",
          "Clifton",
          "Clovis",
          "Cocoa",
          "Coeur d'Alene",
          "Colchester",
          "College Station",
          "Collinsville",
          "Colorado Springs",
          "Columbia",
          "Columbia City",
          "Columbus",
          "Concord",
          "Conroe",
          "Conyers",
          "Cookeville",
          "Coraopolis",
          "Corbin",
          "Corning",
          "Corona",
          "Corpus Christi",
          "Cortland",
          "Costa Mesa",
          "Council Bluffs",
          "Covington",
          "Cranston",
          "Crawfordsville",
          "Crossett",
          "Crossville",
          "Crystal Lake",
          "Cullman",
          "Cumming",
          "Custer",
          "Cynthiana",
          "Dade City",
          "Dahlonega",
          "Dallas",
          "Dalton",
          "Danbury",
          "Danvers",
          "Danville",
          "Dayton",
          "Daytona Beach",
          "DeKalb",
          "Dearborn",
          "Decatur",
          "Deer Park",
          "Deltona",
          "Denham Springs",
          "Denton",
          "Denver",
          "Derry",
          "Des Moines",
          "Des Plaines",
          "Detroit",
          "Dickinson",
          "Dobson",
          "Dothan",
          "Dover",
          "DuBois",
          "Dublin",
          "Dubuque",
          "Duluth",
          "Durham",
          "Dyersburg",
          "East Hartford",
          "East Liverpool",
          "East Peoria",
          "Easton",
          "Eau Claire",
          "Edgerton",
          "Edison",
          "Edmond",
          "El Cajon",
          "El Centro",
          "El Monte",
          "El Paso",
          "Elgin",
          "Elizabethtown",
          "Elk Grove",
          "Elkhart",
          "Elkhorn",
          "Ellensburg",
          "Elmira",
          "Enid",
          "Ephrata",
          "Erie",
          "Escanaba",
          "Escondido",
          "Eugene",
          "Eureka",
          "Eureka Springs",
          "Evanston",
          "Evansville",
          "Everett",
          "Exeter",
          "Fairborn",
          "Fairfax",
          "Fairfield",
          "Fairview Heights",
          "Fall River",
          "Fallon",
          "Falls Church",
          "Fargo",
          "Faribault",
          "Farmington",
          "Farmingville",
          "Farmville",
          "Fayetteville",
          "Federal Way",
          "Fishers",
          "Flagstaff",
          "Flemington",
          "Flint",
          "Florence",
          "Florissant",
          "Flushing",
          "Folsom",
          "Fond Du Lac",
          "Fontana",
          "Forest City",
          "Fort Collins",
          "Fort Lauderdale",
          "Fort Mill",
          "Fort Myers",
          "Fort Walton Beach",
          "Fort Wayne",
          "Fort Worth",
          "Framingham",
          "Frankfort",
          "Franklin",
          "Fredericksburg",
          "Freeport",
          "Fremont",
          "Fresno",
          "Frisco",
          "Front Royal",
          "Gadsden",
          "Gainesville",
          "Galesburg",
          "Gallatin",
          "Garden Grove",
          "Gardena",
          "Garland",
          "Garner",
          "Gastonia",
          "Geneva",
          "Georgetown",
          "Gettysburg",
          "Gig Harbor",
          "Gilbert",
          "Glastonbury",
          "Glen Burnie",
          "Glendale",
          "Gloucester City",
          "Gloversville",
          "Goldsboro",
          "Gonzales",
          "Grand Forks",
          "Grand Junction",
          "Grand Prairie",
          "Grand Rapids",
          "Grants Pass",
          "Grapevine",
          "Great Bend",
          "Great Falls",
          "Greeley",
          "Green Bay",
          "Greeneville",
          "Greenfield",
          "Greensboro",
          "Greensburg",
          "Greenville",
          "Greenwood",
          "Gresham",
          "Grove City",
          "Gulfport",
          "Hackensack",
          "Hadley",
          "Hagerstown",
          "Hammond",
          "Hampton",
          "Hannibal",
          "Hanover",
          "Harlingen",
          "Harrisburg",
          "Harrison",
          "Hartford",
          "Hartsville",
          "Hastings",
          "Hattiesburg",
          "Hays",
          "Hayward",
          "Hazard",
          "Hazlet",
          "Hazleton",
          "Helena",
          "Hemet",
          "Henderson",
          "Hendersonville",
          "High Point",
          "Hilliard",
          "Hillsboro",
          "Hilo",
          "Hilton Head Island",
          "Hinesville",
          "Hobbs",
          "Hoffman Estates",
          "Holbrook",
          "Holland",
          "Hollywood",
          "Homestead",
          "Honolulu",
          "Hoover",
          "Horseheads",
          "Hot Springs",
          "Houston",
          "Huntersville",
          "Huntingdon",
          "Huntington",
          "Huntington Beach",
          "Huntsville",
          "Huron",
          "Hurricane",
          "Hutchinson",
          "Idaho Falls",
          "Independence",
          "Indianapolis",
          "Indio",
          "Inverness",
          "Iowa City",
          "Ironton",
          "Irvine",
          "Irving",
          "Ithaca",
          "Jackson",
          "Jacksonville",
          "Jacksonville Beach",
          "Jamestown",
          "Janesville",
          "Jefferson City",
          "Jersey City",
          "Jerseyville",
          "Johnson City",
          "Johnstown",
          "Joliet",
          "Jonesboro",
          "Joplin",
          "Kailua-Kona",
          "Kalamazoo",
          "Kalispell",
          "Kankakee",
          "Kansas City",
          "Katy",
          "Kearney",
          "Kennesaw",
          "Kennewick",
          "Kenosha",
          "Kent",
          "Keokuk",
          "Kernersville",
          "Killeen",
          "King of Prussia",
          "Kingsport",
          "Kingston",
          "Kingsville",
          "Kingwood",
          "Kissimmee",
          "Knoxville",
          "Kokomo",
          "Kyle",
          "La Crosse",
          "La Grange",
          "La Junta",
          "Lafayette",
          "Lake Charles",
          "Lake George",
          "Lake Worth",
          "Lakeland",
          "Lamar",
          "Lancaster",
          "Lansdale",
          "Lansing",
          "Laramie",
          "Laredo",
          "Las Cruces",
          "Las Vegas",
          "Laurel",
          "Lavonia",
          "Lawrence",
          "Lawrenceville",
          "Lawton",
          "Layton",
          "League City",
          "Lebanon",
          "Lee's Summit",
          "Leesburg",
          "Leesville",
          "Lehighton",
          "Lenexa",
          "Lenoir City",
          "Levelland",
          "Levittown",
          "Lewes",
          "Lewisburg",
          "Lewistown",
          "Lewisville",
          "Lexington",
          "Lima",
          "Lincoln",
          "Lincoln City",
          "Linden",
          "Lindon",
          "Little Rock",
          "Littleton",
          "Livonia",
          "Logan",
          "Lompoc",
          "London",
          "Long Beach",
          "Longmont",
          "Longview",
          "Los Angeles",
          "Louisville",
          "Lowell",
          "Lubbock",
          "Lynchburg",
          "Lynnwood",
          "Madison",
          "Madison Heights",
          "Madisonville",
          "Malden",
          "Manassas",
          "Manchester",
          "Manhattan",
          "Manistee",
          "Manitowoc",
          "Mankato",
          "Maple Grove",
          "Marietta",
          "Marina",
          "Marion",
          "Marquette",
          "Marshall",
          "Marshfield",
          "Martin",
          "Martinsburg",
          "Massillon",
          "Matthews",
          "Mattoon",
          "Mayfield",
          "McAllen",
          "McDonough",
          "McHenry",
          "McKeesport",
          "Meadville",
          "Mebane",
          "Mechanicsburg",
          "Mechanicsville",
          "Medford",
          "Medina",
          "Melbourne",
          "Memphis",
          "Mentor",
          "Merced",
          "Meridian",
          "Mesa",
          "Mesquite",
          "Metairie",
          "Miami",
          "Miami Beach",
          "Miamisburg",
          "Michigan City",
          "Middletown",
          "Midland",
          "Milford",
          "Milpitas",
          "Milton",
          "Milwaukee",
          "Minneapolis",
          "Minot",
          "Mission",
          "Missoula",
          "Mobile",
          "Modesto",
          "Moline",
          "Monroe",
          "Montgomery",
          "Montpelier",
          "Monument",
          "Morehead City",
          "Moreno Valley",
          "Morgantown",
          "Morristown",
          "Mount Airy",
          "Mount Juliet",
          "Mount Laurel",
          "Mount Pleasant",
          "Mount Vernon",
          "Mountain Top",
          "Mountain View",
          "Muncie",
          "Munster",
          "Murfreesboro",
          "Murray",
          "Murrieta",
          "Muskegon",
          "Muskogee",
          "Myrtle Beach",
          "Nampa",
          "Naperville",
          "Naples",
          "Nashua",
          "Nashville",
          "Neenah",
          "New Albany",
          "New Bedford",
          "New Berlin",
          "New Braunfels",
          "New Castle",
          "New Orleans",
          "New Port Richey",
          "New Smyrna Beach",
          "New Ulm",
          "New York",
          "Newark",
          "Newington",
          "Newnan",
          "Newport",
          "Newport Beach",
          "Newport News",
          "Newton",
          "Niagara Falls",
          "Nicholasville",
          "Norfolk",
          "Norman",
          "North Bergen",
          "North Las Vegas",
          "North Olmsted",
          "North Platte",
          "North Port",
          "Northampton",
          "Northville",
          "Norwalk",
          "Norwich",
          "Norwood",
          "O'Fallon",
          "Oak Creek",
          "Oakland",
          "Ocala",
          "Oceanside",
          "Odessa",
          "Ogden",
          "Okeechobee",
          "Oklahoma City",
          "Okmulgee",
          "Olathe",
          "Olympia",
          "Omaha",
          "Oneonta",
          "Ontario",
          "Orange",
          "Orem",
          "Orland Park",
          "Orlando",
          "Ormond Beach",
          "Oroville",
          "Osage Beach",
          "Oshkosh",
          "Osseo",
          "Overland Park",
          "Oviedo",
          "Owensboro",
          "Owings Mills",
          "Oxford",
          "Oxnard",
          "Paducah",
          "Pahrump",
          "Palestine",
          "Palm Bay",
          "Palm Beach Gardens",
          "Palm Coast",
          "Palmdale",
          "Palmyra",
          "Panama City",
          "Paoli",
          "Parkersburg",
          "Pascagoula",
          "Pasco",
          "Pearland",
          "Pell City",
          "Pembroke Pines",
          "Pendleton",
          "Pensacola",
          "Peoria",
          "Perris",
          "Petersburg",
          "Philadelphia",
          "Phoenix",
          "Picayune",
          "Pikesville",
          "Pikeville",
          "Pinellas Park",
          "Pittsburgh",
          "Pittsfield",
          "Pittsford",
          "Placerville",
          "Plainfield",
          "Plano",
          "Plattsburgh",
          "Plymouth",
          "Pocatello",
          "Pompano Beach",
          "Ponca City",
          "Pontiac",
          "Pooler",
          "Port Clinton",
          "Port Huron",
          "Port Orchard",
          "Port Saint Lucie",
          "Portage",
          "Porterville",
          "Portland",
          "Portsmouth",
          "Post Falls",
          "Potsdam",
          "Poughkeepsie",
          "Powell",
          "Prattville",
          "Prescott Valley",
          "Providence",
          "Provo",
          "Pueblo",
          "Punta Gorda",
          "Queensbury",
          "Quincy",
          "Racine",
          "Raleigh",
          "Rancho Cordova",
          "Rancho Cucamonga",
          "Rapid City",
          "Raymondville",
          "Rayville",
          "Reading",
          "Redlands",
          "Redmond",
          "Redwood City",
          "Reno",
          "Richardson",
          "Richmond",
          "Ridley Park",
          "Riverdale",
          "Riverside",
          "Roanoke",
          "Robinson",
          "Rochester",
          "Rockford",
          "Rockingham",
          "Rockport",
          "Rockwall",
          "Rocky Mount",
          "Rogers",
          "Rohnert Park",
          "Rome",
          "Romulus",
          "Ronkonkoma",
          "Roosevelt",
          "Roseburg",
          "Roseville",
          "Round Rock",
          "Royal Oak",
          "Ruston",
          "Sacramento",
          "Saginaw",
          "Saint Augustine",
          "Saint Charles",
          "Saint Joseph",
          "Saint Marys",
          "Saint Paul",
          "Salem",
          "Salinas",
          "Salisbury",
          "Salt Lake City",
          "San Angelo",
          "San Antonio",
          "San Bernardino",
          "San Diego",
          "San Francisco",
          "San Jose",
          "San Luis Obispo",
          "San Rafael",
          "Sandusky",
          "Sandy",
          "Sanford",
          "Santa Ana",
          "Santa Clara",
          "Santa Cruz",
          "Santa Fe",
          "Santa Maria",
          "Santa Rosa",
          "Sarasota",
          "Savannah",
          "Sayre",
          "Schaumburg",
          "Schenectady",
          "Schertz",
          "Scottsburg",
          "Scottsdale",
          "Scranton",
          "Seattle",
          "Seguin",
          "Senatobia",
          "Sevierville",
          "Seymour",
          "Shawnee",
          "Shelbyville",
          "Shreveport",
          "Sierra Vista",
          "Silver Spring",
          "Simpsonville",
          "Sioux City",
          "Sioux Falls",
          "Slidell",
          "Smyrna",
          "Somerset",
          "Somerville",
          "South Bend",
          "South Milwaukee",
          "Southfield",
          "Southington",
          "Spirit Lake",
          "Spokane",
          "Spring",
          "Spring Hill",
          "Springdale",
          "Springfield",
          "St. Louis",
          "State College",
          "Statesville",
          "Steamboat Springs",
          "Sterling Heights",
          "Stockton",
          "Stow",
          "Strongsville",
          "Sturgeon Bay",
          "Sturgis",
          "Suffolk",
          "Sugar Land",
          "Sulphur",
          "Summersville",
          "Summerville",
          "Sumter",
          "Sun Prairie",
          "Sunnyvale",
          "Surprise",
          "Swedesboro",
          "Sylacauga",
          "Sylvania",
          "Syracuse",
          "Tacoma",
          "Tallahassee",
          "Tampa",
          "Tarpon Springs",
          "Taylor",
          "Tehachapi",
          "Temecula",
          "Tempe",
          "Temple",
          "Terre Haute",
          "Thousand Oaks",
          "Tiffin",
          "Tillamook",
          "Tinley Park",
          "Toledo",
          "Tomball",
          "Toms River",
          "Topeka",
          "Torrance",
          "Tracy",
          "Traverse City",
          "Trenton",
          "Troy",
          "Tucker",
          "Tucson",
          "Tulare",
          "Tulsa",
          "Uniontown",
          "Urbana",
          "Utica",
          "Vacaville",
          "Vail",
          "Valdosta",
          "Valparaiso",
          "Vancouver",
          "Venice",
          "Ventura",
          "Vero Beach",
          "Vienna",
          "Vincennes",
          "Virginia Beach",
          "Vista",
          "Waco",
          "Wake Forest",
          "Waldorf",
          "Walker",
          "Walla Walla",
          "Walled Lake",
          "Wallingford",
          "Waltham",
          "Warner Robins",
          "Warren",
          "Warsaw",
          "Washington",
          "Wasilla",
          "Waterloo",
          "Watertown",
          "Waterville",
          "Waukesha",
          "Wausau",
          "Waxahachie",
          "Waynesboro",
          "Waynesville",
          "Webster",
          "Wentzville",
          "Wesley Chapel",
          "West Chester",
          "West Chicago",
          "West Des Moines",
          "West Jordan",
          "West Lafayette",
          "West Palm Beach",
          "West Valley City",
          "West Warwick",
          "Westfield",
          "Westford",
          "Wheat Ridge",
          "White Plains",
          "Wichita",
          "Wichita Falls",
          "Williamsburg",
          "Willmar",
          "Wilmington",
          "Wilson",
          "Winter Garden",
          "Winter Park",
          "Wisconsin Rapids",
          "Woburn",
          "Woodcliff Lake",
          "Woodstock",
          "Worcester",
          "Worland",
          "Wrangell",
          "Wylie",
          "York",
          "Youngstown",
          "Ypsilanti",
          "Yukon",
          "Yuma",
          "Zanesville"
         ],
         "xaxis": "x",
         "y": [
          0.13388183518039742,
          0.5526950141882607,
          0.000142235267114641,
          0.8376224914579163,
          3.4685691938812284,
          0.2113858800362017,
          0.4852355825019626,
          0.7358048551748546,
          6.482832291854981,
          2.193575972466803,
          0.9779220707651279,
          1.9717492630575686,
          0.3616572357838041,
          1.2802149375491274,
          3.260636373340738,
          0.1914,
          1.1746861429239903,
          1.9043894732158853,
          0.2186142801814794,
          1.9618143743180152,
          1.0784543153458215,
          0.2158659987911655,
          0.1613847967737998,
          0.7825611618037706,
          0.25367657588780945,
          0.2909057623091428,
          3.024082003044921,
          0.0537402116326294,
          2.202242994346548,
          2.2598185470699144,
          2.042025410303143,
          0.199644995,
          0.8680876926403809,
          0.2584471400461455,
          8.653539911713716,
          5.02394937112493,
          0.5462878741207277,
          4.559275716823473,
          9.49617275732468,
          0.10455709509705316,
          0.15181999698973658,
          7.4105614329322345,
          9.539162711158626,
          0.07101056107320596,
          0.688214080797377,
          0.2986506513256836,
          0.3665192801407882,
          0.3990520759103967,
          0.5945,
          0.33901210348207234,
          0.13474131621583577,
          0.07489313585510521,
          0.8117455802500001,
          1.882591876828092,
          0.209974148,
          9.0090225e-05,
          0.20356500117157594,
          0.3109508197396284,
          0.0002860077527111837,
          0.1735684105697021,
          0.14194094343823932,
          0.23961865067173177,
          0.4070792705577671,
          0.000988181046964554,
          4.686544546140359,
          0.0344797592163086,
          0.13,
          0.5312029508272103,
          0.49746490846711816,
          1.02577268859632,
          0.823656666668359,
          1.5790714883537205,
          8.718351520032563,
          1.7344247494583516,
          1.9428250778750111,
          0.37936732089952374,
          0.3699564457681885,
          1.6784043626306786,
          1.4642148554915573,
          0.9621441146328344,
          0.7436835709266199,
          0.5169988835026477,
          0.047007337999999996,
          0.035460816055112414,
          6.597186528313755,
          0.6703539376715769,
          0.25036796426391605,
          0.129675967446863,
          0.6222502572792147,
          0.5365644430793197,
          1.0667748853965568,
          0.10219317626953131,
          6.101742843411735,
          1.314859935351761,
          0.013310143258650028,
          0.0311976229949951,
          0.26750173106987324,
          3.80554569725,
          0.10596019278038511,
          0.4379873527846363,
          0.1517406840661622,
          0.2376542828908009,
          0.6685700755,
          2.742412787868411,
          0.0825439758300781,
          3.142729702810612,
          4.741303163943106,
          0.12266486499999998,
          0.2760335271891865,
          0.2906257852145487,
          0.682091181399343,
          0.12477769088745119,
          0.02536498407708769,
          0.1699889588597955,
          0.004157665011588383,
          0.00107365165529001,
          0.5033244941162435,
          0.9365363243916095,
          6.994517133532689,
          0.7974501584785068,
          0.793293505,
          0.5228216340782823,
          0.024873634338379,
          2.2862305527679325,
          0.8978560810174682,
          0.7863284094273149,
          0.1714,
          0.5639557500688889,
          0.3684969900814472,
          0.11140116204880005,
          2.2720276691375227,
          0.2803837286787545,
          0.3860413089198189,
          1.3195946793944537,
          1.016355739001216,
          0.036382125,
          0.0249422391484863,
          1.1592513761823462,
          0.0075256243792606765,
          5.336316591545766,
          25.62097172236319,
          6.200122354805568,
          0.025821078375143802,
          1.136763123066052,
          0.12322116970940014,
          0.153074657,
          0.10571617259333288,
          14.087139435219143,
          0.35472009074903565,
          1.878822230484368,
          0.13,
          15.998012192563491,
          0.2872715,
          0.1496155412759472,
          3.181581231372755,
          6.406267095391885,
          1.3841996101503973,
          0.1006841729976807,
          2.4212592845619074,
          0.638832089817415,
          0.964299162974154,
          32.47549526775255,
          0.002219570157209242,
          1.0770885918696658,
          0.018468458569335898,
          0.6265701535724061,
          0.3672835302392578,
          2.2479095035842205,
          0.0949955293125,
          2.2703006514540203,
          0.8137701462749104,
          0.00067802715,
          22.15886082521381,
          0.27451459397088995,
          0.3060720160493367,
          0.3033421988190918,
          0.217850050414103,
          1.173020772942372,
          0.4436585386062221,
          0.0217957439422607,
          0.06413877740653698,
          1.2250735507601,
          0.9443066241657899,
          0.1106327878774658,
          0.7548562598858879,
          0.2321647831405355,
          0.36414580833898214,
          0.4568437522028681,
          0.5105801585,
          0.8799390509258722,
          0.24676180533761052,
          0.40540358280412137,
          0.09538822139296783,
          0.009613519000000001,
          0.0006572625,
          0.977888055112526,
          0.5639865059863861,
          18.747376333434026,
          0.030864453661030283,
          0.6626567051781741,
          0.0657323569287109,
          0.01694056758728027,
          9.394893277452507,
          0.255521177501728,
          0.38771512070354985,
          0.281582201176295,
          0.12312844281106325,
          0.322322869346714,
          0.003090783,
          2.6528853830709815,
          0.2653512870258301,
          17.391406041535383,
          0.1433586572613458,
          2.254680889397613,
          1.977388335387267,
          11.257304686976216,
          1.6501648598237302,
          1.0994251591230468,
          0.5424329075467149,
          0.5217846072868196,
          0.000491834221152686,
          1.7984344727299393,
          0.24729146741266742,
          4.270983478894622,
          0.84560327405,
          0.064184865,
          1.4191868745597074,
          0.10041702644325864,
          5.528490403029013,
          0.014685455500000002,
          2.0036629857576718,
          0.030930681325559484,
          0.000864906,
          2.668850105363076,
          0.2668373045369141,
          0.19588299715578913,
          0.13,
          2.1833472117954935,
          0.30179980267368556,
          0.0263204708099365,
          0.5433220946766779,
          2.100346536502873,
          0.3462359967972771,
          0.0149610144150513,
          1.1746590920393205,
          0.41605128034386724,
          0.084741813659668,
          0.2975695371932747,
          0.00430722934075947,
          0.0288027076721191,
          2.5369279821476263,
          0.2117501035027111,
          1.02129767581892,
          0.04285784818348258,
          1.3208554121574962,
          4.542275924695636,
          0.33975627438170614,
          0.017528544,
          0.0389134244672852,
          0.6001994783867354,
          1.8058845376740762,
          2.0531112151559503,
          0.46142319622987815,
          0.1620777841947022,
          1.2998887398715262,
          0.06648,
          0.22361521088011208,
          0.088485196831543,
          0.0011831802586500279,
          0.12135702015702494,
          0.0055945151616394,
          0.20657173798112738,
          0.1505404875,
          0.04138988475176191,
          0.25208465999612334,
          0.1086901419487214,
          0.1035802736766968,
          0.15796063370623914,
          1.025389402189084,
          0.18005795727515755,
          3.274348958113134,
          0.25857680218899654,
          0.11921911508664347,
          0.6113513100381598,
          4.682344475555642,
          0.44616086840358393,
          0.0345831525,
          1.4828485044486601,
          1.6198741147587052,
          0.28486713109788525,
          0.4970788006339261,
          1.7249974084427664,
          0.4289604791625,
          1.5461351367394043,
          0.0421856141018555,
          0.7984896044953126,
          3.889764762615924,
          0.14255530932441762,
          0.15016289535443111,
          1.4204379673069358,
          0.643801290872913,
          6.259968221501234,
          0.05212455287636362,
          10.841633122083403,
          1.639383818278304,
          1.012127375596415,
          1.885487608910797,
          1.1419652107073954,
          0.2646859971452259,
          0.4588165169102374,
          3.5575096370183146,
          1.1175797555586338,
          0.5684744823512631,
          0.9780518178432078,
          0.32101812327926904,
          0.3020914326240234,
          0.0213988553240741,
          1.2770695799710694,
          0.00110406365496,
          0.037480957144969,
          5.715144909063872,
          0.1840500302720931,
          8.527666153758293,
          4.182647839469172,
          0.5437485549162028,
          0.532602120417334,
          0.15294838843941766,
          1.9650948060783042,
          1.0158165648967237,
          0.10855684898714946,
          0.13456381778331272,
          0.9931482179880127,
          1.1737067214662018,
          3.2133524333673775,
          0.076978416,
          0.4978252475321078,
          0.0025123875,
          0.7217191801405063,
          1.2241448109003894,
          0.19805330674820576,
          3.2101056388437117,
          0.6964177314633789,
          0.4312817450602563,
          3.0588011404510964,
          1.6660156976473102,
          0.260440828871067,
          0.12338101833831175,
          0.3943063494055321,
          0.0126924894074951,
          0.0015340742625,
          0.835773083176652,
          1.1901006110292855,
          0.9630193426234762,
          0.31680228285619444,
          0.5000016990637678,
          0.24867584785136324,
          0.774259490795265,
          0.8968682377007762,
          0.14335614199381466,
          0.0005960625,
          0.06615834197068086,
          0.006486795,
          4.5079174003915075,
          0.3307926478083197,
          0.0008956282125,
          0.0018583125,
          0.0299208106994629,
          0.245808211387981,
          0.009617345721398931,
          0.23699216008959384,
          0.07829828809187585,
          1.5695135883247926,
          0.3032022649283751,
          0.6953563287775789,
          0.045930228999999996,
          0.1953084096053871,
          0.7748040205796873,
          34.55176307384904,
          0.040118979546749825,
          0.5702899223522278,
          3.3554591722134517,
          0.0001265303625,
          1.4451406938031013,
          0.55940222205,
          2.4746530476265045,
          3.4313234700966517,
          1.8996134534106577,
          0.9359656486701269,
          36.67951504561733,
          0.0123902186157227,
          0.0226173647798742,
          0.07643236736117169,
          0.40323289925601524,
          0.10068638827488124,
          0.1890933643477783,
          0.017395793004175382,
          1.7337877408983506,
          7.416478793662342,
          0.03622690986633301,
          1.5479677161302328,
          0.4947128433401395,
          0.4907735993047973,
          3.525229859238029,
          1.0825317140963406,
          2.032589302591737,
          4.523704801690576,
          0.4070957068828837,
          3.5938729033836756,
          0.14373781866396076,
          0.47508394891779776,
          0.15427007596188072,
          1.3040361505581082,
          0.4902934650990967,
          18.68934894965189,
          0.09752155991337737,
          0.12196996425400901,
          1.442134886675,
          0.93215877474777,
          0.33620237571942807,
          2.2279312345866233,
          0.35508105530287093,
          0.04671996732413829,
          3.6739015360659186,
          0.5760826351307862,
          0.4951976624106445,
          8.70366e-05,
          2.8709669659684423,
          0.24617490447412074,
          0.4747662161479567,
          1.7218045220851996,
          0.02016,
          0.09153958093424597,
          1.3227837382008665,
          0.3371160626411324,
          0.0545949553370972,
          0.964177449099621,
          0.13,
          0.416437105,
          0.43863074340820296,
          0.10925903135926741,
          0.3502800822067028,
          2.3041982335549815,
          0.049013930406113626,
          0.11051825900000001,
          0.0607355422973633,
          1.67664907,
          1.4899023832116964,
          13.416678604623462,
          1.836388820564491,
          0.050742859204966385,
          0.755537941586914,
          0.20835486567138678,
          1.4761216317266845,
          1.8659282006328126,
          0.9298420348303467,
          0.1394376210539888,
          14.337768368096649,
          3.0375601612125265,
          1.7941960420729006,
          0.024123762440185503,
          2.582925186712326,
          0.11173696038674144,
          0.0250212904608154,
          0.3606563737138224,
          0.04914660567893116,
          0.2082430205,
          0.1534829373577353,
          2.0930603184588037,
          0.33209677081377653,
          0.03234506419661817,
          3.7216004762324437,
          0.021104387137595312,
          1.0936190021413572,
          2.1312149331246952,
          1.5524653525282777,
          3.7811960379354925,
          0.6697262186916187,
          1.0499938842985128,
          0.9210263351665039,
          1.3396438643622144,
          0.9740037871727661,
          1.357831484369344,
          1.00022592212454,
          19.740347115423937,
          6.372617138190701,
          0.07915704518306609,
          0.1234026937230544,
          0.27131876295490875,
          0.4195894418509717,
          7.048690309103547,
          0.36599528862975594,
          1.358731001445944,
          0.7028792479190386,
          1.1444840412982356,
          1.1165899759385547,
          0.07188418361121734,
          0.06366113805649722,
          0.7115656617806739,
          5.634568565070282,
          0.3628539468336477,
          0.2512282066969613,
          0.061868782023088556,
          2.048946087335251,
          0.08257535743630039,
          1.6316850964023895,
          1.5713329784324015,
          0.08994343869745332,
          0.5640300616186935,
          0.0140761137008667,
          0.13233504198663446,
          0.26806959882466186,
          0.739617192152343,
          0.057303190868802756,
          0.7637929404372306,
          1.1734607653372202,
          0.193299060425,
          0.4701586227247491,
          0.09098452013018361,
          0.4116518900251602,
          2.9854668025302638,
          1.787548554862793,
          0.24099164526427405,
          0.2825253025681151,
          9.456685291051206,
          0.09923490650417692,
          0.09197793751188994,
          1.015796595507094,
          0.7202970022808701,
          0.064184865,
          0.07046630067398021,
          9.187921154980033,
          0.1785035311644288,
          0.4921248346909771,
          1.1635557949510267,
          0.37090349999682765,
          7.073795276649564,
          2.1215970021072588,
          0.036622978084399405,
          0.1687074728241042,
          6.98920254053314,
          34.2352905304518,
          2.3368236322016496,
          0.0001998798375,
          0.03774549749656379,
          1.1735915434857669,
          1.1169709465326088,
          0.4929873688752594,
          0.8009976741113581,
          0.10023599699462636,
          0.26961050937766107,
          0.1507429581286621,
          0.036382125,
          0.0217781742157718,
          1.51302177516471,
          0.1878728696430771,
          1.5835072111610078,
          0.3566948426463517,
          0.1098467760786133,
          0.5040261257385973,
          0.32791640233671604,
          0.01269723285,
          0.20415,
          0.1467922388123779,
          0.9389389303616211,
          0.5715523198895557,
          0.013050726890564,
          0.39309894130494827,
          0.16736558228069395,
          0.25687764373695005,
          1.601019523264103,
          0.19938440168428742,
          1.674416905128742,
          1.2672414066326212,
          4.298232451015895,
          6.707388883026376,
          1.2232770427398894,
          0.3736537742821005,
          2.7435507537088673,
          0.12414484100688261,
          0.24772689279883484,
          0.16358090665570052,
          1.0510743423428761,
          0.33013660959964597,
          0.3352850202752197,
          0.9153897804666046,
          47.454397333708904,
          0.9163334549851475,
          0.12203108537254063,
          0.5576441134408299,
          1.8326615665899462,
          0.0012458317223470686,
          0.27092073633633523,
          0.6878319756851847,
          5.736647857898142,
          3.9468712287396506,
          1.5914451334920199,
          0.2896921442300761,
          0.03524142793791632,
          2.24622898407782,
          0.0506853138916016,
          0.02016,
          0.001259484,
          1.553681434315033,
          0.7302639026634278,
          0.837414243189739,
          0.499274054995678,
          2.022058479926759,
          0.23468672048778513,
          0.08472608123242775,
          0.040946402970285616,
          0.0071096804,
          0.3413510262743909,
          0.3591325743605151,
          1.6851031257054543,
          0.2209097937049636,
          17.909192369343963,
          0.05848,
          3.0393706249922823,
          0.4410730090022587,
          10.220523054086263,
          0.406703014409773,
          3.342103216348877,
          0.39421073148769875,
          1.0161264650045483,
          0.672965297,
          2.442961475871545,
          1.3837464203726562,
          0.22471604952638652,
          0.281581203577148,
          1.2095955131925344,
          0.06177642197829321,
          0.4327817246682646,
          0.5272247066707394,
          0.2117,
          0.3807060096383563,
          0.7099461432363898,
          0.873978762355468,
          2.385853437867625,
          0.3043731901047839,
          0.037380474517773404,
          0.26185886983607876,
          0.156986199991504,
          2.9055490450810946,
          0.0020878125,
          1.8079425986060496,
          0.161007811,
          4.234180521804737,
          0.019281073124573545,
          0.16329359599793744,
          0.9010929144334856,
          1.3246543445680048,
          0.09721002113749999,
          0.05848,
          0.1240347196013183,
          0.12398347715460216,
          0.9481555191147434,
          0.1377830147875977,
          0.9176610405255458,
          7.434046180849297,
          11.039093850500793,
          0.0702877578735352,
          0.0023861625,
          0.5868829496217529,
          0.7421477855,
          10.791701700719786,
          0.1076155594384766,
          0.1914,
          0.209139169154846,
          0.8748082236728995,
          1.2034600640282482,
          0.11848254807223084,
          0.0223754464019775,
          0.24653621436540915,
          1.2070992278304218,
          0.023500471250000002,
          0.07499932518751973,
          0.16500975566666662,
          0.0015517460401045318,
          4.134896717233487,
          0.8356662408957923,
          0.3101806524104576,
          0.3310629684991677,
          0.10646612047543957,
          9.192847247756436,
          5.748387427807442,
          0.118312965,
          0.4027364779977054,
          0.095220292,
          0.3354537076328125,
          2.2069472840637245,
          0.22282238886566838,
          0.08149460861947874,
          0.02255341567301658,
          3.3600119173006884,
          0.000358493604052762,
          0.7361662411361422,
          0.14513061184248754,
          0.6098059236220307,
          2.2059250850040355,
          0.45305365382620133,
          0.3378420732700788,
          0.20141324062276042,
          0.14344197373181874,
          0.000274125,
          2.8763279684977614,
          0.0303241405487061,
          0.0146621885299683,
          1.2481063121388984,
          2.9321028875335697,
          6.0252584503788285,
          1.4926412855839053,
          0.7785140803745949,
          0.27824,
          2.1770723624748856,
          3.8320364517040373,
          6.648309558216988,
          6.00070274976263,
          8.848540982879419,
          0.2136103077615258,
          0.701140419,
          1.0488526204590611,
          16.693398104110255,
          0.6394835063989055,
          1.1904000000000001,
          0.160753632,
          1.4036568101786147,
          0.06969667601975736,
          3.6123649117476164,
          0.45049029741110624,
          0.05404993104347826,
          0.17441817474365232,
          0.35762103470192486,
          0.1081265409851074,
          2.50560797648848,
          0.174427051445453,
          1.6009154229072466,
          0.10088267660718761,
          0.8592330470458008,
          0.01466983,
          6.674490790848972,
          1.5725205479028115,
          0.33300062876250003,
          0.0909673080444336,
          5.7686202619351485,
          0.06693842620712123,
          11.062926326465737,
          1.240162264252162,
          3.5066369119615297,
          7.8179781305804035,
          1.8851530245320265,
          0.0239380631716044,
          0.1119512466082967,
          0.6937927201782099,
          0.9852874131326734,
          3.3093017225855843,
          0.262,
          0.20074769526706915,
          0.3760954988417236,
          0.3828,
          1.1863986981694628,
          6.66150998748446,
          1.0706814725965088,
          5.015285530090145,
          0.4836254777126095,
          0.0652381772871826,
          1.1402856481863668,
          0.291358511980088,
          0.09260565100000001,
          1.0486399037449474,
          2.510285940215042,
          10.597165089785259,
          0.064184865,
          0.49433362208767556,
          3.0035233300326056,
          1.5873121783563833,
          0.5505753451397459,
          0.5531982121052544,
          0.9082144160259639,
          1.345553207221774,
          0.06292721749891218,
          1.6896106035575562,
          0.023423198565513684,
          1.1816149167860373,
          2.2245379602011717,
          0.3647183347131348,
          0.30920794542550495,
          0.0768002,
          2.3983865868188565,
          0.0162323775,
          0.13,
          0.1224955950446778,
          0.460535331444196,
          18.923950591885664,
          1.007536856488687,
          0.6086087454024272,
          0.4393514552492569,
          12.421575756578548,
          9.24035526596149,
          0.013917448703982085,
          4.869625993801104,
          0.000154734,
          0.17186318377795398,
          0.00022531424999999998,
          0.021140092308092637,
          0.020011539025,
          0.13735660429490054,
          0.03733908129815087,
          0.109704650878906,
          0.5701063955891617,
          0.7731476227354818,
          0.01848444175720215,
          2.4673959518456363,
          0.06657102749999999,
          0.3215147862750956,
          0.0146558591625,
          0.0187199796070557,
          0.000485389,
          0.0001224,
          0.9224305385634229,
          2.0694052300406716,
          0.0959707111799139,
          0.2242617933240741,
          12.674714076254068,
          0.09990187666966559,
          2.4349320683180657,
          0.10992416228093539,
          2.2079413698412127,
          0.3387219818106005,
          0.05848,
          0.4087937245531006,
          0.06648,
          1.2414136308859585,
          0.5374383692485469,
          2.158717542072168,
          0.28108622925146487,
          3.3349173905748124,
          0.0824191875,
          0.1023812340625287,
          0.131,
          0.025414327375,
          3.0279020619408503,
          3.1894674396771263,
          0.070022102355957,
          0.059310898494062916,
          6.985705343332817,
          1.378536056341406,
          12.996326867418459,
          0.12067854683059068,
          1.0137406379050435,
          0.0967654276000856,
          0.11524811050807994,
          0.21082419617808143,
          1.921331422063132,
          1.4058479519909608,
          0.07640755600395172,
          0.07740265244082181,
          2.902592212007492,
          2.316409480135883,
          0.0229754985,
          0.09546032522211916,
          1.0336966334275222,
          0.3145952025819032,
          1.286550319989103,
          0.28829494852612303,
          0.3620701832367681,
          1.4947987353304442,
          0.35700398435745895,
          0.000992767685466943,
          0.17393430820655767,
          0.47169803307349,
          0.012615335,
          0.6269423762832472,
          0.06527922547338652,
          6.1171690445927345,
          0.8730257344330461,
          1.8241702448847983,
          0.536425662397248,
          0.1503641376495361,
          4.496415e-05,
          1.0616412572186285,
          0.5186250638798788,
          4.8976651972708405,
          0.0444437945955322,
          0.9200600444929649,
          0.0186781125,
          2.002456906723745,
          0.15190363903549925,
          0.0912229022917481,
          1.0164795746318434,
          0.7053052221866911,
          0.19034689818763403,
          0.19766435177250452,
          0.6390356512781955,
          0.08592925710361968,
          0.39811895942639136,
          1.1151715817450871,
          1.1078918795625,
          0.8508144653852824,
          3.0419719186423158,
          0.13548887616405797,
          0.024486491325,
          0.037882740020752,
          3.348608241392403,
          0.040059312975,
          0.5213856100687086,
          0.1204260546966552,
          3.1649186790978936,
          0.09660803716262,
          0.23056791255576467,
          1.2753052316387896,
          0.5830162375145502,
          4.899702809884915,
          0.12719622046048756,
          0.29928421198510435,
          2.349708102889291,
          1.1403776327858397,
          3.2753200867349435,
          0.8280615192347387,
          0.0717114922028723,
          1.612721497194492
         ],
         "yaxis": "y"
        }
       ],
       "layout": {
        "barmode": "relative",
        "legend": {
         "tracegroupgap": 0
        },
        "margin": {
         "t": 60
        },
        "template": {
         "data": {
          "bar": [
           {
            "error_x": {
             "color": "#2a3f5f"
            },
            "error_y": {
             "color": "#2a3f5f"
            },
            "marker": {
             "line": {
              "color": "#E5ECF6",
              "width": 0.5
             },
             "pattern": {
              "fillmode": "overlay",
              "size": 10,
              "solidity": 0.2
             }
            },
            "type": "bar"
           }
          ],
          "barpolar": [
           {
            "marker": {
             "line": {
              "color": "#E5ECF6",
              "width": 0.5
             },
             "pattern": {
              "fillmode": "overlay",
              "size": 10,
              "solidity": 0.2
             }
            },
            "type": "barpolar"
           }
          ],
          "carpet": [
           {
            "aaxis": {
             "endlinecolor": "#2a3f5f",
             "gridcolor": "white",
             "linecolor": "white",
             "minorgridcolor": "white",
             "startlinecolor": "#2a3f5f"
            },
            "baxis": {
             "endlinecolor": "#2a3f5f",
             "gridcolor": "white",
             "linecolor": "white",
             "minorgridcolor": "white",
             "startlinecolor": "#2a3f5f"
            },
            "type": "carpet"
           }
          ],
          "choropleth": [
           {
            "colorbar": {
             "outlinewidth": 0,
             "ticks": ""
            },
            "type": "choropleth"
           }
          ],
          "contour": [
           {
            "colorbar": {
             "outlinewidth": 0,
             "ticks": ""
            },
            "colorscale": [
             [
              0,
              "#0d0887"
             ],
             [
              0.1111111111111111,
              "#46039f"
             ],
             [
              0.2222222222222222,
              "#7201a8"
             ],
             [
              0.3333333333333333,
              "#9c179e"
             ],
             [
              0.4444444444444444,
              "#bd3786"
             ],
             [
              0.5555555555555556,
              "#d8576b"
             ],
             [
              0.6666666666666666,
              "#ed7953"
             ],
             [
              0.7777777777777778,
              "#fb9f3a"
             ],
             [
              0.8888888888888888,
              "#fdca26"
             ],
             [
              1,
              "#f0f921"
             ]
            ],
            "type": "contour"
           }
          ],
          "contourcarpet": [
           {
            "colorbar": {
             "outlinewidth": 0,
             "ticks": ""
            },
            "type": "contourcarpet"
           }
          ],
          "heatmap": [
           {
            "colorbar": {
             "outlinewidth": 0,
             "ticks": ""
            },
            "colorscale": [
             [
              0,
              "#0d0887"
             ],
             [
              0.1111111111111111,
              "#46039f"
             ],
             [
              0.2222222222222222,
              "#7201a8"
             ],
             [
              0.3333333333333333,
              "#9c179e"
             ],
             [
              0.4444444444444444,
              "#bd3786"
             ],
             [
              0.5555555555555556,
              "#d8576b"
             ],
             [
              0.6666666666666666,
              "#ed7953"
             ],
             [
              0.7777777777777778,
              "#fb9f3a"
             ],
             [
              0.8888888888888888,
              "#fdca26"
             ],
             [
              1,
              "#f0f921"
             ]
            ],
            "type": "heatmap"
           }
          ],
          "heatmapgl": [
           {
            "colorbar": {
             "outlinewidth": 0,
             "ticks": ""
            },
            "colorscale": [
             [
              0,
              "#0d0887"
             ],
             [
              0.1111111111111111,
              "#46039f"
             ],
             [
              0.2222222222222222,
              "#7201a8"
             ],
             [
              0.3333333333333333,
              "#9c179e"
             ],
             [
              0.4444444444444444,
              "#bd3786"
             ],
             [
              0.5555555555555556,
              "#d8576b"
             ],
             [
              0.6666666666666666,
              "#ed7953"
             ],
             [
              0.7777777777777778,
              "#fb9f3a"
             ],
             [
              0.8888888888888888,
              "#fdca26"
             ],
             [
              1,
              "#f0f921"
             ]
            ],
            "type": "heatmapgl"
           }
          ],
          "histogram": [
           {
            "marker": {
             "pattern": {
              "fillmode": "overlay",
              "size": 10,
              "solidity": 0.2
             }
            },
            "type": "histogram"
           }
          ],
          "histogram2d": [
           {
            "colorbar": {
             "outlinewidth": 0,
             "ticks": ""
            },
            "colorscale": [
             [
              0,
              "#0d0887"
             ],
             [
              0.1111111111111111,
              "#46039f"
             ],
             [
              0.2222222222222222,
              "#7201a8"
             ],
             [
              0.3333333333333333,
              "#9c179e"
             ],
             [
              0.4444444444444444,
              "#bd3786"
             ],
             [
              0.5555555555555556,
              "#d8576b"
             ],
             [
              0.6666666666666666,
              "#ed7953"
             ],
             [
              0.7777777777777778,
              "#fb9f3a"
             ],
             [
              0.8888888888888888,
              "#fdca26"
             ],
             [
              1,
              "#f0f921"
             ]
            ],
            "type": "histogram2d"
           }
          ],
          "histogram2dcontour": [
           {
            "colorbar": {
             "outlinewidth": 0,
             "ticks": ""
            },
            "colorscale": [
             [
              0,
              "#0d0887"
             ],
             [
              0.1111111111111111,
              "#46039f"
             ],
             [
              0.2222222222222222,
              "#7201a8"
             ],
             [
              0.3333333333333333,
              "#9c179e"
             ],
             [
              0.4444444444444444,
              "#bd3786"
             ],
             [
              0.5555555555555556,
              "#d8576b"
             ],
             [
              0.6666666666666666,
              "#ed7953"
             ],
             [
              0.7777777777777778,
              "#fb9f3a"
             ],
             [
              0.8888888888888888,
              "#fdca26"
             ],
             [
              1,
              "#f0f921"
             ]
            ],
            "type": "histogram2dcontour"
           }
          ],
          "mesh3d": [
           {
            "colorbar": {
             "outlinewidth": 0,
             "ticks": ""
            },
            "type": "mesh3d"
           }
          ],
          "parcoords": [
           {
            "line": {
             "colorbar": {
              "outlinewidth": 0,
              "ticks": ""
             }
            },
            "type": "parcoords"
           }
          ],
          "pie": [
           {
            "automargin": true,
            "type": "pie"
           }
          ],
          "scatter": [
           {
            "marker": {
             "colorbar": {
              "outlinewidth": 0,
              "ticks": ""
             }
            },
            "type": "scatter"
           }
          ],
          "scatter3d": [
           {
            "line": {
             "colorbar": {
              "outlinewidth": 0,
              "ticks": ""
             }
            },
            "marker": {
             "colorbar": {
              "outlinewidth": 0,
              "ticks": ""
             }
            },
            "type": "scatter3d"
           }
          ],
          "scattercarpet": [
           {
            "marker": {
             "colorbar": {
              "outlinewidth": 0,
              "ticks": ""
             }
            },
            "type": "scattercarpet"
           }
          ],
          "scattergeo": [
           {
            "marker": {
             "colorbar": {
              "outlinewidth": 0,
              "ticks": ""
             }
            },
            "type": "scattergeo"
           }
          ],
          "scattergl": [
           {
            "marker": {
             "colorbar": {
              "outlinewidth": 0,
              "ticks": ""
             }
            },
            "type": "scattergl"
           }
          ],
          "scattermapbox": [
           {
            "marker": {
             "colorbar": {
              "outlinewidth": 0,
              "ticks": ""
             }
            },
            "type": "scattermapbox"
           }
          ],
          "scatterpolar": [
           {
            "marker": {
             "colorbar": {
              "outlinewidth": 0,
              "ticks": ""
             }
            },
            "type": "scatterpolar"
           }
          ],
          "scatterpolargl": [
           {
            "marker": {
             "colorbar": {
              "outlinewidth": 0,
              "ticks": ""
             }
            },
            "type": "scatterpolargl"
           }
          ],
          "scatterternary": [
           {
            "marker": {
             "colorbar": {
              "outlinewidth": 0,
              "ticks": ""
             }
            },
            "type": "scatterternary"
           }
          ],
          "surface": [
           {
            "colorbar": {
             "outlinewidth": 0,
             "ticks": ""
            },
            "colorscale": [
             [
              0,
              "#0d0887"
             ],
             [
              0.1111111111111111,
              "#46039f"
             ],
             [
              0.2222222222222222,
              "#7201a8"
             ],
             [
              0.3333333333333333,
              "#9c179e"
             ],
             [
              0.4444444444444444,
              "#bd3786"
             ],
             [
              0.5555555555555556,
              "#d8576b"
             ],
             [
              0.6666666666666666,
              "#ed7953"
             ],
             [
              0.7777777777777778,
              "#fb9f3a"
             ],
             [
              0.8888888888888888,
              "#fdca26"
             ],
             [
              1,
              "#f0f921"
             ]
            ],
            "type": "surface"
           }
          ],
          "table": [
           {
            "cells": {
             "fill": {
              "color": "#EBF0F8"
             },
             "line": {
              "color": "white"
             }
            },
            "header": {
             "fill": {
              "color": "#C8D4E3"
             },
             "line": {
              "color": "white"
             }
            },
            "type": "table"
           }
          ]
         },
         "layout": {
          "annotationdefaults": {
           "arrowcolor": "#2a3f5f",
           "arrowhead": 0,
           "arrowwidth": 1
          },
          "autotypenumbers": "strict",
          "coloraxis": {
           "colorbar": {
            "outlinewidth": 0,
            "ticks": ""
           }
          },
          "colorscale": {
           "diverging": [
            [
             0,
             "#8e0152"
            ],
            [
             0.1,
             "#c51b7d"
            ],
            [
             0.2,
             "#de77ae"
            ],
            [
             0.3,
             "#f1b6da"
            ],
            [
             0.4,
             "#fde0ef"
            ],
            [
             0.5,
             "#f7f7f7"
            ],
            [
             0.6,
             "#e6f5d0"
            ],
            [
             0.7,
             "#b8e186"
            ],
            [
             0.8,
             "#7fbc41"
            ],
            [
             0.9,
             "#4d9221"
            ],
            [
             1,
             "#276419"
            ]
           ],
           "sequential": [
            [
             0,
             "#0d0887"
            ],
            [
             0.1111111111111111,
             "#46039f"
            ],
            [
             0.2222222222222222,
             "#7201a8"
            ],
            [
             0.3333333333333333,
             "#9c179e"
            ],
            [
             0.4444444444444444,
             "#bd3786"
            ],
            [
             0.5555555555555556,
             "#d8576b"
            ],
            [
             0.6666666666666666,
             "#ed7953"
            ],
            [
             0.7777777777777778,
             "#fb9f3a"
            ],
            [
             0.8888888888888888,
             "#fdca26"
            ],
            [
             1,
             "#f0f921"
            ]
           ],
           "sequentialminus": [
            [
             0,
             "#0d0887"
            ],
            [
             0.1111111111111111,
             "#46039f"
            ],
            [
             0.2222222222222222,
             "#7201a8"
            ],
            [
             0.3333333333333333,
             "#9c179e"
            ],
            [
             0.4444444444444444,
             "#bd3786"
            ],
            [
             0.5555555555555556,
             "#d8576b"
            ],
            [
             0.6666666666666666,
             "#ed7953"
            ],
            [
             0.7777777777777778,
             "#fb9f3a"
            ],
            [
             0.8888888888888888,
             "#fdca26"
            ],
            [
             1,
             "#f0f921"
            ]
           ]
          },
          "colorway": [
           "#636efa",
           "#EF553B",
           "#00cc96",
           "#ab63fa",
           "#FFA15A",
           "#19d3f3",
           "#FF6692",
           "#B6E880",
           "#FF97FF",
           "#FECB52"
          ],
          "font": {
           "color": "#2a3f5f"
          },
          "geo": {
           "bgcolor": "white",
           "lakecolor": "white",
           "landcolor": "#E5ECF6",
           "showlakes": true,
           "showland": true,
           "subunitcolor": "white"
          },
          "hoverlabel": {
           "align": "left"
          },
          "hovermode": "closest",
          "mapbox": {
           "style": "light"
          },
          "paper_bgcolor": "white",
          "plot_bgcolor": "#E5ECF6",
          "polar": {
           "angularaxis": {
            "gridcolor": "white",
            "linecolor": "white",
            "ticks": ""
           },
           "bgcolor": "#E5ECF6",
           "radialaxis": {
            "gridcolor": "white",
            "linecolor": "white",
            "ticks": ""
           }
          },
          "scene": {
           "xaxis": {
            "backgroundcolor": "#E5ECF6",
            "gridcolor": "white",
            "gridwidth": 2,
            "linecolor": "white",
            "showbackground": true,
            "ticks": "",
            "zerolinecolor": "white"
           },
           "yaxis": {
            "backgroundcolor": "#E5ECF6",
            "gridcolor": "white",
            "gridwidth": 2,
            "linecolor": "white",
            "showbackground": true,
            "ticks": "",
            "zerolinecolor": "white"
           },
           "zaxis": {
            "backgroundcolor": "#E5ECF6",
            "gridcolor": "white",
            "gridwidth": 2,
            "linecolor": "white",
            "showbackground": true,
            "ticks": "",
            "zerolinecolor": "white"
           }
          },
          "shapedefaults": {
           "line": {
            "color": "#2a3f5f"
           }
          },
          "ternary": {
           "aaxis": {
            "gridcolor": "white",
            "linecolor": "white",
            "ticks": ""
           },
           "baxis": {
            "gridcolor": "white",
            "linecolor": "white",
            "ticks": ""
           },
           "bgcolor": "#E5ECF6",
           "caxis": {
            "gridcolor": "white",
            "linecolor": "white",
            "ticks": ""
           }
          },
          "title": {
           "x": 0.05
          },
          "xaxis": {
           "automargin": true,
           "gridcolor": "white",
           "linecolor": "white",
           "ticks": "",
           "title": {
            "standoff": 15
           },
           "zerolinecolor": "white",
           "zerolinewidth": 2
          },
          "yaxis": {
           "automargin": true,
           "gridcolor": "white",
           "linecolor": "white",
           "ticks": "",
           "title": {
            "standoff": 15
           },
           "zerolinecolor": "white",
           "zerolinewidth": 2
          }
         }
        },
        "xaxis": {
         "anchor": "y",
         "domain": [
          0,
          1
         ],
         "title": {
          "text": "city"
         }
        },
        "yaxis": {
         "anchor": "x",
         "domain": [
          0,
          1
         ],
         "title": {
          "text": "sum of revenue"
         }
        }
       }
      },
      "text/html": [
       "<div>                            <div id=\"ffb60cdb-13bf-42fd-99a0-2656b39f0260\" class=\"plotly-graph-div\" style=\"height:525px; width:100%;\"></div>            <script type=\"text/javascript\">                require([\"plotly\"], function(Plotly) {                    window.PLOTLYENV=window.PLOTLYENV || {};                                    if (document.getElementById(\"ffb60cdb-13bf-42fd-99a0-2656b39f0260\")) {                    Plotly.newPlot(                        \"ffb60cdb-13bf-42fd-99a0-2656b39f0260\",                        [{\"alignmentgroup\":\"True\",\"bingroup\":\"x\",\"histfunc\":\"sum\",\"hovertemplate\":\"city=%{x}<br>sum of revenue=%{y}<extra></extra>\",\"legendgroup\":\"\",\"marker\":{\"color\":\"#636efa\",\"pattern\":{\"shape\":\"\"}},\"name\":\"\",\"offsetgroup\":\"\",\"orientation\":\"v\",\"showlegend\":false,\"x\":[\"Aberdeen\",\"Abilene\",\"Addison\",\"Afton\",\"Akron\",\"Alameda\",\"Alamogordo\",\"Albany\",\"Albuquerque\",\"Alexandria\",\"Allentown\",\"Alpharetta\",\"Altamonte Springs\",\"Altoona\",\"Alvarado\",\"Amery\",\"Anaheim\",\"Anchorage\",\"Anderson\",\"Angola\",\"Ann Arbor\",\"Anoka\",\"Apex\",\"Apopka\",\"Appleton\",\"Arcadia\",\"Ardmore\",\"Arkansas City\",\"Arlington\",\"Arvada\",\"Asbury Park\",\"Ashburn\",\"Asheboro\",\"Athens\",\"Atlanta\",\"Auburn\",\"Augusta\",\"Aurora\",\"Austin\",\"Bainbridge Island\",\"Bakersfield\",\"Baltimore\",\"Bangor\",\"Bardstown\",\"Bartlesville\",\"Basking Ridge\",\"Batavia\",\"Batesville\",\"Baton Rouge\",\"Battle Creek\",\"Bay City\",\"Bayonne\",\"Baytown\",\"Beatrice\",\"Beaufort\",\"Beaumont\",\"Beaverton\",\"Bedford\",\"Bell Gardens\",\"Belle Vernon\",\"Bellefontaine\",\"Belleville\",\"Bellevue\",\"Bellflower\",\"Bellingham\",\"Bend\",\"Berlin\",\"Bethel Park\",\"Bethlehem\",\"Billings\",\"Biloxi\",\"Binghamton\",\"Birmingham\",\"Bismarck\",\"Blairsville\",\"Bloomfield\",\"Bloomingdale\",\"Bloomington\",\"Blue Springs\",\"Boca Raton\",\"Boise\",\"Bolingbrook\",\"Bonners Ferry\",\"Bordentown\",\"Boston\",\"Boulder\",\"Bowie\",\"Bowling Green\",\"Bozeman\",\"Bradenton\",\"Brainerd\",\"Brandon\",\"Brecksville\",\"Bremerton\",\"Brenham\",\"Brentwood\",\"Brighton\",\"Brockton\",\"Broken Arrow\",\"Brookfield\",\"Brookings\",\"Brookline\",\"Brooksville\",\"Broomfield\",\"Brownsburg\",\"Buena Park\",\"Buffalo\",\"Bullhead City\",\"Burbank\",\"Burkburnett\",\"Burlington\",\"Burnsville\",\"Butler\",\"Butte\",\"Camden\",\"Canfield\",\"Canonsburg\",\"Canton\",\"Cape Coral\",\"Cape Girardeau\",\"Carbondale\",\"Carlisle\",\"Carlsbad\",\"Carmel\",\"Carroll\",\"Carrollton\",\"Cartersville\",\"Cary\",\"Casper\",\"Castro Valley\",\"Cedar City\",\"Cedar Falls\",\"Cedar Rapids\",\"Celina\",\"Centerville\",\"Chambersburg\",\"Champaign\",\"Chandler\",\"Chantilly\",\"Charleston\",\"Charlotte\",\"Charlottesville\",\"Charlston\",\"Chattanooga\",\"Cherokee\",\"Cherry Hill\",\"Cheyenne\",\"Chicago\",\"Chico\",\"Chicopee\",\"Chillicothe\",\"Cincinnati\",\"Claremont\",\"Claremore\",\"Clarkesville\",\"Clarks Summit\",\"Clarksburg\",\"Clarksville\",\"Clearwater\",\"Cleburne\",\"Clementon\",\"Cleveland\",\"Clifton\",\"Clovis\",\"Cocoa\",\"Coeur d'Alene\",\"Colchester\",\"College Station\",\"Collinsville\",\"Colorado Springs\",\"Columbia\",\"Columbia City\",\"Columbus\",\"Concord\",\"Conroe\",\"Conyers\",\"Cookeville\",\"Coraopolis\",\"Corbin\",\"Corning\",\"Corona\",\"Corpus Christi\",\"Cortland\",\"Costa Mesa\",\"Council Bluffs\",\"Covington\",\"Cranston\",\"Crawfordsville\",\"Crossett\",\"Crossville\",\"Crystal Lake\",\"Cullman\",\"Cumming\",\"Custer\",\"Cynthiana\",\"Dade City\",\"Dahlonega\",\"Dallas\",\"Dalton\",\"Danbury\",\"Danvers\",\"Danville\",\"Dayton\",\"Daytona Beach\",\"DeKalb\",\"Dearborn\",\"Decatur\",\"Deer Park\",\"Deltona\",\"Denham Springs\",\"Denton\",\"Denver\",\"Derry\",\"Des Moines\",\"Des Plaines\",\"Detroit\",\"Dickinson\",\"Dobson\",\"Dothan\",\"Dover\",\"DuBois\",\"Dublin\",\"Dubuque\",\"Duluth\",\"Durham\",\"Dyersburg\",\"East Hartford\",\"East Liverpool\",\"East Peoria\",\"Easton\",\"Eau Claire\",\"Edgerton\",\"Edison\",\"Edmond\",\"El Cajon\",\"El Centro\",\"El Monte\",\"El Paso\",\"Elgin\",\"Elizabethtown\",\"Elk Grove\",\"Elkhart\",\"Elkhorn\",\"Ellensburg\",\"Elmira\",\"Enid\",\"Ephrata\",\"Erie\",\"Escanaba\",\"Escondido\",\"Eugene\",\"Eureka\",\"Eureka Springs\",\"Evanston\",\"Evansville\",\"Everett\",\"Exeter\",\"Fairborn\",\"Fairfax\",\"Fairfield\",\"Fairview Heights\",\"Fall River\",\"Fallon\",\"Falls Church\",\"Fargo\",\"Faribault\",\"Farmington\",\"Farmingville\",\"Farmville\",\"Fayetteville\",\"Federal Way\",\"Fishers\",\"Flagstaff\",\"Flemington\",\"Flint\",\"Florence\",\"Florissant\",\"Flushing\",\"Folsom\",\"Fond Du Lac\",\"Fontana\",\"Forest City\",\"Fort Collins\",\"Fort Lauderdale\",\"Fort Mill\",\"Fort Myers\",\"Fort Walton Beach\",\"Fort Wayne\",\"Fort Worth\",\"Framingham\",\"Frankfort\",\"Franklin\",\"Fredericksburg\",\"Freeport\",\"Fremont\",\"Fresno\",\"Frisco\",\"Front Royal\",\"Gadsden\",\"Gainesville\",\"Galesburg\",\"Gallatin\",\"Garden Grove\",\"Gardena\",\"Garland\",\"Garner\",\"Gastonia\",\"Geneva\",\"Georgetown\",\"Gettysburg\",\"Gig Harbor\",\"Gilbert\",\"Glastonbury\",\"Glen Burnie\",\"Glendale\",\"Gloucester City\",\"Gloversville\",\"Goldsboro\",\"Gonzales\",\"Grand Forks\",\"Grand Junction\",\"Grand Prairie\",\"Grand Rapids\",\"Grants Pass\",\"Grapevine\",\"Great Bend\",\"Great Falls\",\"Greeley\",\"Green Bay\",\"Greeneville\",\"Greenfield\",\"Greensboro\",\"Greensburg\",\"Greenville\",\"Greenwood\",\"Gresham\",\"Grove City\",\"Gulfport\",\"Hackensack\",\"Hadley\",\"Hagerstown\",\"Hammond\",\"Hampton\",\"Hannibal\",\"Hanover\",\"Harlingen\",\"Harrisburg\",\"Harrison\",\"Hartford\",\"Hartsville\",\"Hastings\",\"Hattiesburg\",\"Hays\",\"Hayward\",\"Hazard\",\"Hazlet\",\"Hazleton\",\"Helena\",\"Hemet\",\"Henderson\",\"Hendersonville\",\"High Point\",\"Hilliard\",\"Hillsboro\",\"Hilo\",\"Hilton Head Island\",\"Hinesville\",\"Hobbs\",\"Hoffman Estates\",\"Holbrook\",\"Holland\",\"Hollywood\",\"Homestead\",\"Honolulu\",\"Hoover\",\"Horseheads\",\"Hot Springs\",\"Houston\",\"Huntersville\",\"Huntingdon\",\"Huntington\",\"Huntington Beach\",\"Huntsville\",\"Huron\",\"Hurricane\",\"Hutchinson\",\"Idaho Falls\",\"Independence\",\"Indianapolis\",\"Indio\",\"Inverness\",\"Iowa City\",\"Ironton\",\"Irvine\",\"Irving\",\"Ithaca\",\"Jackson\",\"Jacksonville\",\"Jacksonville Beach\",\"Jamestown\",\"Janesville\",\"Jefferson City\",\"Jersey City\",\"Jerseyville\",\"Johnson City\",\"Johnstown\",\"Joliet\",\"Jonesboro\",\"Joplin\",\"Kailua-Kona\",\"Kalamazoo\",\"Kalispell\",\"Kankakee\",\"Kansas City\",\"Katy\",\"Kearney\",\"Kennesaw\",\"Kennewick\",\"Kenosha\",\"Kent\",\"Keokuk\",\"Kernersville\",\"Killeen\",\"King of Prussia\",\"Kingsport\",\"Kingston\",\"Kingsville\",\"Kingwood\",\"Kissimmee\",\"Knoxville\",\"Kokomo\",\"Kyle\",\"La Crosse\",\"La Grange\",\"La Junta\",\"Lafayette\",\"Lake Charles\",\"Lake George\",\"Lake Worth\",\"Lakeland\",\"Lamar\",\"Lancaster\",\"Lansdale\",\"Lansing\",\"Laramie\",\"Laredo\",\"Las Cruces\",\"Las Vegas\",\"Laurel\",\"Lavonia\",\"Lawrence\",\"Lawrenceville\",\"Lawton\",\"Layton\",\"League City\",\"Lebanon\",\"Lee's Summit\",\"Leesburg\",\"Leesville\",\"Lehighton\",\"Lenexa\",\"Lenoir City\",\"Levelland\",\"Levittown\",\"Lewes\",\"Lewisburg\",\"Lewistown\",\"Lewisville\",\"Lexington\",\"Lima\",\"Lincoln\",\"Lincoln City\",\"Linden\",\"Lindon\",\"Little Rock\",\"Littleton\",\"Livonia\",\"Logan\",\"Lompoc\",\"London\",\"Long Beach\",\"Longmont\",\"Longview\",\"Los Angeles\",\"Louisville\",\"Lowell\",\"Lubbock\",\"Lynchburg\",\"Lynnwood\",\"Madison\",\"Madison Heights\",\"Madisonville\",\"Malden\",\"Manassas\",\"Manchester\",\"Manhattan\",\"Manistee\",\"Manitowoc\",\"Mankato\",\"Maple Grove\",\"Marietta\",\"Marina\",\"Marion\",\"Marquette\",\"Marshall\",\"Marshfield\",\"Martin\",\"Martinsburg\",\"Massillon\",\"Matthews\",\"Mattoon\",\"Mayfield\",\"McAllen\",\"McDonough\",\"McHenry\",\"McKeesport\",\"Meadville\",\"Mebane\",\"Mechanicsburg\",\"Mechanicsville\",\"Medford\",\"Medina\",\"Melbourne\",\"Memphis\",\"Mentor\",\"Merced\",\"Meridian\",\"Mesa\",\"Mesquite\",\"Metairie\",\"Miami\",\"Miami Beach\",\"Miamisburg\",\"Michigan City\",\"Middletown\",\"Midland\",\"Milford\",\"Milpitas\",\"Milton\",\"Milwaukee\",\"Minneapolis\",\"Minot\",\"Mission\",\"Missoula\",\"Mobile\",\"Modesto\",\"Moline\",\"Monroe\",\"Montgomery\",\"Montpelier\",\"Monument\",\"Morehead City\",\"Moreno Valley\",\"Morgantown\",\"Morristown\",\"Mount Airy\",\"Mount Juliet\",\"Mount Laurel\",\"Mount Pleasant\",\"Mount Vernon\",\"Mountain Top\",\"Mountain View\",\"Muncie\",\"Munster\",\"Murfreesboro\",\"Murray\",\"Murrieta\",\"Muskegon\",\"Muskogee\",\"Myrtle Beach\",\"Nampa\",\"Naperville\",\"Naples\",\"Nashua\",\"Nashville\",\"Neenah\",\"New Albany\",\"New Bedford\",\"New Berlin\",\"New Braunfels\",\"New Castle\",\"New Orleans\",\"New Port Richey\",\"New Smyrna Beach\",\"New Ulm\",\"New York\",\"Newark\",\"Newington\",\"Newnan\",\"Newport\",\"Newport Beach\",\"Newport News\",\"Newton\",\"Niagara Falls\",\"Nicholasville\",\"Norfolk\",\"Norman\",\"North Bergen\",\"North Las Vegas\",\"North Olmsted\",\"North Platte\",\"North Port\",\"Northampton\",\"Northville\",\"Norwalk\",\"Norwich\",\"Norwood\",\"O'Fallon\",\"Oak Creek\",\"Oakland\",\"Ocala\",\"Oceanside\",\"Odessa\",\"Ogden\",\"Okeechobee\",\"Oklahoma City\",\"Okmulgee\",\"Olathe\",\"Olympia\",\"Omaha\",\"Oneonta\",\"Ontario\",\"Orange\",\"Orem\",\"Orland Park\",\"Orlando\",\"Ormond Beach\",\"Oroville\",\"Osage Beach\",\"Oshkosh\",\"Osseo\",\"Overland Park\",\"Oviedo\",\"Owensboro\",\"Owings Mills\",\"Oxford\",\"Oxnard\",\"Paducah\",\"Pahrump\",\"Palestine\",\"Palm Bay\",\"Palm Beach Gardens\",\"Palm Coast\",\"Palmdale\",\"Palmyra\",\"Panama City\",\"Paoli\",\"Parkersburg\",\"Pascagoula\",\"Pasco\",\"Pearland\",\"Pell City\",\"Pembroke Pines\",\"Pendleton\",\"Pensacola\",\"Peoria\",\"Perris\",\"Petersburg\",\"Philadelphia\",\"Phoenix\",\"Picayune\",\"Pikesville\",\"Pikeville\",\"Pinellas Park\",\"Pittsburgh\",\"Pittsfield\",\"Pittsford\",\"Placerville\",\"Plainfield\",\"Plano\",\"Plattsburgh\",\"Plymouth\",\"Pocatello\",\"Pompano Beach\",\"Ponca City\",\"Pontiac\",\"Pooler\",\"Port Clinton\",\"Port Huron\",\"Port Orchard\",\"Port Saint Lucie\",\"Portage\",\"Porterville\",\"Portland\",\"Portsmouth\",\"Post Falls\",\"Potsdam\",\"Poughkeepsie\",\"Powell\",\"Prattville\",\"Prescott Valley\",\"Providence\",\"Provo\",\"Pueblo\",\"Punta Gorda\",\"Queensbury\",\"Quincy\",\"Racine\",\"Raleigh\",\"Rancho Cordova\",\"Rancho Cucamonga\",\"Rapid City\",\"Raymondville\",\"Rayville\",\"Reading\",\"Redlands\",\"Redmond\",\"Redwood City\",\"Reno\",\"Richardson\",\"Richmond\",\"Ridley Park\",\"Riverdale\",\"Riverside\",\"Roanoke\",\"Robinson\",\"Rochester\",\"Rockford\",\"Rockingham\",\"Rockport\",\"Rockwall\",\"Rocky Mount\",\"Rogers\",\"Rohnert Park\",\"Rome\",\"Romulus\",\"Ronkonkoma\",\"Roosevelt\",\"Roseburg\",\"Roseville\",\"Round Rock\",\"Royal Oak\",\"Ruston\",\"Sacramento\",\"Saginaw\",\"Saint Augustine\",\"Saint Charles\",\"Saint Joseph\",\"Saint Marys\",\"Saint Paul\",\"Salem\",\"Salinas\",\"Salisbury\",\"Salt Lake City\",\"San Angelo\",\"San Antonio\",\"San Bernardino\",\"San Diego\",\"San Francisco\",\"San Jose\",\"San Luis Obispo\",\"San Rafael\",\"Sandusky\",\"Sandy\",\"Sanford\",\"Santa Ana\",\"Santa Clara\",\"Santa Cruz\",\"Santa Fe\",\"Santa Maria\",\"Santa Rosa\",\"Sarasota\",\"Savannah\",\"Sayre\",\"Schaumburg\",\"Schenectady\",\"Schertz\",\"Scottsburg\",\"Scottsdale\",\"Scranton\",\"Seattle\",\"Seguin\",\"Senatobia\",\"Sevierville\",\"Seymour\",\"Shawnee\",\"Shelbyville\",\"Shreveport\",\"Sierra Vista\",\"Silver Spring\",\"Simpsonville\",\"Sioux City\",\"Sioux Falls\",\"Slidell\",\"Smyrna\",\"Somerset\",\"Somerville\",\"South Bend\",\"South Milwaukee\",\"Southfield\",\"Southington\",\"Spirit Lake\",\"Spokane\",\"Spring\",\"Spring Hill\",\"Springdale\",\"Springfield\",\"St. Louis\",\"State College\",\"Statesville\",\"Steamboat Springs\",\"Sterling Heights\",\"Stockton\",\"Stow\",\"Strongsville\",\"Sturgeon Bay\",\"Sturgis\",\"Suffolk\",\"Sugar Land\",\"Sulphur\",\"Summersville\",\"Summerville\",\"Sumter\",\"Sun Prairie\",\"Sunnyvale\",\"Surprise\",\"Swedesboro\",\"Sylacauga\",\"Sylvania\",\"Syracuse\",\"Tacoma\",\"Tallahassee\",\"Tampa\",\"Tarpon Springs\",\"Taylor\",\"Tehachapi\",\"Temecula\",\"Tempe\",\"Temple\",\"Terre Haute\",\"Thousand Oaks\",\"Tiffin\",\"Tillamook\",\"Tinley Park\",\"Toledo\",\"Tomball\",\"Toms River\",\"Topeka\",\"Torrance\",\"Tracy\",\"Traverse City\",\"Trenton\",\"Troy\",\"Tucker\",\"Tucson\",\"Tulare\",\"Tulsa\",\"Uniontown\",\"Urbana\",\"Utica\",\"Vacaville\",\"Vail\",\"Valdosta\",\"Valparaiso\",\"Vancouver\",\"Venice\",\"Ventura\",\"Vero Beach\",\"Vienna\",\"Vincennes\",\"Virginia Beach\",\"Vista\",\"Waco\",\"Wake Forest\",\"Waldorf\",\"Walker\",\"Walla Walla\",\"Walled Lake\",\"Wallingford\",\"Waltham\",\"Warner Robins\",\"Warren\",\"Warsaw\",\"Washington\",\"Wasilla\",\"Waterloo\",\"Watertown\",\"Waterville\",\"Waukesha\",\"Wausau\",\"Waxahachie\",\"Waynesboro\",\"Waynesville\",\"Webster\",\"Wentzville\",\"Wesley Chapel\",\"West Chester\",\"West Chicago\",\"West Des Moines\",\"West Jordan\",\"West Lafayette\",\"West Palm Beach\",\"West Valley City\",\"West Warwick\",\"Westfield\",\"Westford\",\"Wheat Ridge\",\"White Plains\",\"Wichita\",\"Wichita Falls\",\"Williamsburg\",\"Willmar\",\"Wilmington\",\"Wilson\",\"Winter Garden\",\"Winter Park\",\"Wisconsin Rapids\",\"Woburn\",\"Woodcliff Lake\",\"Woodstock\",\"Worcester\",\"Worland\",\"Wrangell\",\"Wylie\",\"York\",\"Youngstown\",\"Ypsilanti\",\"Yukon\",\"Yuma\",\"Zanesville\"],\"xaxis\":\"x\",\"y\":[0.13388183518039742,0.5526950141882607,0.000142235267114641,0.8376224914579163,3.4685691938812284,0.2113858800362017,0.4852355825019626,0.7358048551748546,6.482832291854981,2.193575972466803,0.9779220707651279,1.9717492630575686,0.3616572357838041,1.2802149375491274,3.260636373340738,0.1914,1.1746861429239903,1.9043894732158853,0.2186142801814794,1.9618143743180152,1.0784543153458215,0.2158659987911655,0.1613847967737998,0.7825611618037706,0.25367657588780945,0.2909057623091428,3.024082003044921,0.0537402116326294,2.202242994346548,2.2598185470699144,2.042025410303143,0.199644995,0.8680876926403809,0.2584471400461455,8.653539911713716,5.02394937112493,0.5462878741207277,4.559275716823473,9.49617275732468,0.10455709509705316,0.15181999698973658,7.4105614329322345,9.539162711158626,0.07101056107320596,0.688214080797377,0.2986506513256836,0.3665192801407882,0.3990520759103967,0.5945,0.33901210348207234,0.13474131621583577,0.07489313585510521,0.8117455802500001,1.882591876828092,0.209974148,9.0090225e-05,0.20356500117157594,0.3109508197396284,0.0002860077527111837,0.1735684105697021,0.14194094343823932,0.23961865067173177,0.4070792705577671,0.000988181046964554,4.686544546140359,0.0344797592163086,0.13,0.5312029508272103,0.49746490846711816,1.02577268859632,0.823656666668359,1.5790714883537205,8.718351520032563,1.7344247494583516,1.9428250778750111,0.37936732089952374,0.3699564457681885,1.6784043626306786,1.4642148554915573,0.9621441146328344,0.7436835709266199,0.5169988835026477,0.047007337999999996,0.035460816055112414,6.597186528313755,0.6703539376715769,0.25036796426391605,0.129675967446863,0.6222502572792147,0.5365644430793197,1.0667748853965568,0.10219317626953131,6.101742843411735,1.314859935351761,0.013310143258650028,0.0311976229949951,0.26750173106987324,3.80554569725,0.10596019278038511,0.4379873527846363,0.1517406840661622,0.2376542828908009,0.6685700755,2.742412787868411,0.0825439758300781,3.142729702810612,4.741303163943106,0.12266486499999998,0.2760335271891865,0.2906257852145487,0.682091181399343,0.12477769088745119,0.02536498407708769,0.1699889588597955,0.004157665011588383,0.00107365165529001,0.5033244941162435,0.9365363243916095,6.994517133532689,0.7974501584785068,0.793293505,0.5228216340782823,0.024873634338379,2.2862305527679325,0.8978560810174682,0.7863284094273149,0.1714,0.5639557500688889,0.3684969900814472,0.11140116204880005,2.2720276691375227,0.2803837286787545,0.3860413089198189,1.3195946793944537,1.016355739001216,0.036382125,0.0249422391484863,1.1592513761823462,0.0075256243792606765,5.336316591545766,25.62097172236319,6.200122354805568,0.025821078375143802,1.136763123066052,0.12322116970940014,0.153074657,0.10571617259333288,14.087139435219143,0.35472009074903565,1.878822230484368,0.13,15.998012192563491,0.2872715,0.1496155412759472,3.181581231372755,6.406267095391885,1.3841996101503973,0.1006841729976807,2.4212592845619074,0.638832089817415,0.964299162974154,32.47549526775255,0.002219570157209242,1.0770885918696658,0.018468458569335898,0.6265701535724061,0.3672835302392578,2.2479095035842205,0.0949955293125,2.2703006514540203,0.8137701462749104,0.00067802715,22.15886082521381,0.27451459397088995,0.3060720160493367,0.3033421988190918,0.217850050414103,1.173020772942372,0.4436585386062221,0.0217957439422607,0.06413877740653698,1.2250735507601,0.9443066241657899,0.1106327878774658,0.7548562598858879,0.2321647831405355,0.36414580833898214,0.4568437522028681,0.5105801585,0.8799390509258722,0.24676180533761052,0.40540358280412137,0.09538822139296783,0.009613519000000001,0.0006572625,0.977888055112526,0.5639865059863861,18.747376333434026,0.030864453661030283,0.6626567051781741,0.0657323569287109,0.01694056758728027,9.394893277452507,0.255521177501728,0.38771512070354985,0.281582201176295,0.12312844281106325,0.322322869346714,0.003090783,2.6528853830709815,0.2653512870258301,17.391406041535383,0.1433586572613458,2.254680889397613,1.977388335387267,11.257304686976216,1.6501648598237302,1.0994251591230468,0.5424329075467149,0.5217846072868196,0.000491834221152686,1.7984344727299393,0.24729146741266742,4.270983478894622,0.84560327405,0.064184865,1.4191868745597074,0.10041702644325864,5.528490403029013,0.014685455500000002,2.0036629857576718,0.030930681325559484,0.000864906,2.668850105363076,0.2668373045369141,0.19588299715578913,0.13,2.1833472117954935,0.30179980267368556,0.0263204708099365,0.5433220946766779,2.100346536502873,0.3462359967972771,0.0149610144150513,1.1746590920393205,0.41605128034386724,0.084741813659668,0.2975695371932747,0.00430722934075947,0.0288027076721191,2.5369279821476263,0.2117501035027111,1.02129767581892,0.04285784818348258,1.3208554121574962,4.542275924695636,0.33975627438170614,0.017528544,0.0389134244672852,0.6001994783867354,1.8058845376740762,2.0531112151559503,0.46142319622987815,0.1620777841947022,1.2998887398715262,0.06648,0.22361521088011208,0.088485196831543,0.0011831802586500279,0.12135702015702494,0.0055945151616394,0.20657173798112738,0.1505404875,0.04138988475176191,0.25208465999612334,0.1086901419487214,0.1035802736766968,0.15796063370623914,1.025389402189084,0.18005795727515755,3.274348958113134,0.25857680218899654,0.11921911508664347,0.6113513100381598,4.682344475555642,0.44616086840358393,0.0345831525,1.4828485044486601,1.6198741147587052,0.28486713109788525,0.4970788006339261,1.7249974084427664,0.4289604791625,1.5461351367394043,0.0421856141018555,0.7984896044953126,3.889764762615924,0.14255530932441762,0.15016289535443111,1.4204379673069358,0.643801290872913,6.259968221501234,0.05212455287636362,10.841633122083403,1.639383818278304,1.012127375596415,1.885487608910797,1.1419652107073954,0.2646859971452259,0.4588165169102374,3.5575096370183146,1.1175797555586338,0.5684744823512631,0.9780518178432078,0.32101812327926904,0.3020914326240234,0.0213988553240741,1.2770695799710694,0.00110406365496,0.037480957144969,5.715144909063872,0.1840500302720931,8.527666153758293,4.182647839469172,0.5437485549162028,0.532602120417334,0.15294838843941766,1.9650948060783042,1.0158165648967237,0.10855684898714946,0.13456381778331272,0.9931482179880127,1.1737067214662018,3.2133524333673775,0.076978416,0.4978252475321078,0.0025123875,0.7217191801405063,1.2241448109003894,0.19805330674820576,3.2101056388437117,0.6964177314633789,0.4312817450602563,3.0588011404510964,1.6660156976473102,0.260440828871067,0.12338101833831175,0.3943063494055321,0.0126924894074951,0.0015340742625,0.835773083176652,1.1901006110292855,0.9630193426234762,0.31680228285619444,0.5000016990637678,0.24867584785136324,0.774259490795265,0.8968682377007762,0.14335614199381466,0.0005960625,0.06615834197068086,0.006486795,4.5079174003915075,0.3307926478083197,0.0008956282125,0.0018583125,0.0299208106994629,0.245808211387981,0.009617345721398931,0.23699216008959384,0.07829828809187585,1.5695135883247926,0.3032022649283751,0.6953563287775789,0.045930228999999996,0.1953084096053871,0.7748040205796873,34.55176307384904,0.040118979546749825,0.5702899223522278,3.3554591722134517,0.0001265303625,1.4451406938031013,0.55940222205,2.4746530476265045,3.4313234700966517,1.8996134534106577,0.9359656486701269,36.67951504561733,0.0123902186157227,0.0226173647798742,0.07643236736117169,0.40323289925601524,0.10068638827488124,0.1890933643477783,0.017395793004175382,1.7337877408983506,7.416478793662342,0.03622690986633301,1.5479677161302328,0.4947128433401395,0.4907735993047973,3.525229859238029,1.0825317140963406,2.032589302591737,4.523704801690576,0.4070957068828837,3.5938729033836756,0.14373781866396076,0.47508394891779776,0.15427007596188072,1.3040361505581082,0.4902934650990967,18.68934894965189,0.09752155991337737,0.12196996425400901,1.442134886675,0.93215877474777,0.33620237571942807,2.2279312345866233,0.35508105530287093,0.04671996732413829,3.6739015360659186,0.5760826351307862,0.4951976624106445,8.70366e-05,2.8709669659684423,0.24617490447412074,0.4747662161479567,1.7218045220851996,0.02016,0.09153958093424597,1.3227837382008665,0.3371160626411324,0.0545949553370972,0.964177449099621,0.13,0.416437105,0.43863074340820296,0.10925903135926741,0.3502800822067028,2.3041982335549815,0.049013930406113626,0.11051825900000001,0.0607355422973633,1.67664907,1.4899023832116964,13.416678604623462,1.836388820564491,0.050742859204966385,0.755537941586914,0.20835486567138678,1.4761216317266845,1.8659282006328126,0.9298420348303467,0.1394376210539888,14.337768368096649,3.0375601612125265,1.7941960420729006,0.024123762440185503,2.582925186712326,0.11173696038674144,0.0250212904608154,0.3606563737138224,0.04914660567893116,0.2082430205,0.1534829373577353,2.0930603184588037,0.33209677081377653,0.03234506419661817,3.7216004762324437,0.021104387137595312,1.0936190021413572,2.1312149331246952,1.5524653525282777,3.7811960379354925,0.6697262186916187,1.0499938842985128,0.9210263351665039,1.3396438643622144,0.9740037871727661,1.357831484369344,1.00022592212454,19.740347115423937,6.372617138190701,0.07915704518306609,0.1234026937230544,0.27131876295490875,0.4195894418509717,7.048690309103547,0.36599528862975594,1.358731001445944,0.7028792479190386,1.1444840412982356,1.1165899759385547,0.07188418361121734,0.06366113805649722,0.7115656617806739,5.634568565070282,0.3628539468336477,0.2512282066969613,0.061868782023088556,2.048946087335251,0.08257535743630039,1.6316850964023895,1.5713329784324015,0.08994343869745332,0.5640300616186935,0.0140761137008667,0.13233504198663446,0.26806959882466186,0.739617192152343,0.057303190868802756,0.7637929404372306,1.1734607653372202,0.193299060425,0.4701586227247491,0.09098452013018361,0.4116518900251602,2.9854668025302638,1.787548554862793,0.24099164526427405,0.2825253025681151,9.456685291051206,0.09923490650417692,0.09197793751188994,1.015796595507094,0.7202970022808701,0.064184865,0.07046630067398021,9.187921154980033,0.1785035311644288,0.4921248346909771,1.1635557949510267,0.37090349999682765,7.073795276649564,2.1215970021072588,0.036622978084399405,0.1687074728241042,6.98920254053314,34.2352905304518,2.3368236322016496,0.0001998798375,0.03774549749656379,1.1735915434857669,1.1169709465326088,0.4929873688752594,0.8009976741113581,0.10023599699462636,0.26961050937766107,0.1507429581286621,0.036382125,0.0217781742157718,1.51302177516471,0.1878728696430771,1.5835072111610078,0.3566948426463517,0.1098467760786133,0.5040261257385973,0.32791640233671604,0.01269723285,0.20415,0.1467922388123779,0.9389389303616211,0.5715523198895557,0.013050726890564,0.39309894130494827,0.16736558228069395,0.25687764373695005,1.601019523264103,0.19938440168428742,1.674416905128742,1.2672414066326212,4.298232451015895,6.707388883026376,1.2232770427398894,0.3736537742821005,2.7435507537088673,0.12414484100688261,0.24772689279883484,0.16358090665570052,1.0510743423428761,0.33013660959964597,0.3352850202752197,0.9153897804666046,47.454397333708904,0.9163334549851475,0.12203108537254063,0.5576441134408299,1.8326615665899462,0.0012458317223470686,0.27092073633633523,0.6878319756851847,5.736647857898142,3.9468712287396506,1.5914451334920199,0.2896921442300761,0.03524142793791632,2.24622898407782,0.0506853138916016,0.02016,0.001259484,1.553681434315033,0.7302639026634278,0.837414243189739,0.499274054995678,2.022058479926759,0.23468672048778513,0.08472608123242775,0.040946402970285616,0.0071096804,0.3413510262743909,0.3591325743605151,1.6851031257054543,0.2209097937049636,17.909192369343963,0.05848,3.0393706249922823,0.4410730090022587,10.220523054086263,0.406703014409773,3.342103216348877,0.39421073148769875,1.0161264650045483,0.672965297,2.442961475871545,1.3837464203726562,0.22471604952638652,0.281581203577148,1.2095955131925344,0.06177642197829321,0.4327817246682646,0.5272247066707394,0.2117,0.3807060096383563,0.7099461432363898,0.873978762355468,2.385853437867625,0.3043731901047839,0.037380474517773404,0.26185886983607876,0.156986199991504,2.9055490450810946,0.0020878125,1.8079425986060496,0.161007811,4.234180521804737,0.019281073124573545,0.16329359599793744,0.9010929144334856,1.3246543445680048,0.09721002113749999,0.05848,0.1240347196013183,0.12398347715460216,0.9481555191147434,0.1377830147875977,0.9176610405255458,7.434046180849297,11.039093850500793,0.0702877578735352,0.0023861625,0.5868829496217529,0.7421477855,10.791701700719786,0.1076155594384766,0.1914,0.209139169154846,0.8748082236728995,1.2034600640282482,0.11848254807223084,0.0223754464019775,0.24653621436540915,1.2070992278304218,0.023500471250000002,0.07499932518751973,0.16500975566666662,0.0015517460401045318,4.134896717233487,0.8356662408957923,0.3101806524104576,0.3310629684991677,0.10646612047543957,9.192847247756436,5.748387427807442,0.118312965,0.4027364779977054,0.095220292,0.3354537076328125,2.2069472840637245,0.22282238886566838,0.08149460861947874,0.02255341567301658,3.3600119173006884,0.000358493604052762,0.7361662411361422,0.14513061184248754,0.6098059236220307,2.2059250850040355,0.45305365382620133,0.3378420732700788,0.20141324062276042,0.14344197373181874,0.000274125,2.8763279684977614,0.0303241405487061,0.0146621885299683,1.2481063121388984,2.9321028875335697,6.0252584503788285,1.4926412855839053,0.7785140803745949,0.27824,2.1770723624748856,3.8320364517040373,6.648309558216988,6.00070274976263,8.848540982879419,0.2136103077615258,0.701140419,1.0488526204590611,16.693398104110255,0.6394835063989055,1.1904000000000001,0.160753632,1.4036568101786147,0.06969667601975736,3.6123649117476164,0.45049029741110624,0.05404993104347826,0.17441817474365232,0.35762103470192486,0.1081265409851074,2.50560797648848,0.174427051445453,1.6009154229072466,0.10088267660718761,0.8592330470458008,0.01466983,6.674490790848972,1.5725205479028115,0.33300062876250003,0.0909673080444336,5.7686202619351485,0.06693842620712123,11.062926326465737,1.240162264252162,3.5066369119615297,7.8179781305804035,1.8851530245320265,0.0239380631716044,0.1119512466082967,0.6937927201782099,0.9852874131326734,3.3093017225855843,0.262,0.20074769526706915,0.3760954988417236,0.3828,1.1863986981694628,6.66150998748446,1.0706814725965088,5.015285530090145,0.4836254777126095,0.0652381772871826,1.1402856481863668,0.291358511980088,0.09260565100000001,1.0486399037449474,2.510285940215042,10.597165089785259,0.064184865,0.49433362208767556,3.0035233300326056,1.5873121783563833,0.5505753451397459,0.5531982121052544,0.9082144160259639,1.345553207221774,0.06292721749891218,1.6896106035575562,0.023423198565513684,1.1816149167860373,2.2245379602011717,0.3647183347131348,0.30920794542550495,0.0768002,2.3983865868188565,0.0162323775,0.13,0.1224955950446778,0.460535331444196,18.923950591885664,1.007536856488687,0.6086087454024272,0.4393514552492569,12.421575756578548,9.24035526596149,0.013917448703982085,4.869625993801104,0.000154734,0.17186318377795398,0.00022531424999999998,0.021140092308092637,0.020011539025,0.13735660429490054,0.03733908129815087,0.109704650878906,0.5701063955891617,0.7731476227354818,0.01848444175720215,2.4673959518456363,0.06657102749999999,0.3215147862750956,0.0146558591625,0.0187199796070557,0.000485389,0.0001224,0.9224305385634229,2.0694052300406716,0.0959707111799139,0.2242617933240741,12.674714076254068,0.09990187666966559,2.4349320683180657,0.10992416228093539,2.2079413698412127,0.3387219818106005,0.05848,0.4087937245531006,0.06648,1.2414136308859585,0.5374383692485469,2.158717542072168,0.28108622925146487,3.3349173905748124,0.0824191875,0.1023812340625287,0.131,0.025414327375,3.0279020619408503,3.1894674396771263,0.070022102355957,0.059310898494062916,6.985705343332817,1.378536056341406,12.996326867418459,0.12067854683059068,1.0137406379050435,0.0967654276000856,0.11524811050807994,0.21082419617808143,1.921331422063132,1.4058479519909608,0.07640755600395172,0.07740265244082181,2.902592212007492,2.316409480135883,0.0229754985,0.09546032522211916,1.0336966334275222,0.3145952025819032,1.286550319989103,0.28829494852612303,0.3620701832367681,1.4947987353304442,0.35700398435745895,0.000992767685466943,0.17393430820655767,0.47169803307349,0.012615335,0.6269423762832472,0.06527922547338652,6.1171690445927345,0.8730257344330461,1.8241702448847983,0.536425662397248,0.1503641376495361,4.496415e-05,1.0616412572186285,0.5186250638798788,4.8976651972708405,0.0444437945955322,0.9200600444929649,0.0186781125,2.002456906723745,0.15190363903549925,0.0912229022917481,1.0164795746318434,0.7053052221866911,0.19034689818763403,0.19766435177250452,0.6390356512781955,0.08592925710361968,0.39811895942639136,1.1151715817450871,1.1078918795625,0.8508144653852824,3.0419719186423158,0.13548887616405797,0.024486491325,0.037882740020752,3.348608241392403,0.040059312975,0.5213856100687086,0.1204260546966552,3.1649186790978936,0.09660803716262,0.23056791255576467,1.2753052316387896,0.5830162375145502,4.899702809884915,0.12719622046048756,0.29928421198510435,2.349708102889291,1.1403776327858397,3.2753200867349435,0.8280615192347387,0.0717114922028723,1.612721497194492],\"yaxis\":\"y\",\"type\":\"histogram\"}],                        {\"template\":{\"data\":{\"bar\":[{\"error_x\":{\"color\":\"#2a3f5f\"},\"error_y\":{\"color\":\"#2a3f5f\"},\"marker\":{\"line\":{\"color\":\"#E5ECF6\",\"width\":0.5},\"pattern\":{\"fillmode\":\"overlay\",\"size\":10,\"solidity\":0.2}},\"type\":\"bar\"}],\"barpolar\":[{\"marker\":{\"line\":{\"color\":\"#E5ECF6\",\"width\":0.5},\"pattern\":{\"fillmode\":\"overlay\",\"size\":10,\"solidity\":0.2}},\"type\":\"barpolar\"}],\"carpet\":[{\"aaxis\":{\"endlinecolor\":\"#2a3f5f\",\"gridcolor\":\"white\",\"linecolor\":\"white\",\"minorgridcolor\":\"white\",\"startlinecolor\":\"#2a3f5f\"},\"baxis\":{\"endlinecolor\":\"#2a3f5f\",\"gridcolor\":\"white\",\"linecolor\":\"white\",\"minorgridcolor\":\"white\",\"startlinecolor\":\"#2a3f5f\"},\"type\":\"carpet\"}],\"choropleth\":[{\"colorbar\":{\"outlinewidth\":0,\"ticks\":\"\"},\"type\":\"choropleth\"}],\"contour\":[{\"colorbar\":{\"outlinewidth\":0,\"ticks\":\"\"},\"colorscale\":[[0.0,\"#0d0887\"],[0.1111111111111111,\"#46039f\"],[0.2222222222222222,\"#7201a8\"],[0.3333333333333333,\"#9c179e\"],[0.4444444444444444,\"#bd3786\"],[0.5555555555555556,\"#d8576b\"],[0.6666666666666666,\"#ed7953\"],[0.7777777777777778,\"#fb9f3a\"],[0.8888888888888888,\"#fdca26\"],[1.0,\"#f0f921\"]],\"type\":\"contour\"}],\"contourcarpet\":[{\"colorbar\":{\"outlinewidth\":0,\"ticks\":\"\"},\"type\":\"contourcarpet\"}],\"heatmap\":[{\"colorbar\":{\"outlinewidth\":0,\"ticks\":\"\"},\"colorscale\":[[0.0,\"#0d0887\"],[0.1111111111111111,\"#46039f\"],[0.2222222222222222,\"#7201a8\"],[0.3333333333333333,\"#9c179e\"],[0.4444444444444444,\"#bd3786\"],[0.5555555555555556,\"#d8576b\"],[0.6666666666666666,\"#ed7953\"],[0.7777777777777778,\"#fb9f3a\"],[0.8888888888888888,\"#fdca26\"],[1.0,\"#f0f921\"]],\"type\":\"heatmap\"}],\"heatmapgl\":[{\"colorbar\":{\"outlinewidth\":0,\"ticks\":\"\"},\"colorscale\":[[0.0,\"#0d0887\"],[0.1111111111111111,\"#46039f\"],[0.2222222222222222,\"#7201a8\"],[0.3333333333333333,\"#9c179e\"],[0.4444444444444444,\"#bd3786\"],[0.5555555555555556,\"#d8576b\"],[0.6666666666666666,\"#ed7953\"],[0.7777777777777778,\"#fb9f3a\"],[0.8888888888888888,\"#fdca26\"],[1.0,\"#f0f921\"]],\"type\":\"heatmapgl\"}],\"histogram\":[{\"marker\":{\"pattern\":{\"fillmode\":\"overlay\",\"size\":10,\"solidity\":0.2}},\"type\":\"histogram\"}],\"histogram2d\":[{\"colorbar\":{\"outlinewidth\":0,\"ticks\":\"\"},\"colorscale\":[[0.0,\"#0d0887\"],[0.1111111111111111,\"#46039f\"],[0.2222222222222222,\"#7201a8\"],[0.3333333333333333,\"#9c179e\"],[0.4444444444444444,\"#bd3786\"],[0.5555555555555556,\"#d8576b\"],[0.6666666666666666,\"#ed7953\"],[0.7777777777777778,\"#fb9f3a\"],[0.8888888888888888,\"#fdca26\"],[1.0,\"#f0f921\"]],\"type\":\"histogram2d\"}],\"histogram2dcontour\":[{\"colorbar\":{\"outlinewidth\":0,\"ticks\":\"\"},\"colorscale\":[[0.0,\"#0d0887\"],[0.1111111111111111,\"#46039f\"],[0.2222222222222222,\"#7201a8\"],[0.3333333333333333,\"#9c179e\"],[0.4444444444444444,\"#bd3786\"],[0.5555555555555556,\"#d8576b\"],[0.6666666666666666,\"#ed7953\"],[0.7777777777777778,\"#fb9f3a\"],[0.8888888888888888,\"#fdca26\"],[1.0,\"#f0f921\"]],\"type\":\"histogram2dcontour\"}],\"mesh3d\":[{\"colorbar\":{\"outlinewidth\":0,\"ticks\":\"\"},\"type\":\"mesh3d\"}],\"parcoords\":[{\"line\":{\"colorbar\":{\"outlinewidth\":0,\"ticks\":\"\"}},\"type\":\"parcoords\"}],\"pie\":[{\"automargin\":true,\"type\":\"pie\"}],\"scatter\":[{\"marker\":{\"colorbar\":{\"outlinewidth\":0,\"ticks\":\"\"}},\"type\":\"scatter\"}],\"scatter3d\":[{\"line\":{\"colorbar\":{\"outlinewidth\":0,\"ticks\":\"\"}},\"marker\":{\"colorbar\":{\"outlinewidth\":0,\"ticks\":\"\"}},\"type\":\"scatter3d\"}],\"scattercarpet\":[{\"marker\":{\"colorbar\":{\"outlinewidth\":0,\"ticks\":\"\"}},\"type\":\"scattercarpet\"}],\"scattergeo\":[{\"marker\":{\"colorbar\":{\"outlinewidth\":0,\"ticks\":\"\"}},\"type\":\"scattergeo\"}],\"scattergl\":[{\"marker\":{\"colorbar\":{\"outlinewidth\":0,\"ticks\":\"\"}},\"type\":\"scattergl\"}],\"scattermapbox\":[{\"marker\":{\"colorbar\":{\"outlinewidth\":0,\"ticks\":\"\"}},\"type\":\"scattermapbox\"}],\"scatterpolar\":[{\"marker\":{\"colorbar\":{\"outlinewidth\":0,\"ticks\":\"\"}},\"type\":\"scatterpolar\"}],\"scatterpolargl\":[{\"marker\":{\"colorbar\":{\"outlinewidth\":0,\"ticks\":\"\"}},\"type\":\"scatterpolargl\"}],\"scatterternary\":[{\"marker\":{\"colorbar\":{\"outlinewidth\":0,\"ticks\":\"\"}},\"type\":\"scatterternary\"}],\"surface\":[{\"colorbar\":{\"outlinewidth\":0,\"ticks\":\"\"},\"colorscale\":[[0.0,\"#0d0887\"],[0.1111111111111111,\"#46039f\"],[0.2222222222222222,\"#7201a8\"],[0.3333333333333333,\"#9c179e\"],[0.4444444444444444,\"#bd3786\"],[0.5555555555555556,\"#d8576b\"],[0.6666666666666666,\"#ed7953\"],[0.7777777777777778,\"#fb9f3a\"],[0.8888888888888888,\"#fdca26\"],[1.0,\"#f0f921\"]],\"type\":\"surface\"}],\"table\":[{\"cells\":{\"fill\":{\"color\":\"#EBF0F8\"},\"line\":{\"color\":\"white\"}},\"header\":{\"fill\":{\"color\":\"#C8D4E3\"},\"line\":{\"color\":\"white\"}},\"type\":\"table\"}]},\"layout\":{\"annotationdefaults\":{\"arrowcolor\":\"#2a3f5f\",\"arrowhead\":0,\"arrowwidth\":1},\"autotypenumbers\":\"strict\",\"coloraxis\":{\"colorbar\":{\"outlinewidth\":0,\"ticks\":\"\"}},\"colorscale\":{\"diverging\":[[0,\"#8e0152\"],[0.1,\"#c51b7d\"],[0.2,\"#de77ae\"],[0.3,\"#f1b6da\"],[0.4,\"#fde0ef\"],[0.5,\"#f7f7f7\"],[0.6,\"#e6f5d0\"],[0.7,\"#b8e186\"],[0.8,\"#7fbc41\"],[0.9,\"#4d9221\"],[1,\"#276419\"]],\"sequential\":[[0.0,\"#0d0887\"],[0.1111111111111111,\"#46039f\"],[0.2222222222222222,\"#7201a8\"],[0.3333333333333333,\"#9c179e\"],[0.4444444444444444,\"#bd3786\"],[0.5555555555555556,\"#d8576b\"],[0.6666666666666666,\"#ed7953\"],[0.7777777777777778,\"#fb9f3a\"],[0.8888888888888888,\"#fdca26\"],[1.0,\"#f0f921\"]],\"sequentialminus\":[[0.0,\"#0d0887\"],[0.1111111111111111,\"#46039f\"],[0.2222222222222222,\"#7201a8\"],[0.3333333333333333,\"#9c179e\"],[0.4444444444444444,\"#bd3786\"],[0.5555555555555556,\"#d8576b\"],[0.6666666666666666,\"#ed7953\"],[0.7777777777777778,\"#fb9f3a\"],[0.8888888888888888,\"#fdca26\"],[1.0,\"#f0f921\"]]},\"colorway\":[\"#636efa\",\"#EF553B\",\"#00cc96\",\"#ab63fa\",\"#FFA15A\",\"#19d3f3\",\"#FF6692\",\"#B6E880\",\"#FF97FF\",\"#FECB52\"],\"font\":{\"color\":\"#2a3f5f\"},\"geo\":{\"bgcolor\":\"white\",\"lakecolor\":\"white\",\"landcolor\":\"#E5ECF6\",\"showlakes\":true,\"showland\":true,\"subunitcolor\":\"white\"},\"hoverlabel\":{\"align\":\"left\"},\"hovermode\":\"closest\",\"mapbox\":{\"style\":\"light\"},\"paper_bgcolor\":\"white\",\"plot_bgcolor\":\"#E5ECF6\",\"polar\":{\"angularaxis\":{\"gridcolor\":\"white\",\"linecolor\":\"white\",\"ticks\":\"\"},\"bgcolor\":\"#E5ECF6\",\"radialaxis\":{\"gridcolor\":\"white\",\"linecolor\":\"white\",\"ticks\":\"\"}},\"scene\":{\"xaxis\":{\"backgroundcolor\":\"#E5ECF6\",\"gridcolor\":\"white\",\"gridwidth\":2,\"linecolor\":\"white\",\"showbackground\":true,\"ticks\":\"\",\"zerolinecolor\":\"white\"},\"yaxis\":{\"backgroundcolor\":\"#E5ECF6\",\"gridcolor\":\"white\",\"gridwidth\":2,\"linecolor\":\"white\",\"showbackground\":true,\"ticks\":\"\",\"zerolinecolor\":\"white\"},\"zaxis\":{\"backgroundcolor\":\"#E5ECF6\",\"gridcolor\":\"white\",\"gridwidth\":2,\"linecolor\":\"white\",\"showbackground\":true,\"ticks\":\"\",\"zerolinecolor\":\"white\"}},\"shapedefaults\":{\"line\":{\"color\":\"#2a3f5f\"}},\"ternary\":{\"aaxis\":{\"gridcolor\":\"white\",\"linecolor\":\"white\",\"ticks\":\"\"},\"baxis\":{\"gridcolor\":\"white\",\"linecolor\":\"white\",\"ticks\":\"\"},\"bgcolor\":\"#E5ECF6\",\"caxis\":{\"gridcolor\":\"white\",\"linecolor\":\"white\",\"ticks\":\"\"}},\"title\":{\"x\":0.05},\"xaxis\":{\"automargin\":true,\"gridcolor\":\"white\",\"linecolor\":\"white\",\"ticks\":\"\",\"title\":{\"standoff\":15},\"zerolinecolor\":\"white\",\"zerolinewidth\":2},\"yaxis\":{\"automargin\":true,\"gridcolor\":\"white\",\"linecolor\":\"white\",\"ticks\":\"\",\"title\":{\"standoff\":15},\"zerolinecolor\":\"white\",\"zerolinewidth\":2}}},\"xaxis\":{\"anchor\":\"y\",\"domain\":[0.0,1.0],\"title\":{\"text\":\"city\"}},\"yaxis\":{\"anchor\":\"x\",\"domain\":[0.0,1.0],\"title\":{\"text\":\"sum of revenue\"}},\"legend\":{\"tracegroupgap\":0},\"margin\":{\"t\":60},\"barmode\":\"relative\"},                        {\"responsive\": true}                    ).then(function(){\n",
       "                            \n",
       "var gd = document.getElementById('ffb60cdb-13bf-42fd-99a0-2656b39f0260');\n",
       "var x = new MutationObserver(function (mutations, observer) {{\n",
       "        var display = window.getComputedStyle(gd).display;\n",
       "        if (!display || display === 'none') {{\n",
       "            console.log([gd, 'removed!']);\n",
       "            Plotly.purge(gd);\n",
       "            observer.disconnect();\n",
       "        }}\n",
       "}});\n",
       "\n",
       "// Listen for the removal of the full notebook cells\n",
       "var notebookContainer = gd.closest('#notebook-container');\n",
       "if (notebookContainer) {{\n",
       "    x.observe(notebookContainer, {childList: true});\n",
       "}}\n",
       "\n",
       "// Listen for the clearing of the current output cell\n",
       "var outputEl = gd.closest('.output');\n",
       "if (outputEl) {{\n",
       "    x.observe(outputEl, {childList: true});\n",
       "}}\n",
       "\n",
       "                        })                };                });            </script>        </div>"
      ]
     },
     "metadata": {},
     "output_type": "display_data"
    }
   ],
   "source": [
    "fig = px.histogram(df_2b_city, x=\"city\", y=\"revenue\", histfunc='sum')\n",
    "fig.show()"
   ]
  },
  {
   "cell_type": "code",
   "execution_count": 132,
   "id": "9b3005ef",
   "metadata": {},
   "outputs": [
    {
     "data": {
      "application/vnd.plotly.v1+json": {
       "config": {
        "plotlyServerURL": "https://plot.ly"
       },
       "data": [
        {
         "alignmentgroup": "True",
         "bingroup": "x",
         "histfunc": "sum",
         "hovertemplate": "os_version=%{x}<br>sum of revenue=%{y}<extra></extra>",
         "legendgroup": "",
         "marker": {
          "color": "#636efa",
          "pattern": {
           "shape": ""
          }
         },
         "name": "",
         "offsetgroup": "",
         "orientation": "v",
         "showlegend": false,
         "type": "histogram",
         "x": [
          "10",
          "11",
          "12",
          "5.0.2",
          "6.0.1",
          "7.0",
          "7.1.1",
          "7.1.2",
          "8.0.0",
          "8.1.0",
          "9"
         ],
         "xaxis": "x",
         "y": [
          328.2679308076604,
          587.2248136851277,
          1305.5789477436917,
          0.4935300485652577,
          0.7832717680476206,
          10.950993612289437,
          1.6245745870575452,
          1.089697682081142,
          11.892016260065963,
          9.7870171328408,
          133.1058670161344
         ],
         "yaxis": "y"
        }
       ],
       "layout": {
        "barmode": "relative",
        "legend": {
         "tracegroupgap": 0
        },
        "margin": {
         "t": 60
        },
        "template": {
         "data": {
          "bar": [
           {
            "error_x": {
             "color": "#2a3f5f"
            },
            "error_y": {
             "color": "#2a3f5f"
            },
            "marker": {
             "line": {
              "color": "#E5ECF6",
              "width": 0.5
             },
             "pattern": {
              "fillmode": "overlay",
              "size": 10,
              "solidity": 0.2
             }
            },
            "type": "bar"
           }
          ],
          "barpolar": [
           {
            "marker": {
             "line": {
              "color": "#E5ECF6",
              "width": 0.5
             },
             "pattern": {
              "fillmode": "overlay",
              "size": 10,
              "solidity": 0.2
             }
            },
            "type": "barpolar"
           }
          ],
          "carpet": [
           {
            "aaxis": {
             "endlinecolor": "#2a3f5f",
             "gridcolor": "white",
             "linecolor": "white",
             "minorgridcolor": "white",
             "startlinecolor": "#2a3f5f"
            },
            "baxis": {
             "endlinecolor": "#2a3f5f",
             "gridcolor": "white",
             "linecolor": "white",
             "minorgridcolor": "white",
             "startlinecolor": "#2a3f5f"
            },
            "type": "carpet"
           }
          ],
          "choropleth": [
           {
            "colorbar": {
             "outlinewidth": 0,
             "ticks": ""
            },
            "type": "choropleth"
           }
          ],
          "contour": [
           {
            "colorbar": {
             "outlinewidth": 0,
             "ticks": ""
            },
            "colorscale": [
             [
              0,
              "#0d0887"
             ],
             [
              0.1111111111111111,
              "#46039f"
             ],
             [
              0.2222222222222222,
              "#7201a8"
             ],
             [
              0.3333333333333333,
              "#9c179e"
             ],
             [
              0.4444444444444444,
              "#bd3786"
             ],
             [
              0.5555555555555556,
              "#d8576b"
             ],
             [
              0.6666666666666666,
              "#ed7953"
             ],
             [
              0.7777777777777778,
              "#fb9f3a"
             ],
             [
              0.8888888888888888,
              "#fdca26"
             ],
             [
              1,
              "#f0f921"
             ]
            ],
            "type": "contour"
           }
          ],
          "contourcarpet": [
           {
            "colorbar": {
             "outlinewidth": 0,
             "ticks": ""
            },
            "type": "contourcarpet"
           }
          ],
          "heatmap": [
           {
            "colorbar": {
             "outlinewidth": 0,
             "ticks": ""
            },
            "colorscale": [
             [
              0,
              "#0d0887"
             ],
             [
              0.1111111111111111,
              "#46039f"
             ],
             [
              0.2222222222222222,
              "#7201a8"
             ],
             [
              0.3333333333333333,
              "#9c179e"
             ],
             [
              0.4444444444444444,
              "#bd3786"
             ],
             [
              0.5555555555555556,
              "#d8576b"
             ],
             [
              0.6666666666666666,
              "#ed7953"
             ],
             [
              0.7777777777777778,
              "#fb9f3a"
             ],
             [
              0.8888888888888888,
              "#fdca26"
             ],
             [
              1,
              "#f0f921"
             ]
            ],
            "type": "heatmap"
           }
          ],
          "heatmapgl": [
           {
            "colorbar": {
             "outlinewidth": 0,
             "ticks": ""
            },
            "colorscale": [
             [
              0,
              "#0d0887"
             ],
             [
              0.1111111111111111,
              "#46039f"
             ],
             [
              0.2222222222222222,
              "#7201a8"
             ],
             [
              0.3333333333333333,
              "#9c179e"
             ],
             [
              0.4444444444444444,
              "#bd3786"
             ],
             [
              0.5555555555555556,
              "#d8576b"
             ],
             [
              0.6666666666666666,
              "#ed7953"
             ],
             [
              0.7777777777777778,
              "#fb9f3a"
             ],
             [
              0.8888888888888888,
              "#fdca26"
             ],
             [
              1,
              "#f0f921"
             ]
            ],
            "type": "heatmapgl"
           }
          ],
          "histogram": [
           {
            "marker": {
             "pattern": {
              "fillmode": "overlay",
              "size": 10,
              "solidity": 0.2
             }
            },
            "type": "histogram"
           }
          ],
          "histogram2d": [
           {
            "colorbar": {
             "outlinewidth": 0,
             "ticks": ""
            },
            "colorscale": [
             [
              0,
              "#0d0887"
             ],
             [
              0.1111111111111111,
              "#46039f"
             ],
             [
              0.2222222222222222,
              "#7201a8"
             ],
             [
              0.3333333333333333,
              "#9c179e"
             ],
             [
              0.4444444444444444,
              "#bd3786"
             ],
             [
              0.5555555555555556,
              "#d8576b"
             ],
             [
              0.6666666666666666,
              "#ed7953"
             ],
             [
              0.7777777777777778,
              "#fb9f3a"
             ],
             [
              0.8888888888888888,
              "#fdca26"
             ],
             [
              1,
              "#f0f921"
             ]
            ],
            "type": "histogram2d"
           }
          ],
          "histogram2dcontour": [
           {
            "colorbar": {
             "outlinewidth": 0,
             "ticks": ""
            },
            "colorscale": [
             [
              0,
              "#0d0887"
             ],
             [
              0.1111111111111111,
              "#46039f"
             ],
             [
              0.2222222222222222,
              "#7201a8"
             ],
             [
              0.3333333333333333,
              "#9c179e"
             ],
             [
              0.4444444444444444,
              "#bd3786"
             ],
             [
              0.5555555555555556,
              "#d8576b"
             ],
             [
              0.6666666666666666,
              "#ed7953"
             ],
             [
              0.7777777777777778,
              "#fb9f3a"
             ],
             [
              0.8888888888888888,
              "#fdca26"
             ],
             [
              1,
              "#f0f921"
             ]
            ],
            "type": "histogram2dcontour"
           }
          ],
          "mesh3d": [
           {
            "colorbar": {
             "outlinewidth": 0,
             "ticks": ""
            },
            "type": "mesh3d"
           }
          ],
          "parcoords": [
           {
            "line": {
             "colorbar": {
              "outlinewidth": 0,
              "ticks": ""
             }
            },
            "type": "parcoords"
           }
          ],
          "pie": [
           {
            "automargin": true,
            "type": "pie"
           }
          ],
          "scatter": [
           {
            "marker": {
             "colorbar": {
              "outlinewidth": 0,
              "ticks": ""
             }
            },
            "type": "scatter"
           }
          ],
          "scatter3d": [
           {
            "line": {
             "colorbar": {
              "outlinewidth": 0,
              "ticks": ""
             }
            },
            "marker": {
             "colorbar": {
              "outlinewidth": 0,
              "ticks": ""
             }
            },
            "type": "scatter3d"
           }
          ],
          "scattercarpet": [
           {
            "marker": {
             "colorbar": {
              "outlinewidth": 0,
              "ticks": ""
             }
            },
            "type": "scattercarpet"
           }
          ],
          "scattergeo": [
           {
            "marker": {
             "colorbar": {
              "outlinewidth": 0,
              "ticks": ""
             }
            },
            "type": "scattergeo"
           }
          ],
          "scattergl": [
           {
            "marker": {
             "colorbar": {
              "outlinewidth": 0,
              "ticks": ""
             }
            },
            "type": "scattergl"
           }
          ],
          "scattermapbox": [
           {
            "marker": {
             "colorbar": {
              "outlinewidth": 0,
              "ticks": ""
             }
            },
            "type": "scattermapbox"
           }
          ],
          "scatterpolar": [
           {
            "marker": {
             "colorbar": {
              "outlinewidth": 0,
              "ticks": ""
             }
            },
            "type": "scatterpolar"
           }
          ],
          "scatterpolargl": [
           {
            "marker": {
             "colorbar": {
              "outlinewidth": 0,
              "ticks": ""
             }
            },
            "type": "scatterpolargl"
           }
          ],
          "scatterternary": [
           {
            "marker": {
             "colorbar": {
              "outlinewidth": 0,
              "ticks": ""
             }
            },
            "type": "scatterternary"
           }
          ],
          "surface": [
           {
            "colorbar": {
             "outlinewidth": 0,
             "ticks": ""
            },
            "colorscale": [
             [
              0,
              "#0d0887"
             ],
             [
              0.1111111111111111,
              "#46039f"
             ],
             [
              0.2222222222222222,
              "#7201a8"
             ],
             [
              0.3333333333333333,
              "#9c179e"
             ],
             [
              0.4444444444444444,
              "#bd3786"
             ],
             [
              0.5555555555555556,
              "#d8576b"
             ],
             [
              0.6666666666666666,
              "#ed7953"
             ],
             [
              0.7777777777777778,
              "#fb9f3a"
             ],
             [
              0.8888888888888888,
              "#fdca26"
             ],
             [
              1,
              "#f0f921"
             ]
            ],
            "type": "surface"
           }
          ],
          "table": [
           {
            "cells": {
             "fill": {
              "color": "#EBF0F8"
             },
             "line": {
              "color": "white"
             }
            },
            "header": {
             "fill": {
              "color": "#C8D4E3"
             },
             "line": {
              "color": "white"
             }
            },
            "type": "table"
           }
          ]
         },
         "layout": {
          "annotationdefaults": {
           "arrowcolor": "#2a3f5f",
           "arrowhead": 0,
           "arrowwidth": 1
          },
          "autotypenumbers": "strict",
          "coloraxis": {
           "colorbar": {
            "outlinewidth": 0,
            "ticks": ""
           }
          },
          "colorscale": {
           "diverging": [
            [
             0,
             "#8e0152"
            ],
            [
             0.1,
             "#c51b7d"
            ],
            [
             0.2,
             "#de77ae"
            ],
            [
             0.3,
             "#f1b6da"
            ],
            [
             0.4,
             "#fde0ef"
            ],
            [
             0.5,
             "#f7f7f7"
            ],
            [
             0.6,
             "#e6f5d0"
            ],
            [
             0.7,
             "#b8e186"
            ],
            [
             0.8,
             "#7fbc41"
            ],
            [
             0.9,
             "#4d9221"
            ],
            [
             1,
             "#276419"
            ]
           ],
           "sequential": [
            [
             0,
             "#0d0887"
            ],
            [
             0.1111111111111111,
             "#46039f"
            ],
            [
             0.2222222222222222,
             "#7201a8"
            ],
            [
             0.3333333333333333,
             "#9c179e"
            ],
            [
             0.4444444444444444,
             "#bd3786"
            ],
            [
             0.5555555555555556,
             "#d8576b"
            ],
            [
             0.6666666666666666,
             "#ed7953"
            ],
            [
             0.7777777777777778,
             "#fb9f3a"
            ],
            [
             0.8888888888888888,
             "#fdca26"
            ],
            [
             1,
             "#f0f921"
            ]
           ],
           "sequentialminus": [
            [
             0,
             "#0d0887"
            ],
            [
             0.1111111111111111,
             "#46039f"
            ],
            [
             0.2222222222222222,
             "#7201a8"
            ],
            [
             0.3333333333333333,
             "#9c179e"
            ],
            [
             0.4444444444444444,
             "#bd3786"
            ],
            [
             0.5555555555555556,
             "#d8576b"
            ],
            [
             0.6666666666666666,
             "#ed7953"
            ],
            [
             0.7777777777777778,
             "#fb9f3a"
            ],
            [
             0.8888888888888888,
             "#fdca26"
            ],
            [
             1,
             "#f0f921"
            ]
           ]
          },
          "colorway": [
           "#636efa",
           "#EF553B",
           "#00cc96",
           "#ab63fa",
           "#FFA15A",
           "#19d3f3",
           "#FF6692",
           "#B6E880",
           "#FF97FF",
           "#FECB52"
          ],
          "font": {
           "color": "#2a3f5f"
          },
          "geo": {
           "bgcolor": "white",
           "lakecolor": "white",
           "landcolor": "#E5ECF6",
           "showlakes": true,
           "showland": true,
           "subunitcolor": "white"
          },
          "hoverlabel": {
           "align": "left"
          },
          "hovermode": "closest",
          "mapbox": {
           "style": "light"
          },
          "paper_bgcolor": "white",
          "plot_bgcolor": "#E5ECF6",
          "polar": {
           "angularaxis": {
            "gridcolor": "white",
            "linecolor": "white",
            "ticks": ""
           },
           "bgcolor": "#E5ECF6",
           "radialaxis": {
            "gridcolor": "white",
            "linecolor": "white",
            "ticks": ""
           }
          },
          "scene": {
           "xaxis": {
            "backgroundcolor": "#E5ECF6",
            "gridcolor": "white",
            "gridwidth": 2,
            "linecolor": "white",
            "showbackground": true,
            "ticks": "",
            "zerolinecolor": "white"
           },
           "yaxis": {
            "backgroundcolor": "#E5ECF6",
            "gridcolor": "white",
            "gridwidth": 2,
            "linecolor": "white",
            "showbackground": true,
            "ticks": "",
            "zerolinecolor": "white"
           },
           "zaxis": {
            "backgroundcolor": "#E5ECF6",
            "gridcolor": "white",
            "gridwidth": 2,
            "linecolor": "white",
            "showbackground": true,
            "ticks": "",
            "zerolinecolor": "white"
           }
          },
          "shapedefaults": {
           "line": {
            "color": "#2a3f5f"
           }
          },
          "ternary": {
           "aaxis": {
            "gridcolor": "white",
            "linecolor": "white",
            "ticks": ""
           },
           "baxis": {
            "gridcolor": "white",
            "linecolor": "white",
            "ticks": ""
           },
           "bgcolor": "#E5ECF6",
           "caxis": {
            "gridcolor": "white",
            "linecolor": "white",
            "ticks": ""
           }
          },
          "title": {
           "x": 0.05
          },
          "xaxis": {
           "automargin": true,
           "gridcolor": "white",
           "linecolor": "white",
           "ticks": "",
           "title": {
            "standoff": 15
           },
           "zerolinecolor": "white",
           "zerolinewidth": 2
          },
          "yaxis": {
           "automargin": true,
           "gridcolor": "white",
           "linecolor": "white",
           "ticks": "",
           "title": {
            "standoff": 15
           },
           "zerolinecolor": "white",
           "zerolinewidth": 2
          }
         }
        },
        "xaxis": {
         "anchor": "y",
         "domain": [
          0,
          1
         ],
         "title": {
          "text": "os_version"
         }
        },
        "yaxis": {
         "anchor": "x",
         "domain": [
          0,
          1
         ],
         "title": {
          "text": "sum of revenue"
         }
        }
       }
      },
      "text/html": [
       "<div>                            <div id=\"ca123af9-efa1-4b82-b335-aa64054dbc1b\" class=\"plotly-graph-div\" style=\"height:525px; width:100%;\"></div>            <script type=\"text/javascript\">                require([\"plotly\"], function(Plotly) {                    window.PLOTLYENV=window.PLOTLYENV || {};                                    if (document.getElementById(\"ca123af9-efa1-4b82-b335-aa64054dbc1b\")) {                    Plotly.newPlot(                        \"ca123af9-efa1-4b82-b335-aa64054dbc1b\",                        [{\"alignmentgroup\":\"True\",\"bingroup\":\"x\",\"histfunc\":\"sum\",\"hovertemplate\":\"os_version=%{x}<br>sum of revenue=%{y}<extra></extra>\",\"legendgroup\":\"\",\"marker\":{\"color\":\"#636efa\",\"pattern\":{\"shape\":\"\"}},\"name\":\"\",\"offsetgroup\":\"\",\"orientation\":\"v\",\"showlegend\":false,\"x\":[\"10\",\"11\",\"12\",\"5.0.2\",\"6.0.1\",\"7.0\",\"7.1.1\",\"7.1.2\",\"8.0.0\",\"8.1.0\",\"9\"],\"xaxis\":\"x\",\"y\":[328.2679308076604,587.2248136851277,1305.5789477436917,0.4935300485652577,0.7832717680476206,10.950993612289437,1.6245745870575452,1.089697682081142,11.892016260065963,9.7870171328408,133.1058670161344],\"yaxis\":\"y\",\"type\":\"histogram\"}],                        {\"template\":{\"data\":{\"bar\":[{\"error_x\":{\"color\":\"#2a3f5f\"},\"error_y\":{\"color\":\"#2a3f5f\"},\"marker\":{\"line\":{\"color\":\"#E5ECF6\",\"width\":0.5},\"pattern\":{\"fillmode\":\"overlay\",\"size\":10,\"solidity\":0.2}},\"type\":\"bar\"}],\"barpolar\":[{\"marker\":{\"line\":{\"color\":\"#E5ECF6\",\"width\":0.5},\"pattern\":{\"fillmode\":\"overlay\",\"size\":10,\"solidity\":0.2}},\"type\":\"barpolar\"}],\"carpet\":[{\"aaxis\":{\"endlinecolor\":\"#2a3f5f\",\"gridcolor\":\"white\",\"linecolor\":\"white\",\"minorgridcolor\":\"white\",\"startlinecolor\":\"#2a3f5f\"},\"baxis\":{\"endlinecolor\":\"#2a3f5f\",\"gridcolor\":\"white\",\"linecolor\":\"white\",\"minorgridcolor\":\"white\",\"startlinecolor\":\"#2a3f5f\"},\"type\":\"carpet\"}],\"choropleth\":[{\"colorbar\":{\"outlinewidth\":0,\"ticks\":\"\"},\"type\":\"choropleth\"}],\"contour\":[{\"colorbar\":{\"outlinewidth\":0,\"ticks\":\"\"},\"colorscale\":[[0.0,\"#0d0887\"],[0.1111111111111111,\"#46039f\"],[0.2222222222222222,\"#7201a8\"],[0.3333333333333333,\"#9c179e\"],[0.4444444444444444,\"#bd3786\"],[0.5555555555555556,\"#d8576b\"],[0.6666666666666666,\"#ed7953\"],[0.7777777777777778,\"#fb9f3a\"],[0.8888888888888888,\"#fdca26\"],[1.0,\"#f0f921\"]],\"type\":\"contour\"}],\"contourcarpet\":[{\"colorbar\":{\"outlinewidth\":0,\"ticks\":\"\"},\"type\":\"contourcarpet\"}],\"heatmap\":[{\"colorbar\":{\"outlinewidth\":0,\"ticks\":\"\"},\"colorscale\":[[0.0,\"#0d0887\"],[0.1111111111111111,\"#46039f\"],[0.2222222222222222,\"#7201a8\"],[0.3333333333333333,\"#9c179e\"],[0.4444444444444444,\"#bd3786\"],[0.5555555555555556,\"#d8576b\"],[0.6666666666666666,\"#ed7953\"],[0.7777777777777778,\"#fb9f3a\"],[0.8888888888888888,\"#fdca26\"],[1.0,\"#f0f921\"]],\"type\":\"heatmap\"}],\"heatmapgl\":[{\"colorbar\":{\"outlinewidth\":0,\"ticks\":\"\"},\"colorscale\":[[0.0,\"#0d0887\"],[0.1111111111111111,\"#46039f\"],[0.2222222222222222,\"#7201a8\"],[0.3333333333333333,\"#9c179e\"],[0.4444444444444444,\"#bd3786\"],[0.5555555555555556,\"#d8576b\"],[0.6666666666666666,\"#ed7953\"],[0.7777777777777778,\"#fb9f3a\"],[0.8888888888888888,\"#fdca26\"],[1.0,\"#f0f921\"]],\"type\":\"heatmapgl\"}],\"histogram\":[{\"marker\":{\"pattern\":{\"fillmode\":\"overlay\",\"size\":10,\"solidity\":0.2}},\"type\":\"histogram\"}],\"histogram2d\":[{\"colorbar\":{\"outlinewidth\":0,\"ticks\":\"\"},\"colorscale\":[[0.0,\"#0d0887\"],[0.1111111111111111,\"#46039f\"],[0.2222222222222222,\"#7201a8\"],[0.3333333333333333,\"#9c179e\"],[0.4444444444444444,\"#bd3786\"],[0.5555555555555556,\"#d8576b\"],[0.6666666666666666,\"#ed7953\"],[0.7777777777777778,\"#fb9f3a\"],[0.8888888888888888,\"#fdca26\"],[1.0,\"#f0f921\"]],\"type\":\"histogram2d\"}],\"histogram2dcontour\":[{\"colorbar\":{\"outlinewidth\":0,\"ticks\":\"\"},\"colorscale\":[[0.0,\"#0d0887\"],[0.1111111111111111,\"#46039f\"],[0.2222222222222222,\"#7201a8\"],[0.3333333333333333,\"#9c179e\"],[0.4444444444444444,\"#bd3786\"],[0.5555555555555556,\"#d8576b\"],[0.6666666666666666,\"#ed7953\"],[0.7777777777777778,\"#fb9f3a\"],[0.8888888888888888,\"#fdca26\"],[1.0,\"#f0f921\"]],\"type\":\"histogram2dcontour\"}],\"mesh3d\":[{\"colorbar\":{\"outlinewidth\":0,\"ticks\":\"\"},\"type\":\"mesh3d\"}],\"parcoords\":[{\"line\":{\"colorbar\":{\"outlinewidth\":0,\"ticks\":\"\"}},\"type\":\"parcoords\"}],\"pie\":[{\"automargin\":true,\"type\":\"pie\"}],\"scatter\":[{\"marker\":{\"colorbar\":{\"outlinewidth\":0,\"ticks\":\"\"}},\"type\":\"scatter\"}],\"scatter3d\":[{\"line\":{\"colorbar\":{\"outlinewidth\":0,\"ticks\":\"\"}},\"marker\":{\"colorbar\":{\"outlinewidth\":0,\"ticks\":\"\"}},\"type\":\"scatter3d\"}],\"scattercarpet\":[{\"marker\":{\"colorbar\":{\"outlinewidth\":0,\"ticks\":\"\"}},\"type\":\"scattercarpet\"}],\"scattergeo\":[{\"marker\":{\"colorbar\":{\"outlinewidth\":0,\"ticks\":\"\"}},\"type\":\"scattergeo\"}],\"scattergl\":[{\"marker\":{\"colorbar\":{\"outlinewidth\":0,\"ticks\":\"\"}},\"type\":\"scattergl\"}],\"scattermapbox\":[{\"marker\":{\"colorbar\":{\"outlinewidth\":0,\"ticks\":\"\"}},\"type\":\"scattermapbox\"}],\"scatterpolar\":[{\"marker\":{\"colorbar\":{\"outlinewidth\":0,\"ticks\":\"\"}},\"type\":\"scatterpolar\"}],\"scatterpolargl\":[{\"marker\":{\"colorbar\":{\"outlinewidth\":0,\"ticks\":\"\"}},\"type\":\"scatterpolargl\"}],\"scatterternary\":[{\"marker\":{\"colorbar\":{\"outlinewidth\":0,\"ticks\":\"\"}},\"type\":\"scatterternary\"}],\"surface\":[{\"colorbar\":{\"outlinewidth\":0,\"ticks\":\"\"},\"colorscale\":[[0.0,\"#0d0887\"],[0.1111111111111111,\"#46039f\"],[0.2222222222222222,\"#7201a8\"],[0.3333333333333333,\"#9c179e\"],[0.4444444444444444,\"#bd3786\"],[0.5555555555555556,\"#d8576b\"],[0.6666666666666666,\"#ed7953\"],[0.7777777777777778,\"#fb9f3a\"],[0.8888888888888888,\"#fdca26\"],[1.0,\"#f0f921\"]],\"type\":\"surface\"}],\"table\":[{\"cells\":{\"fill\":{\"color\":\"#EBF0F8\"},\"line\":{\"color\":\"white\"}},\"header\":{\"fill\":{\"color\":\"#C8D4E3\"},\"line\":{\"color\":\"white\"}},\"type\":\"table\"}]},\"layout\":{\"annotationdefaults\":{\"arrowcolor\":\"#2a3f5f\",\"arrowhead\":0,\"arrowwidth\":1},\"autotypenumbers\":\"strict\",\"coloraxis\":{\"colorbar\":{\"outlinewidth\":0,\"ticks\":\"\"}},\"colorscale\":{\"diverging\":[[0,\"#8e0152\"],[0.1,\"#c51b7d\"],[0.2,\"#de77ae\"],[0.3,\"#f1b6da\"],[0.4,\"#fde0ef\"],[0.5,\"#f7f7f7\"],[0.6,\"#e6f5d0\"],[0.7,\"#b8e186\"],[0.8,\"#7fbc41\"],[0.9,\"#4d9221\"],[1,\"#276419\"]],\"sequential\":[[0.0,\"#0d0887\"],[0.1111111111111111,\"#46039f\"],[0.2222222222222222,\"#7201a8\"],[0.3333333333333333,\"#9c179e\"],[0.4444444444444444,\"#bd3786\"],[0.5555555555555556,\"#d8576b\"],[0.6666666666666666,\"#ed7953\"],[0.7777777777777778,\"#fb9f3a\"],[0.8888888888888888,\"#fdca26\"],[1.0,\"#f0f921\"]],\"sequentialminus\":[[0.0,\"#0d0887\"],[0.1111111111111111,\"#46039f\"],[0.2222222222222222,\"#7201a8\"],[0.3333333333333333,\"#9c179e\"],[0.4444444444444444,\"#bd3786\"],[0.5555555555555556,\"#d8576b\"],[0.6666666666666666,\"#ed7953\"],[0.7777777777777778,\"#fb9f3a\"],[0.8888888888888888,\"#fdca26\"],[1.0,\"#f0f921\"]]},\"colorway\":[\"#636efa\",\"#EF553B\",\"#00cc96\",\"#ab63fa\",\"#FFA15A\",\"#19d3f3\",\"#FF6692\",\"#B6E880\",\"#FF97FF\",\"#FECB52\"],\"font\":{\"color\":\"#2a3f5f\"},\"geo\":{\"bgcolor\":\"white\",\"lakecolor\":\"white\",\"landcolor\":\"#E5ECF6\",\"showlakes\":true,\"showland\":true,\"subunitcolor\":\"white\"},\"hoverlabel\":{\"align\":\"left\"},\"hovermode\":\"closest\",\"mapbox\":{\"style\":\"light\"},\"paper_bgcolor\":\"white\",\"plot_bgcolor\":\"#E5ECF6\",\"polar\":{\"angularaxis\":{\"gridcolor\":\"white\",\"linecolor\":\"white\",\"ticks\":\"\"},\"bgcolor\":\"#E5ECF6\",\"radialaxis\":{\"gridcolor\":\"white\",\"linecolor\":\"white\",\"ticks\":\"\"}},\"scene\":{\"xaxis\":{\"backgroundcolor\":\"#E5ECF6\",\"gridcolor\":\"white\",\"gridwidth\":2,\"linecolor\":\"white\",\"showbackground\":true,\"ticks\":\"\",\"zerolinecolor\":\"white\"},\"yaxis\":{\"backgroundcolor\":\"#E5ECF6\",\"gridcolor\":\"white\",\"gridwidth\":2,\"linecolor\":\"white\",\"showbackground\":true,\"ticks\":\"\",\"zerolinecolor\":\"white\"},\"zaxis\":{\"backgroundcolor\":\"#E5ECF6\",\"gridcolor\":\"white\",\"gridwidth\":2,\"linecolor\":\"white\",\"showbackground\":true,\"ticks\":\"\",\"zerolinecolor\":\"white\"}},\"shapedefaults\":{\"line\":{\"color\":\"#2a3f5f\"}},\"ternary\":{\"aaxis\":{\"gridcolor\":\"white\",\"linecolor\":\"white\",\"ticks\":\"\"},\"baxis\":{\"gridcolor\":\"white\",\"linecolor\":\"white\",\"ticks\":\"\"},\"bgcolor\":\"#E5ECF6\",\"caxis\":{\"gridcolor\":\"white\",\"linecolor\":\"white\",\"ticks\":\"\"}},\"title\":{\"x\":0.05},\"xaxis\":{\"automargin\":true,\"gridcolor\":\"white\",\"linecolor\":\"white\",\"ticks\":\"\",\"title\":{\"standoff\":15},\"zerolinecolor\":\"white\",\"zerolinewidth\":2},\"yaxis\":{\"automargin\":true,\"gridcolor\":\"white\",\"linecolor\":\"white\",\"ticks\":\"\",\"title\":{\"standoff\":15},\"zerolinecolor\":\"white\",\"zerolinewidth\":2}}},\"xaxis\":{\"anchor\":\"y\",\"domain\":[0.0,1.0],\"title\":{\"text\":\"os_version\"}},\"yaxis\":{\"anchor\":\"x\",\"domain\":[0.0,1.0],\"title\":{\"text\":\"sum of revenue\"}},\"legend\":{\"tracegroupgap\":0},\"margin\":{\"t\":60},\"barmode\":\"relative\"},                        {\"responsive\": true}                    ).then(function(){\n",
       "                            \n",
       "var gd = document.getElementById('ca123af9-efa1-4b82-b335-aa64054dbc1b');\n",
       "var x = new MutationObserver(function (mutations, observer) {{\n",
       "        var display = window.getComputedStyle(gd).display;\n",
       "        if (!display || display === 'none') {{\n",
       "            console.log([gd, 'removed!']);\n",
       "            Plotly.purge(gd);\n",
       "            observer.disconnect();\n",
       "        }}\n",
       "}});\n",
       "\n",
       "// Listen for the removal of the full notebook cells\n",
       "var notebookContainer = gd.closest('#notebook-container');\n",
       "if (notebookContainer) {{\n",
       "    x.observe(notebookContainer, {childList: true});\n",
       "}}\n",
       "\n",
       "// Listen for the clearing of the current output cell\n",
       "var outputEl = gd.closest('.output');\n",
       "if (outputEl) {{\n",
       "    x.observe(outputEl, {childList: true});\n",
       "}}\n",
       "\n",
       "                        })                };                });            </script>        </div>"
      ]
     },
     "metadata": {},
     "output_type": "display_data"
    }
   ],
   "source": [
    "fig = px.histogram(df_2b_os, x=\"os_version\", y=\"revenue\", histfunc='sum')\n",
    "fig.show()"
   ]
  },
  {
   "cell_type": "markdown",
   "id": "01931227",
   "metadata": {},
   "source": [
    "### Задание 2\n",
    "Учесть статистическую значимость для п.1b (отобразить, отфильтровать незначимое или хотя бы прокомментировать). Объяснить решение."
   ]
  },
  {
   "cell_type": "markdown",
   "id": "a8053904",
   "metadata": {},
   "source": [
    "Так как дисперсия распределения нам не известна, допускаем что имеем дело с распределением Стьюдента. Уберем все города и все os, которые не попадают в доверительный интервал 95%."
   ]
  },
  {
   "cell_type": "code",
   "execution_count": 133,
   "id": "0be57504",
   "metadata": {},
   "outputs": [],
   "source": [
    "import scipy.stats as sps"
   ]
  },
  {
   "cell_type": "markdown",
   "id": "f682f306",
   "metadata": {},
   "source": [
    "Города"
   ]
  },
  {
   "cell_type": "code",
   "execution_count": 134,
   "id": "fa072f81",
   "metadata": {
    "scrolled": true
   },
   "outputs": [
    {
     "data": {
      "text/plain": [
       "42.827383237218974"
      ]
     },
     "execution_count": 134,
     "metadata": {},
     "output_type": "execute_result"
    }
   ],
   "source": [
    "m = df_1b_city.ecpm_sma.mean()\n",
    "se = sum([(x - m)**2 for x in df_1b_city.ecpm_sma])/(len(df_1b_city)-1)/(len(df_1b_city)**(1/2))\n",
    "alpha = 0.05\n",
    "conf_int = abs(sps.t.ppf(alpha/2, (len(df_1b_city)-1)))*se\n",
    "conf_int"
   ]
  },
  {
   "cell_type": "code",
   "execution_count": 135,
   "id": "aec82763",
   "metadata": {},
   "outputs": [],
   "source": [
    "df_1b_city_new = df_1b_city[(df_1b_city.ecpm_sma > m - conf_int) & (df_1b_city.ecpm_sma < m + conf_int)]"
   ]
  },
  {
   "cell_type": "code",
   "execution_count": 136,
   "id": "cc28d38d",
   "metadata": {},
   "outputs": [
    {
     "data": {
      "application/vnd.plotly.v1+json": {
       "config": {
        "plotlyServerURL": "https://plot.ly"
       },
       "data": [
        {
         "alignmentgroup": "True",
         "bingroup": "x",
         "histfunc": "avg",
         "hovertemplate": "city=%{x}<br>avg of ecpm_sma=%{y}<extra></extra>",
         "legendgroup": "",
         "marker": {
          "color": "#636efa",
          "pattern": {
           "shape": ""
          }
         },
         "name": "",
         "offsetgroup": "",
         "orientation": "v",
         "showlegend": false,
         "type": "histogram",
         "x": [
          "Aberdeen",
          "Abilene",
          "Addison",
          "Afton",
          "Akron",
          "Alameda",
          "Alamogordo",
          "Albany",
          "Albuquerque",
          "Alexandria",
          "Allentown",
          "Alpharetta",
          "Altamonte Springs",
          "Altoona",
          "Alvarado",
          "Anaheim",
          "Anchorage",
          "Angola",
          "Ann Arbor",
          "Anoka",
          "Apex",
          "Apopka",
          "Appleton",
          "Arcadia",
          "Ardmore",
          "Arkansas City",
          "Arlington",
          "Arvada",
          "Asbury Park",
          "Ashburn",
          "Asheboro",
          "Athens",
          "Atlanta",
          "Auburn",
          "Augusta",
          "Aurora",
          "Austin",
          "Bainbridge Island",
          "Bakersfield",
          "Baltimore",
          "Bangor",
          "Bardstown",
          "Bartlesville",
          "Basking Ridge",
          "Batavia",
          "Batesville",
          "Battle Creek",
          "Bay City",
          "Bayonne",
          "Baytown",
          "Beatrice",
          "Beaufort",
          "Beaumont",
          "Beaverton",
          "Bedford",
          "Bell Gardens",
          "Bellefontaine",
          "Belleville",
          "Bellevue",
          "Bellflower",
          "Bellingham",
          "Bend",
          "Bethel Park",
          "Bethlehem",
          "Billings",
          "Biloxi",
          "Binghamton",
          "Birmingham",
          "Bismarck",
          "Blairsville",
          "Bloomfield",
          "Bloomingdale",
          "Bloomington",
          "Blue Springs",
          "Boca Raton",
          "Boise",
          "Bolingbrook",
          "Bonners Ferry",
          "Bordentown",
          "Boston",
          "Boulder",
          "Bowling Green",
          "Bozeman",
          "Bradenton",
          "Brainerd",
          "Brecksville",
          "Bremerton",
          "Brenham",
          "Brentwood",
          "Brighton",
          "Brockton",
          "Broken Arrow",
          "Brookfield",
          "Brookings",
          "Brookline",
          "Brooksville",
          "Broomfield",
          "Buena Park",
          "Buffalo",
          "Burbank",
          "Burkburnett",
          "Burlington",
          "Butler",
          "Butte",
          "Camden",
          "Canfield",
          "Canonsburg",
          "Canton",
          "Cape Coral",
          "Cape Girardeau",
          "Carbondale",
          "Carlisle",
          "Carlsbad",
          "Carmel",
          "Carroll",
          "Carrollton",
          "Cary",
          "Casper",
          "Castro Valley",
          "Cedar City",
          "Cedar Falls",
          "Cedar Rapids",
          "Celina",
          "Centerville",
          "Chambersburg",
          "Champaign",
          "Chandler",
          "Chantilly",
          "Charleston",
          "Charlotte",
          "Charlottesville",
          "Charlston",
          "Chattanooga",
          "Cherokee",
          "Cherry Hill",
          "Cheyenne",
          "Chicago",
          "Chico",
          "Chicopee",
          "Cincinnati",
          "Claremore",
          "Clarkesville",
          "Clarks Summit",
          "Clarksburg",
          "Clarksville",
          "Clearwater",
          "Cleburne",
          "Clementon",
          "Cleveland",
          "Clifton",
          "Clovis",
          "Cocoa",
          "Coeur d'Alene",
          "Colchester",
          "College Station",
          "Collinsville",
          "Colorado Springs",
          "Columbia",
          "Columbia City",
          "Columbus",
          "Concord",
          "Conroe",
          "Conyers",
          "Cookeville",
          "Coraopolis",
          "Corbin",
          "Corning",
          "Corona",
          "Corpus Christi",
          "Cortland",
          "Costa Mesa",
          "Council Bluffs",
          "Covington",
          "Cranston",
          "Crawfordsville",
          "Crossett",
          "Crossville",
          "Crystal Lake",
          "Cullman",
          "Cumming",
          "Custer",
          "Cynthiana",
          "Dade City",
          "Dahlonega",
          "Dallas",
          "Dalton",
          "Danbury",
          "Danvers",
          "Danville",
          "Dayton",
          "Daytona Beach",
          "DeKalb",
          "Dearborn",
          "Decatur",
          "Deer Park",
          "Deltona",
          "Denham Springs",
          "Denton",
          "Denver",
          "Derry",
          "Des Moines",
          "Des Plaines",
          "Detroit",
          "Dickinson",
          "Dobson",
          "Dothan",
          "Dover",
          "DuBois",
          "Dublin",
          "Dubuque",
          "Duluth",
          "Durham",
          "East Hartford",
          "East Liverpool",
          "East Peoria",
          "Easton",
          "Eau Claire",
          "Edgerton",
          "Edison",
          "Edmond",
          "El Cajon",
          "El Centro",
          "El Paso",
          "Elgin",
          "Elizabethtown",
          "Elk Grove",
          "Elkhart",
          "Elkhorn",
          "Ellensburg",
          "Elmira",
          "Enid",
          "Erie",
          "Escanaba",
          "Escondido",
          "Eugene",
          "Eureka",
          "Eureka Springs",
          "Evanston",
          "Evansville",
          "Everett",
          "Exeter",
          "Fairborn",
          "Fairfax",
          "Fairfield",
          "Fairview Heights",
          "Fall River",
          "Fallon",
          "Falls Church",
          "Fargo",
          "Farmington",
          "Farmingville",
          "Farmville",
          "Fayetteville",
          "Federal Way",
          "Fishers",
          "Flagstaff",
          "Flemington",
          "Flint",
          "Florence",
          "Florissant",
          "Flushing",
          "Folsom",
          "Fond Du Lac",
          "Fontana",
          "Forest City",
          "Fort Collins",
          "Fort Lauderdale",
          "Fort Mill",
          "Fort Myers",
          "Fort Walton Beach",
          "Fort Wayne",
          "Fort Worth",
          "Framingham",
          "Frankfort",
          "Franklin",
          "Freeport",
          "Fremont",
          "Fresno",
          "Frisco",
          "Front Royal",
          "Gadsden",
          "Gainesville",
          "Galesburg",
          "Gallatin",
          "Garden Grove",
          "Gardena",
          "Garland",
          "Garner",
          "Gastonia",
          "Geneva",
          "Georgetown",
          "Gettysburg",
          "Gig Harbor",
          "Gilbert",
          "Glastonbury",
          "Glen Burnie",
          "Glendale",
          "Gloucester City",
          "Gloversville",
          "Goldsboro",
          "Gonzales",
          "Grand Forks",
          "Grand Junction",
          "Grand Prairie",
          "Grand Rapids",
          "Grants Pass",
          "Grapevine",
          "Great Bend",
          "Great Falls",
          "Greeley",
          "Green Bay",
          "Greeneville",
          "Greenfield",
          "Greensboro",
          "Greensburg",
          "Greenville",
          "Greenwood",
          "Gresham",
          "Grove City",
          "Gulfport",
          "Hackensack",
          "Hadley",
          "Hagerstown",
          "Hammond",
          "Hannibal",
          "Hanover",
          "Harlingen",
          "Harrisburg",
          "Harrison",
          "Hartford",
          "Hartsville",
          "Hastings",
          "Hattiesburg",
          "Hays",
          "Hayward",
          "Hazard",
          "Hazlet",
          "Hazleton",
          "Helena",
          "Hemet",
          "Henderson",
          "Hendersonville",
          "High Point",
          "Hilliard",
          "Hillsboro",
          "Hilo",
          "Hilton Head Island",
          "Hinesville",
          "Hobbs",
          "Hoffman Estates",
          "Holbrook",
          "Holland",
          "Hollywood",
          "Homestead",
          "Honolulu",
          "Hoover",
          "Horseheads",
          "Hot Springs",
          "Houston",
          "Huntersville",
          "Huntingdon",
          "Huntington",
          "Huntington Beach",
          "Huntsville",
          "Huron",
          "Hurricane",
          "Hutchinson",
          "Idaho Falls",
          "Independence",
          "Indianapolis",
          "Indio",
          "Inverness",
          "Iowa City",
          "Ironton",
          "Irvine",
          "Irving",
          "Ithaca",
          "Jackson",
          "Jacksonville",
          "Jacksonville Beach",
          "Jamestown",
          "Janesville",
          "Jefferson City",
          "Jersey City",
          "Jerseyville",
          "Johnson City",
          "Johnstown",
          "Joliet",
          "Jonesboro",
          "Joplin",
          "Kailua-Kona",
          "Kalamazoo",
          "Kalispell",
          "Kankakee",
          "Kansas City",
          "Katy",
          "Kearney",
          "Kennesaw",
          "Kennewick",
          "Kenosha",
          "Kent",
          "Kernersville",
          "Killeen",
          "King of Prussia",
          "Kingsport",
          "Kingston",
          "Kingsville",
          "Kingwood",
          "Kissimmee",
          "Knoxville",
          "Kokomo",
          "Kyle",
          "La Grange",
          "La Junta",
          "Lafayette",
          "Lake George",
          "Lakeland",
          "Lamar",
          "Lancaster",
          "Lansdale",
          "Lansing",
          "Laredo",
          "Las Cruces",
          "Las Vegas",
          "Laurel",
          "Lavonia",
          "Lawrence",
          "Lawrenceville",
          "Lawton",
          "Layton",
          "League City",
          "Lebanon",
          "Lee's Summit",
          "Leesburg",
          "Leesville",
          "Lehighton",
          "Lenexa",
          "Lenoir City",
          "Levelland",
          "Levittown",
          "Lewes",
          "Lewisburg",
          "Lewistown",
          "Lewisville",
          "Lexington",
          "Lima",
          "Lincoln",
          "Lincoln City",
          "Linden",
          "Lindon",
          "Little Rock",
          "Littleton",
          "Livonia",
          "Logan",
          "Lompoc",
          "London",
          "Long Beach",
          "Longmont",
          "Longview",
          "Los Angeles",
          "Louisville",
          "Lowell",
          "Lubbock",
          "Lynchburg",
          "Lynnwood",
          "Madison",
          "Madison Heights",
          "Madisonville",
          "Malden",
          "Manassas",
          "Manchester",
          "Manhattan",
          "Manistee",
          "Manitowoc",
          "Mankato",
          "Maple Grove",
          "Marietta",
          "Marina",
          "Marion",
          "Marquette",
          "Marshall",
          "Marshfield",
          "Martin",
          "Martinsburg",
          "Massillon",
          "Matthews",
          "Mattoon",
          "Mayfield",
          "McAllen",
          "McDonough",
          "McHenry",
          "McKeesport",
          "Meadville",
          "Mebane",
          "Mechanicsburg",
          "Mechanicsville",
          "Medford",
          "Medina",
          "Melbourne",
          "Memphis",
          "Mentor",
          "Merced",
          "Meridian",
          "Mesa",
          "Metairie",
          "Miami",
          "Miami Beach",
          "Miamisburg",
          "Michigan City",
          "Middletown",
          "Midland",
          "Milford",
          "Milpitas",
          "Milton",
          "Milwaukee",
          "Minneapolis",
          "Minot",
          "Mission",
          "Missoula",
          "Mobile",
          "Modesto",
          "Moline",
          "Monroe",
          "Montgomery",
          "Montpelier",
          "Monument",
          "Morehead City",
          "Moreno Valley",
          "Morgantown",
          "Morristown",
          "Mount Airy",
          "Mount Juliet",
          "Mount Laurel",
          "Mount Pleasant",
          "Mount Vernon",
          "Mountain Top",
          "Muncie",
          "Munster",
          "Murfreesboro",
          "Murray",
          "Murrieta",
          "Muskegon",
          "Muskogee",
          "Myrtle Beach",
          "Nampa",
          "Naperville",
          "Naples",
          "Nashua",
          "Nashville",
          "Neenah",
          "New Albany",
          "New Bedford",
          "New Berlin",
          "New Braunfels",
          "New Castle",
          "New Orleans",
          "New Port Richey",
          "New Smyrna Beach",
          "New Ulm",
          "New York",
          "Newark",
          "Newington",
          "Newnan",
          "Newport",
          "Newport Beach",
          "Newport News",
          "Newton",
          "Niagara Falls",
          "Nicholasville",
          "Norfolk",
          "Norman",
          "North Bergen",
          "North Las Vegas",
          "North Olmsted",
          "North Platte",
          "North Port",
          "Northampton",
          "Northville",
          "Norwalk",
          "Norwich",
          "Norwood",
          "O'Fallon",
          "Oak Creek",
          "Oakland",
          "Ocala",
          "Oceanside",
          "Odessa",
          "Ogden",
          "Okeechobee",
          "Oklahoma City",
          "Olathe",
          "Olympia",
          "Omaha",
          "Oneonta",
          "Ontario",
          "Orange",
          "Orem",
          "Orland Park",
          "Orlando",
          "Ormond Beach",
          "Oroville",
          "Osage Beach",
          "Oshkosh",
          "Osseo",
          "Overland Park",
          "Oviedo",
          "Owings Mills",
          "Oxford",
          "Oxnard",
          "Paducah",
          "Pahrump",
          "Palestine",
          "Palm Bay",
          "Palm Beach Gardens",
          "Palm Coast",
          "Palmdale",
          "Palmyra",
          "Panama City",
          "Paoli",
          "Parkersburg",
          "Pascagoula",
          "Pasco",
          "Pearland",
          "Pell City",
          "Pendleton",
          "Pensacola",
          "Peoria",
          "Perris",
          "Petersburg",
          "Philadelphia",
          "Phoenix",
          "Pikesville",
          "Pikeville",
          "Pinellas Park",
          "Pittsburgh",
          "Pittsfield",
          "Placerville",
          "Plainfield",
          "Plano",
          "Plattsburgh",
          "Plymouth",
          "Pocatello",
          "Pompano Beach",
          "Ponca City",
          "Pontiac",
          "Pooler",
          "Port Clinton",
          "Port Huron",
          "Port Orchard",
          "Port Saint Lucie",
          "Portage",
          "Porterville",
          "Portland",
          "Portsmouth",
          "Post Falls",
          "Potsdam",
          "Poughkeepsie",
          "Powell",
          "Prattville",
          "Prescott Valley",
          "Providence",
          "Provo",
          "Pueblo",
          "Punta Gorda",
          "Queensbury",
          "Quincy",
          "Racine",
          "Raleigh",
          "Rancho Cordova",
          "Rancho Cucamonga",
          "Rapid City",
          "Raymondville",
          "Rayville",
          "Reading",
          "Redlands",
          "Redmond",
          "Redwood City",
          "Reno",
          "Richardson",
          "Richmond",
          "Ridley Park",
          "Riverside",
          "Roanoke",
          "Robinson",
          "Rochester",
          "Rockford",
          "Rockingham",
          "Rockport",
          "Rockwall",
          "Rocky Mount",
          "Rogers",
          "Rome",
          "Romulus",
          "Ronkonkoma",
          "Roosevelt",
          "Roseburg",
          "Roseville",
          "Royal Oak",
          "Ruston",
          "Sacramento",
          "Saginaw",
          "Saint Augustine",
          "Saint Charles",
          "Saint Joseph",
          "Saint Marys",
          "Saint Paul",
          "Salem",
          "Salinas",
          "Salisbury",
          "Salt Lake City",
          "San Angelo",
          "San Antonio",
          "San Bernardino",
          "San Diego",
          "San Francisco",
          "San Jose",
          "San Luis Obispo",
          "San Rafael",
          "Sandusky",
          "Sandy",
          "Sanford",
          "Santa Clara",
          "Santa Cruz",
          "Santa Maria",
          "Santa Rosa",
          "Sarasota",
          "Savannah",
          "Sayre",
          "Schaumburg",
          "Schenectady",
          "Schertz",
          "Scottsburg",
          "Scottsdale",
          "Scranton",
          "Seattle",
          "Senatobia",
          "Sevierville",
          "Seymour",
          "Shawnee",
          "Shelbyville",
          "Shreveport",
          "Sierra Vista",
          "Silver Spring",
          "Simpsonville",
          "Sioux City",
          "Sioux Falls",
          "Slidell",
          "Smyrna",
          "Somerset",
          "Somerville",
          "South Bend",
          "South Milwaukee",
          "Southington",
          "Spokane",
          "Spring",
          "Spring Hill",
          "Springdale",
          "Springfield",
          "St. Louis",
          "State College",
          "Statesville",
          "Steamboat Springs",
          "Sterling Heights",
          "Stockton",
          "Stow",
          "Strongsville",
          "Sturgeon Bay",
          "Sturgis",
          "Sugar Land",
          "Sulphur",
          "Summersville",
          "Summerville",
          "Sumter",
          "Sun Prairie",
          "Sunnyvale",
          "Surprise",
          "Swedesboro",
          "Sylacauga",
          "Sylvania",
          "Syracuse",
          "Tacoma",
          "Tallahassee",
          "Tampa",
          "Tarpon Springs",
          "Taylor",
          "Tehachapi",
          "Temecula",
          "Tempe",
          "Terre Haute",
          "Tiffin",
          "Tillamook",
          "Tinley Park",
          "Toledo",
          "Tomball",
          "Topeka",
          "Tracy",
          "Traverse City",
          "Trenton",
          "Tucker",
          "Tucson",
          "Tulare",
          "Tulsa",
          "Uniontown",
          "Urbana",
          "Utica",
          "Vacaville",
          "Vail",
          "Valdosta",
          "Valparaiso",
          "Vancouver",
          "Venice",
          "Ventura",
          "Vero Beach",
          "Vienna",
          "Vincennes",
          "Virginia Beach",
          "Vista",
          "Waco",
          "Wake Forest",
          "Waldorf",
          "Walker",
          "Walla Walla",
          "Walled Lake",
          "Wallingford",
          "Waltham",
          "Warner Robins",
          "Warren",
          "Warsaw",
          "Washington",
          "Wasilla",
          "Waterloo",
          "Watertown",
          "Waukesha",
          "Wausau",
          "Waxahachie",
          "Waynesboro",
          "Waynesville",
          "Webster",
          "Wentzville",
          "Wesley Chapel",
          "West Chester",
          "West Chicago",
          "West Des Moines",
          "West Jordan",
          "West Lafayette",
          "West Palm Beach",
          "West Valley City",
          "West Warwick",
          "Westfield",
          "Westford",
          "Wheat Ridge",
          "White Plains",
          "Wichita",
          "Wichita Falls",
          "Williamsburg",
          "Willmar",
          "Wilmington",
          "Wilson",
          "Winter Garden",
          "Winter Park",
          "Wisconsin Rapids",
          "Woburn",
          "Woodcliff Lake",
          "Woodstock",
          "Worcester",
          "Worland",
          "Wrangell",
          "Wylie",
          "York",
          "Youngstown",
          "Ypsilanti",
          "Yukon",
          "Yuma",
          "Zanesville"
         ],
         "xaxis": "x",
         "y": [
          1.3907327370591542,
          10.519701624555253,
          0.489449679851532,
          2.510670594186319,
          8.88261014727109,
          1.7444767600884945,
          1.635145481304125,
          4.273909829365902,
          3.373641922388355,
          3.2449199859667743,
          7.823940974367147,
          1.0863318632891608,
          1.4718641459148858,
          1.465470802446238,
          6.377044108041369,
          2.3004744970396653,
          3.5654337587247054,
          2.4828728541569034,
          2.6389107200707125,
          3.12652089514516,
          1.1636043148159627,
          2.6435964805920436,
          2.4075221451507356,
          4.702075373772142,
          12.541526687145229,
          1.9297836348414439,
          4.11887751047609,
          3.1308605475521794,
          8.077212395401778,
          7.717850270478622,
          4.907985191719206,
          11.854994184591545,
          3.0331025536093366,
          8.060317196850805,
          14.004705679278043,
          2.4438901579501677,
          2.7923529373586637,
          5.387883978394362,
          2.4866859516478144,
          3.359972765687846,
          7.582065468303421,
          0.701372532865831,
          0.8391893035689878,
          4.063063531818956,
          3.5922271721065044,
          3.4977309139895056,
          6.745445396532026,
          3.369113564491271,
          8.585647025415978,
          12.643256871946257,
          3.74813909707186,
          9.427601473199001,
          0.0900902226567268,
          3.1526254505357336,
          1.5738986123418603,
          0.04920618289283341,
          1.1222860949081277,
          2.94842457966879,
          2.1419652771128685,
          0.988181054592133,
          5.500297246809042,
          34.2039222717285,
          1.7947443362264364,
          2.3236668083683285,
          1.94632287706352,
          9.048918564822161,
          1.3866945295919517,
          2.495326217048863,
          8.85752963648468,
          1.07777492191849,
          2.9363631688984193,
          3.611094492061116,
          2.7781221513260346,
          1.8763412431760869,
          1.062395650341838,
          4.150619623308279,
          1.4083553170648058,
          4.1258064183321865,
          11.690073847770677,
          1.7587527076638283,
          9.653820613255863,
          15.118184990353054,
          4.068665628758191,
          17.303210260346546,
          1.7340907415593312,
          4.307564438458086,
          32.35551990853978,
          1.1156177669763578,
          15.483565688133229,
          4.244838717552583,
          20.719690570315805,
          0.4751230836600851,
          0.6312031332865915,
          3.917855238630657,
          7.949916697476268,
          18.009040991465252,
          5.176101823605102,
          3.563584556705074,
          3.168068219006011,
          1.217254358861182,
          1.8431862810414708,
          11.633658299813176,
          1.680129094557329,
          2.0803088376650956,
          0.07741271884491048,
          1.07365167140961,
          1.3724436174377197,
          3.113170462097238,
          1.8055550034542909,
          7.603978334735563,
          4.907090858979656,
          0.7523043203072097,
          12.297524452209451,
          2.1140214788635276,
          1.477106207158961,
          2.733357483724196,
          1.5945340389590394,
          12.344504155391865,
          0.6185564244921141,
          2.8737107896700103,
          1.0957922713177224,
          6.078673167739598,
          4.731985594986416,
          0.5040680907382027,
          36.0910682678223,
          1.3315366716296595,
          3.0461140543524707,
          1.8991015623597558,
          2.2356987819323333,
          2.847540079611617,
          4.134847100008289,
          3.4003423353036184,
          1.3980486817626143,
          0.8654355274858926,
          2.4809571420773877,
          6.212764382362367,
          1.8241918682756508,
          2.756768061014695,
          2.966984302981231,
          7.051579572284379,
          1.2151803552572211,
          5.144460430434743,
          14.390380552241897,
          2.118873129194063,
          16.006350348393116,
          1.7855509633453772,
          1.759881956948595,
          1.4438769379577097,
          5.808199368033583,
          0.1933266549474663,
          6.6811963075347105,
          4.337160199880603,
          3.6137446947318197,
          12.127721428871158,
          3.243888328112662,
          18.422271236777306,
          2.2880855036073164,
          1.92045103589432,
          0.678027153015137,
          4.079688239238092,
          1.2564875260954755,
          1.9732925533317032,
          8.095055601813572,
          4.532882759923284,
          4.035995622631158,
          14.717267670414662,
          21.6213779449463,
          1.0851422380656006,
          6.135709947506011,
          2.382803594784158,
          4.287873171269893,
          3.1592029121391563,
          1.4290422297082839,
          1.2090599561839215,
          1.9937123671437786,
          3.4955482825636857,
          3.824228453249655,
          1.1107855628605092,
          3.9687844606760563,
          3.5915335774421715,
          0.7261414953640537,
          0.6572625041008,
          1.5494119785201388,
          2.1973985114416155,
          3.4472555622092744,
          2.3599674962461004,
          1.0972672746808243,
          1.3453605860471733,
          2.8911613859236214,
          3.986739615836517,
          1.6049333095550538,
          1.4226699674451915,
          3.3036305567065463,
          12.31814615726471,
          1.4559992732897178,
          0.5381039182345072,
          2.018788768225271,
          2.8352127263740616,
          3.3292705959492386,
          2.704797946042934,
          1.49287950009126,
          4.292503926269792,
          3.4651322360265673,
          2.149036396155569,
          46.9148042894179,
          22.387311257421953,
          4.712366112583392,
          0.21832589308420833,
          1.693784020258931,
          3.2523006971006283,
          8.992175615271934,
          10.283062833547577,
          6.753705737302829,
          1.891721185995267,
          25.770336459451055,
          0.47875860525715735,
          2.831115390415545,
          1.9301405131816858,
          0.6431820392608645,
          1.9475294210358085,
          4.565995717870779,
          0.8503902098857503,
          4.7039573299445845,
          2.23863743672705,
          26.1099071502686,
          0.8336837701653826,
          9.02868817849851,
          3.754963745112004,
          3.764945656061172,
          1.8750671295807029,
          3.436437069797622,
          4.126135200654205,
          4.30722951889038,
          28.5722846984863,
          2.878514820159815,
          2.4771021489191942,
          5.8146327248326095,
          0.696657051985292,
          1.3388750080354097,
          11.152486313728808,
          4.0655367823023525,
          1.1369310671632944,
          3.9795433968305587,
          2.7875336463742735,
          4.950678721619258,
          1.5407867690976254,
          2.962726286550363,
          0.8892010005280442,
          1.3767608884158418,
          2.1563643555981757,
          12.462574481964118,
          0.377753496170044,
          0.662058254127121,
          3.1776103172451244,
          1.534038217266715,
          25.128310561180125,
          2.3080913367179723,
          2.4646643479665116,
          1.8732371046429583,
          5.1856128031557285,
          1.7643078437181026,
          8.365953079501141,
          20.197477201620735,
          5.563694588933141,
          0.9209170354098627,
          2.9288677831490832,
          3.099075520525173,
          4.632641882718678,
          2.1781695585359224,
          0.9694759026169782,
          1.3772371092002,
          3.894481595766033,
          17.309563763213898,
          8.204069805450924,
          2.1400015300638087,
          14.488730405728653,
          13.949793010950083,
          6.688578201493912,
          6.070658041701056,
          1.494480644458014,
          2.049130079680925,
          3.543371148103812,
          3.812323199471396,
          0.9846990204383769,
          1.457187082066579,
          12.380736128868463,
          4.6733583357581985,
          11.58719128042787,
          5.884577463956399,
          1.1155192700036511,
          0.24954690412142316,
          1.5323569837301596,
          0.6972577108751203,
          4.454245476727466,
          1.898246276571795,
          5.910453142379137,
          2.631159178396828,
          11.059506640434268,
          21.2276649475098,
          8.676849039395654,
          0.5755944550037385,
          0.9925370543048943,
          5.500055772615903,
          0.5919975309125171,
          3.980425100222984,
          11.872732665670762,
          0.9589183760288168,
          11.640550130512555,
          5.608732743395704,
          3.18248124266055,
          2.854161032305077,
          4.05977499386982,
          5.163341269410885,
          17.337028653050467,
          1.7507862189325032,
          1.2038744702252617,
          25.373940865198776,
          5.176588271037645,
          1.256193757057192,
          4.559451411962509,
          2.485661576438184,
          0.9031545993991393,
          4.196457598250677,
          4.569862889231376,
          7.664211025019933,
          3.7672482542693615,
          1.5836710419237923,
          1.7957978180506162,
          3.4634973438400194,
          6.295815359801042,
          0.12284420244395731,
          0.7597511922162462,
          2.721676577693039,
          11.153264772892008,
          1.5220976131198203,
          0.6329751396307925,
          6.308952140253644,
          3.480715304493329,
          1.1373331530490334,
          2.2045633165115444,
          0.596062481403351,
          1.1243801190186364,
          0.39018115798632297,
          11.845476062297823,
          3.599749706607115,
          0.895628213882446,
          1.85831248760223,
          29.6814441680908,
          2.2603399733963765,
          2.456004612147809,
          7.729964728521952,
          0.49177213074961823,
          3.2242863996321933,
          6.001640410759508,
          4.0250929072128585,
          1.1675703711807732,
          2.7979060469135155,
          2.941003137130508,
          3.8700054974009563,
          2.354685734425271,
          0.9244374497121524,
          3.7444701614930773,
          0.126530364155769,
          11.89850309831292,
          29.134314472025093,
          7.402194142074332,
          5.955803738482709,
          10.12039337856205,
          3.8389140403346174,
          5.936075674300142,
          6.145907819271082,
          24.9808921813965,
          2.0351177128248423,
          5.762057553066151,
          2.924441980889865,
          1.4951506019083425,
          1.6724272424524487,
          2.529275244946851,
          3.216861845276425,
          17.968547344207757,
          0.5647327867106935,
          6.579819577606398,
          1.6433022910346144,
          12.09000763787499,
          1.5284348301217363,
          2.2708806831281465,
          9.566364249674345,
          7.8607192439575675,
          10.014405698144115,
          4.032163855433465,
          0.867128485212992,
          7.861167638074782,
          2.220838363277898,
          6.4516001248359665,
          2.913683578167423,
          7.120940000846469,
          4.583815684189668,
          20.478907856222698,
          5.9933006150027115,
          6.41756326887967,
          4.313780081285817,
          0.8391153553384344,
          3.755929659136773,
          6.33529250896195,
          13.961384201049814,
          0.0870366021990776,
          2.365148838892767,
          0.34071152969772817,
          2.984274204741133,
          3.6777785398750926,
          19.9987201690674,
          0.7110592197710861,
          0.7997049078708739,
          2.6500127670310825,
          8.226925315996994,
          5.22040405591329,
          13.221937576929747,
          1.9494276292251889,
          3.2518215657798555,
          1.6647581974180736,
          2.282913271548614,
          12.082306587606444,
          3.173060560681625,
          5.672467948999017,
          18.22629666161314,
          2.5368495434522598,
          17.915317323472777,
          12.193208722507256,
          4.329948509197971,
          4.880422760537103,
          4.307754409341998,
          6.637428874319244,
          6.483282441216523,
          6.348000784357421,
          11.387143180265536,
          3.2938620696465244,
          3.555890219357454,
          1.1593668303729687,
          6.127744356791182,
          3.2597998270573916,
          0.22368249061999612,
          8.600872788578267,
          5.425003764383936,
          10.24623345066174,
          0.6630726785497797,
          0.913914754986763,
          3.2347935459884805,
          0.17320717637923277,
          12.001016854246462,
          2.4666166448681226,
          6.7185165687876545,
          6.782228352757992,
          1.477595772766782,
          1.124120813872394,
          7.26013725517709,
          3.0295437365830793,
          5.354858854846777,
          2.6545019143590927,
          1.4025853642913684,
          3.549401890279315,
          5.130119296929919,
          3.922037217020989,
          2.0512877035308885,
          1.3198824312335768,
          4.470745173575622,
          3.3787623976908066,
          2.46285209512269,
          46.34874945733605,
          0.31271091964535114,
          3.772754608082171,
          1.5929105425408732,
          3.5033672181042728,
          0.5987306702720081,
          3.9031442424713685,
          2.2862756217794167,
          2.39495218356417,
          9.899520357770294,
          1.571842831527365,
          15.382447852454384,
          12.408972144126897,
          1.7969449705043563,
          5.114675860755382,
          2.8459858185341265,
          4.420879597676562,
          13.9635047912598,
          0.8862080389038247,
          3.351156767759776,
          34.53288050339776,
          3.6205843488375344,
          1.0732926062992596,
          1.5138853756736232,
          1.3011652228869794,
          0.5948590404322359,
          2.666964968969656,
          1.6376307667011305,
          1.6601148216342503,
          15.446647092073913,
          3.4507201537489895,
          5.470093586615154,
          3.633469261708221,
          3.2621914242443264,
          0.7717961209411385,
          12.795328961840518,
          2.851646580282719,
          0.3548990198376267,
          3.8413986290414286,
          1.108653792212991,
          9.7645297660069,
          1.7627302641522127,
          1.3610155204631829,
          3.4695825729832857,
          8.472123444287313,
          3.403588007796898,
          25.218836103166865,
          6.380419464024845,
          2.891355900354368,
          3.635957384960992,
          0.199879840016365,
          2.0210205556617833,
          3.6747939152632925,
          5.929828720638553,
          1.5609914524137154,
          3.047198319845662,
          24.862252116203315,
          3.078372261413033,
          2.972021955147122,
          36.0910682678223,
          5.256000325083729,
          2.163354760266485,
          2.360817645540398,
          7.4942593723090685,
          3.259677427796134,
          10.671777077019213,
          2.3291904111441823,
          0.7928541815030604,
          30.248140335083,
          35.00776596069337,
          11.338609122804218,
          2.3985009662831183,
          12.9463205337524,
          12.060909195301631,
          1.2472726961908236,
          1.4356637048524807,
          4.336816611444329,
          2.2468582285711403,
          1.3439880459644926,
          1.7437264274673612,
          18.049973892645678,
          2.8648692084255445,
          1.6839464963900868,
          4.5016221414532565,
          11.261544258672679,
          4.151062091191609,
          1.2136043475035454,
          1.333411083106071,
          3.033695839516733,
          2.1370080759127936,
          6.38384873229404,
          0.7408505403771879,
          2.9733075911873654,
          2.2614107126003913,
          0.31522826448500435,
          2.672159188713592,
          0.76962754091166,
          0.18036974966526056,
          6.346417646937901,
          3.3939712366082833,
          7.876255567638897,
          2.584973510983261,
          1.3753820761314337,
          8.725663018854041,
          2.5221311071744363,
          4.798957716340769,
          12.579502463340756,
          19.9987201690674,
          0.5170961121718091,
          2.801356139900744,
          4.342464173130645,
          2.78337535032661,
          5.3032650447943634,
          13.097015686120317,
          2.6343609525591414,
          0.7069738222552198,
          0.8294944038242105,
          0.545933568584068,
          1.4079598202125019,
          1.7663545139264638,
          1.6433212623315998,
          1.8135396833868995,
          7.011705038468635,
          5.336262617365523,
          11.527049671662486,
          2.874294563761104,
          12.456507780613041,
          5.26743607237136,
          1.795613327625822,
          2.505292586100192,
          8.882269631899318,
          2.381395926824012,
          8.517243013156587,
          1.7292307427405944,
          9.67865471593266,
          2.011075684223323,
          0.852331687853887,
          1.8821768860099841,
          2.036176388905598,
          3.0523263011744475,
          5.410424853675067,
          14.647517035084388,
          0.6949050099069959,
          4.353224116563797,
          8.051067699491977,
          0.9414793181119203,
          4.0204981307188685,
          1.5430469022173654,
          2.08781242370605,
          4.207607472731249,
          2.9168833107859995,
          4.473477343224106,
          1.7352943505559644,
          4.425004054133485,
          4.772217483392784,
          4.747844935243526,
          11.137060040235564,
          2.894491058656538,
          11.142641159621109,
          2.1848980232874164,
          7.180624182735172,
          10.657341802662069,
          3.0681652014792222,
          2.863041909761608,
          2.38616251945496,
          4.049593817847115,
          22.40876580007149,
          3.2213074741314367,
          2.6200099249143864,
          1.4065987263240063,
          1.2484324809967717,
          3.6560796909288547,
          2.4424229403111086,
          7.29108400146167,
          1.696642082286616,
          3.003342928334621,
          19.08033180236815,
          1.946166784912348,
          3.146951874861351,
          0.8117538690567014,
          7.750482582969978,
          12.069525187665759,
          13.81216869904445,
          2.470529224546182,
          3.9217410388269616,
          4.436531746781459,
          4.124775233285012,
          9.0369837467487,
          6.594888220826785,
          2.195358099986097,
          9.504962062835693,
          4.81785599345271,
          1.1797236448432182,
          1.3727625340430274,
          1.4916268608399796,
          3.6193919552051423,
          0.358493596315384,
          4.53473299936532,
          2.8657843309347752,
          3.936092154934393,
          6.107115276955319,
          1.3181975438498224,
          3.036472026646138,
          3.198186892109949,
          3.1605522414048512,
          0.137062504887581,
          5.105975668939336,
          30.0815467834473,
          14.5448904037476,
          2.8452128960983543,
          3.944398867259851,
          6.824256486963123,
          1.7758692338447202,
          2.403101509515668,
          2.7307138530604234,
          5.968757860804046,
          4.500182422873402,
          7.576628547950439,
          4.7251991309708385,
          4.711744681000694,
          11.691442247094777,
          2.9894280664983297,
          28.036008963155556,
          4.629028468230819,
          7.274018257856369,
          0.9676678040858635,
          0.6575320438835127,
          5.656757082154503,
          0.8953928833568418,
          5.814000016450882,
          1.0895322922856439,
          35.755543132623025,
          1.9979065840772778,
          3.913111970167271,
          5.002143870822336,
          3.7033691807039824,
          4.085375218825825,
          1.0604817867279055,
          5.4960384296074585,
          7.395625145389484,
          9.86777873368974,
          44.9742374420166,
          3.0179907332961204,
          4.738983791608078,
          1.7483434928365122,
          2.6537384301160283,
          2.5646096156534113,
          2.4637987022628476,
          2.3415298757778427,
          7.915501832962043,
          1.5107092475979629,
          2.7376476793622757,
          4.563411972636267,
          3.5070859372938585,
          4.170721932314337,
          0.3597493745523107,
          3.515877416352092,
          23.055804201075805,
          3.2486043727075744,
          3.0345565027885226,
          1.7451314619419092,
          17.211791202425964,
          4.2769804066893755,
          5.063291132450104,
          45.93240308761595,
          2.7777300770982234,
          4.7180183099901445,
          4.270929725570883,
          2.5767333718708576,
          2.1171234431039005,
          1.2558938323994646,
          5.301388676581761,
          2.273055161190206,
          16.64535290087971,
          2.7724535227540485,
          4.611431067188581,
          0.8642124654326945,
          8.077443559964495,
          1.045493579872017,
          13.47106873929797,
          5.2194893826609094,
          3.7803294383313353,
          38.0928997993469,
          3.4555237401111607,
          16.102518081665,
          17.140176991621654,
          3.311692507251584,
          3.267776299800191,
          2.5740452403322274,
          3.0143767896536233,
          1.337841603596574,
          3.154206749539321,
          3.1803529773439645,
          15.972125848811073,
          0.154734000563622,
          7.274036384147148,
          0.3241671472787855,
          0.8824858527098363,
          10.359585762023947,
          3.7541728150553806,
          18.52741837501528,
          1.7944926119353657,
          24.743319946708105,
          9.305147171020504,
          2.8007778635119447,
          33.02877461910248,
          1.6553686573078819,
          4.848821232716257,
          9.289310872554763,
          0.48692324757576,
          0.122400000691414,
          7.020883616841872,
          1.7845819583383142,
          2.354029614920008,
          9.928794287145141,
          4.147552507196819,
          29.63443024456501,
          2.765746048441023,
          1.403040474103321,
          2.065549190016114,
          2.1624745551697506,
          15.42443690620935,
          10.860034817861298,
          2.53596456090317,
          8.110114321618711,
          7.4665500478046685,
          4.367687282445752,
          1.9621972280974478,
          8.377248356739665,
          1.034866473397871,
          2.3292892850331905,
          0.9638261647871983,
          2.972430414197913,
          5.274607216482199,
          2.7588861355031113,
          1.246368164769732,
          3.475347966259841,
          2.241188302876488,
          4.746350280142254,
          1.2088632444212652,
          8.423000755493458,
          10.065883655794744,
          4.090004555881028,
          5.6253984442778995,
          0.6466864435092657,
          3.096585627856651,
          1.7406824161024634,
          1.0994439555353,
          7.471578707277486,
          0.17459639919329803,
          4.578443623050439,
          12.422126906258717,
          3.9195540362465997,
          7.809980965725015,
          2.4371156238019465,
          0.992767691612244,
          3.7412871954341735,
          3.6620993621407,
          12.5144128799438,
          1.4598317197108062,
          2.0548811545877737,
          6.4698046237898765,
          1.9300491348763675,
          7.0176668391341295,
          3.826741282067715,
          0.164594456553459,
          26.838443844214705,
          1.4256990813892487,
          10.28355250596439,
          1.5352068481774184,
          1.1238924531841656,
          6.121027658383049,
          6.273300636534556,
          16.46897215313385,
          4.927800615628562,
          5.461324207031926,
          1.7056091914262472,
          3.3264908013136516,
          3.4041104316711426,
          9.486591256459551,
          0.5871097154011007,
          2.7080582862595723,
          6.943609836253973,
          9.961360288293736,
          7.174441895147007,
          3.2767949301583563,
          3.13769868967381,
          1.4857261305054068,
          37.5796775817871,
          5.007940394815977,
          19.8053255081177,
          2.2169885116768633,
          20.81292164325716,
          5.213108474526693,
          1.577422008023294,
          0.5780276654714206,
          2.0822492479182344,
          2.118452691223343,
          6.553056927454667,
          1.0847397651842663,
          6.47363206148148,
          10.617208014925318,
          4.426102238658228,
          2.4454749227909653,
          0.8003787820701066,
          0.6087119631563956,
          1.8174110726407509
         ],
         "yaxis": "y"
        }
       ],
       "layout": {
        "barmode": "relative",
        "legend": {
         "tracegroupgap": 0
        },
        "margin": {
         "t": 60
        },
        "template": {
         "data": {
          "bar": [
           {
            "error_x": {
             "color": "#2a3f5f"
            },
            "error_y": {
             "color": "#2a3f5f"
            },
            "marker": {
             "line": {
              "color": "#E5ECF6",
              "width": 0.5
             },
             "pattern": {
              "fillmode": "overlay",
              "size": 10,
              "solidity": 0.2
             }
            },
            "type": "bar"
           }
          ],
          "barpolar": [
           {
            "marker": {
             "line": {
              "color": "#E5ECF6",
              "width": 0.5
             },
             "pattern": {
              "fillmode": "overlay",
              "size": 10,
              "solidity": 0.2
             }
            },
            "type": "barpolar"
           }
          ],
          "carpet": [
           {
            "aaxis": {
             "endlinecolor": "#2a3f5f",
             "gridcolor": "white",
             "linecolor": "white",
             "minorgridcolor": "white",
             "startlinecolor": "#2a3f5f"
            },
            "baxis": {
             "endlinecolor": "#2a3f5f",
             "gridcolor": "white",
             "linecolor": "white",
             "minorgridcolor": "white",
             "startlinecolor": "#2a3f5f"
            },
            "type": "carpet"
           }
          ],
          "choropleth": [
           {
            "colorbar": {
             "outlinewidth": 0,
             "ticks": ""
            },
            "type": "choropleth"
           }
          ],
          "contour": [
           {
            "colorbar": {
             "outlinewidth": 0,
             "ticks": ""
            },
            "colorscale": [
             [
              0,
              "#0d0887"
             ],
             [
              0.1111111111111111,
              "#46039f"
             ],
             [
              0.2222222222222222,
              "#7201a8"
             ],
             [
              0.3333333333333333,
              "#9c179e"
             ],
             [
              0.4444444444444444,
              "#bd3786"
             ],
             [
              0.5555555555555556,
              "#d8576b"
             ],
             [
              0.6666666666666666,
              "#ed7953"
             ],
             [
              0.7777777777777778,
              "#fb9f3a"
             ],
             [
              0.8888888888888888,
              "#fdca26"
             ],
             [
              1,
              "#f0f921"
             ]
            ],
            "type": "contour"
           }
          ],
          "contourcarpet": [
           {
            "colorbar": {
             "outlinewidth": 0,
             "ticks": ""
            },
            "type": "contourcarpet"
           }
          ],
          "heatmap": [
           {
            "colorbar": {
             "outlinewidth": 0,
             "ticks": ""
            },
            "colorscale": [
             [
              0,
              "#0d0887"
             ],
             [
              0.1111111111111111,
              "#46039f"
             ],
             [
              0.2222222222222222,
              "#7201a8"
             ],
             [
              0.3333333333333333,
              "#9c179e"
             ],
             [
              0.4444444444444444,
              "#bd3786"
             ],
             [
              0.5555555555555556,
              "#d8576b"
             ],
             [
              0.6666666666666666,
              "#ed7953"
             ],
             [
              0.7777777777777778,
              "#fb9f3a"
             ],
             [
              0.8888888888888888,
              "#fdca26"
             ],
             [
              1,
              "#f0f921"
             ]
            ],
            "type": "heatmap"
           }
          ],
          "heatmapgl": [
           {
            "colorbar": {
             "outlinewidth": 0,
             "ticks": ""
            },
            "colorscale": [
             [
              0,
              "#0d0887"
             ],
             [
              0.1111111111111111,
              "#46039f"
             ],
             [
              0.2222222222222222,
              "#7201a8"
             ],
             [
              0.3333333333333333,
              "#9c179e"
             ],
             [
              0.4444444444444444,
              "#bd3786"
             ],
             [
              0.5555555555555556,
              "#d8576b"
             ],
             [
              0.6666666666666666,
              "#ed7953"
             ],
             [
              0.7777777777777778,
              "#fb9f3a"
             ],
             [
              0.8888888888888888,
              "#fdca26"
             ],
             [
              1,
              "#f0f921"
             ]
            ],
            "type": "heatmapgl"
           }
          ],
          "histogram": [
           {
            "marker": {
             "pattern": {
              "fillmode": "overlay",
              "size": 10,
              "solidity": 0.2
             }
            },
            "type": "histogram"
           }
          ],
          "histogram2d": [
           {
            "colorbar": {
             "outlinewidth": 0,
             "ticks": ""
            },
            "colorscale": [
             [
              0,
              "#0d0887"
             ],
             [
              0.1111111111111111,
              "#46039f"
             ],
             [
              0.2222222222222222,
              "#7201a8"
             ],
             [
              0.3333333333333333,
              "#9c179e"
             ],
             [
              0.4444444444444444,
              "#bd3786"
             ],
             [
              0.5555555555555556,
              "#d8576b"
             ],
             [
              0.6666666666666666,
              "#ed7953"
             ],
             [
              0.7777777777777778,
              "#fb9f3a"
             ],
             [
              0.8888888888888888,
              "#fdca26"
             ],
             [
              1,
              "#f0f921"
             ]
            ],
            "type": "histogram2d"
           }
          ],
          "histogram2dcontour": [
           {
            "colorbar": {
             "outlinewidth": 0,
             "ticks": ""
            },
            "colorscale": [
             [
              0,
              "#0d0887"
             ],
             [
              0.1111111111111111,
              "#46039f"
             ],
             [
              0.2222222222222222,
              "#7201a8"
             ],
             [
              0.3333333333333333,
              "#9c179e"
             ],
             [
              0.4444444444444444,
              "#bd3786"
             ],
             [
              0.5555555555555556,
              "#d8576b"
             ],
             [
              0.6666666666666666,
              "#ed7953"
             ],
             [
              0.7777777777777778,
              "#fb9f3a"
             ],
             [
              0.8888888888888888,
              "#fdca26"
             ],
             [
              1,
              "#f0f921"
             ]
            ],
            "type": "histogram2dcontour"
           }
          ],
          "mesh3d": [
           {
            "colorbar": {
             "outlinewidth": 0,
             "ticks": ""
            },
            "type": "mesh3d"
           }
          ],
          "parcoords": [
           {
            "line": {
             "colorbar": {
              "outlinewidth": 0,
              "ticks": ""
             }
            },
            "type": "parcoords"
           }
          ],
          "pie": [
           {
            "automargin": true,
            "type": "pie"
           }
          ],
          "scatter": [
           {
            "marker": {
             "colorbar": {
              "outlinewidth": 0,
              "ticks": ""
             }
            },
            "type": "scatter"
           }
          ],
          "scatter3d": [
           {
            "line": {
             "colorbar": {
              "outlinewidth": 0,
              "ticks": ""
             }
            },
            "marker": {
             "colorbar": {
              "outlinewidth": 0,
              "ticks": ""
             }
            },
            "type": "scatter3d"
           }
          ],
          "scattercarpet": [
           {
            "marker": {
             "colorbar": {
              "outlinewidth": 0,
              "ticks": ""
             }
            },
            "type": "scattercarpet"
           }
          ],
          "scattergeo": [
           {
            "marker": {
             "colorbar": {
              "outlinewidth": 0,
              "ticks": ""
             }
            },
            "type": "scattergeo"
           }
          ],
          "scattergl": [
           {
            "marker": {
             "colorbar": {
              "outlinewidth": 0,
              "ticks": ""
             }
            },
            "type": "scattergl"
           }
          ],
          "scattermapbox": [
           {
            "marker": {
             "colorbar": {
              "outlinewidth": 0,
              "ticks": ""
             }
            },
            "type": "scattermapbox"
           }
          ],
          "scatterpolar": [
           {
            "marker": {
             "colorbar": {
              "outlinewidth": 0,
              "ticks": ""
             }
            },
            "type": "scatterpolar"
           }
          ],
          "scatterpolargl": [
           {
            "marker": {
             "colorbar": {
              "outlinewidth": 0,
              "ticks": ""
             }
            },
            "type": "scatterpolargl"
           }
          ],
          "scatterternary": [
           {
            "marker": {
             "colorbar": {
              "outlinewidth": 0,
              "ticks": ""
             }
            },
            "type": "scatterternary"
           }
          ],
          "surface": [
           {
            "colorbar": {
             "outlinewidth": 0,
             "ticks": ""
            },
            "colorscale": [
             [
              0,
              "#0d0887"
             ],
             [
              0.1111111111111111,
              "#46039f"
             ],
             [
              0.2222222222222222,
              "#7201a8"
             ],
             [
              0.3333333333333333,
              "#9c179e"
             ],
             [
              0.4444444444444444,
              "#bd3786"
             ],
             [
              0.5555555555555556,
              "#d8576b"
             ],
             [
              0.6666666666666666,
              "#ed7953"
             ],
             [
              0.7777777777777778,
              "#fb9f3a"
             ],
             [
              0.8888888888888888,
              "#fdca26"
             ],
             [
              1,
              "#f0f921"
             ]
            ],
            "type": "surface"
           }
          ],
          "table": [
           {
            "cells": {
             "fill": {
              "color": "#EBF0F8"
             },
             "line": {
              "color": "white"
             }
            },
            "header": {
             "fill": {
              "color": "#C8D4E3"
             },
             "line": {
              "color": "white"
             }
            },
            "type": "table"
           }
          ]
         },
         "layout": {
          "annotationdefaults": {
           "arrowcolor": "#2a3f5f",
           "arrowhead": 0,
           "arrowwidth": 1
          },
          "autotypenumbers": "strict",
          "coloraxis": {
           "colorbar": {
            "outlinewidth": 0,
            "ticks": ""
           }
          },
          "colorscale": {
           "diverging": [
            [
             0,
             "#8e0152"
            ],
            [
             0.1,
             "#c51b7d"
            ],
            [
             0.2,
             "#de77ae"
            ],
            [
             0.3,
             "#f1b6da"
            ],
            [
             0.4,
             "#fde0ef"
            ],
            [
             0.5,
             "#f7f7f7"
            ],
            [
             0.6,
             "#e6f5d0"
            ],
            [
             0.7,
             "#b8e186"
            ],
            [
             0.8,
             "#7fbc41"
            ],
            [
             0.9,
             "#4d9221"
            ],
            [
             1,
             "#276419"
            ]
           ],
           "sequential": [
            [
             0,
             "#0d0887"
            ],
            [
             0.1111111111111111,
             "#46039f"
            ],
            [
             0.2222222222222222,
             "#7201a8"
            ],
            [
             0.3333333333333333,
             "#9c179e"
            ],
            [
             0.4444444444444444,
             "#bd3786"
            ],
            [
             0.5555555555555556,
             "#d8576b"
            ],
            [
             0.6666666666666666,
             "#ed7953"
            ],
            [
             0.7777777777777778,
             "#fb9f3a"
            ],
            [
             0.8888888888888888,
             "#fdca26"
            ],
            [
             1,
             "#f0f921"
            ]
           ],
           "sequentialminus": [
            [
             0,
             "#0d0887"
            ],
            [
             0.1111111111111111,
             "#46039f"
            ],
            [
             0.2222222222222222,
             "#7201a8"
            ],
            [
             0.3333333333333333,
             "#9c179e"
            ],
            [
             0.4444444444444444,
             "#bd3786"
            ],
            [
             0.5555555555555556,
             "#d8576b"
            ],
            [
             0.6666666666666666,
             "#ed7953"
            ],
            [
             0.7777777777777778,
             "#fb9f3a"
            ],
            [
             0.8888888888888888,
             "#fdca26"
            ],
            [
             1,
             "#f0f921"
            ]
           ]
          },
          "colorway": [
           "#636efa",
           "#EF553B",
           "#00cc96",
           "#ab63fa",
           "#FFA15A",
           "#19d3f3",
           "#FF6692",
           "#B6E880",
           "#FF97FF",
           "#FECB52"
          ],
          "font": {
           "color": "#2a3f5f"
          },
          "geo": {
           "bgcolor": "white",
           "lakecolor": "white",
           "landcolor": "#E5ECF6",
           "showlakes": true,
           "showland": true,
           "subunitcolor": "white"
          },
          "hoverlabel": {
           "align": "left"
          },
          "hovermode": "closest",
          "mapbox": {
           "style": "light"
          },
          "paper_bgcolor": "white",
          "plot_bgcolor": "#E5ECF6",
          "polar": {
           "angularaxis": {
            "gridcolor": "white",
            "linecolor": "white",
            "ticks": ""
           },
           "bgcolor": "#E5ECF6",
           "radialaxis": {
            "gridcolor": "white",
            "linecolor": "white",
            "ticks": ""
           }
          },
          "scene": {
           "xaxis": {
            "backgroundcolor": "#E5ECF6",
            "gridcolor": "white",
            "gridwidth": 2,
            "linecolor": "white",
            "showbackground": true,
            "ticks": "",
            "zerolinecolor": "white"
           },
           "yaxis": {
            "backgroundcolor": "#E5ECF6",
            "gridcolor": "white",
            "gridwidth": 2,
            "linecolor": "white",
            "showbackground": true,
            "ticks": "",
            "zerolinecolor": "white"
           },
           "zaxis": {
            "backgroundcolor": "#E5ECF6",
            "gridcolor": "white",
            "gridwidth": 2,
            "linecolor": "white",
            "showbackground": true,
            "ticks": "",
            "zerolinecolor": "white"
           }
          },
          "shapedefaults": {
           "line": {
            "color": "#2a3f5f"
           }
          },
          "ternary": {
           "aaxis": {
            "gridcolor": "white",
            "linecolor": "white",
            "ticks": ""
           },
           "baxis": {
            "gridcolor": "white",
            "linecolor": "white",
            "ticks": ""
           },
           "bgcolor": "#E5ECF6",
           "caxis": {
            "gridcolor": "white",
            "linecolor": "white",
            "ticks": ""
           }
          },
          "title": {
           "x": 0.05
          },
          "xaxis": {
           "automargin": true,
           "gridcolor": "white",
           "linecolor": "white",
           "ticks": "",
           "title": {
            "standoff": 15
           },
           "zerolinecolor": "white",
           "zerolinewidth": 2
          },
          "yaxis": {
           "automargin": true,
           "gridcolor": "white",
           "linecolor": "white",
           "ticks": "",
           "title": {
            "standoff": 15
           },
           "zerolinecolor": "white",
           "zerolinewidth": 2
          }
         }
        },
        "xaxis": {
         "anchor": "y",
         "domain": [
          0,
          1
         ],
         "title": {
          "text": "city"
         }
        },
        "yaxis": {
         "anchor": "x",
         "domain": [
          0,
          1
         ],
         "title": {
          "text": "avg of ecpm_sma"
         }
        }
       }
      },
      "text/html": [
       "<div>                            <div id=\"183741b1-7fae-4978-aee3-1c0373fda05e\" class=\"plotly-graph-div\" style=\"height:525px; width:100%;\"></div>            <script type=\"text/javascript\">                require([\"plotly\"], function(Plotly) {                    window.PLOTLYENV=window.PLOTLYENV || {};                                    if (document.getElementById(\"183741b1-7fae-4978-aee3-1c0373fda05e\")) {                    Plotly.newPlot(                        \"183741b1-7fae-4978-aee3-1c0373fda05e\",                        [{\"alignmentgroup\":\"True\",\"bingroup\":\"x\",\"histfunc\":\"avg\",\"hovertemplate\":\"city=%{x}<br>avg of ecpm_sma=%{y}<extra></extra>\",\"legendgroup\":\"\",\"marker\":{\"color\":\"#636efa\",\"pattern\":{\"shape\":\"\"}},\"name\":\"\",\"offsetgroup\":\"\",\"orientation\":\"v\",\"showlegend\":false,\"x\":[\"Aberdeen\",\"Abilene\",\"Addison\",\"Afton\",\"Akron\",\"Alameda\",\"Alamogordo\",\"Albany\",\"Albuquerque\",\"Alexandria\",\"Allentown\",\"Alpharetta\",\"Altamonte Springs\",\"Altoona\",\"Alvarado\",\"Anaheim\",\"Anchorage\",\"Angola\",\"Ann Arbor\",\"Anoka\",\"Apex\",\"Apopka\",\"Appleton\",\"Arcadia\",\"Ardmore\",\"Arkansas City\",\"Arlington\",\"Arvada\",\"Asbury Park\",\"Ashburn\",\"Asheboro\",\"Athens\",\"Atlanta\",\"Auburn\",\"Augusta\",\"Aurora\",\"Austin\",\"Bainbridge Island\",\"Bakersfield\",\"Baltimore\",\"Bangor\",\"Bardstown\",\"Bartlesville\",\"Basking Ridge\",\"Batavia\",\"Batesville\",\"Battle Creek\",\"Bay City\",\"Bayonne\",\"Baytown\",\"Beatrice\",\"Beaufort\",\"Beaumont\",\"Beaverton\",\"Bedford\",\"Bell Gardens\",\"Bellefontaine\",\"Belleville\",\"Bellevue\",\"Bellflower\",\"Bellingham\",\"Bend\",\"Bethel Park\",\"Bethlehem\",\"Billings\",\"Biloxi\",\"Binghamton\",\"Birmingham\",\"Bismarck\",\"Blairsville\",\"Bloomfield\",\"Bloomingdale\",\"Bloomington\",\"Blue Springs\",\"Boca Raton\",\"Boise\",\"Bolingbrook\",\"Bonners Ferry\",\"Bordentown\",\"Boston\",\"Boulder\",\"Bowling Green\",\"Bozeman\",\"Bradenton\",\"Brainerd\",\"Brecksville\",\"Bremerton\",\"Brenham\",\"Brentwood\",\"Brighton\",\"Brockton\",\"Broken Arrow\",\"Brookfield\",\"Brookings\",\"Brookline\",\"Brooksville\",\"Broomfield\",\"Buena Park\",\"Buffalo\",\"Burbank\",\"Burkburnett\",\"Burlington\",\"Butler\",\"Butte\",\"Camden\",\"Canfield\",\"Canonsburg\",\"Canton\",\"Cape Coral\",\"Cape Girardeau\",\"Carbondale\",\"Carlisle\",\"Carlsbad\",\"Carmel\",\"Carroll\",\"Carrollton\",\"Cary\",\"Casper\",\"Castro Valley\",\"Cedar City\",\"Cedar Falls\",\"Cedar Rapids\",\"Celina\",\"Centerville\",\"Chambersburg\",\"Champaign\",\"Chandler\",\"Chantilly\",\"Charleston\",\"Charlotte\",\"Charlottesville\",\"Charlston\",\"Chattanooga\",\"Cherokee\",\"Cherry Hill\",\"Cheyenne\",\"Chicago\",\"Chico\",\"Chicopee\",\"Cincinnati\",\"Claremore\",\"Clarkesville\",\"Clarks Summit\",\"Clarksburg\",\"Clarksville\",\"Clearwater\",\"Cleburne\",\"Clementon\",\"Cleveland\",\"Clifton\",\"Clovis\",\"Cocoa\",\"Coeur d'Alene\",\"Colchester\",\"College Station\",\"Collinsville\",\"Colorado Springs\",\"Columbia\",\"Columbia City\",\"Columbus\",\"Concord\",\"Conroe\",\"Conyers\",\"Cookeville\",\"Coraopolis\",\"Corbin\",\"Corning\",\"Corona\",\"Corpus Christi\",\"Cortland\",\"Costa Mesa\",\"Council Bluffs\",\"Covington\",\"Cranston\",\"Crawfordsville\",\"Crossett\",\"Crossville\",\"Crystal Lake\",\"Cullman\",\"Cumming\",\"Custer\",\"Cynthiana\",\"Dade City\",\"Dahlonega\",\"Dallas\",\"Dalton\",\"Danbury\",\"Danvers\",\"Danville\",\"Dayton\",\"Daytona Beach\",\"DeKalb\",\"Dearborn\",\"Decatur\",\"Deer Park\",\"Deltona\",\"Denham Springs\",\"Denton\",\"Denver\",\"Derry\",\"Des Moines\",\"Des Plaines\",\"Detroit\",\"Dickinson\",\"Dobson\",\"Dothan\",\"Dover\",\"DuBois\",\"Dublin\",\"Dubuque\",\"Duluth\",\"Durham\",\"East Hartford\",\"East Liverpool\",\"East Peoria\",\"Easton\",\"Eau Claire\",\"Edgerton\",\"Edison\",\"Edmond\",\"El Cajon\",\"El Centro\",\"El Paso\",\"Elgin\",\"Elizabethtown\",\"Elk Grove\",\"Elkhart\",\"Elkhorn\",\"Ellensburg\",\"Elmira\",\"Enid\",\"Erie\",\"Escanaba\",\"Escondido\",\"Eugene\",\"Eureka\",\"Eureka Springs\",\"Evanston\",\"Evansville\",\"Everett\",\"Exeter\",\"Fairborn\",\"Fairfax\",\"Fairfield\",\"Fairview Heights\",\"Fall River\",\"Fallon\",\"Falls Church\",\"Fargo\",\"Farmington\",\"Farmingville\",\"Farmville\",\"Fayetteville\",\"Federal Way\",\"Fishers\",\"Flagstaff\",\"Flemington\",\"Flint\",\"Florence\",\"Florissant\",\"Flushing\",\"Folsom\",\"Fond Du Lac\",\"Fontana\",\"Forest City\",\"Fort Collins\",\"Fort Lauderdale\",\"Fort Mill\",\"Fort Myers\",\"Fort Walton Beach\",\"Fort Wayne\",\"Fort Worth\",\"Framingham\",\"Frankfort\",\"Franklin\",\"Freeport\",\"Fremont\",\"Fresno\",\"Frisco\",\"Front Royal\",\"Gadsden\",\"Gainesville\",\"Galesburg\",\"Gallatin\",\"Garden Grove\",\"Gardena\",\"Garland\",\"Garner\",\"Gastonia\",\"Geneva\",\"Georgetown\",\"Gettysburg\",\"Gig Harbor\",\"Gilbert\",\"Glastonbury\",\"Glen Burnie\",\"Glendale\",\"Gloucester City\",\"Gloversville\",\"Goldsboro\",\"Gonzales\",\"Grand Forks\",\"Grand Junction\",\"Grand Prairie\",\"Grand Rapids\",\"Grants Pass\",\"Grapevine\",\"Great Bend\",\"Great Falls\",\"Greeley\",\"Green Bay\",\"Greeneville\",\"Greenfield\",\"Greensboro\",\"Greensburg\",\"Greenville\",\"Greenwood\",\"Gresham\",\"Grove City\",\"Gulfport\",\"Hackensack\",\"Hadley\",\"Hagerstown\",\"Hammond\",\"Hannibal\",\"Hanover\",\"Harlingen\",\"Harrisburg\",\"Harrison\",\"Hartford\",\"Hartsville\",\"Hastings\",\"Hattiesburg\",\"Hays\",\"Hayward\",\"Hazard\",\"Hazlet\",\"Hazleton\",\"Helena\",\"Hemet\",\"Henderson\",\"Hendersonville\",\"High Point\",\"Hilliard\",\"Hillsboro\",\"Hilo\",\"Hilton Head Island\",\"Hinesville\",\"Hobbs\",\"Hoffman Estates\",\"Holbrook\",\"Holland\",\"Hollywood\",\"Homestead\",\"Honolulu\",\"Hoover\",\"Horseheads\",\"Hot Springs\",\"Houston\",\"Huntersville\",\"Huntingdon\",\"Huntington\",\"Huntington Beach\",\"Huntsville\",\"Huron\",\"Hurricane\",\"Hutchinson\",\"Idaho Falls\",\"Independence\",\"Indianapolis\",\"Indio\",\"Inverness\",\"Iowa City\",\"Ironton\",\"Irvine\",\"Irving\",\"Ithaca\",\"Jackson\",\"Jacksonville\",\"Jacksonville Beach\",\"Jamestown\",\"Janesville\",\"Jefferson City\",\"Jersey City\",\"Jerseyville\",\"Johnson City\",\"Johnstown\",\"Joliet\",\"Jonesboro\",\"Joplin\",\"Kailua-Kona\",\"Kalamazoo\",\"Kalispell\",\"Kankakee\",\"Kansas City\",\"Katy\",\"Kearney\",\"Kennesaw\",\"Kennewick\",\"Kenosha\",\"Kent\",\"Kernersville\",\"Killeen\",\"King of Prussia\",\"Kingsport\",\"Kingston\",\"Kingsville\",\"Kingwood\",\"Kissimmee\",\"Knoxville\",\"Kokomo\",\"Kyle\",\"La Grange\",\"La Junta\",\"Lafayette\",\"Lake George\",\"Lakeland\",\"Lamar\",\"Lancaster\",\"Lansdale\",\"Lansing\",\"Laredo\",\"Las Cruces\",\"Las Vegas\",\"Laurel\",\"Lavonia\",\"Lawrence\",\"Lawrenceville\",\"Lawton\",\"Layton\",\"League City\",\"Lebanon\",\"Lee's Summit\",\"Leesburg\",\"Leesville\",\"Lehighton\",\"Lenexa\",\"Lenoir City\",\"Levelland\",\"Levittown\",\"Lewes\",\"Lewisburg\",\"Lewistown\",\"Lewisville\",\"Lexington\",\"Lima\",\"Lincoln\",\"Lincoln City\",\"Linden\",\"Lindon\",\"Little Rock\",\"Littleton\",\"Livonia\",\"Logan\",\"Lompoc\",\"London\",\"Long Beach\",\"Longmont\",\"Longview\",\"Los Angeles\",\"Louisville\",\"Lowell\",\"Lubbock\",\"Lynchburg\",\"Lynnwood\",\"Madison\",\"Madison Heights\",\"Madisonville\",\"Malden\",\"Manassas\",\"Manchester\",\"Manhattan\",\"Manistee\",\"Manitowoc\",\"Mankato\",\"Maple Grove\",\"Marietta\",\"Marina\",\"Marion\",\"Marquette\",\"Marshall\",\"Marshfield\",\"Martin\",\"Martinsburg\",\"Massillon\",\"Matthews\",\"Mattoon\",\"Mayfield\",\"McAllen\",\"McDonough\",\"McHenry\",\"McKeesport\",\"Meadville\",\"Mebane\",\"Mechanicsburg\",\"Mechanicsville\",\"Medford\",\"Medina\",\"Melbourne\",\"Memphis\",\"Mentor\",\"Merced\",\"Meridian\",\"Mesa\",\"Metairie\",\"Miami\",\"Miami Beach\",\"Miamisburg\",\"Michigan City\",\"Middletown\",\"Midland\",\"Milford\",\"Milpitas\",\"Milton\",\"Milwaukee\",\"Minneapolis\",\"Minot\",\"Mission\",\"Missoula\",\"Mobile\",\"Modesto\",\"Moline\",\"Monroe\",\"Montgomery\",\"Montpelier\",\"Monument\",\"Morehead City\",\"Moreno Valley\",\"Morgantown\",\"Morristown\",\"Mount Airy\",\"Mount Juliet\",\"Mount Laurel\",\"Mount Pleasant\",\"Mount Vernon\",\"Mountain Top\",\"Muncie\",\"Munster\",\"Murfreesboro\",\"Murray\",\"Murrieta\",\"Muskegon\",\"Muskogee\",\"Myrtle Beach\",\"Nampa\",\"Naperville\",\"Naples\",\"Nashua\",\"Nashville\",\"Neenah\",\"New Albany\",\"New Bedford\",\"New Berlin\",\"New Braunfels\",\"New Castle\",\"New Orleans\",\"New Port Richey\",\"New Smyrna Beach\",\"New Ulm\",\"New York\",\"Newark\",\"Newington\",\"Newnan\",\"Newport\",\"Newport Beach\",\"Newport News\",\"Newton\",\"Niagara Falls\",\"Nicholasville\",\"Norfolk\",\"Norman\",\"North Bergen\",\"North Las Vegas\",\"North Olmsted\",\"North Platte\",\"North Port\",\"Northampton\",\"Northville\",\"Norwalk\",\"Norwich\",\"Norwood\",\"O'Fallon\",\"Oak Creek\",\"Oakland\",\"Ocala\",\"Oceanside\",\"Odessa\",\"Ogden\",\"Okeechobee\",\"Oklahoma City\",\"Olathe\",\"Olympia\",\"Omaha\",\"Oneonta\",\"Ontario\",\"Orange\",\"Orem\",\"Orland Park\",\"Orlando\",\"Ormond Beach\",\"Oroville\",\"Osage Beach\",\"Oshkosh\",\"Osseo\",\"Overland Park\",\"Oviedo\",\"Owings Mills\",\"Oxford\",\"Oxnard\",\"Paducah\",\"Pahrump\",\"Palestine\",\"Palm Bay\",\"Palm Beach Gardens\",\"Palm Coast\",\"Palmdale\",\"Palmyra\",\"Panama City\",\"Paoli\",\"Parkersburg\",\"Pascagoula\",\"Pasco\",\"Pearland\",\"Pell City\",\"Pendleton\",\"Pensacola\",\"Peoria\",\"Perris\",\"Petersburg\",\"Philadelphia\",\"Phoenix\",\"Pikesville\",\"Pikeville\",\"Pinellas Park\",\"Pittsburgh\",\"Pittsfield\",\"Placerville\",\"Plainfield\",\"Plano\",\"Plattsburgh\",\"Plymouth\",\"Pocatello\",\"Pompano Beach\",\"Ponca City\",\"Pontiac\",\"Pooler\",\"Port Clinton\",\"Port Huron\",\"Port Orchard\",\"Port Saint Lucie\",\"Portage\",\"Porterville\",\"Portland\",\"Portsmouth\",\"Post Falls\",\"Potsdam\",\"Poughkeepsie\",\"Powell\",\"Prattville\",\"Prescott Valley\",\"Providence\",\"Provo\",\"Pueblo\",\"Punta Gorda\",\"Queensbury\",\"Quincy\",\"Racine\",\"Raleigh\",\"Rancho Cordova\",\"Rancho Cucamonga\",\"Rapid City\",\"Raymondville\",\"Rayville\",\"Reading\",\"Redlands\",\"Redmond\",\"Redwood City\",\"Reno\",\"Richardson\",\"Richmond\",\"Ridley Park\",\"Riverside\",\"Roanoke\",\"Robinson\",\"Rochester\",\"Rockford\",\"Rockingham\",\"Rockport\",\"Rockwall\",\"Rocky Mount\",\"Rogers\",\"Rome\",\"Romulus\",\"Ronkonkoma\",\"Roosevelt\",\"Roseburg\",\"Roseville\",\"Royal Oak\",\"Ruston\",\"Sacramento\",\"Saginaw\",\"Saint Augustine\",\"Saint Charles\",\"Saint Joseph\",\"Saint Marys\",\"Saint Paul\",\"Salem\",\"Salinas\",\"Salisbury\",\"Salt Lake City\",\"San Angelo\",\"San Antonio\",\"San Bernardino\",\"San Diego\",\"San Francisco\",\"San Jose\",\"San Luis Obispo\",\"San Rafael\",\"Sandusky\",\"Sandy\",\"Sanford\",\"Santa Clara\",\"Santa Cruz\",\"Santa Maria\",\"Santa Rosa\",\"Sarasota\",\"Savannah\",\"Sayre\",\"Schaumburg\",\"Schenectady\",\"Schertz\",\"Scottsburg\",\"Scottsdale\",\"Scranton\",\"Seattle\",\"Senatobia\",\"Sevierville\",\"Seymour\",\"Shawnee\",\"Shelbyville\",\"Shreveport\",\"Sierra Vista\",\"Silver Spring\",\"Simpsonville\",\"Sioux City\",\"Sioux Falls\",\"Slidell\",\"Smyrna\",\"Somerset\",\"Somerville\",\"South Bend\",\"South Milwaukee\",\"Southington\",\"Spokane\",\"Spring\",\"Spring Hill\",\"Springdale\",\"Springfield\",\"St. Louis\",\"State College\",\"Statesville\",\"Steamboat Springs\",\"Sterling Heights\",\"Stockton\",\"Stow\",\"Strongsville\",\"Sturgeon Bay\",\"Sturgis\",\"Sugar Land\",\"Sulphur\",\"Summersville\",\"Summerville\",\"Sumter\",\"Sun Prairie\",\"Sunnyvale\",\"Surprise\",\"Swedesboro\",\"Sylacauga\",\"Sylvania\",\"Syracuse\",\"Tacoma\",\"Tallahassee\",\"Tampa\",\"Tarpon Springs\",\"Taylor\",\"Tehachapi\",\"Temecula\",\"Tempe\",\"Terre Haute\",\"Tiffin\",\"Tillamook\",\"Tinley Park\",\"Toledo\",\"Tomball\",\"Topeka\",\"Tracy\",\"Traverse City\",\"Trenton\",\"Tucker\",\"Tucson\",\"Tulare\",\"Tulsa\",\"Uniontown\",\"Urbana\",\"Utica\",\"Vacaville\",\"Vail\",\"Valdosta\",\"Valparaiso\",\"Vancouver\",\"Venice\",\"Ventura\",\"Vero Beach\",\"Vienna\",\"Vincennes\",\"Virginia Beach\",\"Vista\",\"Waco\",\"Wake Forest\",\"Waldorf\",\"Walker\",\"Walla Walla\",\"Walled Lake\",\"Wallingford\",\"Waltham\",\"Warner Robins\",\"Warren\",\"Warsaw\",\"Washington\",\"Wasilla\",\"Waterloo\",\"Watertown\",\"Waukesha\",\"Wausau\",\"Waxahachie\",\"Waynesboro\",\"Waynesville\",\"Webster\",\"Wentzville\",\"Wesley Chapel\",\"West Chester\",\"West Chicago\",\"West Des Moines\",\"West Jordan\",\"West Lafayette\",\"West Palm Beach\",\"West Valley City\",\"West Warwick\",\"Westfield\",\"Westford\",\"Wheat Ridge\",\"White Plains\",\"Wichita\",\"Wichita Falls\",\"Williamsburg\",\"Willmar\",\"Wilmington\",\"Wilson\",\"Winter Garden\",\"Winter Park\",\"Wisconsin Rapids\",\"Woburn\",\"Woodcliff Lake\",\"Woodstock\",\"Worcester\",\"Worland\",\"Wrangell\",\"Wylie\",\"York\",\"Youngstown\",\"Ypsilanti\",\"Yukon\",\"Yuma\",\"Zanesville\"],\"xaxis\":\"x\",\"y\":[1.3907327370591542,10.519701624555253,0.489449679851532,2.510670594186319,8.88261014727109,1.7444767600884945,1.635145481304125,4.273909829365902,3.373641922388355,3.2449199859667743,7.823940974367147,1.0863318632891608,1.4718641459148858,1.465470802446238,6.377044108041369,2.3004744970396653,3.5654337587247054,2.4828728541569034,2.6389107200707125,3.12652089514516,1.1636043148159627,2.6435964805920436,2.4075221451507356,4.702075373772142,12.541526687145229,1.9297836348414439,4.11887751047609,3.1308605475521794,8.077212395401778,7.717850270478622,4.907985191719206,11.854994184591545,3.0331025536093366,8.060317196850805,14.004705679278043,2.4438901579501677,2.7923529373586637,5.387883978394362,2.4866859516478144,3.359972765687846,7.582065468303421,0.701372532865831,0.8391893035689878,4.063063531818956,3.5922271721065044,3.4977309139895056,6.745445396532026,3.369113564491271,8.585647025415978,12.643256871946257,3.74813909707186,9.427601473199001,0.0900902226567268,3.1526254505357336,1.5738986123418603,0.04920618289283341,1.1222860949081277,2.94842457966879,2.1419652771128685,0.988181054592133,5.500297246809042,34.2039222717285,1.7947443362264364,2.3236668083683285,1.94632287706352,9.048918564822161,1.3866945295919517,2.495326217048863,8.85752963648468,1.07777492191849,2.9363631688984193,3.611094492061116,2.7781221513260346,1.8763412431760869,1.062395650341838,4.150619623308279,1.4083553170648058,4.1258064183321865,11.690073847770677,1.7587527076638283,9.653820613255863,15.118184990353054,4.068665628758191,17.303210260346546,1.7340907415593312,4.307564438458086,32.35551990853978,1.1156177669763578,15.483565688133229,4.244838717552583,20.719690570315805,0.4751230836600851,0.6312031332865915,3.917855238630657,7.949916697476268,18.009040991465252,5.176101823605102,3.563584556705074,3.168068219006011,1.217254358861182,1.8431862810414708,11.633658299813176,1.680129094557329,2.0803088376650956,0.07741271884491048,1.07365167140961,1.3724436174377197,3.113170462097238,1.8055550034542909,7.603978334735563,4.907090858979656,0.7523043203072097,12.297524452209451,2.1140214788635276,1.477106207158961,2.733357483724196,1.5945340389590394,12.344504155391865,0.6185564244921141,2.8737107896700103,1.0957922713177224,6.078673167739598,4.731985594986416,0.5040680907382027,36.0910682678223,1.3315366716296595,3.0461140543524707,1.8991015623597558,2.2356987819323333,2.847540079611617,4.134847100008289,3.4003423353036184,1.3980486817626143,0.8654355274858926,2.4809571420773877,6.212764382362367,1.8241918682756508,2.756768061014695,2.966984302981231,7.051579572284379,1.2151803552572211,5.144460430434743,14.390380552241897,2.118873129194063,16.006350348393116,1.7855509633453772,1.759881956948595,1.4438769379577097,5.808199368033583,0.1933266549474663,6.6811963075347105,4.337160199880603,3.6137446947318197,12.127721428871158,3.243888328112662,18.422271236777306,2.2880855036073164,1.92045103589432,0.678027153015137,4.079688239238092,1.2564875260954755,1.9732925533317032,8.095055601813572,4.532882759923284,4.035995622631158,14.717267670414662,21.6213779449463,1.0851422380656006,6.135709947506011,2.382803594784158,4.287873171269893,3.1592029121391563,1.4290422297082839,1.2090599561839215,1.9937123671437786,3.4955482825636857,3.824228453249655,1.1107855628605092,3.9687844606760563,3.5915335774421715,0.7261414953640537,0.6572625041008,1.5494119785201388,2.1973985114416155,3.4472555622092744,2.3599674962461004,1.0972672746808243,1.3453605860471733,2.8911613859236214,3.986739615836517,1.6049333095550538,1.4226699674451915,3.3036305567065463,12.31814615726471,1.4559992732897178,0.5381039182345072,2.018788768225271,2.8352127263740616,3.3292705959492386,2.704797946042934,1.49287950009126,4.292503926269792,3.4651322360265673,2.149036396155569,46.9148042894179,22.387311257421953,4.712366112583392,0.21832589308420833,1.693784020258931,3.2523006971006283,8.992175615271934,10.283062833547577,6.753705737302829,1.891721185995267,25.770336459451055,0.47875860525715735,2.831115390415545,1.9301405131816858,0.6431820392608645,1.9475294210358085,4.565995717870779,0.8503902098857503,4.7039573299445845,2.23863743672705,26.1099071502686,0.8336837701653826,9.02868817849851,3.754963745112004,3.764945656061172,1.8750671295807029,3.436437069797622,4.126135200654205,4.30722951889038,28.5722846984863,2.878514820159815,2.4771021489191942,5.8146327248326095,0.696657051985292,1.3388750080354097,11.152486313728808,4.0655367823023525,1.1369310671632944,3.9795433968305587,2.7875336463742735,4.950678721619258,1.5407867690976254,2.962726286550363,0.8892010005280442,1.3767608884158418,2.1563643555981757,12.462574481964118,0.377753496170044,0.662058254127121,3.1776103172451244,1.534038217266715,25.128310561180125,2.3080913367179723,2.4646643479665116,1.8732371046429583,5.1856128031557285,1.7643078437181026,8.365953079501141,20.197477201620735,5.563694588933141,0.9209170354098627,2.9288677831490832,3.099075520525173,4.632641882718678,2.1781695585359224,0.9694759026169782,1.3772371092002,3.894481595766033,17.309563763213898,8.204069805450924,2.1400015300638087,14.488730405728653,13.949793010950083,6.688578201493912,6.070658041701056,1.494480644458014,2.049130079680925,3.543371148103812,3.812323199471396,0.9846990204383769,1.457187082066579,12.380736128868463,4.6733583357581985,11.58719128042787,5.884577463956399,1.1155192700036511,0.24954690412142316,1.5323569837301596,0.6972577108751203,4.454245476727466,1.898246276571795,5.910453142379137,2.631159178396828,11.059506640434268,21.2276649475098,8.676849039395654,0.5755944550037385,0.9925370543048943,5.500055772615903,0.5919975309125171,3.980425100222984,11.872732665670762,0.9589183760288168,11.640550130512555,5.608732743395704,3.18248124266055,2.854161032305077,4.05977499386982,5.163341269410885,17.337028653050467,1.7507862189325032,1.2038744702252617,25.373940865198776,5.176588271037645,1.256193757057192,4.559451411962509,2.485661576438184,0.9031545993991393,4.196457598250677,4.569862889231376,7.664211025019933,3.7672482542693615,1.5836710419237923,1.7957978180506162,3.4634973438400194,6.295815359801042,0.12284420244395731,0.7597511922162462,2.721676577693039,11.153264772892008,1.5220976131198203,0.6329751396307925,6.308952140253644,3.480715304493329,1.1373331530490334,2.2045633165115444,0.596062481403351,1.1243801190186364,0.39018115798632297,11.845476062297823,3.599749706607115,0.895628213882446,1.85831248760223,29.6814441680908,2.2603399733963765,2.456004612147809,7.729964728521952,0.49177213074961823,3.2242863996321933,6.001640410759508,4.0250929072128585,1.1675703711807732,2.7979060469135155,2.941003137130508,3.8700054974009563,2.354685734425271,0.9244374497121524,3.7444701614930773,0.126530364155769,11.89850309831292,29.134314472025093,7.402194142074332,5.955803738482709,10.12039337856205,3.8389140403346174,5.936075674300142,6.145907819271082,24.9808921813965,2.0351177128248423,5.762057553066151,2.924441980889865,1.4951506019083425,1.6724272424524487,2.529275244946851,3.216861845276425,17.968547344207757,0.5647327867106935,6.579819577606398,1.6433022910346144,12.09000763787499,1.5284348301217363,2.2708806831281465,9.566364249674345,7.8607192439575675,10.014405698144115,4.032163855433465,0.867128485212992,7.861167638074782,2.220838363277898,6.4516001248359665,2.913683578167423,7.120940000846469,4.583815684189668,20.478907856222698,5.9933006150027115,6.41756326887967,4.313780081285817,0.8391153553384344,3.755929659136773,6.33529250896195,13.961384201049814,0.0870366021990776,2.365148838892767,0.34071152969772817,2.984274204741133,3.6777785398750926,19.9987201690674,0.7110592197710861,0.7997049078708739,2.6500127670310825,8.226925315996994,5.22040405591329,13.221937576929747,1.9494276292251889,3.2518215657798555,1.6647581974180736,2.282913271548614,12.082306587606444,3.173060560681625,5.672467948999017,18.22629666161314,2.5368495434522598,17.915317323472777,12.193208722507256,4.329948509197971,4.880422760537103,4.307754409341998,6.637428874319244,6.483282441216523,6.348000784357421,11.387143180265536,3.2938620696465244,3.555890219357454,1.1593668303729687,6.127744356791182,3.2597998270573916,0.22368249061999612,8.600872788578267,5.425003764383936,10.24623345066174,0.6630726785497797,0.913914754986763,3.2347935459884805,0.17320717637923277,12.001016854246462,2.4666166448681226,6.7185165687876545,6.782228352757992,1.477595772766782,1.124120813872394,7.26013725517709,3.0295437365830793,5.354858854846777,2.6545019143590927,1.4025853642913684,3.549401890279315,5.130119296929919,3.922037217020989,2.0512877035308885,1.3198824312335768,4.470745173575622,3.3787623976908066,2.46285209512269,46.34874945733605,0.31271091964535114,3.772754608082171,1.5929105425408732,3.5033672181042728,0.5987306702720081,3.9031442424713685,2.2862756217794167,2.39495218356417,9.899520357770294,1.571842831527365,15.382447852454384,12.408972144126897,1.7969449705043563,5.114675860755382,2.8459858185341265,4.420879597676562,13.9635047912598,0.8862080389038247,3.351156767759776,34.53288050339776,3.6205843488375344,1.0732926062992596,1.5138853756736232,1.3011652228869794,0.5948590404322359,2.666964968969656,1.6376307667011305,1.6601148216342503,15.446647092073913,3.4507201537489895,5.470093586615154,3.633469261708221,3.2621914242443264,0.7717961209411385,12.795328961840518,2.851646580282719,0.3548990198376267,3.8413986290414286,1.108653792212991,9.7645297660069,1.7627302641522127,1.3610155204631829,3.4695825729832857,8.472123444287313,3.403588007796898,25.218836103166865,6.380419464024845,2.891355900354368,3.635957384960992,0.199879840016365,2.0210205556617833,3.6747939152632925,5.929828720638553,1.5609914524137154,3.047198319845662,24.862252116203315,3.078372261413033,2.972021955147122,36.0910682678223,5.256000325083729,2.163354760266485,2.360817645540398,7.4942593723090685,3.259677427796134,10.671777077019213,2.3291904111441823,0.7928541815030604,30.248140335083,35.00776596069337,11.338609122804218,2.3985009662831183,12.9463205337524,12.060909195301631,1.2472726961908236,1.4356637048524807,4.336816611444329,2.2468582285711403,1.3439880459644926,1.7437264274673612,18.049973892645678,2.8648692084255445,1.6839464963900868,4.5016221414532565,11.261544258672679,4.151062091191609,1.2136043475035454,1.333411083106071,3.033695839516733,2.1370080759127936,6.38384873229404,0.7408505403771879,2.9733075911873654,2.2614107126003913,0.31522826448500435,2.672159188713592,0.76962754091166,0.18036974966526056,6.346417646937901,3.3939712366082833,7.876255567638897,2.584973510983261,1.3753820761314337,8.725663018854041,2.5221311071744363,4.798957716340769,12.579502463340756,19.9987201690674,0.5170961121718091,2.801356139900744,4.342464173130645,2.78337535032661,5.3032650447943634,13.097015686120317,2.6343609525591414,0.7069738222552198,0.8294944038242105,0.545933568584068,1.4079598202125019,1.7663545139264638,1.6433212623315998,1.8135396833868995,7.011705038468635,5.336262617365523,11.527049671662486,2.874294563761104,12.456507780613041,5.26743607237136,1.795613327625822,2.505292586100192,8.882269631899318,2.381395926824012,8.517243013156587,1.7292307427405944,9.67865471593266,2.011075684223323,0.852331687853887,1.8821768860099841,2.036176388905598,3.0523263011744475,5.410424853675067,14.647517035084388,0.6949050099069959,4.353224116563797,8.051067699491977,0.9414793181119203,4.0204981307188685,1.5430469022173654,2.08781242370605,4.207607472731249,2.9168833107859995,4.473477343224106,1.7352943505559644,4.425004054133485,4.772217483392784,4.747844935243526,11.137060040235564,2.894491058656538,11.142641159621109,2.1848980232874164,7.180624182735172,10.657341802662069,3.0681652014792222,2.863041909761608,2.38616251945496,4.049593817847115,22.40876580007149,3.2213074741314367,2.6200099249143864,1.4065987263240063,1.2484324809967717,3.6560796909288547,2.4424229403111086,7.29108400146167,1.696642082286616,3.003342928334621,19.08033180236815,1.946166784912348,3.146951874861351,0.8117538690567014,7.750482582969978,12.069525187665759,13.81216869904445,2.470529224546182,3.9217410388269616,4.436531746781459,4.124775233285012,9.0369837467487,6.594888220826785,2.195358099986097,9.504962062835693,4.81785599345271,1.1797236448432182,1.3727625340430274,1.4916268608399796,3.6193919552051423,0.358493596315384,4.53473299936532,2.8657843309347752,3.936092154934393,6.107115276955319,1.3181975438498224,3.036472026646138,3.198186892109949,3.1605522414048512,0.137062504887581,5.105975668939336,30.0815467834473,14.5448904037476,2.8452128960983543,3.944398867259851,6.824256486963123,1.7758692338447202,2.403101509515668,2.7307138530604234,5.968757860804046,4.500182422873402,7.576628547950439,4.7251991309708385,4.711744681000694,11.691442247094777,2.9894280664983297,28.036008963155556,4.629028468230819,7.274018257856369,0.9676678040858635,0.6575320438835127,5.656757082154503,0.8953928833568418,5.814000016450882,1.0895322922856439,35.755543132623025,1.9979065840772778,3.913111970167271,5.002143870822336,3.7033691807039824,4.085375218825825,1.0604817867279055,5.4960384296074585,7.395625145389484,9.86777873368974,44.9742374420166,3.0179907332961204,4.738983791608078,1.7483434928365122,2.6537384301160283,2.5646096156534113,2.4637987022628476,2.3415298757778427,7.915501832962043,1.5107092475979629,2.7376476793622757,4.563411972636267,3.5070859372938585,4.170721932314337,0.3597493745523107,3.515877416352092,23.055804201075805,3.2486043727075744,3.0345565027885226,1.7451314619419092,17.211791202425964,4.2769804066893755,5.063291132450104,45.93240308761595,2.7777300770982234,4.7180183099901445,4.270929725570883,2.5767333718708576,2.1171234431039005,1.2558938323994646,5.301388676581761,2.273055161190206,16.64535290087971,2.7724535227540485,4.611431067188581,0.8642124654326945,8.077443559964495,1.045493579872017,13.47106873929797,5.2194893826609094,3.7803294383313353,38.0928997993469,3.4555237401111607,16.102518081665,17.140176991621654,3.311692507251584,3.267776299800191,2.5740452403322274,3.0143767896536233,1.337841603596574,3.154206749539321,3.1803529773439645,15.972125848811073,0.154734000563622,7.274036384147148,0.3241671472787855,0.8824858527098363,10.359585762023947,3.7541728150553806,18.52741837501528,1.7944926119353657,24.743319946708105,9.305147171020504,2.8007778635119447,33.02877461910248,1.6553686573078819,4.848821232716257,9.289310872554763,0.48692324757576,0.122400000691414,7.020883616841872,1.7845819583383142,2.354029614920008,9.928794287145141,4.147552507196819,29.63443024456501,2.765746048441023,1.403040474103321,2.065549190016114,2.1624745551697506,15.42443690620935,10.860034817861298,2.53596456090317,8.110114321618711,7.4665500478046685,4.367687282445752,1.9621972280974478,8.377248356739665,1.034866473397871,2.3292892850331905,0.9638261647871983,2.972430414197913,5.274607216482199,2.7588861355031113,1.246368164769732,3.475347966259841,2.241188302876488,4.746350280142254,1.2088632444212652,8.423000755493458,10.065883655794744,4.090004555881028,5.6253984442778995,0.6466864435092657,3.096585627856651,1.7406824161024634,1.0994439555353,7.471578707277486,0.17459639919329803,4.578443623050439,12.422126906258717,3.9195540362465997,7.809980965725015,2.4371156238019465,0.992767691612244,3.7412871954341735,3.6620993621407,12.5144128799438,1.4598317197108062,2.0548811545877737,6.4698046237898765,1.9300491348763675,7.0176668391341295,3.826741282067715,0.164594456553459,26.838443844214705,1.4256990813892487,10.28355250596439,1.5352068481774184,1.1238924531841656,6.121027658383049,6.273300636534556,16.46897215313385,4.927800615628562,5.461324207031926,1.7056091914262472,3.3264908013136516,3.4041104316711426,9.486591256459551,0.5871097154011007,2.7080582862595723,6.943609836253973,9.961360288293736,7.174441895147007,3.2767949301583563,3.13769868967381,1.4857261305054068,37.5796775817871,5.007940394815977,19.8053255081177,2.2169885116768633,20.81292164325716,5.213108474526693,1.577422008023294,0.5780276654714206,2.0822492479182344,2.118452691223343,6.553056927454667,1.0847397651842663,6.47363206148148,10.617208014925318,4.426102238658228,2.4454749227909653,0.8003787820701066,0.6087119631563956,1.8174110726407509],\"yaxis\":\"y\",\"type\":\"histogram\"}],                        {\"template\":{\"data\":{\"bar\":[{\"error_x\":{\"color\":\"#2a3f5f\"},\"error_y\":{\"color\":\"#2a3f5f\"},\"marker\":{\"line\":{\"color\":\"#E5ECF6\",\"width\":0.5},\"pattern\":{\"fillmode\":\"overlay\",\"size\":10,\"solidity\":0.2}},\"type\":\"bar\"}],\"barpolar\":[{\"marker\":{\"line\":{\"color\":\"#E5ECF6\",\"width\":0.5},\"pattern\":{\"fillmode\":\"overlay\",\"size\":10,\"solidity\":0.2}},\"type\":\"barpolar\"}],\"carpet\":[{\"aaxis\":{\"endlinecolor\":\"#2a3f5f\",\"gridcolor\":\"white\",\"linecolor\":\"white\",\"minorgridcolor\":\"white\",\"startlinecolor\":\"#2a3f5f\"},\"baxis\":{\"endlinecolor\":\"#2a3f5f\",\"gridcolor\":\"white\",\"linecolor\":\"white\",\"minorgridcolor\":\"white\",\"startlinecolor\":\"#2a3f5f\"},\"type\":\"carpet\"}],\"choropleth\":[{\"colorbar\":{\"outlinewidth\":0,\"ticks\":\"\"},\"type\":\"choropleth\"}],\"contour\":[{\"colorbar\":{\"outlinewidth\":0,\"ticks\":\"\"},\"colorscale\":[[0.0,\"#0d0887\"],[0.1111111111111111,\"#46039f\"],[0.2222222222222222,\"#7201a8\"],[0.3333333333333333,\"#9c179e\"],[0.4444444444444444,\"#bd3786\"],[0.5555555555555556,\"#d8576b\"],[0.6666666666666666,\"#ed7953\"],[0.7777777777777778,\"#fb9f3a\"],[0.8888888888888888,\"#fdca26\"],[1.0,\"#f0f921\"]],\"type\":\"contour\"}],\"contourcarpet\":[{\"colorbar\":{\"outlinewidth\":0,\"ticks\":\"\"},\"type\":\"contourcarpet\"}],\"heatmap\":[{\"colorbar\":{\"outlinewidth\":0,\"ticks\":\"\"},\"colorscale\":[[0.0,\"#0d0887\"],[0.1111111111111111,\"#46039f\"],[0.2222222222222222,\"#7201a8\"],[0.3333333333333333,\"#9c179e\"],[0.4444444444444444,\"#bd3786\"],[0.5555555555555556,\"#d8576b\"],[0.6666666666666666,\"#ed7953\"],[0.7777777777777778,\"#fb9f3a\"],[0.8888888888888888,\"#fdca26\"],[1.0,\"#f0f921\"]],\"type\":\"heatmap\"}],\"heatmapgl\":[{\"colorbar\":{\"outlinewidth\":0,\"ticks\":\"\"},\"colorscale\":[[0.0,\"#0d0887\"],[0.1111111111111111,\"#46039f\"],[0.2222222222222222,\"#7201a8\"],[0.3333333333333333,\"#9c179e\"],[0.4444444444444444,\"#bd3786\"],[0.5555555555555556,\"#d8576b\"],[0.6666666666666666,\"#ed7953\"],[0.7777777777777778,\"#fb9f3a\"],[0.8888888888888888,\"#fdca26\"],[1.0,\"#f0f921\"]],\"type\":\"heatmapgl\"}],\"histogram\":[{\"marker\":{\"pattern\":{\"fillmode\":\"overlay\",\"size\":10,\"solidity\":0.2}},\"type\":\"histogram\"}],\"histogram2d\":[{\"colorbar\":{\"outlinewidth\":0,\"ticks\":\"\"},\"colorscale\":[[0.0,\"#0d0887\"],[0.1111111111111111,\"#46039f\"],[0.2222222222222222,\"#7201a8\"],[0.3333333333333333,\"#9c179e\"],[0.4444444444444444,\"#bd3786\"],[0.5555555555555556,\"#d8576b\"],[0.6666666666666666,\"#ed7953\"],[0.7777777777777778,\"#fb9f3a\"],[0.8888888888888888,\"#fdca26\"],[1.0,\"#f0f921\"]],\"type\":\"histogram2d\"}],\"histogram2dcontour\":[{\"colorbar\":{\"outlinewidth\":0,\"ticks\":\"\"},\"colorscale\":[[0.0,\"#0d0887\"],[0.1111111111111111,\"#46039f\"],[0.2222222222222222,\"#7201a8\"],[0.3333333333333333,\"#9c179e\"],[0.4444444444444444,\"#bd3786\"],[0.5555555555555556,\"#d8576b\"],[0.6666666666666666,\"#ed7953\"],[0.7777777777777778,\"#fb9f3a\"],[0.8888888888888888,\"#fdca26\"],[1.0,\"#f0f921\"]],\"type\":\"histogram2dcontour\"}],\"mesh3d\":[{\"colorbar\":{\"outlinewidth\":0,\"ticks\":\"\"},\"type\":\"mesh3d\"}],\"parcoords\":[{\"line\":{\"colorbar\":{\"outlinewidth\":0,\"ticks\":\"\"}},\"type\":\"parcoords\"}],\"pie\":[{\"automargin\":true,\"type\":\"pie\"}],\"scatter\":[{\"marker\":{\"colorbar\":{\"outlinewidth\":0,\"ticks\":\"\"}},\"type\":\"scatter\"}],\"scatter3d\":[{\"line\":{\"colorbar\":{\"outlinewidth\":0,\"ticks\":\"\"}},\"marker\":{\"colorbar\":{\"outlinewidth\":0,\"ticks\":\"\"}},\"type\":\"scatter3d\"}],\"scattercarpet\":[{\"marker\":{\"colorbar\":{\"outlinewidth\":0,\"ticks\":\"\"}},\"type\":\"scattercarpet\"}],\"scattergeo\":[{\"marker\":{\"colorbar\":{\"outlinewidth\":0,\"ticks\":\"\"}},\"type\":\"scattergeo\"}],\"scattergl\":[{\"marker\":{\"colorbar\":{\"outlinewidth\":0,\"ticks\":\"\"}},\"type\":\"scattergl\"}],\"scattermapbox\":[{\"marker\":{\"colorbar\":{\"outlinewidth\":0,\"ticks\":\"\"}},\"type\":\"scattermapbox\"}],\"scatterpolar\":[{\"marker\":{\"colorbar\":{\"outlinewidth\":0,\"ticks\":\"\"}},\"type\":\"scatterpolar\"}],\"scatterpolargl\":[{\"marker\":{\"colorbar\":{\"outlinewidth\":0,\"ticks\":\"\"}},\"type\":\"scatterpolargl\"}],\"scatterternary\":[{\"marker\":{\"colorbar\":{\"outlinewidth\":0,\"ticks\":\"\"}},\"type\":\"scatterternary\"}],\"surface\":[{\"colorbar\":{\"outlinewidth\":0,\"ticks\":\"\"},\"colorscale\":[[0.0,\"#0d0887\"],[0.1111111111111111,\"#46039f\"],[0.2222222222222222,\"#7201a8\"],[0.3333333333333333,\"#9c179e\"],[0.4444444444444444,\"#bd3786\"],[0.5555555555555556,\"#d8576b\"],[0.6666666666666666,\"#ed7953\"],[0.7777777777777778,\"#fb9f3a\"],[0.8888888888888888,\"#fdca26\"],[1.0,\"#f0f921\"]],\"type\":\"surface\"}],\"table\":[{\"cells\":{\"fill\":{\"color\":\"#EBF0F8\"},\"line\":{\"color\":\"white\"}},\"header\":{\"fill\":{\"color\":\"#C8D4E3\"},\"line\":{\"color\":\"white\"}},\"type\":\"table\"}]},\"layout\":{\"annotationdefaults\":{\"arrowcolor\":\"#2a3f5f\",\"arrowhead\":0,\"arrowwidth\":1},\"autotypenumbers\":\"strict\",\"coloraxis\":{\"colorbar\":{\"outlinewidth\":0,\"ticks\":\"\"}},\"colorscale\":{\"diverging\":[[0,\"#8e0152\"],[0.1,\"#c51b7d\"],[0.2,\"#de77ae\"],[0.3,\"#f1b6da\"],[0.4,\"#fde0ef\"],[0.5,\"#f7f7f7\"],[0.6,\"#e6f5d0\"],[0.7,\"#b8e186\"],[0.8,\"#7fbc41\"],[0.9,\"#4d9221\"],[1,\"#276419\"]],\"sequential\":[[0.0,\"#0d0887\"],[0.1111111111111111,\"#46039f\"],[0.2222222222222222,\"#7201a8\"],[0.3333333333333333,\"#9c179e\"],[0.4444444444444444,\"#bd3786\"],[0.5555555555555556,\"#d8576b\"],[0.6666666666666666,\"#ed7953\"],[0.7777777777777778,\"#fb9f3a\"],[0.8888888888888888,\"#fdca26\"],[1.0,\"#f0f921\"]],\"sequentialminus\":[[0.0,\"#0d0887\"],[0.1111111111111111,\"#46039f\"],[0.2222222222222222,\"#7201a8\"],[0.3333333333333333,\"#9c179e\"],[0.4444444444444444,\"#bd3786\"],[0.5555555555555556,\"#d8576b\"],[0.6666666666666666,\"#ed7953\"],[0.7777777777777778,\"#fb9f3a\"],[0.8888888888888888,\"#fdca26\"],[1.0,\"#f0f921\"]]},\"colorway\":[\"#636efa\",\"#EF553B\",\"#00cc96\",\"#ab63fa\",\"#FFA15A\",\"#19d3f3\",\"#FF6692\",\"#B6E880\",\"#FF97FF\",\"#FECB52\"],\"font\":{\"color\":\"#2a3f5f\"},\"geo\":{\"bgcolor\":\"white\",\"lakecolor\":\"white\",\"landcolor\":\"#E5ECF6\",\"showlakes\":true,\"showland\":true,\"subunitcolor\":\"white\"},\"hoverlabel\":{\"align\":\"left\"},\"hovermode\":\"closest\",\"mapbox\":{\"style\":\"light\"},\"paper_bgcolor\":\"white\",\"plot_bgcolor\":\"#E5ECF6\",\"polar\":{\"angularaxis\":{\"gridcolor\":\"white\",\"linecolor\":\"white\",\"ticks\":\"\"},\"bgcolor\":\"#E5ECF6\",\"radialaxis\":{\"gridcolor\":\"white\",\"linecolor\":\"white\",\"ticks\":\"\"}},\"scene\":{\"xaxis\":{\"backgroundcolor\":\"#E5ECF6\",\"gridcolor\":\"white\",\"gridwidth\":2,\"linecolor\":\"white\",\"showbackground\":true,\"ticks\":\"\",\"zerolinecolor\":\"white\"},\"yaxis\":{\"backgroundcolor\":\"#E5ECF6\",\"gridcolor\":\"white\",\"gridwidth\":2,\"linecolor\":\"white\",\"showbackground\":true,\"ticks\":\"\",\"zerolinecolor\":\"white\"},\"zaxis\":{\"backgroundcolor\":\"#E5ECF6\",\"gridcolor\":\"white\",\"gridwidth\":2,\"linecolor\":\"white\",\"showbackground\":true,\"ticks\":\"\",\"zerolinecolor\":\"white\"}},\"shapedefaults\":{\"line\":{\"color\":\"#2a3f5f\"}},\"ternary\":{\"aaxis\":{\"gridcolor\":\"white\",\"linecolor\":\"white\",\"ticks\":\"\"},\"baxis\":{\"gridcolor\":\"white\",\"linecolor\":\"white\",\"ticks\":\"\"},\"bgcolor\":\"#E5ECF6\",\"caxis\":{\"gridcolor\":\"white\",\"linecolor\":\"white\",\"ticks\":\"\"}},\"title\":{\"x\":0.05},\"xaxis\":{\"automargin\":true,\"gridcolor\":\"white\",\"linecolor\":\"white\",\"ticks\":\"\",\"title\":{\"standoff\":15},\"zerolinecolor\":\"white\",\"zerolinewidth\":2},\"yaxis\":{\"automargin\":true,\"gridcolor\":\"white\",\"linecolor\":\"white\",\"ticks\":\"\",\"title\":{\"standoff\":15},\"zerolinecolor\":\"white\",\"zerolinewidth\":2}}},\"xaxis\":{\"anchor\":\"y\",\"domain\":[0.0,1.0],\"title\":{\"text\":\"city\"}},\"yaxis\":{\"anchor\":\"x\",\"domain\":[0.0,1.0],\"title\":{\"text\":\"avg of ecpm_sma\"}},\"legend\":{\"tracegroupgap\":0},\"margin\":{\"t\":60},\"barmode\":\"relative\"},                        {\"responsive\": true}                    ).then(function(){\n",
       "                            \n",
       "var gd = document.getElementById('183741b1-7fae-4978-aee3-1c0373fda05e');\n",
       "var x = new MutationObserver(function (mutations, observer) {{\n",
       "        var display = window.getComputedStyle(gd).display;\n",
       "        if (!display || display === 'none') {{\n",
       "            console.log([gd, 'removed!']);\n",
       "            Plotly.purge(gd);\n",
       "            observer.disconnect();\n",
       "        }}\n",
       "}});\n",
       "\n",
       "// Listen for the removal of the full notebook cells\n",
       "var notebookContainer = gd.closest('#notebook-container');\n",
       "if (notebookContainer) {{\n",
       "    x.observe(notebookContainer, {childList: true});\n",
       "}}\n",
       "\n",
       "// Listen for the clearing of the current output cell\n",
       "var outputEl = gd.closest('.output');\n",
       "if (outputEl) {{\n",
       "    x.observe(outputEl, {childList: true});\n",
       "}}\n",
       "\n",
       "                        })                };                });            </script>        </div>"
      ]
     },
     "metadata": {},
     "output_type": "display_data"
    }
   ],
   "source": [
    "fig = px.histogram(df_1b_city_new, x=\"city\", y=\"ecpm_sma\", histfunc='avg')\n",
    "fig.show()"
   ]
  },
  {
   "cell_type": "markdown",
   "id": "997f4103",
   "metadata": {},
   "source": [
    "ОС"
   ]
  },
  {
   "cell_type": "code",
   "execution_count": 137,
   "id": "f00f3bc4",
   "metadata": {},
   "outputs": [
    {
     "data": {
      "text/plain": [
       "0.6772109062712421"
      ]
     },
     "execution_count": 137,
     "metadata": {},
     "output_type": "execute_result"
    }
   ],
   "source": [
    "m = df_1b_os.ecpm_sma.mean()\n",
    "se = sum([(x - m)**2 for x in df_1b_os.ecpm_sma])/(len(df_1b_os)-1)/(len(df_1b_os)**(1/2))\n",
    "alpha = 0.05\n",
    "conf_int = abs(sps.t.ppf(alpha/2, (len(df_1b_os)-1)))*se\n",
    "conf_int"
   ]
  },
  {
   "cell_type": "code",
   "execution_count": 138,
   "id": "59f47d8a",
   "metadata": {},
   "outputs": [],
   "source": [
    "df_1b_os_new = df_1b_os[(df_1b_os.ecpm_sma > m - conf_int) & (df_1b_os.ecpm_sma < m + conf_int)]"
   ]
  },
  {
   "cell_type": "code",
   "execution_count": 139,
   "id": "bdd4812b",
   "metadata": {},
   "outputs": [
    {
     "data": {
      "application/vnd.plotly.v1+json": {
       "config": {
        "plotlyServerURL": "https://plot.ly"
       },
       "data": [
        {
         "alignmentgroup": "True",
         "bingroup": "x",
         "histfunc": "avg",
         "hovertemplate": "os_version=%{x}<br>avg of ecpm_sma=%{y}<extra></extra>",
         "legendgroup": "",
         "marker": {
          "color": "#636efa",
          "pattern": {
           "shape": ""
          }
         },
         "name": "",
         "offsetgroup": "",
         "orientation": "v",
         "showlegend": false,
         "type": "histogram",
         "x": [
          "10",
          "11",
          "12",
          "5.0.2",
          "6.0.1",
          "7.0",
          "7.1.1",
          "7.1.2",
          "8.0.0",
          "8.1.0",
          "9"
         ],
         "xaxis": "x",
         "y": [
          2.489296428624229,
          3.2305986217235216,
          3.5968868588612217,
          0.8096190712090231,
          1.1075467227016234,
          3.071181951970824,
          1.4038515502042883,
          0.9321147133670807,
          1.7071171286178963,
          1.1100259092130418,
          2.226090554998621
         ],
         "yaxis": "y"
        }
       ],
       "layout": {
        "barmode": "relative",
        "legend": {
         "tracegroupgap": 0
        },
        "margin": {
         "t": 60
        },
        "template": {
         "data": {
          "bar": [
           {
            "error_x": {
             "color": "#2a3f5f"
            },
            "error_y": {
             "color": "#2a3f5f"
            },
            "marker": {
             "line": {
              "color": "#E5ECF6",
              "width": 0.5
             },
             "pattern": {
              "fillmode": "overlay",
              "size": 10,
              "solidity": 0.2
             }
            },
            "type": "bar"
           }
          ],
          "barpolar": [
           {
            "marker": {
             "line": {
              "color": "#E5ECF6",
              "width": 0.5
             },
             "pattern": {
              "fillmode": "overlay",
              "size": 10,
              "solidity": 0.2
             }
            },
            "type": "barpolar"
           }
          ],
          "carpet": [
           {
            "aaxis": {
             "endlinecolor": "#2a3f5f",
             "gridcolor": "white",
             "linecolor": "white",
             "minorgridcolor": "white",
             "startlinecolor": "#2a3f5f"
            },
            "baxis": {
             "endlinecolor": "#2a3f5f",
             "gridcolor": "white",
             "linecolor": "white",
             "minorgridcolor": "white",
             "startlinecolor": "#2a3f5f"
            },
            "type": "carpet"
           }
          ],
          "choropleth": [
           {
            "colorbar": {
             "outlinewidth": 0,
             "ticks": ""
            },
            "type": "choropleth"
           }
          ],
          "contour": [
           {
            "colorbar": {
             "outlinewidth": 0,
             "ticks": ""
            },
            "colorscale": [
             [
              0,
              "#0d0887"
             ],
             [
              0.1111111111111111,
              "#46039f"
             ],
             [
              0.2222222222222222,
              "#7201a8"
             ],
             [
              0.3333333333333333,
              "#9c179e"
             ],
             [
              0.4444444444444444,
              "#bd3786"
             ],
             [
              0.5555555555555556,
              "#d8576b"
             ],
             [
              0.6666666666666666,
              "#ed7953"
             ],
             [
              0.7777777777777778,
              "#fb9f3a"
             ],
             [
              0.8888888888888888,
              "#fdca26"
             ],
             [
              1,
              "#f0f921"
             ]
            ],
            "type": "contour"
           }
          ],
          "contourcarpet": [
           {
            "colorbar": {
             "outlinewidth": 0,
             "ticks": ""
            },
            "type": "contourcarpet"
           }
          ],
          "heatmap": [
           {
            "colorbar": {
             "outlinewidth": 0,
             "ticks": ""
            },
            "colorscale": [
             [
              0,
              "#0d0887"
             ],
             [
              0.1111111111111111,
              "#46039f"
             ],
             [
              0.2222222222222222,
              "#7201a8"
             ],
             [
              0.3333333333333333,
              "#9c179e"
             ],
             [
              0.4444444444444444,
              "#bd3786"
             ],
             [
              0.5555555555555556,
              "#d8576b"
             ],
             [
              0.6666666666666666,
              "#ed7953"
             ],
             [
              0.7777777777777778,
              "#fb9f3a"
             ],
             [
              0.8888888888888888,
              "#fdca26"
             ],
             [
              1,
              "#f0f921"
             ]
            ],
            "type": "heatmap"
           }
          ],
          "heatmapgl": [
           {
            "colorbar": {
             "outlinewidth": 0,
             "ticks": ""
            },
            "colorscale": [
             [
              0,
              "#0d0887"
             ],
             [
              0.1111111111111111,
              "#46039f"
             ],
             [
              0.2222222222222222,
              "#7201a8"
             ],
             [
              0.3333333333333333,
              "#9c179e"
             ],
             [
              0.4444444444444444,
              "#bd3786"
             ],
             [
              0.5555555555555556,
              "#d8576b"
             ],
             [
              0.6666666666666666,
              "#ed7953"
             ],
             [
              0.7777777777777778,
              "#fb9f3a"
             ],
             [
              0.8888888888888888,
              "#fdca26"
             ],
             [
              1,
              "#f0f921"
             ]
            ],
            "type": "heatmapgl"
           }
          ],
          "histogram": [
           {
            "marker": {
             "pattern": {
              "fillmode": "overlay",
              "size": 10,
              "solidity": 0.2
             }
            },
            "type": "histogram"
           }
          ],
          "histogram2d": [
           {
            "colorbar": {
             "outlinewidth": 0,
             "ticks": ""
            },
            "colorscale": [
             [
              0,
              "#0d0887"
             ],
             [
              0.1111111111111111,
              "#46039f"
             ],
             [
              0.2222222222222222,
              "#7201a8"
             ],
             [
              0.3333333333333333,
              "#9c179e"
             ],
             [
              0.4444444444444444,
              "#bd3786"
             ],
             [
              0.5555555555555556,
              "#d8576b"
             ],
             [
              0.6666666666666666,
              "#ed7953"
             ],
             [
              0.7777777777777778,
              "#fb9f3a"
             ],
             [
              0.8888888888888888,
              "#fdca26"
             ],
             [
              1,
              "#f0f921"
             ]
            ],
            "type": "histogram2d"
           }
          ],
          "histogram2dcontour": [
           {
            "colorbar": {
             "outlinewidth": 0,
             "ticks": ""
            },
            "colorscale": [
             [
              0,
              "#0d0887"
             ],
             [
              0.1111111111111111,
              "#46039f"
             ],
             [
              0.2222222222222222,
              "#7201a8"
             ],
             [
              0.3333333333333333,
              "#9c179e"
             ],
             [
              0.4444444444444444,
              "#bd3786"
             ],
             [
              0.5555555555555556,
              "#d8576b"
             ],
             [
              0.6666666666666666,
              "#ed7953"
             ],
             [
              0.7777777777777778,
              "#fb9f3a"
             ],
             [
              0.8888888888888888,
              "#fdca26"
             ],
             [
              1,
              "#f0f921"
             ]
            ],
            "type": "histogram2dcontour"
           }
          ],
          "mesh3d": [
           {
            "colorbar": {
             "outlinewidth": 0,
             "ticks": ""
            },
            "type": "mesh3d"
           }
          ],
          "parcoords": [
           {
            "line": {
             "colorbar": {
              "outlinewidth": 0,
              "ticks": ""
             }
            },
            "type": "parcoords"
           }
          ],
          "pie": [
           {
            "automargin": true,
            "type": "pie"
           }
          ],
          "scatter": [
           {
            "marker": {
             "colorbar": {
              "outlinewidth": 0,
              "ticks": ""
             }
            },
            "type": "scatter"
           }
          ],
          "scatter3d": [
           {
            "line": {
             "colorbar": {
              "outlinewidth": 0,
              "ticks": ""
             }
            },
            "marker": {
             "colorbar": {
              "outlinewidth": 0,
              "ticks": ""
             }
            },
            "type": "scatter3d"
           }
          ],
          "scattercarpet": [
           {
            "marker": {
             "colorbar": {
              "outlinewidth": 0,
              "ticks": ""
             }
            },
            "type": "scattercarpet"
           }
          ],
          "scattergeo": [
           {
            "marker": {
             "colorbar": {
              "outlinewidth": 0,
              "ticks": ""
             }
            },
            "type": "scattergeo"
           }
          ],
          "scattergl": [
           {
            "marker": {
             "colorbar": {
              "outlinewidth": 0,
              "ticks": ""
             }
            },
            "type": "scattergl"
           }
          ],
          "scattermapbox": [
           {
            "marker": {
             "colorbar": {
              "outlinewidth": 0,
              "ticks": ""
             }
            },
            "type": "scattermapbox"
           }
          ],
          "scatterpolar": [
           {
            "marker": {
             "colorbar": {
              "outlinewidth": 0,
              "ticks": ""
             }
            },
            "type": "scatterpolar"
           }
          ],
          "scatterpolargl": [
           {
            "marker": {
             "colorbar": {
              "outlinewidth": 0,
              "ticks": ""
             }
            },
            "type": "scatterpolargl"
           }
          ],
          "scatterternary": [
           {
            "marker": {
             "colorbar": {
              "outlinewidth": 0,
              "ticks": ""
             }
            },
            "type": "scatterternary"
           }
          ],
          "surface": [
           {
            "colorbar": {
             "outlinewidth": 0,
             "ticks": ""
            },
            "colorscale": [
             [
              0,
              "#0d0887"
             ],
             [
              0.1111111111111111,
              "#46039f"
             ],
             [
              0.2222222222222222,
              "#7201a8"
             ],
             [
              0.3333333333333333,
              "#9c179e"
             ],
             [
              0.4444444444444444,
              "#bd3786"
             ],
             [
              0.5555555555555556,
              "#d8576b"
             ],
             [
              0.6666666666666666,
              "#ed7953"
             ],
             [
              0.7777777777777778,
              "#fb9f3a"
             ],
             [
              0.8888888888888888,
              "#fdca26"
             ],
             [
              1,
              "#f0f921"
             ]
            ],
            "type": "surface"
           }
          ],
          "table": [
           {
            "cells": {
             "fill": {
              "color": "#EBF0F8"
             },
             "line": {
              "color": "white"
             }
            },
            "header": {
             "fill": {
              "color": "#C8D4E3"
             },
             "line": {
              "color": "white"
             }
            },
            "type": "table"
           }
          ]
         },
         "layout": {
          "annotationdefaults": {
           "arrowcolor": "#2a3f5f",
           "arrowhead": 0,
           "arrowwidth": 1
          },
          "autotypenumbers": "strict",
          "coloraxis": {
           "colorbar": {
            "outlinewidth": 0,
            "ticks": ""
           }
          },
          "colorscale": {
           "diverging": [
            [
             0,
             "#8e0152"
            ],
            [
             0.1,
             "#c51b7d"
            ],
            [
             0.2,
             "#de77ae"
            ],
            [
             0.3,
             "#f1b6da"
            ],
            [
             0.4,
             "#fde0ef"
            ],
            [
             0.5,
             "#f7f7f7"
            ],
            [
             0.6,
             "#e6f5d0"
            ],
            [
             0.7,
             "#b8e186"
            ],
            [
             0.8,
             "#7fbc41"
            ],
            [
             0.9,
             "#4d9221"
            ],
            [
             1,
             "#276419"
            ]
           ],
           "sequential": [
            [
             0,
             "#0d0887"
            ],
            [
             0.1111111111111111,
             "#46039f"
            ],
            [
             0.2222222222222222,
             "#7201a8"
            ],
            [
             0.3333333333333333,
             "#9c179e"
            ],
            [
             0.4444444444444444,
             "#bd3786"
            ],
            [
             0.5555555555555556,
             "#d8576b"
            ],
            [
             0.6666666666666666,
             "#ed7953"
            ],
            [
             0.7777777777777778,
             "#fb9f3a"
            ],
            [
             0.8888888888888888,
             "#fdca26"
            ],
            [
             1,
             "#f0f921"
            ]
           ],
           "sequentialminus": [
            [
             0,
             "#0d0887"
            ],
            [
             0.1111111111111111,
             "#46039f"
            ],
            [
             0.2222222222222222,
             "#7201a8"
            ],
            [
             0.3333333333333333,
             "#9c179e"
            ],
            [
             0.4444444444444444,
             "#bd3786"
            ],
            [
             0.5555555555555556,
             "#d8576b"
            ],
            [
             0.6666666666666666,
             "#ed7953"
            ],
            [
             0.7777777777777778,
             "#fb9f3a"
            ],
            [
             0.8888888888888888,
             "#fdca26"
            ],
            [
             1,
             "#f0f921"
            ]
           ]
          },
          "colorway": [
           "#636efa",
           "#EF553B",
           "#00cc96",
           "#ab63fa",
           "#FFA15A",
           "#19d3f3",
           "#FF6692",
           "#B6E880",
           "#FF97FF",
           "#FECB52"
          ],
          "font": {
           "color": "#2a3f5f"
          },
          "geo": {
           "bgcolor": "white",
           "lakecolor": "white",
           "landcolor": "#E5ECF6",
           "showlakes": true,
           "showland": true,
           "subunitcolor": "white"
          },
          "hoverlabel": {
           "align": "left"
          },
          "hovermode": "closest",
          "mapbox": {
           "style": "light"
          },
          "paper_bgcolor": "white",
          "plot_bgcolor": "#E5ECF6",
          "polar": {
           "angularaxis": {
            "gridcolor": "white",
            "linecolor": "white",
            "ticks": ""
           },
           "bgcolor": "#E5ECF6",
           "radialaxis": {
            "gridcolor": "white",
            "linecolor": "white",
            "ticks": ""
           }
          },
          "scene": {
           "xaxis": {
            "backgroundcolor": "#E5ECF6",
            "gridcolor": "white",
            "gridwidth": 2,
            "linecolor": "white",
            "showbackground": true,
            "ticks": "",
            "zerolinecolor": "white"
           },
           "yaxis": {
            "backgroundcolor": "#E5ECF6",
            "gridcolor": "white",
            "gridwidth": 2,
            "linecolor": "white",
            "showbackground": true,
            "ticks": "",
            "zerolinecolor": "white"
           },
           "zaxis": {
            "backgroundcolor": "#E5ECF6",
            "gridcolor": "white",
            "gridwidth": 2,
            "linecolor": "white",
            "showbackground": true,
            "ticks": "",
            "zerolinecolor": "white"
           }
          },
          "shapedefaults": {
           "line": {
            "color": "#2a3f5f"
           }
          },
          "ternary": {
           "aaxis": {
            "gridcolor": "white",
            "linecolor": "white",
            "ticks": ""
           },
           "baxis": {
            "gridcolor": "white",
            "linecolor": "white",
            "ticks": ""
           },
           "bgcolor": "#E5ECF6",
           "caxis": {
            "gridcolor": "white",
            "linecolor": "white",
            "ticks": ""
           }
          },
          "title": {
           "x": 0.05
          },
          "xaxis": {
           "automargin": true,
           "gridcolor": "white",
           "linecolor": "white",
           "ticks": "",
           "title": {
            "standoff": 15
           },
           "zerolinecolor": "white",
           "zerolinewidth": 2
          },
          "yaxis": {
           "automargin": true,
           "gridcolor": "white",
           "linecolor": "white",
           "ticks": "",
           "title": {
            "standoff": 15
           },
           "zerolinecolor": "white",
           "zerolinewidth": 2
          }
         }
        },
        "xaxis": {
         "anchor": "y",
         "domain": [
          0,
          1
         ],
         "title": {
          "text": "os_version"
         }
        },
        "yaxis": {
         "anchor": "x",
         "domain": [
          0,
          1
         ],
         "title": {
          "text": "avg of ecpm_sma"
         }
        }
       }
      },
      "text/html": [
       "<div>                            <div id=\"c8c57c88-7c94-4e4c-990d-f51fb580ed38\" class=\"plotly-graph-div\" style=\"height:525px; width:100%;\"></div>            <script type=\"text/javascript\">                require([\"plotly\"], function(Plotly) {                    window.PLOTLYENV=window.PLOTLYENV || {};                                    if (document.getElementById(\"c8c57c88-7c94-4e4c-990d-f51fb580ed38\")) {                    Plotly.newPlot(                        \"c8c57c88-7c94-4e4c-990d-f51fb580ed38\",                        [{\"alignmentgroup\":\"True\",\"bingroup\":\"x\",\"histfunc\":\"avg\",\"hovertemplate\":\"os_version=%{x}<br>avg of ecpm_sma=%{y}<extra></extra>\",\"legendgroup\":\"\",\"marker\":{\"color\":\"#636efa\",\"pattern\":{\"shape\":\"\"}},\"name\":\"\",\"offsetgroup\":\"\",\"orientation\":\"v\",\"showlegend\":false,\"x\":[\"10\",\"11\",\"12\",\"5.0.2\",\"6.0.1\",\"7.0\",\"7.1.1\",\"7.1.2\",\"8.0.0\",\"8.1.0\",\"9\"],\"xaxis\":\"x\",\"y\":[2.489296428624229,3.2305986217235216,3.5968868588612217,0.8096190712090231,1.1075467227016234,3.071181951970824,1.4038515502042883,0.9321147133670807,1.7071171286178963,1.1100259092130418,2.226090554998621],\"yaxis\":\"y\",\"type\":\"histogram\"}],                        {\"template\":{\"data\":{\"bar\":[{\"error_x\":{\"color\":\"#2a3f5f\"},\"error_y\":{\"color\":\"#2a3f5f\"},\"marker\":{\"line\":{\"color\":\"#E5ECF6\",\"width\":0.5},\"pattern\":{\"fillmode\":\"overlay\",\"size\":10,\"solidity\":0.2}},\"type\":\"bar\"}],\"barpolar\":[{\"marker\":{\"line\":{\"color\":\"#E5ECF6\",\"width\":0.5},\"pattern\":{\"fillmode\":\"overlay\",\"size\":10,\"solidity\":0.2}},\"type\":\"barpolar\"}],\"carpet\":[{\"aaxis\":{\"endlinecolor\":\"#2a3f5f\",\"gridcolor\":\"white\",\"linecolor\":\"white\",\"minorgridcolor\":\"white\",\"startlinecolor\":\"#2a3f5f\"},\"baxis\":{\"endlinecolor\":\"#2a3f5f\",\"gridcolor\":\"white\",\"linecolor\":\"white\",\"minorgridcolor\":\"white\",\"startlinecolor\":\"#2a3f5f\"},\"type\":\"carpet\"}],\"choropleth\":[{\"colorbar\":{\"outlinewidth\":0,\"ticks\":\"\"},\"type\":\"choropleth\"}],\"contour\":[{\"colorbar\":{\"outlinewidth\":0,\"ticks\":\"\"},\"colorscale\":[[0.0,\"#0d0887\"],[0.1111111111111111,\"#46039f\"],[0.2222222222222222,\"#7201a8\"],[0.3333333333333333,\"#9c179e\"],[0.4444444444444444,\"#bd3786\"],[0.5555555555555556,\"#d8576b\"],[0.6666666666666666,\"#ed7953\"],[0.7777777777777778,\"#fb9f3a\"],[0.8888888888888888,\"#fdca26\"],[1.0,\"#f0f921\"]],\"type\":\"contour\"}],\"contourcarpet\":[{\"colorbar\":{\"outlinewidth\":0,\"ticks\":\"\"},\"type\":\"contourcarpet\"}],\"heatmap\":[{\"colorbar\":{\"outlinewidth\":0,\"ticks\":\"\"},\"colorscale\":[[0.0,\"#0d0887\"],[0.1111111111111111,\"#46039f\"],[0.2222222222222222,\"#7201a8\"],[0.3333333333333333,\"#9c179e\"],[0.4444444444444444,\"#bd3786\"],[0.5555555555555556,\"#d8576b\"],[0.6666666666666666,\"#ed7953\"],[0.7777777777777778,\"#fb9f3a\"],[0.8888888888888888,\"#fdca26\"],[1.0,\"#f0f921\"]],\"type\":\"heatmap\"}],\"heatmapgl\":[{\"colorbar\":{\"outlinewidth\":0,\"ticks\":\"\"},\"colorscale\":[[0.0,\"#0d0887\"],[0.1111111111111111,\"#46039f\"],[0.2222222222222222,\"#7201a8\"],[0.3333333333333333,\"#9c179e\"],[0.4444444444444444,\"#bd3786\"],[0.5555555555555556,\"#d8576b\"],[0.6666666666666666,\"#ed7953\"],[0.7777777777777778,\"#fb9f3a\"],[0.8888888888888888,\"#fdca26\"],[1.0,\"#f0f921\"]],\"type\":\"heatmapgl\"}],\"histogram\":[{\"marker\":{\"pattern\":{\"fillmode\":\"overlay\",\"size\":10,\"solidity\":0.2}},\"type\":\"histogram\"}],\"histogram2d\":[{\"colorbar\":{\"outlinewidth\":0,\"ticks\":\"\"},\"colorscale\":[[0.0,\"#0d0887\"],[0.1111111111111111,\"#46039f\"],[0.2222222222222222,\"#7201a8\"],[0.3333333333333333,\"#9c179e\"],[0.4444444444444444,\"#bd3786\"],[0.5555555555555556,\"#d8576b\"],[0.6666666666666666,\"#ed7953\"],[0.7777777777777778,\"#fb9f3a\"],[0.8888888888888888,\"#fdca26\"],[1.0,\"#f0f921\"]],\"type\":\"histogram2d\"}],\"histogram2dcontour\":[{\"colorbar\":{\"outlinewidth\":0,\"ticks\":\"\"},\"colorscale\":[[0.0,\"#0d0887\"],[0.1111111111111111,\"#46039f\"],[0.2222222222222222,\"#7201a8\"],[0.3333333333333333,\"#9c179e\"],[0.4444444444444444,\"#bd3786\"],[0.5555555555555556,\"#d8576b\"],[0.6666666666666666,\"#ed7953\"],[0.7777777777777778,\"#fb9f3a\"],[0.8888888888888888,\"#fdca26\"],[1.0,\"#f0f921\"]],\"type\":\"histogram2dcontour\"}],\"mesh3d\":[{\"colorbar\":{\"outlinewidth\":0,\"ticks\":\"\"},\"type\":\"mesh3d\"}],\"parcoords\":[{\"line\":{\"colorbar\":{\"outlinewidth\":0,\"ticks\":\"\"}},\"type\":\"parcoords\"}],\"pie\":[{\"automargin\":true,\"type\":\"pie\"}],\"scatter\":[{\"marker\":{\"colorbar\":{\"outlinewidth\":0,\"ticks\":\"\"}},\"type\":\"scatter\"}],\"scatter3d\":[{\"line\":{\"colorbar\":{\"outlinewidth\":0,\"ticks\":\"\"}},\"marker\":{\"colorbar\":{\"outlinewidth\":0,\"ticks\":\"\"}},\"type\":\"scatter3d\"}],\"scattercarpet\":[{\"marker\":{\"colorbar\":{\"outlinewidth\":0,\"ticks\":\"\"}},\"type\":\"scattercarpet\"}],\"scattergeo\":[{\"marker\":{\"colorbar\":{\"outlinewidth\":0,\"ticks\":\"\"}},\"type\":\"scattergeo\"}],\"scattergl\":[{\"marker\":{\"colorbar\":{\"outlinewidth\":0,\"ticks\":\"\"}},\"type\":\"scattergl\"}],\"scattermapbox\":[{\"marker\":{\"colorbar\":{\"outlinewidth\":0,\"ticks\":\"\"}},\"type\":\"scattermapbox\"}],\"scatterpolar\":[{\"marker\":{\"colorbar\":{\"outlinewidth\":0,\"ticks\":\"\"}},\"type\":\"scatterpolar\"}],\"scatterpolargl\":[{\"marker\":{\"colorbar\":{\"outlinewidth\":0,\"ticks\":\"\"}},\"type\":\"scatterpolargl\"}],\"scatterternary\":[{\"marker\":{\"colorbar\":{\"outlinewidth\":0,\"ticks\":\"\"}},\"type\":\"scatterternary\"}],\"surface\":[{\"colorbar\":{\"outlinewidth\":0,\"ticks\":\"\"},\"colorscale\":[[0.0,\"#0d0887\"],[0.1111111111111111,\"#46039f\"],[0.2222222222222222,\"#7201a8\"],[0.3333333333333333,\"#9c179e\"],[0.4444444444444444,\"#bd3786\"],[0.5555555555555556,\"#d8576b\"],[0.6666666666666666,\"#ed7953\"],[0.7777777777777778,\"#fb9f3a\"],[0.8888888888888888,\"#fdca26\"],[1.0,\"#f0f921\"]],\"type\":\"surface\"}],\"table\":[{\"cells\":{\"fill\":{\"color\":\"#EBF0F8\"},\"line\":{\"color\":\"white\"}},\"header\":{\"fill\":{\"color\":\"#C8D4E3\"},\"line\":{\"color\":\"white\"}},\"type\":\"table\"}]},\"layout\":{\"annotationdefaults\":{\"arrowcolor\":\"#2a3f5f\",\"arrowhead\":0,\"arrowwidth\":1},\"autotypenumbers\":\"strict\",\"coloraxis\":{\"colorbar\":{\"outlinewidth\":0,\"ticks\":\"\"}},\"colorscale\":{\"diverging\":[[0,\"#8e0152\"],[0.1,\"#c51b7d\"],[0.2,\"#de77ae\"],[0.3,\"#f1b6da\"],[0.4,\"#fde0ef\"],[0.5,\"#f7f7f7\"],[0.6,\"#e6f5d0\"],[0.7,\"#b8e186\"],[0.8,\"#7fbc41\"],[0.9,\"#4d9221\"],[1,\"#276419\"]],\"sequential\":[[0.0,\"#0d0887\"],[0.1111111111111111,\"#46039f\"],[0.2222222222222222,\"#7201a8\"],[0.3333333333333333,\"#9c179e\"],[0.4444444444444444,\"#bd3786\"],[0.5555555555555556,\"#d8576b\"],[0.6666666666666666,\"#ed7953\"],[0.7777777777777778,\"#fb9f3a\"],[0.8888888888888888,\"#fdca26\"],[1.0,\"#f0f921\"]],\"sequentialminus\":[[0.0,\"#0d0887\"],[0.1111111111111111,\"#46039f\"],[0.2222222222222222,\"#7201a8\"],[0.3333333333333333,\"#9c179e\"],[0.4444444444444444,\"#bd3786\"],[0.5555555555555556,\"#d8576b\"],[0.6666666666666666,\"#ed7953\"],[0.7777777777777778,\"#fb9f3a\"],[0.8888888888888888,\"#fdca26\"],[1.0,\"#f0f921\"]]},\"colorway\":[\"#636efa\",\"#EF553B\",\"#00cc96\",\"#ab63fa\",\"#FFA15A\",\"#19d3f3\",\"#FF6692\",\"#B6E880\",\"#FF97FF\",\"#FECB52\"],\"font\":{\"color\":\"#2a3f5f\"},\"geo\":{\"bgcolor\":\"white\",\"lakecolor\":\"white\",\"landcolor\":\"#E5ECF6\",\"showlakes\":true,\"showland\":true,\"subunitcolor\":\"white\"},\"hoverlabel\":{\"align\":\"left\"},\"hovermode\":\"closest\",\"mapbox\":{\"style\":\"light\"},\"paper_bgcolor\":\"white\",\"plot_bgcolor\":\"#E5ECF6\",\"polar\":{\"angularaxis\":{\"gridcolor\":\"white\",\"linecolor\":\"white\",\"ticks\":\"\"},\"bgcolor\":\"#E5ECF6\",\"radialaxis\":{\"gridcolor\":\"white\",\"linecolor\":\"white\",\"ticks\":\"\"}},\"scene\":{\"xaxis\":{\"backgroundcolor\":\"#E5ECF6\",\"gridcolor\":\"white\",\"gridwidth\":2,\"linecolor\":\"white\",\"showbackground\":true,\"ticks\":\"\",\"zerolinecolor\":\"white\"},\"yaxis\":{\"backgroundcolor\":\"#E5ECF6\",\"gridcolor\":\"white\",\"gridwidth\":2,\"linecolor\":\"white\",\"showbackground\":true,\"ticks\":\"\",\"zerolinecolor\":\"white\"},\"zaxis\":{\"backgroundcolor\":\"#E5ECF6\",\"gridcolor\":\"white\",\"gridwidth\":2,\"linecolor\":\"white\",\"showbackground\":true,\"ticks\":\"\",\"zerolinecolor\":\"white\"}},\"shapedefaults\":{\"line\":{\"color\":\"#2a3f5f\"}},\"ternary\":{\"aaxis\":{\"gridcolor\":\"white\",\"linecolor\":\"white\",\"ticks\":\"\"},\"baxis\":{\"gridcolor\":\"white\",\"linecolor\":\"white\",\"ticks\":\"\"},\"bgcolor\":\"#E5ECF6\",\"caxis\":{\"gridcolor\":\"white\",\"linecolor\":\"white\",\"ticks\":\"\"}},\"title\":{\"x\":0.05},\"xaxis\":{\"automargin\":true,\"gridcolor\":\"white\",\"linecolor\":\"white\",\"ticks\":\"\",\"title\":{\"standoff\":15},\"zerolinecolor\":\"white\",\"zerolinewidth\":2},\"yaxis\":{\"automargin\":true,\"gridcolor\":\"white\",\"linecolor\":\"white\",\"ticks\":\"\",\"title\":{\"standoff\":15},\"zerolinecolor\":\"white\",\"zerolinewidth\":2}}},\"xaxis\":{\"anchor\":\"y\",\"domain\":[0.0,1.0],\"title\":{\"text\":\"os_version\"}},\"yaxis\":{\"anchor\":\"x\",\"domain\":[0.0,1.0],\"title\":{\"text\":\"avg of ecpm_sma\"}},\"legend\":{\"tracegroupgap\":0},\"margin\":{\"t\":60},\"barmode\":\"relative\"},                        {\"responsive\": true}                    ).then(function(){\n",
       "                            \n",
       "var gd = document.getElementById('c8c57c88-7c94-4e4c-990d-f51fb580ed38');\n",
       "var x = new MutationObserver(function (mutations, observer) {{\n",
       "        var display = window.getComputedStyle(gd).display;\n",
       "        if (!display || display === 'none') {{\n",
       "            console.log([gd, 'removed!']);\n",
       "            Plotly.purge(gd);\n",
       "            observer.disconnect();\n",
       "        }}\n",
       "}});\n",
       "\n",
       "// Listen for the removal of the full notebook cells\n",
       "var notebookContainer = gd.closest('#notebook-container');\n",
       "if (notebookContainer) {{\n",
       "    x.observe(notebookContainer, {childList: true});\n",
       "}}\n",
       "\n",
       "// Listen for the clearing of the current output cell\n",
       "var outputEl = gd.closest('.output');\n",
       "if (outputEl) {{\n",
       "    x.observe(outputEl, {childList: true});\n",
       "}}\n",
       "\n",
       "                        })                };                });            </script>        </div>"
      ]
     },
     "metadata": {},
     "output_type": "display_data"
    }
   ],
   "source": [
    "fig = px.histogram(df_1b_os, x=\"os_version\", y=\"ecpm_sma\", histfunc='avg')\n",
    "fig.show()"
   ]
  },
  {
   "cell_type": "markdown",
   "id": "82930b72",
   "metadata": {},
   "source": [
    "### Задание 3"
   ]
  },
  {
   "cell_type": "markdown",
   "id": "2544c090",
   "metadata": {},
   "source": [
    "По итогу исследования можно понять, какие версии ос приносят больше дохода. Также можем понять, от каких городом приходит больше прибыли. По первому заданию также видно, что большинство пользователей практически не выполняют полезных действий (int, banner, rv)"
   ]
  },
  {
   "cell_type": "code",
   "execution_count": null,
   "id": "f01c7cac",
   "metadata": {},
   "outputs": [],
   "source": []
  }
 ],
 "metadata": {
  "kernelspec": {
   "display_name": "Python 3 (ipykernel)",
   "language": "python",
   "name": "python3"
  },
  "language_info": {
   "codemirror_mode": {
    "name": "ipython",
    "version": 3
   },
   "file_extension": ".py",
   "mimetype": "text/x-python",
   "name": "python",
   "nbconvert_exporter": "python",
   "pygments_lexer": "ipython3",
   "version": "3.9.7"
  }
 },
 "nbformat": 4,
 "nbformat_minor": 5
}
